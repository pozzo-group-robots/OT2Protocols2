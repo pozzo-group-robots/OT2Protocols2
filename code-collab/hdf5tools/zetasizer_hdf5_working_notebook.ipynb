{
 "cells": [
  {
   "cell_type": "code",
   "execution_count": 1,
   "metadata": {},
   "outputs": [],
   "source": [
    "import zetasizer_hdf5 as zh"
   ]
  },
  {
   "cell_type": "code",
   "execution_count": 2,
   "metadata": {
    "scrolled": true
   },
   "outputs": [
    {
     "name": "stdout",
     "output_type": "stream",
     "text": [
      "['C:\\\\Users\\\\Edwin\\\\Documents\\\\Malvern Instruments\\\\Zetasizer\\\\Export Data\\\\appending_zeta_samples.txt']\n"
     ]
    }
   ],
   "source": [
    "file_path_list = zh.find_file_path(r\"C:\\Users\\Edwin\\Documents\\Malvern Instruments\\Zetasizer\\Export Data\")\n",
    "print(file_path_list)\n",
    "file_path = file_path_list[0]"
   ]
  },
  {
   "cell_type": "code",
   "execution_count": 3,
   "metadata": {},
   "outputs": [
    {
     "name": "stdout",
     "output_type": "stream",
     "text": [
      "Creating Root File DS0.01 E50 P0.1\n",
      "saving datasetSample Name\n",
      "saving datasetType\n",
      "saving datasetS/W Version\n",
      "saving datasetSerial Number\n",
      "saving datasetMeasurement Date and Time\n",
      "saving datasetIntensities[1] (Percent)\n",
      "saving datasetSizes[1] (d.nm)\n",
      "Creating Root File DS1 E30 P0.1\n",
      "saving datasetSample Name\n",
      "saving datasetType\n",
      "saving datasetS/W Version\n",
      "saving datasetSerial Number\n",
      "saving datasetMeasurement Date and Time\n",
      "saving datasetIntensities[1] (Percent)\n",
      "saving datasetSizes[1] (d.nm)\n",
      "Creating Root File DS1 E30 P0.1\n",
      "saving datasetSample Name\n",
      "saving datasetType\n",
      "saving datasetS/W Version\n",
      "saving datasetSerial Number\n",
      "saving datasetMeasurement Date and Time\n",
      "saving datasetIntensities[1] (Percent)\n",
      "saving datasetSizes[1] (d.nm)\n",
      "Creating Root File DS1 E50 P0.1\n",
      "saving datasetSample Name\n",
      "saving datasetType\n",
      "saving datasetS/W Version\n",
      "saving datasetSerial Number\n",
      "saving datasetMeasurement Date and Time\n",
      "saving datasetIntensities[1] (Percent)\n",
      "saving datasetSizes[1] (d.nm)\n",
      "Creating Root File DS1 E50 P0.1\n",
      "saving datasetSample Name\n",
      "saving datasetType\n",
      "saving datasetS/W Version\n",
      "saving datasetSerial Number\n",
      "saving datasetMeasurement Date and Time\n",
      "saving datasetIntensities[1] (Percent)\n",
      "saving datasetSizes[1] (d.nm)\n"
     ]
    }
   ],
   "source": [
    "file = zh.zetasizer_csv_to_hdf5(file_path) \n",
    "# odd error given when fail to add data/time to sample name, says that sample already exist? \n",
    "# should add optional to allow to make hdf5 file be in different place than file."
   ]
  },
  {
   "cell_type": "code",
   "execution_count": null,
   "metadata": {},
   "outputs": [],
   "source": [
    "file.close()"
   ]
  },
  {
   "cell_type": "code",
   "execution_count": null,
   "metadata": {},
   "outputs": [],
   "source": [
    "from numpy import random\n",
    "\n",
    "x = random.randint(10000)\n",
    "\n",
    "print(x)"
   ]
  },
  {
   "cell_type": "code",
   "execution_count": null,
   "metadata": {},
   "outputs": [],
   "source": [
    "import numpy as np"
   ]
  },
  {
   "cell_type": "code",
   "execution_count": null,
   "metadata": {},
   "outputs": [],
   "source": [
    "np.random.randint(1000)"
   ]
  },
  {
   "cell_type": "code",
   "execution_count": null,
   "metadata": {},
   "outputs": [],
   "source": []
  }
 ],
 "metadata": {
  "kernelspec": {
   "display_name": "Python 3",
   "language": "python",
   "name": "python3"
  },
  "language_info": {
   "codemirror_mode": {
    "name": "ipython",
    "version": 3
   },
   "file_extension": ".py",
   "mimetype": "text/x-python",
   "name": "python",
   "nbconvert_exporter": "python",
   "pygments_lexer": "ipython3",
   "version": "3.6.8"
  }
 },
 "nbformat": 4,
 "nbformat_minor": 4
}
