{
 "cells": [
  {
   "cell_type": "markdown",
   "metadata": {},
   "source": [
    "# Notebook purpose:\n",
    "\n",
    "- Demonstrate how to set up a lattice based sampling experiment. \n",
    "- Generate and pass on a data structure which contains:\n",
    "    - sample information\n",
    "        - all possible sample compositions which satisfy **Sum(volume fraction) = 1**\n",
    "        - component names and properties\n",
    "        - extensive properties for each sample (mass, volume, moles)\n",
    "        "
   ]
  },
  {
   "cell_type": "code",
   "execution_count": 1,
   "metadata": {},
   "outputs": [
    {
     "name": "stderr",
     "output_type": "stream",
     "text": [
      "C:\\Users\\lacho\\.opentrons\\deck_calibration.json not found. Loading defaults\n",
      "C:\\Users\\lacho\\.opentrons\\robot_settings.json not found. Loading defaults\n"
     ]
    },
    {
     "name": "stdout",
     "output_type": "stream",
     "text": [
      "Loading json containers...\n",
      "Json container file load complete, listing database\n",
      "Found 0 containers to add. Starting migration...\n",
      "Database migration complete!\n"
     ]
    },
    {
     "data": {
      "text/plain": [
       "<module 'setup_functions' from 'C:\\\\Users\\\\lacho\\\\Documents\\\\Pozzo-RG-OT2\\\\OT2Protocols\\\\code-collab\\\\database\\\\setup_functions.py'>"
      ]
     },
     "execution_count": 1,
     "metadata": {},
     "output_type": "execute_result"
    }
   ],
   "source": [
    "import pandas as pd\n",
    "\n",
    "import importlib\n",
    "import setup_functions\n",
    "importlib.reload(setup_functions)"
   ]
  },
  {
   "cell_type": "markdown",
   "metadata": {},
   "source": [
    "# 1. \n",
    "\n",
    "- experiment plan .csv $\\rightarrow$ dictionary. get_experiment_plan makes use of ast module. \n",
    "- chemical inventory .xls $\\rightarrow$ pandas dataframe.\n"
   ]
  },
  {
   "cell_type": "code",
   "execution_count": 5,
   "metadata": {},
   "outputs": [
    {
     "data": {
      "text/html": [
       "<div>\n",
       "<style scoped>\n",
       "    .dataframe tbody tr th:only-of-type {\n",
       "        vertical-align: middle;\n",
       "    }\n",
       "\n",
       "    .dataframe tbody tr th {\n",
       "        vertical-align: top;\n",
       "    }\n",
       "\n",
       "    .dataframe thead th {\n",
       "        text-align: right;\n",
       "    }\n",
       "</style>\n",
       "<table border=\"1\" class=\"dataframe\">\n",
       "  <thead>\n",
       "    <tr style=\"text-align: right;\">\n",
       "      <th></th>\n",
       "      <th>Chemical Name</th>\n",
       "      <th>Chemical Abbreviation</th>\n",
       "      <th>Molecular Weight (g/mol)</th>\n",
       "      <th>Density (g/mL)</th>\n",
       "      <th>InChI=</th>\n",
       "      <th>InChI Key (ID)</th>\n",
       "      <th>Chemical Category</th>\n",
       "      <th>Canonical SMILES String</th>\n",
       "      <th>Molecular Formula</th>\n",
       "      <th>PubChem ID</th>\n",
       "      <th>Catalog description</th>\n",
       "      <th>Synonyms</th>\n",
       "      <th>Catalog number</th>\n",
       "      <th>Purchase URL</th>\n",
       "      <th>Primary Information Source</th>\n",
       "    </tr>\n",
       "  </thead>\n",
       "  <tbody>\n",
       "    <tr>\n",
       "      <th>0</th>\n",
       "      <td>Water</td>\n",
       "      <td>Water</td>\n",
       "      <td>18.015</td>\n",
       "      <td>0.995</td>\n",
       "      <td>1S/H2O/h1H2</td>\n",
       "      <td>XLYOFNOQVPJJNP-UHFFFAOYSA-N</td>\n",
       "      <td>solvent</td>\n",
       "      <td>O</td>\n",
       "      <td>H2O</td>\n",
       "      <td>962</td>\n",
       "      <td>NaN</td>\n",
       "      <td>NaN</td>\n",
       "      <td>NaN</td>\n",
       "      <td>NaN</td>\n",
       "      <td>NaN</td>\n",
       "    </tr>\n",
       "    <tr>\n",
       "      <th>1</th>\n",
       "      <td>Sodium Chloride</td>\n",
       "      <td>NaCl</td>\n",
       "      <td>58.440</td>\n",
       "      <td>2.165</td>\n",
       "      <td>1S/ClH.Na/h1H;/q;+1/p-1</td>\n",
       "      <td>FAPWRFPIFSIZLT-UHFFFAOYSA-M</td>\n",
       "      <td>inorganic, halide</td>\n",
       "      <td>[Na+].[Cl-]</td>\n",
       "      <td>NaCl</td>\n",
       "      <td>5234</td>\n",
       "      <td>NaN</td>\n",
       "      <td>NaN</td>\n",
       "      <td>NaN</td>\n",
       "      <td>NaN</td>\n",
       "      <td>NaN</td>\n",
       "    </tr>\n",
       "    <tr>\n",
       "      <th>2</th>\n",
       "      <td>Butenedioic acid</td>\n",
       "      <td>Butenedioicacid</td>\n",
       "      <td>116.070</td>\n",
       "      <td>1.500</td>\n",
       "      <td>1S/C4H4O4/c5-3(6)1-2-4(7)8/h1-2H,(H,5,6)(H,7,8)</td>\n",
       "      <td>VZCYOOQTPOCHFL-UHFFFAOYSA-N</td>\n",
       "      <td>hbd, acid</td>\n",
       "      <td>C(=CC(=O)O)C(=O)O</td>\n",
       "      <td>C4H4O4</td>\n",
       "      <td>723</td>\n",
       "      <td>NaN</td>\n",
       "      <td>NaN</td>\n",
       "      <td>NaN</td>\n",
       "      <td>NaN</td>\n",
       "      <td>NaN</td>\n",
       "    </tr>\n",
       "    <tr>\n",
       "      <th>3</th>\n",
       "      <td>Choline chloride</td>\n",
       "      <td>chcl</td>\n",
       "      <td>139.620</td>\n",
       "      <td>NaN</td>\n",
       "      <td>1S/C5H14NO.ClH/c1-6(2,3)4-5-7;/h7H,4-5H2,1-3H3...</td>\n",
       "      <td>SGMZJAMFUVOLNK-UHFFFAOYSA-M</td>\n",
       "      <td>hba, organic, halide</td>\n",
       "      <td>C[N+](C)(C)CCO.[Cl-]</td>\n",
       "      <td>C5H14ClNO</td>\n",
       "      <td>6209</td>\n",
       "      <td>NaN</td>\n",
       "      <td>NaN</td>\n",
       "      <td>NaN</td>\n",
       "      <td>NaN</td>\n",
       "      <td>NaN</td>\n",
       "    </tr>\n",
       "    <tr>\n",
       "      <th>4</th>\n",
       "      <td>Gold (III) Chloride Trihydrate</td>\n",
       "      <td>haucl4</td>\n",
       "      <td>393.830</td>\n",
       "      <td>3.900</td>\n",
       "      <td>1S/Au.4ClH.3H2O/h;4*1H;3*1H2/q+3;;;;;;;/p-3</td>\n",
       "      <td>XYYVDQWGDNRQDA-UHFFFAOYSA-K</td>\n",
       "      <td>acid, inorganic</td>\n",
       "      <td>O.O.O.Cl.Cl[Au](Cl)Cl</td>\n",
       "      <td>AuCl4H7O3</td>\n",
       "      <td>44134746</td>\n",
       "      <td>NaN</td>\n",
       "      <td>NaN</td>\n",
       "      <td>NaN</td>\n",
       "      <td>NaN</td>\n",
       "      <td>NaN</td>\n",
       "    </tr>\n",
       "  </tbody>\n",
       "</table>\n",
       "</div>"
      ],
      "text/plain": [
       "                    Chemical Name Chemical Abbreviation  \\\n",
       "0                           Water                 Water   \n",
       "1                 Sodium Chloride                  NaCl   \n",
       "2                Butenedioic acid       Butenedioicacid   \n",
       "3                Choline chloride                  chcl   \n",
       "4  Gold (III) Chloride Trihydrate                haucl4   \n",
       "\n",
       "   Molecular Weight (g/mol)  Density (g/mL)  \\\n",
       "0                    18.015           0.995   \n",
       "1                    58.440           2.165   \n",
       "2                   116.070           1.500   \n",
       "3                   139.620             NaN   \n",
       "4                   393.830           3.900   \n",
       "\n",
       "                                              InChI=  \\\n",
       "0                                        1S/H2O/h1H2   \n",
       "1                            1S/ClH.Na/h1H;/q;+1/p-1   \n",
       "2    1S/C4H4O4/c5-3(6)1-2-4(7)8/h1-2H,(H,5,6)(H,7,8)   \n",
       "3  1S/C5H14NO.ClH/c1-6(2,3)4-5-7;/h7H,4-5H2,1-3H3...   \n",
       "4        1S/Au.4ClH.3H2O/h;4*1H;3*1H2/q+3;;;;;;;/p-3   \n",
       "\n",
       "                InChI Key (ID)     Chemical Category Canonical SMILES String  \\\n",
       "0  XLYOFNOQVPJJNP-UHFFFAOYSA-N               solvent                       O   \n",
       "1  FAPWRFPIFSIZLT-UHFFFAOYSA-M     inorganic, halide             [Na+].[Cl-]   \n",
       "2  VZCYOOQTPOCHFL-UHFFFAOYSA-N             hbd, acid       C(=CC(=O)O)C(=O)O   \n",
       "3  SGMZJAMFUVOLNK-UHFFFAOYSA-M  hba, organic, halide    C[N+](C)(C)CCO.[Cl-]   \n",
       "4  XYYVDQWGDNRQDA-UHFFFAOYSA-K       acid, inorganic   O.O.O.Cl.Cl[Au](Cl)Cl   \n",
       "\n",
       "  Molecular Formula  PubChem ID  Catalog description  Synonyms  \\\n",
       "0               H2O         962                  NaN       NaN   \n",
       "1              NaCl        5234                  NaN       NaN   \n",
       "2            C4H4O4         723                  NaN       NaN   \n",
       "3         C5H14ClNO        6209                  NaN       NaN   \n",
       "4         AuCl4H7O3    44134746                  NaN       NaN   \n",
       "\n",
       "   Catalog number  Purchase URL  Primary Information Source  \n",
       "0             NaN           NaN                         NaN  \n",
       "1             NaN           NaN                         NaN  \n",
       "2             NaN           NaN                         NaN  \n",
       "3             NaN           NaN                         NaN  \n",
       "4             NaN           NaN                         NaN  "
      ]
     },
     "execution_count": 5,
     "metadata": {},
     "output_type": "execute_result"
    }
   ],
   "source": [
    "experiment_plan_filepath = 'experiment_plan.csv'\n",
    "experiment_plan_dict = setup_functions.get_experiment_plan(experiment_plan_filepath)\n",
    "chemical_db_df = pd.read_excel('chemical_inventory.xlsx')\n",
    "chemical_db_df"
   ]
  },
  {
   "cell_type": "code",
   "execution_count": 113,
   "metadata": {},
   "outputs": [
    {
     "data": {
      "text/plain": [
       "{'Protocol Version': 'testing',\n",
       " 'Experimenter': 'Kacper Lachowski',\n",
       " 'Project tag': 'testing',\n",
       " 'Experiment tag': 'test1',\n",
       " 'Sample volume (uL)': 1000,\n",
       " 'Stock order': ['hba-stock', 'hbd-stock', 'Water'],\n",
       " 'Component names': ['NaCl', 'Butenedioicacid', 'chcl', 'Water'],\n",
       " 'Concentration types': ['molarity', 'molarity', 'molarity', 'volf'],\n",
       " 'Concentration linspace [min, max, n]': [[0.001, 1, 20],\n",
       "  [0.001, 1, 20],\n",
       "  [1, 40, 20]],\n",
       " 'Left pipette': 'P1000_Single',\n",
       " 'Right pipette': 'P300_Single_GEN2'}"
      ]
     },
     "execution_count": 113,
     "metadata": {},
     "output_type": "execute_result"
    }
   ],
   "source": [
    "experiment_plan_dict"
   ]
  },
  {
   "cell_type": "markdown",
   "metadata": {},
   "source": [
    "# 2. \n",
    "\n",
    "Overall strategy:\n",
    "Given N component names, \\\n",
    "and N-1:\n",
    "    - volume fractions, \n",
    "    - np.linspace() arguments\n",
    "    - concentration types\n",
    "    \n",
    "Calculate the volume fractions for all sample combinations. \n",
    "\n",
    "Regarding experiment_plan_dict\n",
    "    - ['Component names'] corresponds to \"chemical abbreviation\" in the chemical inventory df.\\\n",
    "    This dictionary entry is a list of N components. The index of this list will correspond to\\\n",
    "    concentration types, and concentration linspace.\n",
    "    - ['Concentration types'] can be volf, molarity, or mgpermL. \n",
    "    - ['Concentration linspace'] keyword arguments for linspace call for nth component.\n",
    "   "
   ]
  },
  {
   "cell_type": "markdown",
   "metadata": {},
   "source": [
    "# 3. \n",
    "\n",
    "generate_candidate_lattice_concentrations()\n",
    "Calculates volume fractions of all components, including the Nth component.\n",
    "\n",
    "Returns a dictionary of format:\n",
    "\n",
    "\"concentration type\":numpy array of shape M x N \n",
    "\n",
    "where,\n",
    "N is the number of components, M is the number of samples.\n",
    "\n",
    "**NOTE** Mixture constrain is applied inside generate_candidate_lattice_concentrations. \n",
    "I.e., any sample for which the volume fraction of the last component is negative will be discarded due to being impossible."
   ]
  },
  {
   "cell_type": "code",
   "execution_count": 114,
   "metadata": {},
   "outputs": [],
   "source": [
    "exp_conc_dict = setup_functions.generate_candidate_lattice_concentrations(experiment_plan_dict, chemical_db_df)\n"
   ]
  },
  {
   "cell_type": "markdown",
   "metadata": {},
   "source": [
    "# 4. \n",
    "\n",
    "Using the sample concentration arrays generated above, and chemical information of each component \\\n",
    "generate arrays of extensive properties. "
   ]
  },
  {
   "cell_type": "code",
   "execution_count": 178,
   "metadata": {},
   "outputs": [
    {
     "name": "stdout",
     "output_type": "stream",
     "text": [
      "No density input for chcl using density = 1.0\n"
     ]
    }
   ],
   "source": [
    "extensive_dict = setup_functions.get_extensive(exp_conc_dict, experiment_plan_dict, chemical_db_df)\n"
   ]
  },
  {
   "cell_type": "markdown",
   "metadata": {},
   "source": [
    "# Misc. Troubleshooting Below"
   ]
  }
 ],
 "metadata": {
  "kernelspec": {
   "display_name": "Python [conda env:.conda-oof] *",
   "language": "python",
   "name": "conda-env-.conda-oof-py"
  },
  "language_info": {
   "codemirror_mode": {
    "name": "ipython",
    "version": 3
   },
   "file_extension": ".py",
   "mimetype": "text/x-python",
   "name": "python",
   "nbconvert_exporter": "python",
   "pygments_lexer": "ipython3",
   "version": "3.8.2"
  }
 },
 "nbformat": 4,
 "nbformat_minor": 4
}
