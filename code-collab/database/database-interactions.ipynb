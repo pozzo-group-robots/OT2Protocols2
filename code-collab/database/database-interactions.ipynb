{
 "cells": [
  {
   "cell_type": "code",
   "execution_count": 69,
   "metadata": {},
   "outputs": [],
   "source": [
    "import pubchempy as pcp\n",
    "import numpy as np\n",
    "import pandas as pd\n",
    "import xlrd\n",
    "import ast\n",
    "import csv"
   ]
  },
  {
   "cell_type": "code",
   "execution_count": 55,
   "metadata": {},
   "outputs": [],
   "source": [
    "def build_rxndict(rxnvarfile):\n",
    "    \"\"\"Read Template file and return a dict representation\n",
    "\n",
    "    The rxndict is a mapping of Variables => Values (column B => column d) in the\n",
    "    uncommented rows of the reaction excel file\n",
    "\n",
    "    :param rxnvarfile: path to excel file containing reaction specification\n",
    "    :return rxndict: dictionary representation of reaction specification\n",
    "    \"\"\"\n",
    "    rxndict = {}\n",
    "    varfile = rxnvarfile\n",
    "    wb = xlrd.open_workbook(varfile)\n",
    "    sheet = wb.sheet_by_name('WF1')\n",
    "    for i in range(sheet.nrows):\n",
    "        commentval = sheet.cell(i, 0).value\n",
    "        if commentval == '#':\n",
    "            continue\n",
    "        else:\n",
    "            cell_dict_value = sheet.cell(i, 3).value\n",
    "            cell_dict_id = sheet.cell(i, 1).value\n",
    "            cell_dict_type = sheet.cell(i, 4).value\n",
    "            if cell_dict_id == \"\":\n",
    "                pass\n",
    "            if cell_dict_type == 'list':\n",
    "                rxndict[cell_dict_id] = ast.literal_eval(cell_dict_value)\n",
    "            else:\n",
    "                rxndict[cell_dict_id.strip()] = cell_dict_value\n",
    "\n",
    "    # cannot use globals.get_lab() here since it has not been set\n",
    "#    if rxndict['lab'] == 'MIT_PVLab':\n",
    "#        data_handling.get_user_actions(rxndict, sheet)\n",
    "    return rxndict\n",
    "build_rxndict(r'C:\\Users\\lacho\\Downloads\\messingaround\\ESCALATE_Capture\\MIT_SpecificationInterface.xlsx')"
   ]
  },
  {
   "cell_type": "code",
   "execution_count": 170,
   "metadata": {},
   "outputs": [],
   "source": [
    "component_df = pd.read_excel('chemical_inventory.xlsx')\n"
   ]
  },
  {
   "cell_type": "code",
   "execution_count": 173,
   "metadata": {},
   "outputs": [
    {
     "name": "stdout",
     "output_type": "stream",
     "text": [
      "{'hba-stock':         Role Chemical Abbreviation Maximum Concentration Units Process\n",
      "1  component                  NaCl                     5     M        \n",
      "2  component       Butenedioicacid                     1     M        \n",
      "3    solvent                 Water                                    , 'hbd-stock':         Role Chemical Abbreviation Maximum Concentration Units  \n",
      "1  component                  chcl                     5     M  \n",
      "2    solvent                 Water                              , 'Water':         Role Chemical Abbreviation Maximum Concentration Units  \n",
      "1  component                 Water                              }\n"
     ]
    }
   ],
   "source": [
    "filepath = 'stock_specification.csv'\n",
    "def get_stock_dfs(filepath):\n",
    "    with open(filepath, newline='') as csvfile:\n",
    "        reader = csv.reader(csvfile)\n",
    "        index_list = []\n",
    "        full_list = []\n",
    "        for i, row in enumerate(reader):\n",
    "            if row[0] == 'Stock name':\n",
    "                index_list.append(i)\n",
    "            full_list.append(row)\n",
    "        \n",
    "        stock_df_dict = {}\n",
    "        for i, index in enumerate(index_list):\n",
    "            name = full_list[index][1]\n",
    "            if i == len(index_list)-1:\n",
    "                stock_info = full_list[index+1:len(full_list)]\n",
    "                # This is the last entry in the list of indices\n",
    "            else:\n",
    "                stock_info = full_list[index+1:index_list[i+1]]\n",
    "            \n",
    "            df=pd.DataFrame(stock_info)\n",
    "            df = df.rename(columns=df.iloc[0])\n",
    "            df = df.drop(df.index[0])\n",
    "            stock_df_dict[name] = df\n",
    "\n",
    "    return stock_df_dict\n",
    "    \n",
    "stock_dict = get_stock_dfs(filepath)\n",
    "\n"
   ]
  }
 ],
 "metadata": {
  "kernelspec": {
   "display_name": "Python [conda env:.conda-oof]",
   "language": "python",
   "name": "conda-env-.conda-oof-py"
  },
  "language_info": {
   "codemirror_mode": {
    "name": "ipython",
    "version": 3
   },
   "file_extension": ".py",
   "mimetype": "text/x-python",
   "name": "python",
   "nbconvert_exporter": "python",
   "pygments_lexer": "ipython3",
   "version": "3.8.2"
  }
 },
 "nbformat": 4,
 "nbformat_minor": 4
}
