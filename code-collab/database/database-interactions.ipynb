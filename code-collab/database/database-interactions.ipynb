{
 "cells": [
  {
   "cell_type": "code",
   "execution_count": 54,
   "metadata": {},
   "outputs": [],
   "source": [
    "import pubchempy as pcp\n",
    "import numpy as np\n",
    "import pandas as pd\n",
    "import xlrd\n",
    "import ast"
   ]
  },
  {
   "cell_type": "code",
   "execution_count": 55,
   "metadata": {},
   "outputs": [],
   "source": [
    "def build_rxndict(rxnvarfile):\n",
    "    \"\"\"Read Template file and return a dict representation\n",
    "\n",
    "    The rxndict is a mapping of Variables => Values (column B => column d) in the\n",
    "    uncommented rows of the reaction excel file\n",
    "\n",
    "    :param rxnvarfile: path to excel file containing reaction specification\n",
    "    :return rxndict: dictionary representation of reaction specification\n",
    "    \"\"\"\n",
    "    rxndict = {}\n",
    "    varfile = rxnvarfile\n",
    "    wb = xlrd.open_workbook(varfile)\n",
    "    sheet = wb.sheet_by_name('WF1')\n",
    "    for i in range(sheet.nrows):\n",
    "        commentval = sheet.cell(i, 0).value\n",
    "        if commentval == '#':\n",
    "            continue\n",
    "        else:\n",
    "            cell_dict_value = sheet.cell(i, 3).value\n",
    "            cell_dict_id = sheet.cell(i, 1).value\n",
    "            cell_dict_type = sheet.cell(i, 4).value\n",
    "            if cell_dict_id == \"\":\n",
    "                pass\n",
    "            if cell_dict_type == 'list':\n",
    "                rxndict[cell_dict_id] = ast.literal_eval(cell_dict_value)\n",
    "            else:\n",
    "                rxndict[cell_dict_id.strip()] = cell_dict_value\n",
    "\n",
    "    # cannot use globals.get_lab() here since it has not been set\n",
    "#    if rxndict['lab'] == 'MIT_PVLab':\n",
    "#        data_handling.get_user_actions(rxndict, sheet)\n",
    "    return rxndict"
   ]
  },
  {
   "cell_type": "code",
   "execution_count": 56,
   "metadata": {},
   "outputs": [
    {
     "data": {
      "text/plain": [
       "{'Variable': 'Value',\n",
       " '': '',\n",
       " 'ExpWorkflowVer': 1.1,\n",
       " 'plotter_on': 0.0,\n",
       " 'lab': 'MIT_PVLab',\n",
       " 'wellcount': 16.0,\n",
       " 'WF3_split': [7],\n",
       " 'multi_stock_sampling': 0.0,\n",
       " 'exp1': [[2, 3, 7, 1]],\n",
       " 'exp1_vols': [[500, 500]],\n",
       " 'exp1_wells': 12.0,\n",
       " 'exp1_name': 'Perovskite Iodide Experiment',\n",
       " 'manual_wells': 4.0,\n",
       " 'Reagent1_chemical_list': ['DMSO'],\n",
       " 'Reagent2_chemical_list': ['PiperazinediiumDiodide', 'DMSO'],\n",
       " 'Reagent2_item1_formulaconc': 1.6,\n",
       " 'Reagent3_ID': 'MA 36.4 A',\n",
       " 'Reagent7_chemical_list': ['FAH'],\n",
       " 'OldReagent2_chemical_list': ['PbI2', 'MeNH3I', 'DMSO'],\n",
       " 'OldReagent2_item1_formulaconc': 1.6,\n",
       " 'OldReagent2_item2_formulaconc': 1.6,\n",
       " 'OldReagent3_chemical_list': ['MeNH3I', 'DMSO'],\n",
       " 'OldReagent3_item1_formulaconc': 5.4,\n",
       " 'stirrate': 750.0,\n",
       " 'temperature1_nominal': 85.0,\n",
       " 'duratation_stir1': 900.0,\n",
       " 'duratation_stir2': 1200.0,\n",
       " 'temperature2_nominal': 105.0,\n",
       " 'duration_reaction': 21600.0,\n",
       " 'reagent_dead_volume': 2.0,\n",
       " 'plate_container': 'Symyx_96_well_0003',\n",
       " 'Additional_action_1_value': 0.0,\n",
       " 'Additional_action_1_description': 0.0,\n",
       " 'Additional_action_2_value': 0.0,\n",
       " 'Additional_action_2_description': 0.0,\n",
       " 'reagents_prerxn_temperature': 45.0,\n",
       " 'reagents_prep_temperature': 75.0,\n",
       " 'reagents_prep_stirrate': 450.0,\n",
       " 'reagents_prep_duration': 3600.0}"
      ]
     },
     "execution_count": 56,
     "metadata": {},
     "output_type": "execute_result"
    }
   ],
   "source": [
    "# chemicals = pd.read_excel('chemical_inventory.xlsx')\n",
    "build_rxndict(r'C:\\Users\\lacho\\Downloads\\messingaround\\ESCALATE_Capture\\MIT_SpecificationInterface.xlsx')"
   ]
  },
  {
   "cell_type": "code",
   "execution_count": 51,
   "metadata": {},
   "outputs": [
    {
     "data": {
      "text/plain": [
       "'C:\\\\Users\\\\lacho\\\\OneDrive - UW\\\\Pozzo-RG-OT2\\\\OT2Protocols\\\\code-collab\\\\database'"
      ]
     },
     "execution_count": 51,
     "metadata": {},
     "output_type": "execute_result"
    }
   ],
   "source": [
    "pwd\n"
   ]
  }
 ],
 "metadata": {
  "kernelspec": {
   "display_name": "Python [conda env:.conda-oof]",
   "language": "python",
   "name": "conda-env-.conda-oof-py"
  },
  "language_info": {
   "codemirror_mode": {
    "name": "ipython",
    "version": 3
   },
   "file_extension": ".py",
   "mimetype": "text/x-python",
   "name": "python",
   "nbconvert_exporter": "python",
   "pygments_lexer": "ipython3",
   "version": "3.8.2"
  }
 },
 "nbformat": 4,
 "nbformat_minor": 4
}
