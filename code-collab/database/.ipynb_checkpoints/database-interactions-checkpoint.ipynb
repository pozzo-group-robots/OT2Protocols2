{
 "cells": [
  {
   "cell_type": "code",
   "execution_count": 196,
   "metadata": {},
   "outputs": [
    {
     "data": {
      "text/plain": [
       "<module 'setup_functions' from 'C:\\\\Users\\\\lacho\\\\OneDrive - UW\\\\Pozzo-RG-OT2\\\\OT2Protocols\\\\code-collab\\\\database\\\\setup_functions.py'>"
      ]
     },
     "execution_count": 196,
     "metadata": {},
     "output_type": "execute_result"
    }
   ],
   "source": [
    "import pubchempy as pcp\n",
    "import numpy as np\n",
    "import pandas as pd\n",
    "import xlrd\n",
    "import ast\n",
    "import csv\n",
    "import opentrons\n",
    "import datetime\n",
    "import importlib\n",
    "import setup_functions\n",
    "importlib.reload(setup_functions)"
   ]
  },
  {
   "cell_type": "code",
   "execution_count": 197,
   "metadata": {},
   "outputs": [
    {
     "data": {
      "text/html": [
       "<div>\n",
       "<style scoped>\n",
       "    .dataframe tbody tr th:only-of-type {\n",
       "        vertical-align: middle;\n",
       "    }\n",
       "\n",
       "    .dataframe tbody tr th {\n",
       "        vertical-align: top;\n",
       "    }\n",
       "\n",
       "    .dataframe thead th {\n",
       "        text-align: right;\n",
       "    }\n",
       "</style>\n",
       "<table border=\"1\" class=\"dataframe\">\n",
       "  <thead>\n",
       "    <tr style=\"text-align: right;\">\n",
       "      <th></th>\n",
       "      <th>State</th>\n",
       "      <th>Chemical Abbreviation</th>\n",
       "      <th>Order</th>\n",
       "      <th>Maximum Concentration</th>\n",
       "      <th>Stock 1 Nominal Concentration</th>\n",
       "      <th>Stock 1 Experimental Concentration</th>\n",
       "      <th>Concentration Units</th>\n",
       "    </tr>\n",
       "  </thead>\n",
       "  <tbody>\n",
       "    <tr>\n",
       "      <th>1</th>\n",
       "      <td>solid</td>\n",
       "      <td>NaCl</td>\n",
       "      <td>primary</td>\n",
       "      <td>5</td>\n",
       "      <td>3</td>\n",
       "      <td></td>\n",
       "      <td>M</td>\n",
       "    </tr>\n",
       "    <tr>\n",
       "      <th>2</th>\n",
       "      <td>solid</td>\n",
       "      <td>Butenedioicacid</td>\n",
       "      <td>primary</td>\n",
       "      <td>1</td>\n",
       "      <td>1</td>\n",
       "      <td></td>\n",
       "      <td>M</td>\n",
       "    </tr>\n",
       "    <tr>\n",
       "      <th>3</th>\n",
       "      <td>liquid</td>\n",
       "      <td>Water</td>\n",
       "      <td>secondary</td>\n",
       "      <td></td>\n",
       "      <td>1</td>\n",
       "      <td></td>\n",
       "      <td>volume fraction</td>\n",
       "    </tr>\n",
       "  </tbody>\n",
       "</table>\n",
       "</div>"
      ],
      "text/plain": [
       "    State Chemical Abbreviation      Order Maximum Concentration  \\\n",
       "1   solid                  NaCl    primary                     5   \n",
       "2   solid       Butenedioicacid    primary                     1   \n",
       "3  liquid                 Water  secondary                         \n",
       "\n",
       "  Stock 1 Nominal Concentration Stock 1 Experimental Concentration  \\\n",
       "1                             3                                      \n",
       "2                             1                                      \n",
       "3                             1                                      \n",
       "\n",
       "  Concentration Units  \n",
       "1                   M  \n",
       "2                   M  \n",
       "3     volume fraction  "
      ]
     },
     "execution_count": 197,
     "metadata": {},
     "output_type": "execute_result"
    }
   ],
   "source": [
    "component_df = pd.read_excel('chemical_inventory.xlsx')\n",
    "component_df\n",
    "\n",
    "\n",
    "stock_spec_filepath = 'stock_specification.csv'\n",
    "stock_dict = setup_functions.get_stock_dfs(stock_spec_filepath)\n",
    "stock_dict['hba-stock']"
   ]
  },
  {
   "cell_type": "code",
   "execution_count": 198,
   "metadata": {},
   "outputs": [
    {
     "data": {
      "text/plain": [
       "{'Protocol Version': 'testing',\n",
       " 'Experimenter': 'Kacper Lachowski',\n",
       " 'Project tag': 'testing',\n",
       " 'Experiment tag': 'test1',\n",
       " 'Sample volume (uL)': 1000.0,\n",
       " 'Stock order': ['hba-stock', 'hbd-stock', 'Water'],\n",
       " 'Component names': ['NaCl', 'Butenedioicacid', 'chcl', 'Water'],\n",
       " 'Specification method': ['molarity',\n",
       "  'molarity',\n",
       "  'molarity',\n",
       "  'volume fraction'],\n",
       " 'Concentration linspace [min, max, n]': [[0.001, 1, 20],\n",
       "  [0.001, 1, 20],\n",
       "  [0.001, 1, 20],\n",
       "  [1.0, 1.0, 1]],\n",
       " 'Left pipette': 'P1000_Single',\n",
       " 'Right pipette': 'P300_Single_GEN2'}"
      ]
     },
     "execution_count": 198,
     "metadata": {},
     "output_type": "execute_result"
    }
   ],
   "source": [
    "experiment_plan_filepath = 'experiment_plan.csv'\n",
    "experiment_plan_dict = setup_functions.get_experiment_plan(experiment_plan_filepath)\n",
    "experiment_plan_dict\n"
   ]
  },
  {
   "cell_type": "code",
   "execution_count": 199,
   "metadata": {},
   "outputs": [],
   "source": [
    "conc_df = setup_functions.generate_candidate_samples(experiment_plan_dict)\n"
   ]
  },
  {
   "cell_type": "code",
   "execution_count": 214,
   "metadata": {},
   "outputs": [
    {
     "name": "stdout",
     "output_type": "stream",
     "text": [
      "hba-stock\n",
      "['NaCl' 'Butenedioicacid' 'Water']\n",
      "\n",
      "\n",
      "hbd-stock\n",
      "['chcl' 'Water']\n",
      "\n",
      "\n",
      "Water\n",
      "['Water']\n",
      "\n",
      "\n"
     ]
    }
   ],
   "source": [
    "def cull_candidate_samples(experiment_plan_dict, stock_dict):\n",
    "    \"\"\"\n",
    "    Attempt to take care of components appearing in more than one set.\n",
    "    Pretty, but difficult to execute.\n",
    "    \"\"\"\n",
    "    start_df = setup_functions.generate_candidate_samples(experiment_plan_dict)\n",
    "    all_component_names_set = set()\n",
    "    # Generate set of all unique names\n",
    "    for k,v in stock_dict.items():\n",
    "        all_component_names_set.update(v['Chemical Abbreviation'].values)\n",
    "    print(all_component_names_set,'\\n')\n",
    "    # Specify which componennt is unique to each stock. \n",
    "    for k,v in stock_dict.items():\n",
    "        name_set = set(v['Chemical Abbreviation'].values)\n",
    "        not_in_set = all_component_names_set-name_set\n",
    "#         print(name_set)\n",
    "#         print(not_in_set)\n",
    "#         print(\"\\n\")\n",
    "\n",
    "def cull_candidate_samples(experiment_plan_dict, stock_dict):\n",
    "    start_df = setup_functions.generate_candidate_samples(experiment_plan_dict) \n",
    "    for stock_name in experiment_plan_dict['Stock order']:\n",
    "        stock_df = stock_dict[stock_name]\n",
    "        print(stock_name)\n",
    "        print(stock_df['Chemical Abbreviation'].values)\n",
    "        print('\\n')\n",
    "cull_candidate_samples(experiment_plan_dict, stock_dict)"
   ]
  },
  {
   "cell_type": "code",
   "execution_count": null,
   "metadata": {},
   "outputs": [],
   "source": []
  }
 ],
 "metadata": {
  "kernelspec": {
   "display_name": "Python [conda env:.conda-oof] *",
   "language": "python",
   "name": "conda-env-.conda-oof-py"
  },
  "language_info": {
   "codemirror_mode": {
    "name": "ipython",
    "version": 3
   },
   "file_extension": ".py",
   "mimetype": "text/x-python",
   "name": "python",
   "nbconvert_exporter": "python",
   "pygments_lexer": "ipython3",
   "version": "3.8.2"
  }
 },
 "nbformat": 4,
 "nbformat_minor": 4
}
