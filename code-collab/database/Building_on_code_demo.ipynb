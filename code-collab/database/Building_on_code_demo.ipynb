{
 "cells": [
  {
   "cell_type": "code",
   "execution_count": 61,
   "metadata": {},
   "outputs": [
    {
     "data": {
      "text/plain": [
       "<module 'planning_functions' from 'C:\\\\Users\\\\lacho\\\\Documents\\\\Pozzo-RG-OT2\\\\OT2Protocols\\\\code-collab\\\\database\\\\planning_functions.py'>"
      ]
     },
     "execution_count": 61,
     "metadata": {},
     "output_type": "execute_result"
    }
   ],
   "source": [
    "import pandas as pd\n",
    "\n",
    "import importlib\n",
    "import setup_functions\n",
    "import planning_functions\n",
    "importlib.reload(setup_functions)\n",
    "importlib.reload(planning_functions)"
   ]
  },
  {
   "cell_type": "code",
   "execution_count": 49,
   "metadata": {},
   "outputs": [
    {
     "name": "stdout",
     "output_type": "stream",
     "text": [
      "No density input for chcl using density = 1.0\n"
     ]
    }
   ],
   "source": [
    "experiment_plan_filepath = 'lattice_experiment_plan.csv'\n",
    "experiment_plan_dict = setup_functions.get_experiment_plan(experiment_plan_filepath)\n",
    "experiment_db_filepath = 'chemical_inventory.xlsx'\n",
    "chemical_db_df = pd.read_excel(experiment_db_filepath)\n",
    "chemical_db_df\n",
    "experiment_plan_dict\n",
    "exp_conc_dict = setup_functions.generate_candidate_lattice_concentrations(experiment_plan_dict, chemical_db_df)\n",
    "extensive_dict = setup_functions.get_extensive(exp_conc_dict, experiment_plan_dict, chemical_db_df)"
   ]
  },
  {
   "cell_type": "code",
   "execution_count": null,
   "metadata": {},
   "outputs": [],
   "source": []
  },
  {
   "cell_type": "code",
   "execution_count": 46,
   "metadata": {},
   "outputs": [
    {
     "data": {
      "text/html": [
       "<div>\n",
       "<style scoped>\n",
       "    .dataframe tbody tr th:only-of-type {\n",
       "        vertical-align: middle;\n",
       "    }\n",
       "\n",
       "    .dataframe tbody tr th {\n",
       "        vertical-align: top;\n",
       "    }\n",
       "\n",
       "    .dataframe thead th {\n",
       "        text-align: right;\n",
       "    }\n",
       "</style>\n",
       "<table border=\"1\" class=\"dataframe\">\n",
       "  <thead>\n",
       "    <tr style=\"text-align: right;\">\n",
       "      <th></th>\n",
       "      <th>Component 1 Abbreviation</th>\n",
       "      <th>Solvent Abbreviation</th>\n",
       "      <th>Component 1 Maximum g/L</th>\n",
       "      <th>Temperature °C</th>\n",
       "      <th>Source</th>\n",
       "    </tr>\n",
       "  </thead>\n",
       "  <tbody>\n",
       "    <tr>\n",
       "      <th>0</th>\n",
       "      <td>NaCl</td>\n",
       "      <td>Water</td>\n",
       "      <td>357</td>\n",
       "      <td>25.0</td>\n",
       "      <td>https://www.sigmaaldrich.com/content/dam/sigma...</td>\n",
       "    </tr>\n",
       "    <tr>\n",
       "      <th>1</th>\n",
       "      <td>Butenedioicacid</td>\n",
       "      <td>Water</td>\n",
       "      <td>441</td>\n",
       "      <td>25.0</td>\n",
       "      <td>Yalkowsky, S.H., He, Yan, Jain, P. Handbook of...</td>\n",
       "    </tr>\n",
       "    <tr>\n",
       "      <th>2</th>\n",
       "      <td>chcl</td>\n",
       "      <td>Water</td>\n",
       "      <td>650</td>\n",
       "      <td>NaN</td>\n",
       "      <td>NaN</td>\n",
       "    </tr>\n",
       "  </tbody>\n",
       "</table>\n",
       "</div>"
      ],
      "text/plain": [
       "  Component 1 Abbreviation Solvent Abbreviation  Component 1 Maximum g/L  \\\n",
       "0                     NaCl                Water                      357   \n",
       "1          Butenedioicacid                Water                      441   \n",
       "2                     chcl                Water                      650   \n",
       "\n",
       "   Temperature °C                                             Source  \n",
       "0            25.0  https://www.sigmaaldrich.com/content/dam/sigma...  \n",
       "1            25.0  Yalkowsky, S.H., He, Yan, Jain, P. Handbook of...  \n",
       "2             NaN                                                NaN  "
      ]
     },
     "execution_count": 46,
     "metadata": {},
     "output_type": "execute_result"
    }
   ],
   "source": [
    "solubility_db_df = pd.read_excel('chemical_inventory.xlsx', sheet_name='Solubility')\n",
    "component_names = experiment_plan_dict['Component names']\n",
    "solubility_db_df = solubility_db_df[solubility_db_df['Component 1 Abbreviation'].isin(component_names)]\n",
    "solubility_db_df"
   ]
  },
  {
   "cell_type": "markdown",
   "metadata": {},
   "source": [
    "# Stock solubility unit conversion\n",
    "\n",
    "Given a chemical inventory df, and a solubility df, convert all of the g/L data in the latter using the former."
   ]
  },
  {
   "cell_type": "code",
   "execution_count": 4,
   "metadata": {},
   "outputs": [
    {
     "data": {
      "text/html": [
       "<div>\n",
       "<style scoped>\n",
       "    .dataframe tbody tr th:only-of-type {\n",
       "        vertical-align: middle;\n",
       "    }\n",
       "\n",
       "    .dataframe tbody tr th {\n",
       "        vertical-align: top;\n",
       "    }\n",
       "\n",
       "    .dataframe thead th {\n",
       "        text-align: right;\n",
       "    }\n",
       "</style>\n",
       "<table border=\"1\" class=\"dataframe\">\n",
       "  <thead>\n",
       "    <tr style=\"text-align: right;\">\n",
       "      <th></th>\n",
       "      <th>Component 1 Abbreviation</th>\n",
       "      <th>Solvent Abbreviation</th>\n",
       "      <th>Component 1 Maximum g/L</th>\n",
       "      <th>Temperature °C</th>\n",
       "      <th>Source</th>\n",
       "      <th>Component 1 molarity</th>\n",
       "      <th>Component 1 vol. f.</th>\n",
       "    </tr>\n",
       "  </thead>\n",
       "  <tbody>\n",
       "    <tr>\n",
       "      <th>0</th>\n",
       "      <td>NaCl</td>\n",
       "      <td>Water</td>\n",
       "      <td>357</td>\n",
       "      <td>25.0</td>\n",
       "      <td>https://www.sigmaaldrich.com/content/dam/sigma...</td>\n",
       "      <td>6.108830</td>\n",
       "      <td>0.164896</td>\n",
       "    </tr>\n",
       "    <tr>\n",
       "      <th>1</th>\n",
       "      <td>Butenedioicacid</td>\n",
       "      <td>Water</td>\n",
       "      <td>441</td>\n",
       "      <td>25.0</td>\n",
       "      <td>Yalkowsky, S.H., He, Yan, Jain, P. Handbook of...</td>\n",
       "      <td>3.799431</td>\n",
       "      <td>0.294000</td>\n",
       "    </tr>\n",
       "    <tr>\n",
       "      <th>2</th>\n",
       "      <td>chcl</td>\n",
       "      <td>Water</td>\n",
       "      <td>650</td>\n",
       "      <td>NaN</td>\n",
       "      <td>NaN</td>\n",
       "      <td>4.655493</td>\n",
       "      <td>0.650000</td>\n",
       "    </tr>\n",
       "    <tr>\n",
       "      <th>3</th>\n",
       "      <td>haucl4</td>\n",
       "      <td>Water</td>\n",
       "      <td>150</td>\n",
       "      <td>NaN</td>\n",
       "      <td>https://www.emdmillipore.com/US/en/product/Tet...</td>\n",
       "      <td>0.380875</td>\n",
       "      <td>0.038462</td>\n",
       "    </tr>\n",
       "  </tbody>\n",
       "</table>\n",
       "</div>"
      ],
      "text/plain": [
       "  Component 1 Abbreviation Solvent Abbreviation  Component 1 Maximum g/L  \\\n",
       "0                     NaCl                Water                      357   \n",
       "1          Butenedioicacid                Water                      441   \n",
       "2                     chcl                Water                      650   \n",
       "3                   haucl4                Water                      150   \n",
       "\n",
       "   Temperature °C                                             Source  \\\n",
       "0            25.0  https://www.sigmaaldrich.com/content/dam/sigma...   \n",
       "1            25.0  Yalkowsky, S.H., He, Yan, Jain, P. Handbook of...   \n",
       "2             NaN                                                NaN   \n",
       "3             NaN  https://www.emdmillipore.com/US/en/product/Tet...   \n",
       "\n",
       "   Component 1 molarity  Component 1 vol. f.  \n",
       "0              6.108830             0.164896  \n",
       "1              3.799431             0.294000  \n",
       "2              4.655493             0.650000  \n",
       "3              0.380875             0.038462  "
      ]
     },
     "execution_count": 4,
     "metadata": {},
     "output_type": "execute_result"
    }
   ],
   "source": [
    "molarity_list = []\n",
    "volf_list = []\n",
    "for i, row in solubility_db_df.iterrows():\n",
    "    conc = row['Component 1 Maximum g/L']\n",
    "    name = row['Component 1 Abbreviation']\n",
    "    component_df = chemical_db_df[chemical_db_df['Chemical Abbreviation'] == name]\n",
    "    molarity = setup_functions.concconvert(conc, 'mgpermL', component_df, 'molarity')\n",
    "    volf = setup_functions.concconvert(conc, 'mgpermL', component_df, 'volf')\n",
    "    molarity_list.append(molarity)\n",
    "    volf_list.append(volf)\n",
    "\n",
    "solubility_db_df['Component 1 molarity'] = molarity_list\n",
    "solubility_db_df['Component 1 vol. f.'] = volf_list\n",
    "solubility_db_df"
   ]
  },
  {
   "cell_type": "markdown",
   "metadata": {},
   "source": [
    "# New Content Below"
   ]
  },
  {
   "cell_type": "code",
   "execution_count": 62,
   "metadata": {},
   "outputs": [
    {
     "data": {
      "text/html": [
       "<div>\n",
       "<style scoped>\n",
       "    .dataframe tbody tr th:only-of-type {\n",
       "        vertical-align: middle;\n",
       "    }\n",
       "\n",
       "    .dataframe tbody tr th {\n",
       "        vertical-align: top;\n",
       "    }\n",
       "\n",
       "    .dataframe thead th {\n",
       "        text-align: right;\n",
       "    }\n",
       "</style>\n",
       "<table border=\"1\" class=\"dataframe\">\n",
       "  <thead>\n",
       "    <tr style=\"text-align: right;\">\n",
       "      <th></th>\n",
       "      <th>Component 1 Abbreviation</th>\n",
       "      <th>Solvent Abbreviation</th>\n",
       "      <th>Component 1 Maximum g/L</th>\n",
       "      <th>Temperature °C</th>\n",
       "      <th>Source</th>\n",
       "      <th>Component 1 molarity</th>\n",
       "      <th>Component 1 vol. f.</th>\n",
       "    </tr>\n",
       "  </thead>\n",
       "  <tbody>\n",
       "    <tr>\n",
       "      <th>0</th>\n",
       "      <td>NaCl</td>\n",
       "      <td>Water</td>\n",
       "      <td>357</td>\n",
       "      <td>25.0</td>\n",
       "      <td>https://www.sigmaaldrich.com/content/dam/sigma...</td>\n",
       "      <td>6.108830</td>\n",
       "      <td>0.164896</td>\n",
       "    </tr>\n",
       "    <tr>\n",
       "      <th>1</th>\n",
       "      <td>Butenedioicacid</td>\n",
       "      <td>Water</td>\n",
       "      <td>441</td>\n",
       "      <td>25.0</td>\n",
       "      <td>Yalkowsky, S.H., He, Yan, Jain, P. Handbook of...</td>\n",
       "      <td>3.799431</td>\n",
       "      <td>0.294000</td>\n",
       "    </tr>\n",
       "    <tr>\n",
       "      <th>2</th>\n",
       "      <td>chcl</td>\n",
       "      <td>Water</td>\n",
       "      <td>650</td>\n",
       "      <td>NaN</td>\n",
       "      <td>NaN</td>\n",
       "      <td>4.655493</td>\n",
       "      <td>0.650000</td>\n",
       "    </tr>\n",
       "  </tbody>\n",
       "</table>\n",
       "</div>"
      ],
      "text/plain": [
       "  Component 1 Abbreviation Solvent Abbreviation  Component 1 Maximum g/L  \\\n",
       "0                     NaCl                Water                      357   \n",
       "1          Butenedioicacid                Water                      441   \n",
       "2                     chcl                Water                      650   \n",
       "\n",
       "   Temperature °C                                             Source  \\\n",
       "0            25.0  https://www.sigmaaldrich.com/content/dam/sigma...   \n",
       "1            25.0  Yalkowsky, S.H., He, Yan, Jain, P. Handbook of...   \n",
       "2             NaN                                                NaN   \n",
       "\n",
       "   Component 1 molarity  Component 1 vol. f.  \n",
       "0              6.108830             0.164896  \n",
       "1              3.799431             0.294000  \n",
       "2              4.655493             0.650000  "
      ]
     },
     "execution_count": 62,
     "metadata": {},
     "output_type": "execute_result"
    }
   ],
   "source": [
    "planning_functions.get_solubility_df(experiment_plan_dict, experiment_db_filepath, 'Solubility', chemical_db_df)"
   ]
  }
 ],
 "metadata": {
  "kernelspec": {
   "display_name": "Python [conda env:.conda-oof] *",
   "language": "python",
   "name": "conda-env-.conda-oof-py"
  },
  "language_info": {
   "codemirror_mode": {
    "name": "ipython",
    "version": 3
   },
   "file_extension": ".py",
   "mimetype": "text/x-python",
   "name": "python",
   "nbconvert_exporter": "python",
   "pygments_lexer": "ipython3",
   "version": "3.8.2"
  }
 },
 "nbformat": 4,
 "nbformat_minor": 4
}
