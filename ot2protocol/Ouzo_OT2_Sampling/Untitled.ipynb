{
 "cells": [
  {
   "cell_type": "code",
   "execution_count": 1,
   "metadata": {},
   "outputs": [],
   "source": [
    "import numpy as np\n",
    "import pandas as pd\n",
    "import csv\n",
    "import ast "
   ]
  },
  {
   "cell_type": "code",
   "execution_count": 2,
   "metadata": {},
   "outputs": [],
   "source": [
    "filepath = r\"C:\\Users\\Edwin\\Desktop\\OT2Protocols\\ot2protocol\\Ouzo_OT2_Sampling\\Testing Plans\\Breaking_protocol.csv\"\n",
    "with open(filepath, newline='') as csvfile:\n",
    "    reader = csv.reader(csvfile)\n",
    "    plan_dict = {}\n",
    "    for i, row in enumerate(reader):\n",
    "        assert len(row) == 2\n",
    "        plan_dict[row[0]] = ast.literal_eval(row[1])"
   ]
  },
  {
   "cell_type": "code",
   "execution_count": 12,
   "metadata": {},
   "outputs": [
    {
     "name": "stdout",
     "output_type": "stream",
     "text": [
      "[0. 0. 0. 0. 0. 0. 0. 0. 0. 0. 0. 0. 0. 0. 0. 0. 0. 0. 0. 0. 0. 0. 0. 0.\n",
      " 0. 0. 0. 0. 0. 0. 0. 0. 0. 0. 0. 0. 0. 0. 0. 0.]\n",
      "[0.000125 0.000125 0.000125 0.000125 0.000125 0.000125 0.000125 0.000125\n",
      " 0.000125 0.000125 0.000125 0.000125 0.000125 0.000125 0.000125 0.000125\n",
      " 0.000125 0.000125 0.000125 0.000125 0.000125 0.000125 0.000125 0.000125\n",
      " 0.000125 0.000125 0.000125 0.000125 0.000125 0.000125 0.000125 0.000125\n",
      " 0.000125 0.000125 0.000125 0.000125 0.000125 0.000125 0.000125 0.000125]\n",
      "[0.         0.         0.         0.         0.         0.\n",
      " 0.         0.         0.         0.         0.13333333 0.13333333\n",
      " 0.13333333 0.13333333 0.13333333 0.13333333 0.13333333 0.13333333\n",
      " 0.13333333 0.13333333 0.26666667 0.26666667 0.26666667 0.26666667\n",
      " 0.26666667 0.26666667 0.26666667 0.26666667 0.26666667 0.26666667\n",
      " 0.4        0.4        0.4        0.4        0.4        0.4\n",
      " 0.4        0.4        0.4        0.4       ]\n",
      "[0.         0.11111111 0.22222222 0.33333333 0.44444444 0.55555556\n",
      " 0.66666667 0.77777778 0.88888889 1.         0.         0.11111111\n",
      " 0.22222222 0.33333333 0.44444444 0.55555556 0.66666667 0.77777778\n",
      " 0.88888889 1.         0.         0.11111111 0.22222222 0.33333333\n",
      " 0.44444444 0.55555556 0.66666667 0.77777778 0.88888889 1.\n",
      " 0.         0.11111111 0.22222222 0.33333333 0.44444444 0.55555556\n",
      " 0.66666667 0.77777778 0.88888889 1.        ]\n"
     ]
    }
   ],
   "source": [
    "# Calling information from csv \n",
    "experiment_csv_dict = plan_dict\n",
    "component_name_list = experiment_csv_dict['Component Shorthand Names']\n",
    "component_conc_linspaces_list = experiment_csv_dict['Component Concentrations [min, max, n]']\n",
    "component_conc_type_list = experiment_csv_dict['Component Concentration Unit']\n",
    "component_spacing_type = experiment_csv_dict['Component Spacing']\n",
    "\n",
    "conc_range_list = [] # will hold flattened linspaces \n",
    "for conc_linspace in component_conc_linspaces_list: # each \n",
    "    if component_spacing_type == \"linear\":\n",
    "        conc_range_list.append(np.linspace(*conc_linspace))\n",
    "    elif component_spacing_type == \"log\": # allows for cases where conc is 0? \n",
    "        conc_range_list.append(np.logspace(*conc_linspace))\n",
    "    else:\n",
    "        type_list = [\"linear\", \"log\"]\n",
    "        assert spacing_type in type_list, \"spacing_type was not specified in the experiment plan, or the the rquested method is not implemented.\"\n",
    "\n",
    "# Remember the aterisk is to unpack the list container\n",
    "conc_grid = np.meshgrid(*conc_range_list) # Create every combination of the flattened linspaces with meshgrid.\n",
    "\n",
    "component_conc_dict = {}\n",
    "for i in range(len(conc_grid)): \n",
    "    component_name = component_name_list[i]\n",
    "    component_conc_dict[component_name] = conc_grid[i].ravel()\n",
    "    print(conc_grid[i].ravel()) # flatten entire component array\n",
    "concentration_df = pd.DataFrame.from_dict(component_conc_dict) # place each component as a series allowing for sample index = complete sample with n number of components\n",
    "completing_component_name = component_name_list[len(component_name_list)-1]\n",
    "concentration_df[completing_component_name] = (1 - concentration_df.sum(axis=1)) # completing the sum with last component name entry\n",
    "\n",
    "unfiltered_concentration_df = concentration_df\n",
    "concentration_df = concentration_df[concentration_df[completing_component_name] > 0]\n",
    "concentration_df.reset_index(drop=True, inplace=True)\n",
    "\n",
    "assert len(component_name_list) != len(component_conc_linspaces_list), \"The provided experimental instructions are overspecified.\"\n",
    "concentration_array = concentration_df.values\n",
    "assert not concentration_df.empty, 'No suitable samples were found, please change your linspace. Most likely this means you have your linspaces set to close together at all high concentrations (close to 1).'"
   ]
  },
  {
   "cell_type": "code",
   "execution_count": 9,
   "metadata": {},
   "outputs": [
    {
     "name": "stdout",
     "output_type": "stream",
     "text": [
      "fd\n"
     ]
    }
   ],
   "source": [
    "for i in range(len(conc_grid)): \n",
    "    stock_name = stock_name_list[i]\n",
    "    stock_conc_dict[stock_name] = conc_grid[i].ravel()\n",
    "stock_concentration_df = pd.DataFrame.from_dict(stock_conc_dict)\n",
    "stock_concentration_array = stock_concentration_df.values "
   ]
  },
  {
   "cell_type": "code",
   "execution_count": 13,
   "metadata": {},
   "outputs": [
    {
     "data": {
      "text/plain": [
       "array([[1000, 2000],\n",
       "       [2440, 2030]])"
      ]
     },
     "execution_count": 13,
     "metadata": {},
     "output_type": "execute_result"
    }
   ],
   "source": [
    "\n",
    "p = np.asarray([[100,200],[244,203]])\n",
    "p*10"
   ]
  }
 ],
 "metadata": {
  "kernelspec": {
   "display_name": "Python 3",
   "language": "python",
   "name": "python3"
  },
  "language_info": {
   "codemirror_mode": {
    "name": "ipython",
    "version": 3
   },
   "file_extension": ".py",
   "mimetype": "text/x-python",
   "name": "python",
   "nbconvert_exporter": "python",
   "pygments_lexer": "ipython3",
   "version": "3.6.8"
  }
 },
 "nbformat": 4,
 "nbformat_minor": 4
}
