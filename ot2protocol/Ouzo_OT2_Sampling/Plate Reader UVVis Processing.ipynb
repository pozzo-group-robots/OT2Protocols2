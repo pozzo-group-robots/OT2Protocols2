{
 "cells": [
  {
   "cell_type": "code",
   "execution_count": 27,
   "metadata": {},
   "outputs": [],
   "source": [
    "import Ouzo_Graph_Tools as ouzo_graphs\n",
    "import Ouzo_Sampling_Wtf_Lattice_Volume as create\n",
    "import pandas as pd\n",
    "import matplotlib.pyplot as plt\n",
    "import matplotlib as mpl\n",
    "import matplotlib.colors as colors\n",
    "import numpy as np\n",
    "from scipy import interpolate, stats"
   ]
  },
  {
   "cell_type": "code",
   "execution_count": 28,
   "metadata": {},
   "outputs": [],
   "source": [
    "def extract_plates(path, sheet_list):\n",
    "    \"\"\"Will return a sublist of plates absorbance information in dataframe format\n",
    "    Must ensure that excel sheet has only the samples made in the csv plan as will cause errors downstream.\"\"\"\n",
    "    plate_dfs = []\n",
    "    for sheet_name in sheet_list:\n",
    "        plate_df = pd.read_excel(path, sheet_name = sheet_name).T\n",
    "        plate_dfs.append(plate_df)\n",
    "    return plate_dfs"
   ]
  },
  {
   "cell_type": "code",
   "execution_count": 29,
   "metadata": {},
   "outputs": [],
   "source": [
    "def merge_wavelength_dfs(df_list):\n",
    "    merge_list = []\n",
    "    for i, df in enumerate(df_list):\n",
    "        if i == 0:\n",
    "            df = df\n",
    "        else: \n",
    "            df = df.drop(['Wavelength'])\n",
    "        merge_list.append(df)\n",
    "    return pd.concat(merge_list)"
   ]
  },
  {
   "cell_type": "code",
   "execution_count": 30,
   "metadata": {},
   "outputs": [],
   "source": [
    "def baseline_correction(df_samples, baseline_series): \n",
    "    \"\"\"Given the series iloc of a the blank, subtracts the value at every wavelength of blank at resp. wavelength. \n",
    "    Simple subtraction blanking.\"\"\"\n",
    "    new_df_con = []\n",
    "    for key, row in df_samples.iterrows():\n",
    "        if key == 'Wavelength':\n",
    "            wavelengths = row\n",
    "            new_df_con.append(wavelengths)\n",
    "        else: \n",
    "            series = row\n",
    "            corrected = series.subtract(baseline_series)\n",
    "            new_df_con.append(corrected)\n",
    "    \n",
    "    baseline_corrected_df = pd.concat(new_df_con, axis = 1).T\n",
    "    baseline_corrected_df.index = df_samples[0].index\n",
    "    return baseline_corrected_df"
   ]
  },
  {
   "cell_type": "code",
   "execution_count": 31,
   "metadata": {},
   "outputs": [],
   "source": [
    "def add_abs_to_sample_info(sample_info_df, abs_df):\n",
    "    \n",
    "    wavelengths = list(abs_df.loc['Wavelength'])\n",
    "    wavelengths_names = [str(wavelength)+'nm' for wavelength in wavelengths]\n",
    "    abs_df.columns = wavelengths_names\n",
    "    \n",
    "    \n",
    "    sample_info_df.reset_index(drop=True, inplace=True)\n",
    "    abs_df.reset_index(drop=True, inplace=True)\n",
    "    combined_df = pd.concat([sample_info, abs_df], axis = 1)\n",
    "    return combined_df"
   ]
  },
  {
   "cell_type": "code",
   "execution_count": null,
   "metadata": {},
   "outputs": [],
   "source": []
  },
  {
   "cell_type": "code",
   "execution_count": 32,
   "metadata": {},
   "outputs": [],
   "source": [
    "def remove_visual_outliers(z, x, y, z_score_threshold = 3):\n",
    "    \"\"\"This is not a to remove statistical outliers, only to remove values which present. Outliers will be \n",
    "    removed based on the data of z and subsequently from x and y given the same indexes of entries. Inputs must be nparrays\"\"\"\n",
    "#     x = np.asarray(x)\n",
    "#     y = np.asarray(x)\n",
    "#     z = np.asarray(z)\n",
    "    \n",
    "    z_scores = np.abs(stats.zscore(np.asarray(z)))\n",
    "    threshold = z_score_threshold\n",
    "    index_to_remove = np.where(z_out > threshold)[0] # must be in ascending order\n",
    "    \n",
    "    for index in reversed(index_to_remove): # reveresed to perserve index\n",
    "        del x[index]\n",
    "        del y[index]\n",
    "        del z[index]\n",
    "    \n",
    "    xyz_array = [x,y,z]\n",
    "    return xyz_array\n"
   ]
  },
  {
   "cell_type": "code",
   "execution_count": 33,
   "metadata": {},
   "outputs": [],
   "source": [
    "# what happens with overflow or undefined data???"
   ]
  },
  {
   "cell_type": "code",
   "execution_count": 34,
   "metadata": {},
   "outputs": [],
   "source": [
    "# Load all things needed in this case\n",
    "sample_info = pd.read_csv(r\"C:\\Users\\Edwin\\Desktop\\11_17_2020\\experiment_info\") # make it find the blank position from sample_info\n",
    "plate_names = ['Sheet1','Sheet2','Sheet3']\n",
    "plate_dfs = extract_plates(r\"C:\\Users\\Edwin\\Desktop\\11_17_2020\\11_17_2020_Plate123.xlsx\", plate_names) # can edit/remove wells accidently measured etc, but really should be done at excel level\n",
    "merged_df = merge_wavelength_dfs(plate_dfs)"
   ]
  },
  {
   "cell_type": "code",
   "execution_count": 35,
   "metadata": {
    "scrolled": false
   },
   "outputs": [
    {
     "data": {
      "text/html": [
       "<div>\n",
       "<style scoped>\n",
       "    .dataframe tbody tr th:only-of-type {\n",
       "        vertical-align: middle;\n",
       "    }\n",
       "\n",
       "    .dataframe tbody tr th {\n",
       "        vertical-align: top;\n",
       "    }\n",
       "\n",
       "    .dataframe thead th {\n",
       "        text-align: right;\n",
       "    }\n",
       "</style>\n",
       "<table border=\"1\" class=\"dataframe\">\n",
       "  <thead>\n",
       "    <tr style=\"text-align: right;\">\n",
       "      <th></th>\n",
       "      <th>UID</th>\n",
       "      <th>Component 1 wtf</th>\n",
       "      <th>Component 2 wtf</th>\n",
       "      <th>Component 3 wtf</th>\n",
       "      <th>Component 4 wtf</th>\n",
       "      <th>Component 5 wtf</th>\n",
       "      <th>Slot</th>\n",
       "      <th>Labware</th>\n",
       "      <th>Well</th>\n",
       "      <th>400.0nm</th>\n",
       "      <th>450.0nm</th>\n",
       "      <th>500.0nm</th>\n",
       "      <th>550.0nm</th>\n",
       "      <th>600.0nm</th>\n",
       "      <th>650.0nm</th>\n",
       "    </tr>\n",
       "  </thead>\n",
       "  <tbody>\n",
       "    <tr>\n",
       "      <th>0</th>\n",
       "      <td>UID</td>\n",
       "      <td>dppc wtf</td>\n",
       "      <td>dspe-peg wtf</td>\n",
       "      <td>PFH wtf</td>\n",
       "      <td>ethanol wtf</td>\n",
       "      <td>water wtf</td>\n",
       "      <td>Slot</td>\n",
       "      <td>Labware</td>\n",
       "      <td>Well</td>\n",
       "      <td>400.000</td>\n",
       "      <td>450.000</td>\n",
       "      <td>500.000</td>\n",
       "      <td>550.000</td>\n",
       "      <td>600.000</td>\n",
       "      <td>650.000</td>\n",
       "    </tr>\n",
       "    <tr>\n",
       "      <th>1</th>\n",
       "      <td>2020-11-19_ethanol_PFH_A1</td>\n",
       "      <td>0.0003</td>\n",
       "      <td>0.000125</td>\n",
       "      <td>0.0002512820512820513</td>\n",
       "      <td>0.41704545454545455</td>\n",
       "      <td>0.5822782634032634</td>\n",
       "      <td>2</td>\n",
       "      <td>Corning 96 Well Plate 360 µL Flat</td>\n",
       "      <td>A1</td>\n",
       "      <td>0.026</td>\n",
       "      <td>0.017</td>\n",
       "      <td>0.010</td>\n",
       "      <td>0.006</td>\n",
       "      <td>0.003</td>\n",
       "      <td>0.002</td>\n",
       "    </tr>\n",
       "    <tr>\n",
       "      <th>2</th>\n",
       "      <td>2020-11-19_ethanol_PFH_A2</td>\n",
       "      <td>0.0003</td>\n",
       "      <td>0.000125</td>\n",
       "      <td>0.0002512820512820513</td>\n",
       "      <td>0.43863636363636366</td>\n",
       "      <td>0.5606873543123543</td>\n",
       "      <td>2</td>\n",
       "      <td>Corning 96 Well Plate 360 µL Flat</td>\n",
       "      <td>A2</td>\n",
       "      <td>0.667</td>\n",
       "      <td>0.660</td>\n",
       "      <td>0.653</td>\n",
       "      <td>0.648</td>\n",
       "      <td>0.647</td>\n",
       "      <td>0.648</td>\n",
       "    </tr>\n",
       "    <tr>\n",
       "      <th>3</th>\n",
       "      <td>2020-11-19_ethanol_PFH_A3</td>\n",
       "      <td>0.0003</td>\n",
       "      <td>0.000125</td>\n",
       "      <td>0.0002512820512820513</td>\n",
       "      <td>0.4602272727272727</td>\n",
       "      <td>0.5390964452214453</td>\n",
       "      <td>2</td>\n",
       "      <td>Corning 96 Well Plate 360 µL Flat</td>\n",
       "      <td>A3</td>\n",
       "      <td>0.429</td>\n",
       "      <td>0.415</td>\n",
       "      <td>0.405</td>\n",
       "      <td>0.396</td>\n",
       "      <td>0.390</td>\n",
       "      <td>0.387</td>\n",
       "    </tr>\n",
       "    <tr>\n",
       "      <th>4</th>\n",
       "      <td>2020-11-19_ethanol_PFH_A4</td>\n",
       "      <td>0.0003</td>\n",
       "      <td>0.000125</td>\n",
       "      <td>0.0002512820512820513</td>\n",
       "      <td>0.4818181818181818</td>\n",
       "      <td>0.5175055361305361</td>\n",
       "      <td>2</td>\n",
       "      <td>Corning 96 Well Plate 360 µL Flat</td>\n",
       "      <td>A4</td>\n",
       "      <td>0.621</td>\n",
       "      <td>0.605</td>\n",
       "      <td>0.597</td>\n",
       "      <td>0.589</td>\n",
       "      <td>0.585</td>\n",
       "      <td>0.579</td>\n",
       "    </tr>\n",
       "    <tr>\n",
       "      <th>...</th>\n",
       "      <td>...</td>\n",
       "      <td>...</td>\n",
       "      <td>...</td>\n",
       "      <td>...</td>\n",
       "      <td>...</td>\n",
       "      <td>...</td>\n",
       "      <td>...</td>\n",
       "      <td>...</td>\n",
       "      <td>...</td>\n",
       "      <td>...</td>\n",
       "      <td>...</td>\n",
       "      <td>...</td>\n",
       "      <td>...</td>\n",
       "      <td>...</td>\n",
       "      <td>...</td>\n",
       "    </tr>\n",
       "    <tr>\n",
       "      <th>200</th>\n",
       "      <td>2020-11-19_ethanol_PFH_A8</td>\n",
       "      <td>0.0003</td>\n",
       "      <td>0.000125</td>\n",
       "      <td>0.0020666666666666667</td>\n",
       "      <td>0.9136363636363637</td>\n",
       "      <td>0.08387196969696964</td>\n",
       "      <td>6</td>\n",
       "      <td>Corning 96 Well Plate 360 µL Flat</td>\n",
       "      <td>A8</td>\n",
       "      <td>-0.010</td>\n",
       "      <td>-0.010</td>\n",
       "      <td>-0.008</td>\n",
       "      <td>-0.008</td>\n",
       "      <td>-0.007</td>\n",
       "      <td>-0.006</td>\n",
       "    </tr>\n",
       "    <tr>\n",
       "      <th>201</th>\n",
       "      <td>2020-11-19_ethanol_PFH_A9</td>\n",
       "      <td>0.0003</td>\n",
       "      <td>0.000125</td>\n",
       "      <td>0.0020666666666666667</td>\n",
       "      <td>0.9352272727272728</td>\n",
       "      <td>0.062281060606060534</td>\n",
       "      <td>6</td>\n",
       "      <td>Corning 96 Well Plate 360 µL Flat</td>\n",
       "      <td>A9</td>\n",
       "      <td>-0.009</td>\n",
       "      <td>-0.008</td>\n",
       "      <td>-0.006</td>\n",
       "      <td>-0.006</td>\n",
       "      <td>-0.007</td>\n",
       "      <td>-0.006</td>\n",
       "    </tr>\n",
       "    <tr>\n",
       "      <th>202</th>\n",
       "      <td>2020-11-19_ethanol_PFH_A10</td>\n",
       "      <td>0.0003</td>\n",
       "      <td>0.000125</td>\n",
       "      <td>0.0020666666666666667</td>\n",
       "      <td>0.9568181818181819</td>\n",
       "      <td>0.04069015151515143</td>\n",
       "      <td>6</td>\n",
       "      <td>Corning 96 Well Plate 360 µL Flat</td>\n",
       "      <td>A10</td>\n",
       "      <td>-0.009</td>\n",
       "      <td>-0.008</td>\n",
       "      <td>-0.008</td>\n",
       "      <td>-0.008</td>\n",
       "      <td>-0.007</td>\n",
       "      <td>-0.006</td>\n",
       "    </tr>\n",
       "    <tr>\n",
       "      <th>203</th>\n",
       "      <td>2020-11-19_ethanol_PFH_A11</td>\n",
       "      <td>0.0003</td>\n",
       "      <td>0.000125</td>\n",
       "      <td>0.002217948717948718</td>\n",
       "      <td>0.9568181818181819</td>\n",
       "      <td>0.04053886946386942</td>\n",
       "      <td>6</td>\n",
       "      <td>Corning 96 Well Plate 360 µL Flat</td>\n",
       "      <td>A11</td>\n",
       "      <td>-0.010</td>\n",
       "      <td>-0.008</td>\n",
       "      <td>-0.006</td>\n",
       "      <td>-0.006</td>\n",
       "      <td>-0.006</td>\n",
       "      <td>-0.005</td>\n",
       "    </tr>\n",
       "    <tr>\n",
       "      <th>204</th>\n",
       "      <td>2020-11-19_ethanol_PFH_A12</td>\n",
       "      <td>0.0</td>\n",
       "      <td>0.0</td>\n",
       "      <td>0.0</td>\n",
       "      <td>0.0</td>\n",
       "      <td>1.0</td>\n",
       "      <td>6</td>\n",
       "      <td>Corning 96 Well Plate 360 µL Flat</td>\n",
       "      <td>A12</td>\n",
       "      <td>0.000</td>\n",
       "      <td>0.000</td>\n",
       "      <td>0.000</td>\n",
       "      <td>0.000</td>\n",
       "      <td>0.000</td>\n",
       "      <td>0.000</td>\n",
       "    </tr>\n",
       "  </tbody>\n",
       "</table>\n",
       "<p>205 rows × 15 columns</p>\n",
       "</div>"
      ],
      "text/plain": [
       "                            UID Component 1 wtf Component 2 wtf  \\\n",
       "0                           UID        dppc wtf    dspe-peg wtf   \n",
       "1     2020-11-19_ethanol_PFH_A1          0.0003        0.000125   \n",
       "2     2020-11-19_ethanol_PFH_A2          0.0003        0.000125   \n",
       "3     2020-11-19_ethanol_PFH_A3          0.0003        0.000125   \n",
       "4     2020-11-19_ethanol_PFH_A4          0.0003        0.000125   \n",
       "..                          ...             ...             ...   \n",
       "200   2020-11-19_ethanol_PFH_A8          0.0003        0.000125   \n",
       "201   2020-11-19_ethanol_PFH_A9          0.0003        0.000125   \n",
       "202  2020-11-19_ethanol_PFH_A10          0.0003        0.000125   \n",
       "203  2020-11-19_ethanol_PFH_A11          0.0003        0.000125   \n",
       "204  2020-11-19_ethanol_PFH_A12             0.0             0.0   \n",
       "\n",
       "           Component 3 wtf      Component 4 wtf       Component 5 wtf  Slot  \\\n",
       "0                  PFH wtf          ethanol wtf             water wtf  Slot   \n",
       "1    0.0002512820512820513  0.41704545454545455    0.5822782634032634     2   \n",
       "2    0.0002512820512820513  0.43863636363636366    0.5606873543123543     2   \n",
       "3    0.0002512820512820513   0.4602272727272727    0.5390964452214453     2   \n",
       "4    0.0002512820512820513   0.4818181818181818    0.5175055361305361     2   \n",
       "..                     ...                  ...                   ...   ...   \n",
       "200  0.0020666666666666667   0.9136363636363637   0.08387196969696964     6   \n",
       "201  0.0020666666666666667   0.9352272727272728  0.062281060606060534     6   \n",
       "202  0.0020666666666666667   0.9568181818181819   0.04069015151515143     6   \n",
       "203   0.002217948717948718   0.9568181818181819   0.04053886946386942     6   \n",
       "204                    0.0                  0.0                   1.0     6   \n",
       "\n",
       "                               Labware  Well  400.0nm  450.0nm  500.0nm  \\\n",
       "0                              Labware  Well  400.000  450.000  500.000   \n",
       "1    Corning 96 Well Plate 360 µL Flat    A1    0.026    0.017    0.010   \n",
       "2    Corning 96 Well Plate 360 µL Flat    A2    0.667    0.660    0.653   \n",
       "3    Corning 96 Well Plate 360 µL Flat    A3    0.429    0.415    0.405   \n",
       "4    Corning 96 Well Plate 360 µL Flat    A4    0.621    0.605    0.597   \n",
       "..                                 ...   ...      ...      ...      ...   \n",
       "200  Corning 96 Well Plate 360 µL Flat    A8   -0.010   -0.010   -0.008   \n",
       "201  Corning 96 Well Plate 360 µL Flat    A9   -0.009   -0.008   -0.006   \n",
       "202  Corning 96 Well Plate 360 µL Flat   A10   -0.009   -0.008   -0.008   \n",
       "203  Corning 96 Well Plate 360 µL Flat   A11   -0.010   -0.008   -0.006   \n",
       "204  Corning 96 Well Plate 360 µL Flat   A12    0.000    0.000    0.000   \n",
       "\n",
       "     550.0nm  600.0nm  650.0nm  \n",
       "0    550.000  600.000  650.000  \n",
       "1      0.006    0.003    0.002  \n",
       "2      0.648    0.647    0.648  \n",
       "3      0.396    0.390    0.387  \n",
       "4      0.589    0.585    0.579  \n",
       "..       ...      ...      ...  \n",
       "200   -0.008   -0.007   -0.006  \n",
       "201   -0.006   -0.007   -0.006  \n",
       "202   -0.008   -0.007   -0.006  \n",
       "203   -0.006   -0.006   -0.005  \n",
       "204    0.000    0.000    0.000  \n",
       "\n",
       "[205 rows x 15 columns]"
      ]
     },
     "execution_count": 35,
     "metadata": {},
     "output_type": "execute_result"
    }
   ],
   "source": [
    "# baseline and combine\n",
    "baseline_series = merged_df.iloc[-1]\n",
    "merged_baselined_df = baseline_correction(merged_df, baseline_series)\n",
    "combined_df = add_abs_to_sample_info(sample_info, merged_baselined_df)\n",
    "combined_df"
   ]
  },
  {
   "cell_type": "code",
   "execution_count": 36,
   "metadata": {},
   "outputs": [],
   "source": [
    "# extract data by dict method of df calling series\n",
    "wavelength = '400.0nm'\n",
    "x = [float(i) for i in combined_df['Component 4 wtf'][1:].tolist()][:-1]\n",
    "y = [float(i) for i in combined_df['Component 3 wtf'][1:].tolist()][:-1] # removes name of component from list\n",
    "z = [float(i) for i in combined_df[wavelength][1:].tolist()][:-1]\n",
    "combined_restricted_xyz = [x,y,z]\n",
    "# combined_restricted_xyz_modi = remove_visual_outliers(x,y,z,3)\n"
   ]
  },
  {
   "cell_type": "code",
   "execution_count": 37,
   "metadata": {},
   "outputs": [
    {
     "data": {
      "text/plain": [
       "<matplotlib.collections.PathCollection at 0x1ce467dba58>"
      ]
     },
     "execution_count": 37,
     "metadata": {},
     "output_type": "execute_result"
    },
    {
     "data": {
      "image/png": "[encoded data removed]",
      "text/plain": [
       "<Figure size 432x288 with 1 Axes>"
      ]
     },
     "metadata": {
      "needs_background": "light"
     },
     "output_type": "display_data"
    }
   ],
   "source": [
    "plt.scatter(range(len(y)), y)"
   ]
  },
  {
   "cell_type": "code",
   "execution_count": 38,
   "metadata": {},
   "outputs": [],
   "source": [
    "min_x = min(combined_restricted_xyz[0])\n",
    "max_x = max(combined_restricted_xyz[0])\n",
    "min_y = min(combined_restricted_xyz[1])\n",
    "max_y = max(combined_restricted_xyz[1])\n"
   ]
  },
  {
   "cell_type": "code",
   "execution_count": 42,
   "metadata": {
    "scrolled": true
   },
   "outputs": [
    {
     "data": {
      "text/plain": [
       "Text(0, 0.5, 'PFH wtf')"
      ]
     },
     "execution_count": 42,
     "metadata": {},
     "output_type": "execute_result"
    },
    {
     "data": {
      "image/png": "[encoded data removed]",
      "text/plain": [
       "<Figure size 432x288 with 2 Axes>"
      ]
     },
     "metadata": {
      "needs_background": "light"
     },
     "output_type": "display_data"
    }
   ],
   "source": [
    "\n",
    "### First make the xx,yy coordinates that the interpolation will span\n",
    "x_space = np.linspace(min_x,max_x,100)  \n",
    "y_space = np.linspace(min_y,max_y,100)\n",
    "xx, yy = np.meshgrid(x_space,y_space) \n",
    "\n",
    "### Next make tuple the x,y data so it can be fed into interpolation method to make the interpolation mesh\n",
    "\n",
    "cartcoord = list(zip(combined_restricted_xyz[0],combined_restricted_xyz[1]))\n",
    "interp = interpolate.LinearNDInterpolator(cartcoord, combined_restricted_xyz[2])\n",
    "Z0 = interp(xx,yy)\n",
    "# Finally, create the plot. \n",
    "# Note: Mappable for the interpolation is independent of the scatter colormap (which is created automatically), they are the same when you do not restrict either.\n",
    "# Restriction is defined once you restrict the x/y space of the mesh to a space smaller than that of the scatter plot. \n",
    "\n",
    "fig, ax = plt.subplots()\n",
    "vmin = np.nanmin(Z0) # so this is will ensure all the interpolations will fit on the colorbar\n",
    "vmax = np.nanmax(Z0)\n",
    "\n",
    "norm=colors.Normalize(vmin=vmin, vmax=0.3) # but you can manually use your dat which is the most import to plot to find the range excl outliers\n",
    "\n",
    "mappable = ax.pcolormesh(xx, yy, Z0, norm=norm)\n",
    "# mappable.set_clim(vmin=vmin, vmax=vmax)\n",
    "# mappable.set_clim(vmin,vmax)\n",
    "\n",
    "\n",
    "ax.scatter(combined_restricted_xyz[0], combined_restricted_xyz[1], \n",
    "           c = combined_restricted_xyz[2], norm=norm, cmap = mpl.cm.viridis, edgecolors='k')\n",
    "\n",
    "cbar = plt.colorbar(mappable)\n",
    "\n",
    "cbar_txt = \"AU at wavelength \" + str(wavelength) + 'nm'\n",
    "cbar.set_label(cbar_txt, labelpad = 10)\n",
    "# ax.set_xlim([min_x-min_x/10, max_x+max_x/100]) # simple ratios for easy viewing\n",
    "# ax.set_ylim([min_y-min_y/10, max_y+max_y/100])\n",
    "ax.set_xlabel(\"Ethanol wtf\")\n",
    "ax.set_ylabel(\"PFH wtf\")\n",
    "# ax.text(0.4,0.002, \"vmin = \" + str(vmin) + '\\nvmax = '+ str(vmax))\n",
    "\n",
    "# ax.text(0.4,0.002,'*Negative AU values due to \\n instrument resolution of 0.001 AU')\n",
    "# ax.set_ylim([0,0.05])"
   ]
  },
  {
   "cell_type": "code",
   "execution_count": 133,
   "metadata": {},
   "outputs": [
    {
     "data": {
      "text/plain": [
       "0.7909999999999999"
      ]
     },
     "execution_count": 133,
     "metadata": {},
     "output_type": "execute_result"
    }
   ],
   "source": [
    "zmin = min(z)\n",
    "zmax = max(z)\n",
    "\n",
    "# so knowing this informaiton or even using the interpolation infomation you could look at the frequncy of certain values and if low enough could be deteremiend to push out in the the color bar extreme to imprve visuals\n",
    "# so if you have 100 samples between 0.1 and 0.2 and 4 samples between 0.6 and 0.65 it would be fine to have vmin/vmax = 0.1 to 0.2"
   ]
  },
  {
   "cell_type": "code",
   "execution_count": null,
   "metadata": {},
   "outputs": [],
   "source": [
    "# so can use clim, but the big issue is that vmin and vmax are nan"
   ]
  },
  {
   "cell_type": "code",
   "execution_count": 135,
   "metadata": {},
   "outputs": [
    {
     "data": {
      "text/plain": [
       "<matplotlib.axes._subplots.AxesSubplot at 0x27f31003940>"
      ]
     },
     "execution_count": 135,
     "metadata": {},
     "output_type": "execute_result"
    },
    {
     "data": {
      "image/png": "[encoded data removed]",
      "text/plain": [
       "<Figure size 432x288 with 1 Axes>"
      ]
     },
     "metadata": {
      "needs_background": "light"
     },
     "output_type": "display_data"
    }
   ],
   "source": [
    "import seaborn as sns\n",
    "sns.boxplot(x=z)"
   ]
  },
  {
   "cell_type": "code",
   "execution_count": null,
   "metadata": {},
   "outputs": [],
   "source": []
  },
  {
   "cell_type": "code",
   "execution_count": null,
   "metadata": {},
   "outputs": [],
   "source": []
  }
 ],
 "metadata": {
  "kernelspec": {
   "display_name": "Python 3",
   "language": "python",
   "name": "python3"
  },
  "language_info": {
   "codemirror_mode": {
    "name": "ipython",
    "version": 3
   },
   "file_extension": ".py",
   "mimetype": "text/x-python",
   "name": "python",
   "nbconvert_exporter": "python",
   "pygments_lexer": "ipython3",
   "version": "3.6.8"
  }
 },
 "nbformat": 4,
 "nbformat_minor": 4
}
