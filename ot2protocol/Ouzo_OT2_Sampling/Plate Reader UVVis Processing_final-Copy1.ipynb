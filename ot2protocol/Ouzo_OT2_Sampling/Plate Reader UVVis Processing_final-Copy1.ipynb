{
 "cells": [
  {
   "cell_type": "code",
   "execution_count": 53,
   "metadata": {},
   "outputs": [],
   "source": [
    "import Ouzo_Graph_Tools as ouzo_graphs\n",
    "import Ouzo_Sampling_Wtf_Lattice_Volume as create\n",
    "import pandas as pd\n",
    "import matplotlib.pyplot as plt\n",
    "import matplotlib as mpl\n",
    "import matplotlib.colors as colors\n",
    "import numpy as np\n",
    "from scipy import interpolate, stats"
   ]
  },
  {
   "cell_type": "code",
   "execution_count": 54,
   "metadata": {},
   "outputs": [],
   "source": [
    "def extract_plates(path, sheet_list):\n",
    "    \"\"\"Will return a sublist of plates absorbance information in dataframe format\n",
    "    Must ensure that excel sheet has only the samples made in the csv plan as will cause errors downstream.\"\"\"\n",
    "    plate_dfs = []\n",
    "    for sheet_name in sheet_list:\n",
    "        plate_df = pd.read_excel(path, sheet_name = sheet_name).T\n",
    "        plate_dfs.append(plate_df)\n",
    "    return plate_dfs"
   ]
  },
  {
   "cell_type": "code",
   "execution_count": 55,
   "metadata": {},
   "outputs": [],
   "source": [
    "def merge_wavelength_dfs(df_list):\n",
    "    merge_list = []\n",
    "    for i, df in enumerate(df_list):\n",
    "        if i == 0:\n",
    "            df = df\n",
    "        else: \n",
    "            df = df.drop(['Wavelength'])\n",
    "        merge_list.append(df)\n",
    "    return pd.concat(merge_list)"
   ]
  },
  {
   "cell_type": "code",
   "execution_count": 56,
   "metadata": {},
   "outputs": [],
   "source": [
    "def baseline_correction(df_samples, baseline_series): \n",
    "    \"\"\"Given the series iloc of a the blank, subtracts the value at every wavelength of blank at resp. wavelength. \n",
    "    Simple subtraction blanking.\"\"\"\n",
    "    new_df_con = []\n",
    "    for key, row in df_samples.iterrows():\n",
    "        if key == 'Wavelength':\n",
    "            wavelengths = row\n",
    "            new_df_con.append(wavelengths)\n",
    "        else: \n",
    "            series = row\n",
    "            corrected = series.subtract(baseline_series)\n",
    "            new_df_con.append(corrected)\n",
    "    \n",
    "    baseline_corrected_df = pd.concat(new_df_con, axis = 1).T\n",
    "    baseline_corrected_df.index = df_samples[0].index\n",
    "    return baseline_corrected_df"
   ]
  },
  {
   "cell_type": "code",
   "execution_count": 5,
   "metadata": {},
   "outputs": [],
   "source": [
    "def add_abs_to_sample_info(sample_info_df, abs_df):\n",
    "    \n",
    "    wavelengths = list(abs_df.loc['Wavelength'])\n",
    "    wavelengths_names = [str(wavelength)+'nm' for wavelength in wavelengths]\n",
    "    abs_df.columns = wavelengths_names\n",
    "    \n",
    "    \n",
    "    sample_info_df.reset_index(drop=True, inplace=True)\n",
    "    abs_df.reset_index(drop=True, inplace=True)\n",
    "    combined_df = pd.concat([sample_info, abs_df], axis = 1)\n",
    "    return combined_df"
   ]
  },
  {
   "cell_type": "code",
   "execution_count": null,
   "metadata": {},
   "outputs": [],
   "source": []
  },
  {
   "cell_type": "code",
   "execution_count": 6,
   "metadata": {},
   "outputs": [],
   "source": [
    "def remove_visual_outliers(x, y, z, z_score_threshold = 3):\n",
    "    \"\"\"This is not a to remove statistical outliers, only to remove values which present. Outliers will be \n",
    "    removed based on the data of z and subsequently from x and y given the same indexes of entries. Inputs must be nparrays\"\"\"\n",
    "\n",
    "    z_array = np.asarray(z)\n",
    "    z_scores = np.abs(stats.zscore(np.asarray(z)))\n",
    "    threshold = z_score_threshold\n",
    "    index_to_remove = np.where(z_scores > threshold)[0] # must be in ascending order\n",
    "    \n",
    "    x = x.copy()\n",
    "    y = y.copy()\n",
    "    z = z.copy()\n",
    "    \n",
    "    for index in reversed(index_to_remove): # reveresed to perserve index\n",
    "        del x[index]\n",
    "        del y[index]\n",
    "        del z[index]\n",
    "    \n",
    "    xyz_array = [x,y,z]\n",
    "    return xyz_array\n"
   ]
  },
  {
   "cell_type": "code",
   "execution_count": 7,
   "metadata": {},
   "outputs": [],
   "source": [
    "# what happens with overflow or undefined data???"
   ]
  },
  {
   "cell_type": "code",
   "execution_count": 48,
   "metadata": {
    "scrolled": true
   },
   "outputs": [
    {
     "data": {
      "text/plain": [
       "[                 0        1        2        3        4        5        6   \\\n",
       " Wavelength  400.000  405.000  410.000  415.000  420.000  425.000  430.000   \n",
       " A1            0.098    0.095    0.092    0.090    0.088    0.086    0.084   \n",
       " A2            0.791    0.782    0.774    0.771    0.767    0.769    0.769   \n",
       " A3            0.083    0.081    0.079    0.078    0.076    0.075    0.073   \n",
       " A4            0.098    0.095    0.093    0.090    0.088    0.087    0.085   \n",
       " A5            0.098    0.095    0.093    0.091    0.089    0.087    0.085   \n",
       " A6            0.105    0.102    0.099    0.097    0.095    0.093    0.091   \n",
       " A7            0.091    0.088    0.086    0.084    0.082    0.080    0.078   \n",
       " A8            0.098    0.094    0.092    0.089    0.087    0.085    0.084   \n",
       " B1            0.094    0.091    0.088    0.086    0.085    0.083    0.081   \n",
       " B2            0.091    0.088    0.086    0.084    0.082    0.081    0.079   \n",
       " B3            0.089    0.086    0.084    0.082    0.081    0.080    0.078   \n",
       " B4            0.084    0.082    0.080    0.079    0.077    0.075    0.073   \n",
       " B5            0.099    0.096    0.094    0.091    0.089    0.087    0.085   \n",
       " B6            0.082    0.080    0.078    0.076    0.074    0.073    0.071   \n",
       " B7            0.097    0.094    0.091    0.089    0.086    0.085    0.083   \n",
       " B8            0.097    0.093    0.091    0.089    0.087    0.085    0.083   \n",
       " C1            0.098    0.095    0.092    0.090    0.088    0.086    0.084   \n",
       " C2            0.096    0.094    0.091    0.089    0.087    0.085    0.083   \n",
       " C3            0.097    0.094    0.091    0.089    0.088    0.086    0.085   \n",
       " C4            0.093    0.090    0.088    0.086    0.084    0.083    0.082   \n",
       " C5            0.089    0.086    0.083    0.081    0.079    0.077    0.076   \n",
       " C6            0.089    0.086    0.084    0.082    0.080    0.079    0.078   \n",
       " C7            0.088    0.086    0.084    0.082    0.080    0.079    0.078   \n",
       " C8            0.085    0.083    0.081    0.078    0.076    0.075    0.073   \n",
       " D1            0.087    0.084    0.082    0.081    0.080    0.078    0.077   \n",
       " D2            0.084    0.081    0.079    0.077    0.075    0.073    0.072   \n",
       " D3            0.081    0.079    0.076    0.075    0.073    0.072    0.071   \n",
       " D4            0.094    0.091    0.088    0.086    0.084    0.082    0.081   \n",
       " D5            0.096    0.093    0.090    0.088    0.086    0.084    0.082   \n",
       " D6            0.094    0.091    0.089    0.086    0.084    0.082    0.080   \n",
       " D7            0.096    0.093    0.090    0.088    0.086    0.084    0.082   \n",
       " D8            0.094    0.091    0.089    0.087    0.085    0.083    0.081   \n",
       " E1            0.093    0.091    0.088    0.086    0.084    0.083    0.081   \n",
       " E2            0.093    0.091    0.088    0.086    0.085    0.083    0.081   \n",
       " E3            0.089    0.086    0.084    0.082    0.081    0.079    0.077   \n",
       " E4            0.089    0.086    0.084    0.082    0.080    0.078    0.077   \n",
       " E5            0.085    0.082    0.080    0.078    0.076    0.074    0.073   \n",
       " E6            0.083    0.080    0.078    0.076    0.074    0.073    0.071   \n",
       " E7            0.080    0.078    0.076    0.074    0.072    0.071    0.069   \n",
       " E8            0.079    0.077    0.075    0.073    0.071    0.070    0.068   \n",
       " F1            0.098    0.095    0.093    0.091    0.089    0.087    0.085   \n",
       " F2            0.098    0.095    0.092    0.089    0.087    0.086    0.084   \n",
       " F3            0.094    0.091    0.088    0.086    0.084    0.083    0.081   \n",
       " F4            0.094    0.091    0.088    0.086    0.084    0.082    0.080   \n",
       " F5            0.092    0.089    0.087    0.085    0.083    0.081    0.080   \n",
       " F6            0.091    0.088    0.086    0.084    0.082    0.080    0.079   \n",
       " F7            0.089    0.086    0.084    0.082    0.080    0.078    0.076   \n",
       " F8            0.050    0.049    0.048    0.047    0.046    0.045    0.044   \n",
       " \n",
       "                  7        8        9   ...       51       52       53  \\\n",
       " Wavelength  435.000  440.000  445.000  ...  655.000  660.000  665.000   \n",
       " A1            0.083    0.081    0.080  ...    0.059    0.059    0.058   \n",
       " A2            0.762    0.757    0.754  ...    0.707    0.706    0.708   \n",
       " A3            0.071    0.070    0.068  ...    0.049    0.049    0.048   \n",
       " A4            0.083    0.082    0.080  ...    0.051    0.051    0.050   \n",
       " A5            0.082    0.080    0.079  ...    0.050    0.050    0.050   \n",
       " A6            0.089    0.088    0.086  ...    0.057    0.057    0.057   \n",
       " A7            0.077    0.075    0.074  ...    0.049    0.049    0.049   \n",
       " A8            0.082    0.080    0.078  ...    0.052    0.051    0.051   \n",
       " B1            0.079    0.077    0.076  ...    0.051    0.051    0.051   \n",
       " B2            0.077    0.076    0.074  ...    0.051    0.051    0.051   \n",
       " B3            0.076    0.075    0.074  ...    0.051    0.050    0.050   \n",
       " B4            0.072    0.070    0.069  ...    0.048    0.048    0.048   \n",
       " B5            0.083    0.081    0.080  ...    0.051    0.051    0.051   \n",
       " B6            0.070    0.069    0.068  ...    0.049    0.049    0.049   \n",
       " B7            0.081    0.080    0.079  ...    0.052    0.052    0.051   \n",
       " B8            0.081    0.079    0.078  ...    0.052    0.052    0.051   \n",
       " C1            0.082    0.080    0.079  ...    0.054    0.054    0.054   \n",
       " C2            0.081    0.079    0.077  ...    0.054    0.053    0.053   \n",
       " C3            0.083    0.082    0.080  ...    0.052    0.051    0.051   \n",
       " C4            0.080    0.078    0.077  ...    0.051    0.051    0.051   \n",
       " C5            0.074    0.073    0.071  ...    0.048    0.048    0.048   \n",
       " C6            0.076    0.075    0.073  ...    0.049    0.049    0.048   \n",
       " C7            0.076    0.074    0.073  ...    0.049    0.049    0.049   \n",
       " C8            0.072    0.070    0.069  ...    0.049    0.049    0.049   \n",
       " D1            0.075    0.074    0.073  ...    0.049    0.049    0.048   \n",
       " D2            0.071    0.070    0.069  ...    0.050    0.050    0.050   \n",
       " D3            0.070    0.069    0.068  ...    0.048    0.048    0.048   \n",
       " D4            0.079    0.077    0.075  ...    0.048    0.048    0.048   \n",
       " D5            0.080    0.078    0.076  ...    0.049    0.049    0.049   \n",
       " D6            0.079    0.077    0.075  ...    0.050    0.049    0.049   \n",
       " D7            0.081    0.079    0.077  ...    0.051    0.051    0.050   \n",
       " D8            0.079    0.078    0.076  ...    0.050    0.050    0.049   \n",
       " E1            0.080    0.078    0.077  ...    0.050    0.050    0.049   \n",
       " E2            0.079    0.077    0.075  ...    0.053    0.052    0.052   \n",
       " E3            0.076    0.074    0.072  ...    0.052    0.051    0.051   \n",
       " E4            0.075    0.074    0.072  ...    0.050    0.050    0.050   \n",
       " E5            0.072    0.070    0.069  ...    0.048    0.048    0.047   \n",
       " E6            0.070    0.069    0.067  ...    0.048    0.047    0.047   \n",
       " E7            0.068    0.067    0.066  ...    0.047    0.047    0.047   \n",
       " E8            0.067    0.065    0.064  ...    0.047    0.046    0.046   \n",
       " F1            0.083    0.081    0.079  ...    0.051    0.051    0.051   \n",
       " F2            0.082    0.080    0.079  ...    0.050    0.050    0.050   \n",
       " F3            0.079    0.078    0.076  ...    0.054    0.053    0.053   \n",
       " F4            0.079    0.077    0.075  ...    0.050    0.050    0.050   \n",
       " F5            0.078    0.076    0.075  ...    0.052    0.051    0.051   \n",
       " F6            0.077    0.076    0.074  ...    0.050    0.050    0.050   \n",
       " F7            0.074    0.073    0.071  ...    0.049    0.048    0.048   \n",
       " F8            0.044    0.043    0.042  ...    0.038    0.038    0.037   \n",
       " \n",
       "                  54       55       56       57       58       59       60  \n",
       " Wavelength  670.000  675.000  680.000  685.000  690.000  695.000  700.000  \n",
       " A1            0.058    0.058    0.058    0.057    0.057    0.057    0.057  \n",
       " A2            0.706    0.705    0.705    0.707    0.705    0.704    0.707  \n",
       " A3            0.048    0.048    0.048    0.048    0.047    0.047    0.048  \n",
       " A4            0.050    0.050    0.049    0.049    0.049    0.049    0.049  \n",
       " A5            0.049    0.049    0.049    0.049    0.049    0.049    0.049  \n",
       " A6            0.056    0.056    0.056    0.056    0.056    0.055    0.055  \n",
       " A7            0.048    0.048    0.048    0.048    0.048    0.047    0.047  \n",
       " A8            0.051    0.050    0.050    0.050    0.050    0.050    0.050  \n",
       " B1            0.051    0.050    0.050    0.050    0.050    0.050    0.049  \n",
       " B2            0.050    0.050    0.050    0.050    0.050    0.049    0.049  \n",
       " B3            0.049    0.049    0.049    0.048    0.048    0.048    0.048  \n",
       " B4            0.048    0.048    0.047    0.048    0.048    0.048    0.048  \n",
       " B5            0.050    0.050    0.050    0.049    0.049    0.049    0.049  \n",
       " B6            0.048    0.048    0.048    0.048    0.047    0.047    0.047  \n",
       " B7            0.051    0.051    0.051    0.051    0.051    0.051    0.051  \n",
       " B8            0.051    0.051    0.051    0.050    0.050    0.050    0.050  \n",
       " C1            0.053    0.053    0.053    0.053    0.053    0.053    0.052  \n",
       " C2            0.052    0.052    0.052    0.052    0.051    0.051    0.051  \n",
       " C3            0.050    0.050    0.050    0.050    0.049    0.049    0.049  \n",
       " C4            0.050    0.050    0.050    0.050    0.050    0.050    0.050  \n",
       " C5            0.047    0.047    0.047    0.047    0.046    0.046    0.046  \n",
       " C6            0.048    0.048    0.048    0.047    0.047    0.047    0.047  \n",
       " C7            0.048    0.048    0.048    0.047    0.047    0.047    0.047  \n",
       " C8            0.049    0.049    0.048    0.048    0.048    0.048    0.048  \n",
       " D1            0.048    0.048    0.048    0.048    0.048    0.048    0.048  \n",
       " D2            0.050    0.050    0.050    0.050    0.050    0.050    0.050  \n",
       " D3            0.047    0.047    0.046    0.046    0.046    0.046    0.046  \n",
       " D4            0.047    0.047    0.047    0.047    0.046    0.046    0.046  \n",
       " D5            0.049    0.048    0.048    0.048    0.048    0.048    0.048  \n",
       " D6            0.049    0.049    0.048    0.048    0.048    0.048    0.048  \n",
       " D7            0.050    0.050    0.049    0.049    0.049    0.049    0.049  \n",
       " D8            0.049    0.049    0.049    0.048    0.048    0.048    0.048  \n",
       " E1            0.049    0.049    0.049    0.049    0.048    0.048    0.048  \n",
       " E2            0.051    0.051    0.051    0.051    0.050    0.050    0.050  \n",
       " E3            0.051    0.050    0.050    0.050    0.050    0.049    0.049  \n",
       " E4            0.049    0.049    0.049    0.049    0.048    0.048    0.048  \n",
       " E5            0.047    0.047    0.046    0.046    0.046    0.046    0.046  \n",
       " E6            0.047    0.047    0.046    0.046    0.046    0.046    0.046  \n",
       " E7            0.046    0.046    0.046    0.046    0.046    0.045    0.045  \n",
       " E8            0.046    0.046    0.045    0.045    0.045    0.045    0.045  \n",
       " F1            0.051    0.050    0.050    0.050    0.050    0.050    0.050  \n",
       " F2            0.049    0.049    0.049    0.049    0.048    0.048    0.048  \n",
       " F3            0.053    0.053    0.052    0.052    0.052    0.052    0.052  \n",
       " F4            0.049    0.049    0.049    0.049    0.048    0.048    0.048  \n",
       " F5            0.051    0.051    0.050    0.050    0.050    0.050    0.050  \n",
       " F6            0.049    0.049    0.049    0.049    0.048    0.048    0.048  \n",
       " F7            0.048    0.048    0.047    0.047    0.047    0.047    0.047  \n",
       " F8            0.037    0.037    0.037    0.037    0.037    0.037    0.037  \n",
       " \n",
       " [49 rows x 61 columns],\n",
       "                  0        1        2        3        4        5        6   \\\n",
       " Wavelength  400.000  405.000  410.000  415.000  420.000  425.000  430.000   \n",
       " A1            0.095    0.091    0.089    0.086    0.084    0.082    0.081   \n",
       " A2            0.096    0.093    0.091    0.089    0.087    0.085    0.083   \n",
       " A3            0.097    0.094    0.092    0.090    0.088    0.086    0.084   \n",
       " A4            0.092    0.089    0.087    0.085    0.083    0.082    0.080   \n",
       " A5            0.099    0.096    0.094    0.092    0.090    0.088    0.086   \n",
       " A6            0.096    0.093    0.091    0.088    0.086    0.085    0.083   \n",
       " A7            0.096    0.093    0.090    0.088    0.086    0.084    0.082   \n",
       " A8            0.091    0.088    0.086    0.083    0.081    0.079    0.077   \n",
       " B1            0.093    0.090    0.088    0.086    0.084    0.082    0.080   \n",
       " B2            0.088    0.086    0.083    0.082    0.080    0.078    0.076   \n",
       " B3            0.088    0.086    0.083    0.082    0.080    0.078    0.077   \n",
       " B4            0.087    0.085    0.083    0.081    0.079    0.077    0.075   \n",
       " B5            0.083    0.080    0.078    0.076    0.074    0.073    0.071   \n",
       " B6            0.081    0.079    0.077    0.075    0.074    0.072    0.071   \n",
       " B7            0.079    0.076    0.074    0.072    0.071    0.070    0.069   \n",
       " B8            0.097    0.094    0.091    0.089    0.087    0.085    0.084   \n",
       " C1            0.096    0.093    0.090    0.088    0.086    0.084    0.082   \n",
       " C2            0.093    0.090    0.088    0.086    0.084    0.082    0.080   \n",
       " C3            0.100    0.097    0.095    0.093    0.092    0.091    0.089   \n",
       " C4            0.090    0.088    0.085    0.083    0.082    0.081    0.079   \n",
       " C5            0.086    0.083    0.081    0.079    0.077    0.075    0.074   \n",
       " C6            0.086    0.084    0.081    0.080    0.078    0.076    0.075   \n",
       " C7            0.086    0.084    0.082    0.080    0.079    0.077    0.076   \n",
       " C8            0.083    0.081    0.078    0.076    0.075    0.073    0.071   \n",
       " D1            0.084    0.081    0.079    0.078    0.077    0.075    0.074   \n",
       " D2            0.079    0.077    0.074    0.073    0.071    0.070    0.069   \n",
       " D3            0.094    0.091    0.088    0.086    0.084    0.083    0.082   \n",
       " D4            0.093    0.090    0.088    0.086    0.084    0.082    0.081   \n",
       " D5            0.091    0.089    0.086    0.084    0.082    0.080    0.078   \n",
       " D6            0.090    0.087    0.085    0.083    0.081    0.079    0.077   \n",
       " D7            0.087    0.085    0.082    0.081    0.079    0.078    0.076   \n",
       " D8            0.086    0.083    0.081    0.079    0.077    0.075    0.073   \n",
       " E1            0.087    0.085    0.082    0.081    0.079    0.078    0.076   \n",
       " E2            0.087    0.085    0.082    0.081    0.079    0.077    0.075   \n",
       " E3            0.083    0.081    0.079    0.077    0.075    0.074    0.072   \n",
       " E4            0.080    0.077    0.075    0.073    0.072    0.071    0.069   \n",
       " E5            0.094    0.091    0.088    0.086    0.083    0.082    0.080   \n",
       " E6            0.092    0.089    0.087    0.085    0.082    0.081    0.079   \n",
       " E7            0.089    0.086    0.083    0.081    0.079    0.077    0.076   \n",
       " E8            0.088    0.085    0.083    0.080    0.078    0.077    0.075   \n",
       " F1            0.088    0.086    0.084    0.082    0.080    0.079    0.077   \n",
       " F2            0.084    0.082    0.080    0.078    0.076    0.075    0.074   \n",
       " F3            0.084    0.081    0.079    0.077    0.076    0.074    0.073   \n",
       " F4            0.082    0.079    0.077    0.075    0.073    0.072    0.070   \n",
       " F5            0.079    0.077    0.075    0.073    0.072    0.071    0.069   \n",
       " F6            0.094    0.091    0.088    0.086    0.084    0.082    0.081   \n",
       " F7            0.091    0.088    0.086    0.083    0.081    0.080    0.078   \n",
       " F8            0.050    0.049    0.047    0.046    0.045    0.044    0.043   \n",
       " \n",
       "                  7        8        9   ...       51       52       53  \\\n",
       " Wavelength  435.000  440.000  445.000  ...  655.000  660.000  665.000   \n",
       " A1            0.079    0.077    0.076  ...    0.052    0.052    0.052   \n",
       " A2            0.081    0.079    0.077  ...    0.051    0.051    0.050   \n",
       " A3            0.082    0.080    0.078  ...    0.051    0.050    0.050   \n",
       " A4            0.079    0.077    0.076  ...    0.050    0.050    0.049   \n",
       " A5            0.083    0.081    0.080  ...    0.051    0.050    0.050   \n",
       " A6            0.081    0.080    0.078  ...    0.051    0.051    0.051   \n",
       " A7            0.080    0.078    0.077  ...    0.050    0.050    0.049   \n",
       " A8            0.076    0.074    0.072  ...    0.049    0.048    0.048   \n",
       " B1            0.079    0.077    0.075  ...    0.051    0.050    0.050   \n",
       " B2            0.075    0.073    0.072  ...    0.051    0.051    0.051   \n",
       " B3            0.075    0.074    0.072  ...    0.050    0.050    0.049   \n",
       " B4            0.073    0.072    0.070  ...    0.049    0.049    0.049   \n",
       " B5            0.070    0.068    0.067  ...    0.047    0.047    0.047   \n",
       " B6            0.069    0.068    0.067  ...    0.049    0.049    0.048   \n",
       " B7            0.068    0.067    0.066  ...    0.048    0.048    0.048   \n",
       " B8            0.082    0.080    0.079  ...    0.053    0.052    0.052   \n",
       " C1            0.080    0.078    0.077  ...    0.054    0.054    0.053   \n",
       " C2            0.078    0.076    0.075  ...    0.053    0.052    0.052   \n",
       " C3            0.088    0.086    0.085  ...    0.059    0.058    0.058   \n",
       " C4            0.077    0.076    0.075  ...    0.051    0.050    0.050   \n",
       " C5            0.072    0.071    0.070  ...    0.048    0.048    0.047   \n",
       " C6            0.073    0.072    0.071  ...    0.048    0.048    0.048   \n",
       " C7            0.074    0.073    0.071  ...    0.049    0.048    0.048   \n",
       " C8            0.070    0.069    0.068  ...    0.049    0.049    0.049   \n",
       " D1            0.072    0.071    0.070  ...    0.048    0.048    0.047   \n",
       " D2            0.068    0.067    0.066  ...    0.049    0.049    0.049   \n",
       " D3            0.080    0.079    0.077  ...    0.051    0.050    0.049   \n",
       " D4            0.079    0.077    0.076  ...    0.050    0.049    0.049   \n",
       " D5            0.077    0.075    0.074  ...    0.049    0.049    0.049   \n",
       " D6            0.076    0.074    0.073  ...    0.049    0.049    0.049   \n",
       " D7            0.074    0.073    0.072  ...    0.049    0.048    0.048   \n",
       " D8            0.072    0.071    0.070  ...    0.048    0.048    0.047   \n",
       " E1            0.075    0.074    0.073  ...    0.049    0.048    0.048   \n",
       " E2            0.074    0.072    0.070  ...    0.051    0.051    0.051   \n",
       " E3            0.071    0.069    0.068  ...    0.051    0.050    0.050   \n",
       " E4            0.068    0.067    0.066  ...    0.048    0.048    0.048   \n",
       " E5            0.078    0.076    0.075  ...    0.050    0.050    0.049   \n",
       " E6            0.077    0.076    0.074  ...    0.050    0.050    0.049   \n",
       " E7            0.074    0.073    0.071  ...    0.049    0.049    0.049   \n",
       " E8            0.073    0.072    0.071  ...    0.049    0.049    0.049   \n",
       " F1            0.075    0.074    0.072  ...    0.050    0.050    0.050   \n",
       " F2            0.072    0.071    0.070  ...    0.048    0.048    0.047   \n",
       " F3            0.072    0.070    0.069  ...    0.051    0.051    0.051   \n",
       " F4            0.069    0.068    0.067  ...    0.047    0.047    0.047   \n",
       " F5            0.068    0.067    0.066  ...    0.049    0.048    0.048   \n",
       " F6            0.079    0.078    0.076  ...    0.051    0.051    0.051   \n",
       " F7            0.076    0.075    0.073  ...    0.049    0.049    0.049   \n",
       " F8            0.043    0.042    0.042  ...    0.038    0.038    0.038   \n",
       " \n",
       "                  54       55       56       57       58       59       60  \n",
       " Wavelength  670.000  675.000  680.000  685.000  690.000  695.000  700.000  \n",
       " A1            0.051    0.051    0.051    0.051    0.051    0.050    0.050  \n",
       " A2            0.050    0.050    0.049    0.049    0.049    0.049    0.049  \n",
       " A3            0.050    0.049    0.049    0.049    0.049    0.049    0.049  \n",
       " A4            0.049    0.049    0.048    0.048    0.048    0.048    0.048  \n",
       " A5            0.050    0.049    0.049    0.049    0.049    0.049    0.049  \n",
       " A6            0.051    0.051    0.050    0.050    0.050    0.050    0.050  \n",
       " A7            0.049    0.049    0.048    0.048    0.048    0.048    0.048  \n",
       " A8            0.048    0.048    0.047    0.047    0.047    0.047    0.047  \n",
       " B1            0.050    0.050    0.049    0.049    0.049    0.049    0.049  \n",
       " B2            0.051    0.051    0.051    0.050    0.050    0.050    0.050  \n",
       " B3            0.049    0.048    0.048    0.048    0.048    0.047    0.047  \n",
       " B4            0.048    0.048    0.048    0.048    0.048    0.048    0.048  \n",
       " B5            0.046    0.046    0.046    0.046    0.046    0.045    0.045  \n",
       " B6            0.048    0.048    0.047    0.047    0.047    0.046    0.046  \n",
       " B7            0.048    0.048    0.048    0.048    0.048    0.048    0.048  \n",
       " B8            0.052    0.051    0.051    0.051    0.051    0.051    0.051  \n",
       " C1            0.053    0.053    0.053    0.052    0.052    0.052    0.052  \n",
       " C2            0.052    0.051    0.051    0.051    0.051    0.050    0.050  \n",
       " C3            0.057    0.057    0.057    0.056    0.056    0.056    0.056  \n",
       " C4            0.050    0.050    0.050    0.050    0.050    0.049    0.049  \n",
       " C5            0.047    0.047    0.047    0.046    0.046    0.046    0.046  \n",
       " C6            0.047    0.047    0.046    0.046    0.046    0.046    0.046  \n",
       " C7            0.048    0.048    0.047    0.047    0.047    0.047    0.047  \n",
       " C8            0.049    0.048    0.048    0.048    0.048    0.048    0.048  \n",
       " D1            0.047    0.047    0.047    0.047    0.047    0.047    0.047  \n",
       " D2            0.049    0.049    0.049    0.049    0.049    0.049    0.049  \n",
       " D3            0.049    0.049    0.048    0.048    0.048    0.047    0.047  \n",
       " D4            0.049    0.048    0.048    0.048    0.048    0.048    0.048  \n",
       " D5            0.049    0.048    0.048    0.048    0.048    0.047    0.047  \n",
       " D6            0.048    0.048    0.048    0.048    0.048    0.048    0.047  \n",
       " D7            0.048    0.047    0.047    0.047    0.046    0.046    0.046  \n",
       " D8            0.047    0.047    0.046    0.046    0.046    0.046    0.046  \n",
       " E1            0.048    0.047    0.047    0.047    0.047    0.047    0.047  \n",
       " E2            0.050    0.050    0.050    0.049    0.049    0.049    0.049  \n",
       " E3            0.050    0.049    0.049    0.049    0.049    0.049    0.048  \n",
       " E4            0.047    0.047    0.047    0.047    0.046    0.046    0.046  \n",
       " E5            0.049    0.049    0.048    0.048    0.048    0.048    0.048  \n",
       " E6            0.049    0.049    0.049    0.048    0.048    0.048    0.048  \n",
       " E7            0.048    0.048    0.048    0.047    0.047    0.047    0.047  \n",
       " E8            0.048    0.048    0.048    0.048    0.047    0.047    0.047  \n",
       " F1            0.050    0.049    0.049    0.049    0.049    0.049    0.049  \n",
       " F2            0.047    0.047    0.046    0.046    0.046    0.046    0.046  \n",
       " F3            0.051    0.050    0.050    0.050    0.050    0.050    0.050  \n",
       " F4            0.046    0.046    0.046    0.046    0.046    0.046    0.046  \n",
       " F5            0.048    0.048    0.048    0.047    0.047    0.047    0.047  \n",
       " F6            0.051    0.050    0.050    0.050    0.050    0.050    0.049  \n",
       " F7            0.048    0.048    0.048    0.048    0.047    0.047    0.047  \n",
       " F8            0.038    0.038    0.038    0.038    0.038    0.038    0.038  \n",
       " \n",
       " [49 rows x 61 columns]]"
      ]
     },
     "execution_count": 48,
     "metadata": {},
     "output_type": "execute_result"
    }
   ],
   "source": [
    "# Load all things needed in this case\n",
    "sample_info = pd.read_csv(r\"C:\\Users\\Edwin\\Desktop\\11_11_20\\experiment_info\") # make it find the blank position from sample_info\n",
    "plate_names = ['Sheet1','Sheet2']\n",
    "plate_dfs = extract_plates(r\"C:\\Users\\Edwin\\Desktop\\11_11_20\\11_11_2020_Plate1.xlsx\", plate_names) # can edit/remove wells accidently measured etc, but really should be done at excel level\n",
    "merged_df = merge_wavelength_dfs(plate_dfs)\n",
    "plate_dfs"
   ]
  },
  {
   "cell_type": "code",
   "execution_count": 9,
   "metadata": {
    "scrolled": false
   },
   "outputs": [],
   "source": [
    "# baseline and combine\n",
    "baseline_series = merged_df.iloc[-1]\n",
    "merged_baselined_df = baseline_correction(merged_df, baseline_series)\n",
    "combined_df = add_abs_to_sample_info(sample_info, merged_baselined_df)"
   ]
  },
  {
   "cell_type": "code",
   "execution_count": 28,
   "metadata": {},
   "outputs": [],
   "source": [
    "# extract data by dict method of df calling series\n",
    "wavelength = '400.0nm'\n",
    "x_name = combined_df['Component 4 wtf'][0]\n",
    "y_name = combined_df['Component 3 wtf'][0]\n",
    "x = [float(i) for i in combined_df['Component 4 wtf'][1:].tolist()][:-1]\n",
    "y = [float(i) for i in combined_df['Component 3 wtf'][1:].tolist()][:-1] # removes name of component from list\n",
    "z = [float(i) for i in combined_df[wavelength][1:].tolist()][:-1]\n",
    "combined_restricted_xyz = [x,y,z]\n",
    "modi = remove_visual_outliers(x,y,z,2) # this should only be used to find the new vmin and vmax but not to exclude"
   ]
  },
  {
   "cell_type": "code",
   "execution_count": 29,
   "metadata": {},
   "outputs": [
    {
     "name": "stdout",
     "output_type": "stream",
     "text": [
      "94\n"
     ]
    }
   ],
   "source": [
    "print(len(modi[2]))"
   ]
  },
  {
   "cell_type": "code",
   "execution_count": 30,
   "metadata": {},
   "outputs": [
    {
     "data": {
      "text/plain": [
       "<matplotlib.collections.PathCollection at 0x15a60a6bc88>"
      ]
     },
     "execution_count": 30,
     "metadata": {},
     "output_type": "execute_result"
    },
    {
     "data": {
      "image/png": "[encoded data removed]",
      "text/plain": [
       "<Figure size 432x288 with 1 Axes>"
      ]
     },
     "metadata": {
      "needs_background": "light"
     },
     "output_type": "display_data"
    }
   ],
   "source": [
    "plt.scatter(range(len(modi[2])), modi[2])"
   ]
  },
  {
   "cell_type": "code",
   "execution_count": 31,
   "metadata": {},
   "outputs": [],
   "source": [
    "min_x = min(combined_restricted_xyz[0])\n",
    "max_x = max(combined_restricted_xyz[0])\n",
    "min_y = min(combined_restricted_xyz[1])\n",
    "max_y = max(combined_restricted_xyz[1])\n",
    "min_z = min(modi[2])\n",
    "max_z = max(modi[2])\n",
    "# print(max_z)"
   ]
  },
  {
   "cell_type": "code",
   "execution_count": 52,
   "metadata": {
    "scrolled": true
   },
   "outputs": [
    {
     "data": {
      "text/plain": [
       "Text(0, 0.5, 'PFH wtf')"
      ]
     },
     "execution_count": 52,
     "metadata": {},
     "output_type": "execute_result"
    },
    {
     "data": {
      "image/png": "[encoded data removed]",
      "text/plain": [
       "<Figure size 432x288 with 2 Axes>"
      ]
     },
     "metadata": {
      "needs_background": "light"
     },
     "output_type": "display_data"
    }
   ],
   "source": [
    "\n",
    "### First make the xx,yy coordinates that the interpolation will span\n",
    "x_space = np.linspace(min_x,max_x,100)  \n",
    "y_space = np.linspace(min_y,max_y,100)\n",
    "xx, yy = np.meshgrid(x_space,y_space) \n",
    "\n",
    "### Next make tuple the x,y data so it can be fed into interpolation method to make the interpolation mesh\n",
    "\n",
    "cartcoord = list(zip(combined_restricted_xyz[0],combined_restricted_xyz[1]))\n",
    "interp = interpolate.LinearNDInterpolator(cartcoord, combined_restricted_xyz[2])\n",
    "Z0 = interp(xx,yy)\n",
    "\n",
    "\n",
    "cartcoord_v = list(zip(modi[0],modi[1]))\n",
    "interp_v= interpolate.LinearNDInterpolator(cartcoord_v, modi[2])\n",
    "Z0_v = interp(xx,yy) # does not work as still interpolates far out and makes a v_max that is the same as z0??\n",
    "\n",
    "\n",
    "# Finally, create the plot. \n",
    "# Note: Mappable for the interpolation is independent of the scatter colormap (which is created automatically), they are the same when you do not restrict either.\n",
    "# Restriction is defined once you restrict the x/y space of the mesh to a space smaller than that of the scatter plot. \n",
    "\n",
    "fig, ax = plt.subplots()\n",
    "vmin = np.nanmin(Z0_v) # so this is will ensure all the interpolations will fit on the colorbar\n",
    "vmax = np.nanmax(Z0_v)\n",
    "\n",
    "# norm=colors.Normalize(vmin=min_z, vmax=max_z) # but you can manually use your dat which is the most import to plot to find the range excl outliers\n",
    "norm=colors.Normalize(vmin=min_z, vmax=max_z)\n",
    "\n",
    "mappable = ax.pcolormesh(xx, yy, Z0, norm=norm)\n",
    "# mappable.set_clim(vmin=vmin, vmax=vmax)\n",
    "# mappable.set_clim(vmin,vmax)\n",
    "\n",
    "\n",
    "ax.scatter(combined_restricted_xyz[0], combined_restricted_xyz[1], \n",
    "           c = combined_restricted_xyz[2], norm=norm, cmap = mpl.cm.viridis, edgecolors='k')\n",
    "\n",
    "cbar = plt.colorbar(mappable)\n",
    "\n",
    "cbar_txt = \"AU at wavelength \" + str(wavelength) + 'nm'\n",
    "cbar.set_label(cbar_txt, labelpad = 10)\n",
    "# ax.set_xlim(xmin =0, xmax = 0.0006) # simple ratios for easy viewing\n",
    "ax.set_ylim([0.0005, 0.003])\n",
    "ax.set_xlim([0.38,0.610])\n",
    "# ax.set_yticks(np.arange(-0.0001, 0.00035, 0.0001))\n",
    "# ax.set_yticks(np.arange(0, 0.0007, 0.00005))\n",
    "# ax.set_xticks(np.arange(0, 0.00035, 0.001))\n",
    "# axacx.yticks(np.arange(min, max, step))\n",
    "ax.set_xlabel(x_name)\n",
    "ax.set_ylabel(y_name)\n",
    "# ax.set_xlim([-0.0001,0.0006])\n",
    "# ax.text(0.4,0.002, \"vmin = \" + str(vmin) + '\\nvmax = '+ str(vmax))\n",
    "\n",
    "# ax.text(0.4,0.002,'*Negative AU values due to \\n instrument resolution of 0.001 AU')\n",
    "# ax.set_ylim([0,0.05])"
   ]
  },
  {
   "cell_type": "code",
   "execution_count": 197,
   "metadata": {},
   "outputs": [
    {
     "ename": "NameError",
     "evalue": "name 'remove_index' is not defined",
     "output_type": "error",
     "traceback": [
      "\u001b[1;31m---------------------------------------------------------------------------\u001b[0m",
      "\u001b[1;31mNameError\u001b[0m                                 Traceback (most recent call last)",
      "\u001b[1;32m<ipython-input-197-3813b3fed55e>\u001b[0m in \u001b[0;36m<module>\u001b[1;34m\u001b[0m\n\u001b[1;32m----> 1\u001b[1;33m \u001b[0mremove_index\u001b[0m\u001b[1;33m[\u001b[0m\u001b[1;36m0\u001b[0m\u001b[1;33m]\u001b[0m\u001b[1;33m\u001b[0m\u001b[1;33m\u001b[0m\u001b[0m\n\u001b[0m",
      "\u001b[1;31mNameError\u001b[0m: name 'remove_index' is not defined"
     ]
    }
   ],
   "source": [
    "remove_index[0]"
   ]
  },
  {
   "cell_type": "code",
   "execution_count": null,
   "metadata": {},
   "outputs": [],
   "source": [
    "zmin = min(z)\n",
    "zmax = max(z)\n",
    "\n",
    "# so knowing this informaiton or even using the interpolation infomation you could look at the frequncy of certain values and if low enough could be deteremiend to push out in the the color bar extreme to imprve visuals\n",
    "# so if you have 100 samples between 0.1 and 0.2 and 4 samples between 0.6 and 0.65 it would be fine to have vmin/vmax = 0.1 to 0.2"
   ]
  },
  {
   "cell_type": "code",
   "execution_count": null,
   "metadata": {},
   "outputs": [],
   "source": [
    "# so can use clim, but the big issue is that vmin and vmax are nan"
   ]
  },
  {
   "cell_type": "code",
   "execution_count": null,
   "metadata": {},
   "outputs": [],
   "source": [
    "import seaborn as sns\n",
    "sns.boxplot(x=z)"
   ]
  },
  {
   "cell_type": "code",
   "execution_count": null,
   "metadata": {},
   "outputs": [],
   "source": []
  },
  {
   "cell_type": "code",
   "execution_count": null,
   "metadata": {},
   "outputs": [],
   "source": []
  }
 ],
 "metadata": {
  "kernelspec": {
   "display_name": "Python 3",
   "language": "python",
   "name": "python3"
  },
  "language_info": {
   "codemirror_mode": {
    "name": "ipython",
    "version": 3
   },
   "file_extension": ".py",
   "mimetype": "text/x-python",
   "name": "python",
   "nbconvert_exporter": "python",
   "pygments_lexer": "ipython3",
   "version": "3.6.8"
  }
 },
 "nbformat": 4,
 "nbformat_minor": 4
}
