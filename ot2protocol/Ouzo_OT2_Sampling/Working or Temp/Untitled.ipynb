{
 "cells": [
  {
   "cell_type": "code",
   "execution_count": 4,
   "metadata": {
    "scrolled": true
   },
   "outputs": [
    {
     "data": {
      "image/png": "[encoded data removed]",
      "text/plain": [
       "<Figure size 432x288 with 2 Axes>"
      ]
     },
     "metadata": {
      "needs_background": "light"
     },
     "output_type": "display_data"
    }
   ],
   "source": [
    "import numpy as np\n",
    "import matplotlib.mlab as mlab\n",
    "import matplotlib.pyplot as plt\n",
    "import scipy.interpolate as interp\n",
    "\n",
    "# Bounds and number of the randomly generated data points\n",
    "ndata = 20\n",
    "xmin, xmax = -8, 8\n",
    "ymin, ymax = 380, 2428\n",
    "\n",
    "# Generate random data\n",
    "x = np.random.randint(xmin, xmax, ndata)\n",
    "y = np.random.randint(ymin, ymax, ndata)\n",
    "z = np.random.random(ndata)\n",
    "\n",
    "# Plot the random data points\n",
    "plt.scatter(x,y,c=z)\n",
    "plt.axis([xmin, xmax, ymin, ymax])\n",
    "plt.colorbar()\n",
    "plt.show()"
   ]
  },
  {
   "cell_type": "code",
   "execution_count": 5,
   "metadata": {
    "scrolled": true
   },
   "outputs": [
    {
     "name": "stderr",
     "output_type": "stream",
     "text": [
      "c:\\users\\edwin\\appdata\\local\\programs\\python\\python36\\lib\\site-packages\\scipy\\interpolate\\ndgriddata.py:200: FutureWarning: elementwise comparison failed; returning scalar instead, but in the future will perform elementwise comparison\n",
      "  if ndim == 1 and method in ('nearest', 'linear', 'cubic'):\n",
      "c:\\users\\edwin\\appdata\\local\\programs\\python\\python36\\lib\\site-packages\\scipy\\interpolate\\ndgriddata.py:216: FutureWarning: elementwise comparison failed; returning scalar instead, but in the future will perform elementwise comparison\n",
      "  elif method == 'nearest':\n",
      "c:\\users\\edwin\\appdata\\local\\programs\\python\\python36\\lib\\site-packages\\scipy\\interpolate\\ndgriddata.py:219: FutureWarning: elementwise comparison failed; returning scalar instead, but in the future will perform elementwise comparison\n",
      "  elif method == 'linear':\n",
      "c:\\users\\edwin\\appdata\\local\\programs\\python\\python36\\lib\\site-packages\\scipy\\interpolate\\ndgriddata.py:223: FutureWarning: elementwise comparison failed; returning scalar instead, but in the future will perform elementwise comparison\n",
      "  elif method == 'cubic' and ndim == 2:\n"
     ]
    },
    {
     "ename": "ValueError",
     "evalue": "Unknown interpolation method array([[-8.        , -7.85964912, -7.71929825, ...,  7.71929825,\n         7.85964912,  8.        ],\n       [-8.        , -7.85964912, -7.71929825, ...,  7.71929825,\n         7.85964912,  8.        ],\n       [-8.        , -7.85964912, -7.71929825, ...,  7.71929825,\n         7.85964912,  8.        ],\n       ...,\n       [-8.        , -7.85964912, -7.71929825, ...,  7.71929825,\n         7.85964912,  8.        ],\n       [-8.        , -7.85964912, -7.71929825, ...,  7.71929825,\n         7.85964912,  8.        ],\n       [-8.        , -7.85964912, -7.71929825, ...,  7.71929825,\n         7.85964912,  8.        ]]) for 1 dimensional data",
     "output_type": "error",
     "traceback": [
      "\u001b[1;31m---------------------------------------------------------------------------\u001b[0m",
      "\u001b[1;31mValueError\u001b[0m                                Traceback (most recent call last)",
      "\u001b[1;32m<ipython-input-5-9943e56f7b2a>\u001b[0m in \u001b[0;36m<module>\u001b[1;34m\u001b[0m\n\u001b[0;32m      8\u001b[0m \u001b[1;33m\u001b[0m\u001b[0m\n\u001b[0;32m      9\u001b[0m \u001b[1;31m# Interpolate using delaunay triangularization\u001b[0m\u001b[1;33m\u001b[0m\u001b[1;33m\u001b[0m\u001b[1;33m\u001b[0m\u001b[0m\n\u001b[1;32m---> 10\u001b[1;33m \u001b[0mzi\u001b[0m \u001b[1;33m=\u001b[0m \u001b[0minterp\u001b[0m\u001b[1;33m.\u001b[0m\u001b[0mgriddata\u001b[0m\u001b[1;33m(\u001b[0m\u001b[0mx\u001b[0m\u001b[1;33m,\u001b[0m\u001b[0my\u001b[0m\u001b[1;33m,\u001b[0m\u001b[0mz\u001b[0m\u001b[1;33m,\u001b[0m\u001b[0mxi\u001b[0m\u001b[1;33m,\u001b[0m\u001b[0myi\u001b[0m\u001b[1;33m)\u001b[0m\u001b[1;33m\u001b[0m\u001b[1;33m\u001b[0m\u001b[0m\n\u001b[0m\u001b[0;32m     11\u001b[0m \u001b[1;33m\u001b[0m\u001b[0m\n\u001b[0;32m     12\u001b[0m \u001b[1;31m# Plot the results\u001b[0m\u001b[1;33m\u001b[0m\u001b[1;33m\u001b[0m\u001b[1;33m\u001b[0m\u001b[0m\n",
      "\u001b[1;32mc:\\users\\edwin\\appdata\\local\\programs\\python\\python36\\lib\\site-packages\\scipy\\interpolate\\ndgriddata.py\u001b[0m in \u001b[0;36mgriddata\u001b[1;34m(points, values, xi, method, fill_value, rescale)\u001b[0m\n\u001b[0;32m    227\u001b[0m     \u001b[1;32melse\u001b[0m\u001b[1;33m:\u001b[0m\u001b[1;33m\u001b[0m\u001b[1;33m\u001b[0m\u001b[0m\n\u001b[0;32m    228\u001b[0m         raise ValueError(\"Unknown interpolation method %r for \"\n\u001b[1;32m--> 229\u001b[1;33m                          \"%d dimensional data\" % (method, ndim))\n\u001b[0m",
      "\u001b[1;31mValueError\u001b[0m: Unknown interpolation method array([[-8.        , -7.85964912, -7.71929825, ...,  7.71929825,\n         7.85964912,  8.        ],\n       [-8.        , -7.85964912, -7.71929825, ...,  7.71929825,\n         7.85964912,  8.        ],\n       [-8.        , -7.85964912, -7.71929825, ...,  7.71929825,\n         7.85964912,  8.        ],\n       ...,\n       [-8.        , -7.85964912, -7.71929825, ...,  7.71929825,\n         7.85964912,  8.        ],\n       [-8.        , -7.85964912, -7.71929825, ...,  7.71929825,\n         7.85964912,  8.        ],\n       [-8.        , -7.85964912, -7.71929825, ...,  7.71929825,\n         7.85964912,  8.        ]]) for 1 dimensional data"
     ]
    }
   ],
   "source": [
    "# Size of regular grid\n",
    "ny, nx = 512, 115\n",
    "\n",
    "# Generate a regular grid to interpolate the data.\n",
    "xi = np.linspace(xmin, xmax, nx)\n",
    "yi = np.linspace(ymin, ymax, ny)\n",
    "xi, yi = np.meshgrid(xi, yi)\n",
    "\n",
    "# Interpolate using delaunay triangularization \n",
    "zi = interp.griddata(x,y,z,xi,yi)\n",
    "\n",
    "# Plot the results\n",
    "plt.figure()\n",
    "plt.pcolormesh(xi,yi,zi)\n",
    "plt.scatter(x,y,c=z)\n",
    "plt.colorbar()\n",
    "plt.axis([xmin, xmax, ymin, ymax])\n",
    "plt.show()"
   ]
  },
  {
   "cell_type": "code",
   "execution_count": 3,
   "metadata": {},
   "outputs": [
    {
     "ename": "AttributeError",
     "evalue": "module 'matplotlib.mlab' has no attribute 'griddata'",
     "output_type": "error",
     "traceback": [
      "\u001b[1;31m---------------------------------------------------------------------------\u001b[0m",
      "\u001b[1;31mAttributeError\u001b[0m                            Traceback (most recent call last)",
      "\u001b[1;32m<ipython-input-3-b4f66c455a75>\u001b[0m in \u001b[0;36m<module>\u001b[1;34m\u001b[0m\n\u001b[0;32m     13\u001b[0m \u001b[1;33m\u001b[0m\u001b[0m\n\u001b[0;32m     14\u001b[0m \u001b[1;31m# Interpolate using delaunay triangularization\u001b[0m\u001b[1;33m\u001b[0m\u001b[1;33m\u001b[0m\u001b[1;33m\u001b[0m\u001b[0m\n\u001b[1;32m---> 15\u001b[1;33m \u001b[0mzi\u001b[0m \u001b[1;33m=\u001b[0m \u001b[0mmlab\u001b[0m\u001b[1;33m.\u001b[0m\u001b[0mgriddata\u001b[0m\u001b[1;33m(\u001b[0m\u001b[0mx_new\u001b[0m\u001b[1;33m,\u001b[0m \u001b[0my_new\u001b[0m\u001b[1;33m,\u001b[0m \u001b[0mz\u001b[0m\u001b[1;33m,\u001b[0m \u001b[0mxi_new\u001b[0m\u001b[1;33m,\u001b[0m \u001b[0myi_new\u001b[0m\u001b[1;33m)\u001b[0m\u001b[1;33m\u001b[0m\u001b[1;33m\u001b[0m\u001b[0m\n\u001b[0m\u001b[0;32m     16\u001b[0m \u001b[1;33m\u001b[0m\u001b[0m\n\u001b[0;32m     17\u001b[0m \u001b[1;31m# Plot the results\u001b[0m\u001b[1;33m\u001b[0m\u001b[1;33m\u001b[0m\u001b[1;33m\u001b[0m\u001b[0m\n",
      "\u001b[1;31mAttributeError\u001b[0m: module 'matplotlib.mlab' has no attribute 'griddata'"
     ]
    }
   ],
   "source": [
    "# (Continued from examples above...)\n",
    "# Normalize coordinate system\n",
    "def normalize_x(data):\n",
    "    data = data.astype(np.float)\n",
    "    return (data - xmin) / (xmax - xmin)\n",
    "\n",
    "def normalize_y(data):\n",
    "    data = data.astype(np.float)\n",
    "    return (data - ymin) / (ymax - ymin)\n",
    "\n",
    "x_new, xi_new = normalize_x(x), normalize_x(xi)\n",
    "y_new, yi_new = normalize_y(y), normalize_y(yi)\n",
    "\n",
    "# Interpolate using delaunay triangularization \n",
    "zi = mlab.griddata(x_new, y_new, z, xi_new, yi_new)\n",
    "\n",
    "# Plot the results\n",
    "plt.figure()\n",
    "plt.pcolormesh(xi,yi,zi)\n",
    "plt.scatter(x,y,c=z)\n",
    "plt.colorbar()\n",
    "plt.axis([xmin, xmax, ymin, ymax])\n",
    "plt.show()"
   ]
  }
 ],
 "metadata": {
  "kernelspec": {
   "display_name": "Python 3",
   "language": "python",
   "name": "python3"
  },
  "language_info": {
   "codemirror_mode": {
    "name": "ipython",
    "version": 3
   },
   "file_extension": ".py",
   "mimetype": "text/x-python",
   "name": "python",
   "nbconvert_exporter": "python",
   "pygments_lexer": "ipython3",
   "version": "3.6.8"
  }
 },
 "nbformat": 4,
 "nbformat_minor": 4
}
