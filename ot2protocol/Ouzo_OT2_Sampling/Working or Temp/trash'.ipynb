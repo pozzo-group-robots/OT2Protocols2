{
 "cells": [
  {
   "cell_type": "code",
   "execution_count": null,
   "metadata": {},
   "outputs": [],
   "source": [
    "volumes = np.asarray(df['water-stock uL'])\n",
    "\n",
    "limit = 5000\n",
    "\n",
    "def ranges(array, limit):\n",
    "    volume_limited = array.cumsum() % limit\n",
    "    checks = [i<=j for i, j in zip(volume_limited, volume_limited[1:])]\n",
    "    if True in (all(checks), all(v == 0 for v in volume_limited)):\n",
    "        return [[0,len(volume_limited)]]\n",
    "    \n",
    "    # from here is frustration, very confusing but currently works\n",
    "    stops = [0]\n",
    "    for i, tf in enumerate(checks): \n",
    "        if tf == False:\n",
    "            stops.append(i+1)\n",
    "\n",
    "    if stops[-1] == len(volume_limited): # essentially if a stop at the end \n",
    "        pass\n",
    "    else: \n",
    "        stops.append(stops[-1])\n",
    "        stops.append(len(volume_limited)) # adding final index \n",
    "\n",
    "    n = 2\n",
    "    ranges = [stops[i:i+n] for i in range(0, len(stops), n)]\n",
    "    return ranges\n",
    "\n",
    "x = ranges(volumes, limit)\n",
    "x"
   ]
  },
  {
   "cell_type": "code",
   "execution_count": null,
   "metadata": {},
   "outputs": [],
   "source": [
    "final_ranges = []\n",
    "for col in df: \n",
    "    if 'stock' in col:\n",
    "        stock_volumes = np.array(df[col])\n",
    "        stock_ranges = ranges(stock_volumes, limit)\n",
    "        final_ranges.append((stock_ranges))\n",
    "        \n",
    "final_ranges_filled = []\n",
    "N = 5 \n",
    "for stock_range in final_ranges:\n",
    "    stock_range += [None] * (N - len(stock_range))\n",
    "    final_ranges_filled.append(stock_range)\n",
    "final_ranges_filled = final_ranges_filled\n",
    "\n",
    "\n",
    "stock_column_names = [column_name for column_name in df.columns if \"stock\" in column_name]\n",
    "df2 = pd.DataFrame(final_ranges_filled).T\n",
    "df2.columns = stock_column_names\n",
    "# columns should be stock names\n",
    "# indexes should be the well names, or jsut left along, now iterate through and check \n",
    "# can add the ordering here\n",
    "\n",
    "# for stock_name, pipette_ranges in zip(stock_column_names, final_ranges_filled):\n",
    "#     print(stock_name, pipette_ranges)\n",
    "\n",
    "for well_ranges in df2:\n",
    "    print(df2[well_ranges])\n",
    "    for range_ in df2[well_ranges]:\n",
    "        if range_ is not None:\n",
    "            print(range_[0],range_[1])\n",
    " "
   ]
  }
 ],
 "metadata": {
  "kernelspec": {
   "display_name": "Python 3",
   "language": "python",
   "name": "python3"
  },
  "language_info": {
   "codemirror_mode": {
    "name": "ipython",
    "version": 3
   },
   "file_extension": ".py",
   "mimetype": "text/x-python",
   "name": "python",
   "nbconvert_exporter": "python",
   "pygments_lexer": "ipython3",
   "version": "3.6.8"
  }
 },
 "nbformat": 4,
 "nbformat_minor": 4
}
