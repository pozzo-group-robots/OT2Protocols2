{
 "cells": [
  {
   "cell_type": "code",
   "execution_count": 11,
   "metadata": {
    "scrolled": false
   },
   "outputs": [],
   "source": [
    "from opentrons import simulate, execute, protocol_api\n",
    "import pandas as pd\n",
    "import numpy as np\n",
    "import json\n",
    "import os\n",
    "import glob"
   ]
  },
  {
   "cell_type": "code",
   "execution_count": 12,
   "metadata": {
    "scrolled": false
   },
   "outputs": [],
   "source": [
    "# protocol_api.labware.get_all_labware_definitions()"
   ]
  },
  {
   "cell_type": "code",
   "execution_count": 3,
   "metadata": {},
   "outputs": [],
   "source": [
    "def custom_labware_dict(labware_dir_path):\n",
    "    \"\"\"Given the path of a folder of custom labware .json files will create dict\n",
    "    of key = name and value = labware definition to be loaded using protocol.load_labware_from_definition \n",
    "    versus typical protocol.load_labware\"\"\"\n",
    "    os.chdir(labware_dir_path)\n",
    "    labware_dict = {}\n",
    "    for file in glob.glob(\"*.json\"):\n",
    "        with open(file) as labware_file:\n",
    "            labware_name = os.path.splitext(file)[0] # removes the .json extnesion\n",
    "            labware_def = json.load(labware_file)\n",
    "            labware_dict[labware_name] = labware_def\n",
    "    return labware_dict "
   ]
  },
  {
   "cell_type": "code",
   "execution_count": 4,
   "metadata": {},
   "outputs": [],
   "source": [
    "def run(protocol, labware_dict):\n",
    "    protocol.home()\n",
    "\n",
    "    metadata = {\n",
    "    'protocolName': 'My Protocol',\n",
    "    'author': 'Name <email@address.com>',\n",
    "    'description': 'Simple protocol to get started using OT2',\n",
    "    'apiLevel': '2.5'\n",
    "    }\n",
    "\n",
    "    labware_name = '20mlscintillation_12_wellplate_18000ul'\n",
    "    \n",
    "    plate = protocol.load_labware_from_definition(labware_dict[labware_name], 1)\n",
    "    print(plate)\n",
    "    # plate = protocol.load_labware('corning_96_wellplate_360ul_flat', '11')\n",
    "    tiprack = protocol.load_labware('opentrons_96_tiprack_300ul', '10')\n",
    "\n",
    "    hold = [j for i in plate.rows() for j in i]\n",
    "    left_pipette = protocol.load_instrument('p300_single', 'left', tip_racks=[tiprack])\n",
    "\n",
    "    left_pipette.pick_up_tip()\n",
    "    left_pipette.aspirate(100, hold[0])\n",
    "    left_pipette.dispense(100, hold[1])\n",
    "    left_pipette.drop_tip()\n",
    "\n",
    "\n",
    "\n",
    "    for line in protocol.commands():\n",
    "        print(line)"
   ]
  },
  {
   "cell_type": "code",
   "execution_count": 10,
   "metadata": {},
   "outputs": [],
   "source": [
    "def custom_or_native_labware(protocol, labware_name, labware_slot, custom_labware_dict):\n",
    "    if labware_name in custom_labware_dict:\n",
    "        loaded_labware = protocol.load_labware_from_definition(custom_labware_dict[labware_name], labware_slot)\n",
    "    else: \n",
    "        loaded_labware = protocol.load_labware(labware_name, labware_slot)     \n",
    "    return loaded_labware"
   ]
  },
  {
   "cell_type": "code",
   "execution_count": 9,
   "metadata": {},
   "outputs": [
    {
     "name": "stderr",
     "output_type": "stream",
     "text": [
      "C:\\Users\\Edwin\\.opentrons\\deck_calibration.json not found. Loading defaults\n",
      "C:\\Users\\Edwin\\.opentrons\\robot_settings.json not found. Loading defaults\n"
     ]
    },
    {
     "data": {
      "text/plain": [
       "opentrons.protocol_api.labware.Labware"
      ]
     },
     "execution_count": 9,
     "metadata": {},
     "output_type": "execute_result"
    }
   ],
   "source": [
    "labware_dir_path = r\"C:\\Users\\Edwin\\Desktop\\OT2Protocols\\ot2protocol\\Ouzo_OT2_Sampling\\Custom Labware\"\n",
    "labware_dict = custom_labware_dict(labware_dir_path)\n",
    "protocol = simulate.get_protocol_api('2.0')\n",
    "test_name_custom = '20mlscintillation_12_wellplate_18000ul'\n",
    "test_name_native = \"corning_96_wellplate_360ul_flat\"\n",
    "test_slot_custom = \"1\"\n",
    "test_slot_native = \"2\"\n",
    "custom = custom_or_native_labware(protocol, test_name_custom, test_slot_custom, labware_dict)\n",
    "native = custom_or_native_labware(protocol, test_name_native, test_slot_native, labware_dict)"
   ]
  },
  {
   "cell_type": "code",
   "execution_count": 6,
   "metadata": {},
   "outputs": [],
   "source": []
  }
 ],
 "metadata": {
  "kernelspec": {
   "display_name": "Python 3",
   "language": "python",
   "name": "python3"
  },
  "language_info": {
   "codemirror_mode": {
    "name": "ipython",
    "version": 3
   },
   "file_extension": ".py",
   "mimetype": "text/x-python",
   "name": "python",
   "nbconvert_exporter": "python",
   "pygments_lexer": "ipython3",
   "version": "3.6.8"
  }
 },
 "nbformat": 4,
 "nbformat_minor": 4
}
