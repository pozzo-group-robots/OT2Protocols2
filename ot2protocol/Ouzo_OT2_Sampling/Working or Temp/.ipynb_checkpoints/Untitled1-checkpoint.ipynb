{
 "cells": [
  {
   "cell_type": "code",
   "execution_count": null,
   "metadata": {},
   "outputs": [],
   "source": [
    "def run(protocol: protocol_api.ProtocolContext):\n",
    "    # labware\n",
    "    plate = protocol.load_labware('corning_96_wellplate_360ul_flat', '2')\n",
    "    tiprack = protocol.load_labware('opentrons_96_tiprack_300ul', '1')\n",
    "    # pipettes\n",
    "    left_pipette = protocol.load_instrument(\n",
    "    'p300_single', 'left', tip_racks=[tiprack])\n",
    "    # commands\n",
    "    left_pipette.pick_up_tip()\n",
    "    left_pipette.aspirate(100, plate['A1'])\n",
    "    left_pipette.dispense(100, plate['B2'])\n",
    "    left_pipette.drop_tip()"
   ]
  }
 ],
 "metadata": {
  "kernelspec": {
   "display_name": "Python 3",
   "language": "python",
   "name": "python3"
  },
  "language_info": {
   "codemirror_mode": {
    "name": "ipython",
    "version": 3
   },
   "file_extension": ".py",
   "mimetype": "text/x-python",
   "name": "python",
   "nbconvert_exporter": "python",
   "pygments_lexer": "ipython3",
   "version": "3.6.8"
  }
 },
 "nbformat": 4,
 "nbformat_minor": 4
}
