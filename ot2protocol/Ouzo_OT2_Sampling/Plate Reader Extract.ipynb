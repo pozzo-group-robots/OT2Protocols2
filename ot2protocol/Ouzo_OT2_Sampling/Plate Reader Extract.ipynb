{
 "cells": [
  {
   "cell_type": "code",
   "execution_count": 1,
   "metadata": {},
   "outputs": [],
   "source": [
    "import numpy as np\n",
    "import pandas as pd\n",
    "import matplotlib.pyplot as plt"
   ]
  },
  {
   "cell_type": "code",
   "execution_count": 2,
   "metadata": {},
   "outputs": [],
   "source": [
    "def plot_wavelengths(dataframe, wavelength_range = None): # dataframe to be well = row, have to give wavelength actually\n",
    "    wavelengths = np.asarray(dataframe.iloc[0])\n",
    "    \n",
    "    if len(wavelength_range) == 2:\n",
    "        lower_index = np.where(wavelengths == wavelength_range[0])[0][0]\n",
    "        upper_index = np.where(wavelengths == wavelength_range[1])[0][0]\n",
    "        dataframe = dataframe \n",
    "\n",
    "        fig, ax = plt.subplots()\n",
    "        for key, row in dataframe.iterrows():\n",
    "            if key == 'Wavelength':\n",
    "                x = row[lower_index:upper_index]\n",
    "            else: \n",
    "                y = row[lower_index:upper_index]\n",
    "                ax.plot(x,y)\n",
    "        \n",
    "    elif len(wavelength_range) == 1:\n",
    "        wavelength = wavelength_range[0]\n",
    "        index = np.where(wavelengths == wavelength)[0][0]\n",
    "        wells = []\n",
    "        absorbances = []\n",
    "        for i, (key, row) in enumerate(dataframe.iterrows()):\n",
    "            if key == 'Wavelength':\n",
    "                pass\n",
    "            else:\n",
    "                well = key\n",
    "                wells.append(well)\n",
    "                absorbance = row[index]\n",
    "                absorbances.append(absorbance)\n",
    "\n",
    "        absorbances_nm_max = [a/max(absorbances) for a in absorbances]\n",
    "\n",
    "        plt.scatter(range(len(wells)), absorbances, s = 20, alpha = 0.5, marker = 'o', color = 'r') # in order for sample creation and analysis \n",
    "        plt.xlabel('Well Index')\n",
    "        plt.ylabel('Absorbance')\n",
    "    \n",
    "    else:\n",
    "        fig, ax = plt.subplots()\n",
    "        for key, row in dataframe.iterrows():\n",
    "            if key == 'Wavelength':\n",
    "                x = row\n",
    "            else: \n",
    "                y = row\n",
    "                ax.plot(x,y)"
   ]
  },
  {
   "cell_type": "code",
   "execution_count": 3,
   "metadata": {},
   "outputs": [],
   "source": [
    "# splitting up into dfs so can rearrange in column order\n",
    "def r_to_c_order(df):    \n",
    "    key = df.iloc[0]\n",
    "    A = df.iloc[1:9]\n",
    "    B = df.iloc[9:17]\n",
    "    C = df.iloc[17:25]\n",
    "    D = df.iloc[25:33]\n",
    "    E = df.iloc[33:41]\n",
    "    F = df.iloc[41:49]\n",
    "\n",
    "    concat = [key]\n",
    "    for i in range(8):\n",
    "    #     print(A.iloc[i])\n",
    "        concat.append(A.iloc[i])\n",
    "        concat.append(B.iloc[i])\n",
    "        concat.append(C.iloc[i])\n",
    "        concat.append(D.iloc[i])\n",
    "        concat.append(E.iloc[i])\n",
    "        concat.append(F.iloc[i])\n",
    "    \n",
    "\n",
    "    final_df = pd.concat(concat, axis =1) # ok so now can begin to match the sample dataframe with this data frame\\\n",
    "    return final_df.T"
   ]
  },
  {
   "cell_type": "code",
   "execution_count": 4,
   "metadata": {},
   "outputs": [],
   "source": [
    "def baseline_correction(df_samples, baseline_series):\n",
    "# here is where you will specify up to what wells are samples and which is a blank, \n",
    "# ideally build into sample creation code an automatic blank so not nec. \n",
    "    new_df_con = []\n",
    "    for key, row in df_samples.iterrows():\n",
    "        if key == 'Wavelength':\n",
    "            wavelengths = row\n",
    "            new_df_con.append(wavelengths)\n",
    "        else: \n",
    "            series = row \n",
    "            corrected = series.subtract(baseline_series)\n",
    "            new_df_con.append(corrected)\n",
    "    \n",
    "    baseline_corrected_df = pd.concat(new_df_con, axis = 1)\n",
    "    return baseline_corrected_df.T"
   ]
  },
  {
   "cell_type": "code",
   "execution_count": 6,
   "metadata": {},
   "outputs": [],
   "source": [
    "df1 =  pd.read_excel(r\"C:\\Users\\Edwin\\Desktop\\OT2Protocols\\ot2protocol\\Ouzo_OT2_Sampling\\Run_09_24_20\\09_24_2020_Scan1_Trial1.xlsx\", sheet_name = 'Sheet1' ).T\n",
    "# df2 =  pd.read_excel(r\"C:\\Users\\Edwin\\Desktop\\Repos\\OT2Protocols\\ot2protocol\\Ouzo_OT2_Sampling\\Run 0917\\09_17_20_E_P_Scan_2.xlsx\", sheet_name = 'Sheet1' ).T"
   ]
  },
  {
   "cell_type": "code",
   "execution_count": 10,
   "metadata": {},
   "outputs": [
    {
     "data": {
      "image/png": "[encoded data removed]",
      "text/plain": [
       "<Figure size 432x288 with 1 Axes>"
      ]
     },
     "metadata": {
      "needs_background": "light"
     },
     "output_type": "display_data"
    }
   ],
   "source": [
    "plot_wavelengths(df1[0:42],[300])"
   ]
  },
  {
   "cell_type": "code",
   "execution_count": null,
   "metadata": {},
   "outputs": [],
   "source": [
    "plot_wavelengths(df1[0:42],[300,400])"
   ]
  }
 ],
 "metadata": {
  "kernelspec": {
   "display_name": "Python 3",
   "language": "python",
   "name": "python3"
  },
  "language_info": {
   "codemirror_mode": {
    "name": "ipython",
    "version": 3
   },
   "file_extension": ".py",
   "mimetype": "text/x-python",
   "name": "python",
   "nbconvert_exporter": "python",
   "pygments_lexer": "ipython3",
   "version": "3.6.8"
  }
 },
 "nbformat": 4,
 "nbformat_minor": 4
}
