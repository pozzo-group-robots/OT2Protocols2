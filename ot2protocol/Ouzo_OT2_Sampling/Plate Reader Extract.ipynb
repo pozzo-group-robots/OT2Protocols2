{
 "cells": [
  {
   "cell_type": "code",
   "execution_count": 1,
   "metadata": {},
   "outputs": [],
   "source": [
    "import numpy as np\n",
    "import pandas as pd\n",
    "import matplotlib.pyplot as plt"
   ]
  },
  {
   "cell_type": "code",
   "execution_count": 2,
   "metadata": {},
   "outputs": [],
   "source": [
    "def plot_wavelengths(dataframe, wavelength_range = [], labels = [], Title = []): # dataframe to be well = row, have to give wavelength actually\n",
    "    wavelengths = np.asarray(dataframe.iloc[0])\n",
    "    \n",
    "    if len(wavelength_range) == 2:\n",
    "        lower_index = np.where(wavelengths == wavelength_range[0])[0][0] # add logic if only one upper or lower limit provided auto finds missing limit\n",
    "        upper_index = np.where(wavelengths == wavelength_range[1])[0][0]\n",
    "        dataframe = dataframe \n",
    "\n",
    "        fig, ax = plt.subplots()\n",
    "        for i, (key, row) in enumerate(dataframe.iterrows()):\n",
    "            if key == 'Wavelength':\n",
    "                x = row[lower_index:upper_index]\n",
    "            else: \n",
    "                y = row[lower_index:upper_index]\n",
    "                ax.plot(x,y,label = labels[i])\n",
    "        ax.legend()\n",
    "        \n",
    "    elif len(wavelength_range) == 1:\n",
    "        wavelength = wavelength_range[0]\n",
    "        index = np.where(wavelengths == wavelength)[0][0]\n",
    "        wells = []\n",
    "        absorbances = []\n",
    "        for i, (key, row) in enumerate(dataframe.iterrows()):\n",
    "            if key == 'Wavelength':\n",
    "                pass\n",
    "            else:\n",
    "                well = key\n",
    "                wells.append(well)\n",
    "                absorbance = row[index]\n",
    "                absorbances.append(absorbance)\n",
    "\n",
    "        absorbances_nm_max = [a/max(absorbances) for a in absorbances]\n",
    "\n",
    "        plt.scatter(range(len(wells)), absorbances, s = 20, alpha = 0.5, marker = 'o', color = 'r') # in order for sample creation and analysis \n",
    "        plt.xlabel('Well Index')\n",
    "        plt.ylabel('Absorbance')\n",
    "    \n",
    "    else:\n",
    "        fig, ax = plt.subplots()\n",
    "        for i, (key, row) in enumerate(dataframe.iterrows()):\n",
    "            if key == 'Wavelength':\n",
    "                x = row\n",
    "            else: \n",
    "                y = row\n",
    "                ax.plot(x,y,label = labels[i])\n",
    "#         ax.annotate('hello', xy=(1.05, 0.85), xycoords='axes fraction')   \n",
    "        ax.legend()\n",
    "#     text.append('Remaining component = ' + component_names[completing_component_index])\n",
    "#     text_newline = '\\n'.join(text) \n",
    "    plt.xlabel('Wavelength nm')\n",
    "    plt.ylabel('Absorbance')"
   ]
  },
  {
   "cell_type": "code",
   "execution_count": 3,
   "metadata": {},
   "outputs": [],
   "source": [
    "def plot_single_wavelength(dataframe, wavelength):\n",
    "    for i, (key, row) in enumerate(dataframe.iterrows()):\n",
    "        if key == 'Wavelength':\n",
    "            wavelengths = row\n",
    "    \n",
    "    index = np.where(wavelengths == wavelength)[0][0]\n",
    "    wells = []\n",
    "    absorbances = []\n",
    "    for i, (key, row) in enumerate(dataframe.iterrows()):\n",
    "        if key == 'Wavelength':\n",
    "            pass\n",
    "        else:\n",
    "            well = key\n",
    "            wells.append(well)\n",
    "            absorbance = row[index]\n",
    "            absorbances.append(absorbance)\n",
    "\n",
    "    plt.scatter(range(len(wells)), absorbances, s = 20, alpha = 0.5, marker = 'o', color = 'r') # in order for sample creation and analysis \n",
    "    plt.xlabel('Well Index')\n",
    "    plt.ylabel('Absorbance')"
   ]
  },
  {
   "cell_type": "code",
   "execution_count": null,
   "metadata": {},
   "outputs": [],
   "source": [
    "def plot_wavelengths_zoom(dataframe, labels, x_lim = [], y_lim = []):\n",
    "    \"\"\"Given a dataframe with the wavelegnth information as one row will plot and will zoom based on provided axis\"\"\"\n",
    "    fig, ax = plt.subplots()\n",
    "    for i, (key, row) in enumerate(dataframe.iterrows()):\n",
    "        if key == 'Wavelength':\n",
    "            x = row\n",
    "        else: \n",
    "            y = row\n",
    "            ax.plot(x,y,label = labels[i])\n",
    "    ax.legend()\n",
    "    \n",
    "    plt.xlabel('Wavelength nm')\n",
    "    if len(x_lim) == 2:\n",
    "        plt.xlim(x_lim)\n",
    "    \n",
    "    plt.ylabel('Absorbance')\n",
    "    if len(y_lim) == 2:\n",
    "        plt.ylim(y_lim)"
   ]
  },
  {
   "cell_type": "code",
   "execution_count": null,
   "metadata": {},
   "outputs": [],
   "source": [
    "# splitting up into dfs so can rearrange in column order\n",
    "def r_to_c_order(df):    \n",
    "    key = df.iloc[0]\n",
    "    A = df.iloc[1:9]\n",
    "    B = df.iloc[9:17]\n",
    "    C = df.iloc[17:25]\n",
    "    D = df.iloc[25:33]\n",
    "    E = df.iloc[33:41]\n",
    "    F = df.iloc[41:49]\n",
    "\n",
    "    concat = [key]\n",
    "    for i in range(8):\n",
    "    #     print(A.iloc[i])\n",
    "        concat.append(A.iloc[i])\n",
    "        concat.append(B.iloc[i])\n",
    "        concat.append(C.iloc[i])\n",
    "        concat.append(D.iloc[i])\n",
    "        concat.append(E.iloc[i])\n",
    "        concat.append(F.iloc[i])\n",
    "    \n",
    "\n",
    "    final_df = pd.concat(concat, axis =1) # ok so now can begin to match the sample dataframe with this data frame\\\n",
    "    return final_df.T"
   ]
  },
  {
   "cell_type": "code",
   "execution_count": null,
   "metadata": {},
   "outputs": [],
   "source": [
    "def baseline_correction(df_samples, baseline_series): \n",
    "    \"\"\"Given the series iloc of a the blank, subtracts the value at every wavelength of blank at resp. wavelength. \n",
    "    Simple subtraction blanking.\"\"\"\n",
    "    new_df_con = []\n",
    "    for key, row in df_samples.iterrows():\n",
    "        if key == 'Wavelength':\n",
    "            wavelengths = row\n",
    "            new_df_con.append(wavelengths)\n",
    "        else: \n",
    "            series = row\n",
    "#             series = (pd.to_numeric(series , errors='coerce').fillna(0)) # just know that the series is an instance so will not update df\n",
    "            corrected = series.subtract(baseline_series)\n",
    "            new_df_con.append(corrected)\n",
    "    \n",
    "    baseline_corrected_df = pd.concat(new_df_con, axis = 1).T\n",
    "    baseline_corrected_df.index = df_samples[0].index\n",
    "    return baseline_corrected_df"
   ]
  },
  {
   "cell_type": "code",
   "execution_count": null,
   "metadata": {},
   "outputs": [],
   "source": [
    "def remove_non_int(df):\n",
    "    new_df_con = []\n",
    "    for key, row in df.iterrows():\n",
    "        series = row\n",
    "        series = (pd.to_numeric(series , errors='coerce').fillna(0)) # just know that the series is an instance so will not update df\n",
    "        new_df_con.append(series)\n",
    "    df_removed_non_int = pd.concat(new_df_con, axis = 1)\n",
    "    return df_removed_non_int.T"
   ]
  },
  {
   "cell_type": "code",
   "execution_count": null,
   "metadata": {},
   "outputs": [],
   "source": [
    "def piece_together(first_slice, second_slice):\n",
    "    \"\"\"Useful to create a dataframe as the graphing functions require the wavelength information to be frist series in a df\"\"\"\n",
    "    new_df = pd.concat([first_slice, second_slice])\n",
    "    return new_df\n",
    "\n",
    "def slice_df(df, n):\n",
    "    new_df_con = [] \n",
    "    for i, (key, row) in enumerate(df.iterrows()):\n",
    "        series = row\n",
    "        if i % n == 0:\n",
    "            new_df_con.append(series)\n",
    "    new_df = pd.concat(new_df_con, axis = 1)\n",
    "    return new_df.T\n",
    "\n",
    "def slice_remove_df(df, n):\n",
    "    new_df_con = [] \n",
    "    for i, (key, row) in enumerate(df.iterrows()):\n",
    "        series = row\n",
    "        if i % n == 0:\n",
    "            pass\n",
    "        else:\n",
    "            new_df_con.append(series)\n",
    "    new_df = pd.concat(new_df_con, axis = 1)\n",
    "    return new_df.T"
   ]
  },
  {
   "cell_type": "code",
   "execution_count": null,
   "metadata": {},
   "outputs": [],
   "source": [
    "# Inputs for functions should be specified, are there a dataframe or a series or a group of series "
   ]
  },
  {
   "cell_type": "code",
   "execution_count": null,
   "metadata": {
    "scrolled": true
   },
   "outputs": [],
   "source": [
    "df =  pd.read_excel(r\"C:\\Users\\Edwin\\Desktop\\10_28_20.xlsx\", sheet_name = 'Sheet1' ).T"
   ]
  },
  {
   "cell_type": "code",
   "execution_count": null,
   "metadata": {},
   "outputs": [],
   "source": [
    "plot_wavelengths_zoom(df, list(df[0].index), x_lim=[400,650], y_lim=[0,1])"
   ]
  },
  {
   "cell_type": "code",
   "execution_count": null,
   "metadata": {},
   "outputs": [],
   "source": [
    "df_baseline_corrected = baseline_correction(df, df.iloc[-1])\n",
    "plot_wavelengths_zoom(df_baseline_corrected, list(df_baseline_corrected[0].index), x_lim=[500, 700], y_lim=[0,0.015])"
   ]
  },
  {
   "cell_type": "code",
   "execution_count": null,
   "metadata": {
    "scrolled": true
   },
   "outputs": [],
   "source": [
    "wavelegnth_df = df[0:1]\n",
    "solo_baseline_df = df[-1:]\n",
    "baseline_df = piece_together(wavelegnth_df, solo_baseline_df)\n",
    "plot_wavelengths_zoom(baseline_df, list(baseline_df[0].index))"
   ]
  }
 ],
 "metadata": {
  "kernelspec": {
   "display_name": "Python 3",
   "language": "python",
   "name": "python3"
  },
  "language_info": {
   "codemirror_mode": {
    "name": "ipython",
    "version": 3
   },
   "file_extension": ".py",
   "mimetype": "text/x-python",
   "name": "python",
   "nbconvert_exporter": "python",
   "pygments_lexer": "ipython3",
   "version": "3.6.8"
  }
 },
 "nbformat": 4,
 "nbformat_minor": 4
}
