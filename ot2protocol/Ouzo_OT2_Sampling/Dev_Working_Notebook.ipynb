{
 "cells": [
  {
   "cell_type": "code",
   "execution_count": 163,
   "metadata": {
    "scrolled": true
   },
   "outputs": [],
   "source": [
    "import CreateSamples\n",
    "import OT2_Ouzo_Commands_API2c as ot2_commands\n",
    "import Ouzo_Graph_Tools as ouzo_graphs\n",
    "from opentrons import simulate, execute, protocol_api\n",
    "import os\n",
    "import pandas as pd\n",
    "import glob, json\n",
    "import numpy as np"
   ]
  },
  {
   "cell_type": "code",
   "execution_count": 164,
   "metadata": {},
   "outputs": [
    {
     "data": {
      "text/plain": [
       "<module 'CreateSamples' from 'C:\\\\Users\\\\Edwin\\\\Desktop\\\\OT2Protocols\\\\ot2protocol\\\\Ouzo_OT2_Sampling\\\\CreateSamples.py'>"
      ]
     },
     "execution_count": 164,
     "metadata": {},
     "output_type": "execute_result"
    }
   ],
   "source": [
    "import importlib\n",
    "importlib.reload(CreateSamples)"
   ]
  },
  {
   "cell_type": "code",
   "execution_count": 173,
   "metadata": {
    "scrolled": true
   },
   "outputs": [],
   "source": [
    "# these variables although have the same names when searching for the stocks should now replace those for the actual selectede one. \n",
    "path = r\"C:\\Users\\Edwin\\Desktop\\OT2Protocols\\ot2protocol\\Ouzo_OT2_Sampling\\Testing Plans\\Example_Working_Protocol.csv\"\n",
    "experiment_csv_dict = CreateSamples.get_experiment_plan(path)\n",
    "wtf_sample_canidates = CreateSamples.generate_candidate_lattice_concentrations(experiment_csv_dict)\n",
    "volume_sample_canidates = CreateSamples.calculate_ouzo_volumes_from_wtf(wtf_sample_canidates, experiment_csv_dict)\n",
    "final_volume_df = CreateSamples.pipette_volume_restriction_df(volume_sample_canidates, 30, 1000, experiment_csv_dict['Pipette Entire Stock Volume Only Once?'])"
   ]
  },
  {
   "cell_type": "code",
   "execution_count": 434,
   "metadata": {},
   "outputs": [],
   "source": [
    "df = final_volume_df*1.25"
   ]
  },
  {
   "cell_type": "code",
   "execution_count": 445,
   "metadata": {
    "scrolled": true
   },
   "outputs": [],
   "source": [
    "volumes = np.asarray(df['ethanol-PFH-stock uL'])\n",
    "limit = 18000\n",
    "\n",
    "def ranges(array, limit):\n",
    "    volume_limited = array.cumsum() % limit\n",
    "    checks = [i<=j for i, j in zip(volume_limited, volume_limited[1:])]\n",
    "    if True in (all(checks), all(v == 0 for v in volume_limited)):\n",
    "        return [[0,len(volume_limited)]]\n",
    "    \n",
    "    # from here is frustration, very confusing but currently works\n",
    "    stops = [0]\n",
    "    for i, tf in enumerate(checks): \n",
    "        if tf == False:\n",
    "            stops.append(i+1)\n",
    "\n",
    "    if stops[-1] == len(volume_limited): # essentially if a stop at the end \n",
    "        pass\n",
    "    else: \n",
    "        stops.append(stops[-1])\n",
    "        stops.append(len(volume_limited)) # adding final index \n",
    "\n",
    "    n = 2\n",
    "    ranges = [stops[i:i+n] for i in range(0, len(stops), n)]\n",
    "    return ranges\n",
    "#     for range_ in ranges: \n",
    "#         print(volume_limited[range_[0]:range_[1]])\n",
    "\n",
    "x = ranges(volumes, limit)\n"
   ]
  },
  {
   "cell_type": "markdown",
   "metadata": {},
   "source": [
    "## Step 5: Run the OT2 commands\n",
    "* Now that a stock and its corresponding volhave been selected run the command code.\n",
    "* Future: make it so the can edit stock information and print the amount of stock needed (instructions for stock creation)"
   ]
  },
  {
   "cell_type": "code",
   "execution_count": 446,
   "metadata": {},
   "outputs": [],
   "source": [
    "labware_dir_path = r\"C:\\Users\\Edwin\\Desktop\\OT2Protocols\\ot2protocol\\Ouzo_OT2_Sampling\\Custom Labware\"\n",
    "labware_dict = ot2_commands.custom_labware_dict(labware_dir_path)\n",
    "custom_labware_dict= labware_dict"
   ]
  },
  {
   "cell_type": "code",
   "execution_count": 447,
   "metadata": {},
   "outputs": [],
   "source": [
    "# now need to simimulate first or actually grab the stock labware\n",
    "# you will need to have the stock labware you are going to use in the the dict as well to grab the max values aND the amount of slots\n",
    "# then with this information you can calcualte how many stocks you need or if you should switch/add to another labware/ if does not fit\n",
    "# To keep it easy just keep it so stock 1 is made in order so if you need say 40mL it is in A1 and A2 and then stock 2s would start in A3"
   ]
  },
  {
   "cell_type": "code",
   "execution_count": 448,
   "metadata": {},
   "outputs": [],
   "source": [
    "# pipetting in order of components, where each component has a seperate stock\n",
    "# grab the volumes [1,2,3]\n",
    "# intialize a well with a certain stock, so starting with A1\n",
    "# sum until reach a value, 2\n",
    "# IF you reach the value before the end, record the index range of A1, then make a new entry for A2 and record the indexes aagin\n",
    "# Then start with the next component and run through the whole thing again\n",
    "\n",
    "\n",
    "# make a stock df to see placements, which will later be used for along with the volume inputs."
   ]
  },
  {
   "cell_type": "code",
   "execution_count": 466,
   "metadata": {
    "scrolled": true
   },
   "outputs": [
    {
     "name": "stderr",
     "output_type": "stream",
     "text": [
      "C:\\Users\\Edwin\\.opentrons\\deck_calibration.json not found. Loading defaults\n",
      "C:\\Users\\Edwin\\.opentrons\\robot_settings.json not found. Loading defaults\n"
     ]
    },
    {
     "data": {
      "text/plain": [
       "[[[0, 91]], [[0, 91]], [[0, 91]], [[0, 67], [67, 91]], [[0, 54], [54, 91]]]"
      ]
     },
     "execution_count": 466,
     "metadata": {},
     "output_type": "execute_result"
    }
   ],
   "source": [
    "protocol = simulate.get_protocol_api('2.0', extra_labware=labware_dict)\n",
    "df = final_volume_df * 1.25\n",
    "experiment_dict = experiment_csv_dict\n",
    "stock_plate = ot2_commands.custom_or_native_labware(protocol, experiment_dict['OT2 Stock Labware'], experiment_dict['OT2 Stock Labware Slot'], custom_labware_dict)\n",
    "stock_plate_rows = [well for row in stock_plate.rows() for well in row]\n",
    "stock_plate_well_volume = stock_plate.__dict__['_well_definition']['A1']['totalLiquidVolume'] \n",
    "limit = stock_plate_well_volume\n",
    "final_ranges = []\n",
    "for col in df: \n",
    "    if 'stock' in col:\n",
    "        stock_volumes = np.array(df[col])\n",
    "        stock_ranges = ranges(stock_volumes, limit)\n",
    "        final_ranges.append((stock_ranges))\n",
    "\n",
    "# final_ranges = np.asarray(final_ranges)\n",
    "(final_ranges)\n",
    "# df2 = pd.DataFrame([[0],[1],[2],[3],[4]],\n",
    "#                    columns=df.columns[:-1])\n"
   ]
  },
  {
   "cell_type": "code",
   "execution_count": 457,
   "metadata": {},
   "outputs": [
    {
     "data": {
      "text/plain": [
       "Index(['dppc-stock uL', 'dspe-peg-stock uL', 'ethanol-PFH-stock uL',\n",
       "       'ethanol-stock uL', 'water-stock uL'],\n",
       "      dtype='object')"
      ]
     },
     "execution_count": 457,
     "metadata": {},
     "output_type": "execute_result"
    }
   ],
   "source": [
    "df.columns[:-1]"
   ]
  },
  {
   "cell_type": "code",
   "execution_count": 425,
   "metadata": {
    "scrolled": true
   },
   "outputs": [
    {
     "name": "stderr",
     "output_type": "stream",
     "text": [
      "C:\\Users\\Edwin\\.opentrons\\deck_calibration.json not found. Loading defaults\n",
      "C:\\Users\\Edwin\\.opentrons\\robot_settings.json not found. Loading defaults\n"
     ]
    },
    {
     "ename": "TypeError",
     "evalue": "object of type 'numpy.float64' has no len()",
     "output_type": "error",
     "traceback": [
      "\u001b[1;31m---------------------------------------------------------------------------\u001b[0m",
      "\u001b[1;31mTypeError\u001b[0m                                 Traceback (most recent call last)",
      "\u001b[1;32m<ipython-input-425-a021affcf255>\u001b[0m in \u001b[0;36m<module>\u001b[1;34m\u001b[0m\n\u001b[0;32m      1\u001b[0m \u001b[0mprotocol\u001b[0m \u001b[1;33m=\u001b[0m \u001b[0msimulate\u001b[0m\u001b[1;33m.\u001b[0m\u001b[0mget_protocol_api\u001b[0m\u001b[1;33m(\u001b[0m\u001b[1;34m'2.0'\u001b[0m\u001b[1;33m,\u001b[0m \u001b[0mextra_labware\u001b[0m\u001b[1;33m=\u001b[0m\u001b[0mlabware_dict\u001b[0m\u001b[1;33m)\u001b[0m\u001b[1;33m\u001b[0m\u001b[1;33m\u001b[0m\u001b[0m\n\u001b[1;32m----> 2\u001b[1;33m \u001b[0mcommand_info\u001b[0m \u001b[1;33m=\u001b[0m \u001b[0mot2_commands\u001b[0m\u001b[1;33m.\u001b[0m\u001b[0mcreate_samples\u001b[0m\u001b[1;33m(\u001b[0m\u001b[0mprotocol\u001b[0m\u001b[1;33m,\u001b[0m \u001b[0mexperiment_csv_dict\u001b[0m\u001b[1;33m,\u001b[0m \u001b[0mvolumes\u001b[0m\u001b[1;33m)\u001b[0m\u001b[1;33m\u001b[0m\u001b[1;33m\u001b[0m\u001b[0m\n\u001b[0m\u001b[0;32m      3\u001b[0m \u001b[1;33m\u001b[0m\u001b[0m\n",
      "\u001b[1;32m~\\Desktop\\OT2Protocols\\ot2protocol\\Ouzo_OT2_Sampling\\OT2_Ouzo_Commands_API2c.py\u001b[0m in \u001b[0;36mcreate_samples\u001b[1;34m(protocol, experiment_dict, sample_volumes, transfer, custom_labware_dict)\u001b[0m\n\u001b[0;32m     59\u001b[0m \u001b[1;33m\u001b[0m\u001b[0m\n\u001b[0;32m     60\u001b[0m \u001b[1;33m\u001b[0m\u001b[0m\n\u001b[1;32m---> 61\u001b[1;33m     \u001b[1;31m# checks like this might be better out as there own function or method - makes it cleaner and easier to follow code\u001b[0m\u001b[1;33m\u001b[0m\u001b[1;33m\u001b[0m\u001b[1;33m\u001b[0m\u001b[0m\n\u001b[0m\u001b[0;32m     62\u001b[0m     \u001b[1;31m# call function enough_wells, volume_check, stock_volume_check, etc...\u001b[0m\u001b[1;33m\u001b[0m\u001b[1;33m\u001b[0m\u001b[1;33m\u001b[0m\u001b[0m\n\u001b[0;32m     63\u001b[0m \u001b[1;33m\u001b[0m\u001b[0m\n",
      "\u001b[1;31mTypeError\u001b[0m: object of type 'numpy.float64' has no len()"
     ]
    }
   ],
   "source": [
    "protocol = simulate.get_protocol_api('2.0', extra_labware=labware_dict)\n",
    "command_info = ot2_commands.create_samples(protocol, experiment_csv_dict, volumes) \n",
    "\n"
   ]
  },
  {
   "cell_type": "code",
   "execution_count": null,
   "metadata": {},
   "outputs": [],
   "source": [
    "# in order to change the dispense and aspiration speed - to match the gen1 (), use command: pipette.flow_rate.aspirate/dispense\n",
    "\n",
    "# when not enough samples present also make sure to raise errors for things like not inputting enough slots/ len of labware does not equal len of slots "
   ]
  },
  {
   "cell_type": "code",
   "execution_count": null,
   "metadata": {},
   "outputs": [],
   "source": [
    "protocol1 = simulate.get_protocol_api('2.0')\n",
    "ot2_commands.simple_independent_transfer(protocol1, dict_1['experiment_plan_dict'])"
   ]
  },
  {
   "cell_type": "markdown",
   "metadata": {},
   "source": [
    "## Step 6: Create a csv file containing all the information of the experiment for storage and future linking"
   ]
  },
  {
   "cell_type": "code",
   "execution_count": null,
   "metadata": {},
   "outputs": [],
   "source": [
    "create.create_csv(r\"C:\\Users\\Edwin\\Desktop\\test\", command_info['command info'], seleted_wtfs_plus_blank, experiment_csv_dict)\n",
    "df = pd.read_csv(r\"C:\\Users\\Edwin\\Desktop\\test\")\n",
    "# make it upload to team drive on google and have it so you can pull from there as well. "
   ]
  },
  {
   "cell_type": "code",
   "execution_count": null,
   "metadata": {},
   "outputs": [],
   "source": [
    "df"
   ]
  },
  {
   "cell_type": "code",
   "execution_count": null,
   "metadata": {},
   "outputs": [],
   "source": []
  }
 ],
 "metadata": {
  "celltoolbar": "Raw Cell Format",
  "kernelspec": {
   "display_name": "Python 3",
   "language": "python",
   "name": "python3"
  },
  "language_info": {
   "codemirror_mode": {
    "name": "ipython",
    "version": 3
   },
   "file_extension": ".py",
   "mimetype": "text/x-python",
   "name": "python",
   "nbconvert_exporter": "python",
   "pygments_lexer": "ipython3",
   "version": "3.6.8"
  }
 },
 "nbformat": 4,
 "nbformat_minor": 4
}
