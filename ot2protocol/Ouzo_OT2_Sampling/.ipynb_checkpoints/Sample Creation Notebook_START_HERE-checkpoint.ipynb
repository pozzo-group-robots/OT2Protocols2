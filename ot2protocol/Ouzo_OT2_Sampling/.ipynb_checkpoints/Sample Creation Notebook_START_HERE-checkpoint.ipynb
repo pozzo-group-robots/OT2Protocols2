{
 "cells": [
  {
   "cell_type": "markdown",
   "metadata": {},
   "source": [
    "* Ouzo_Sampling_Wtf_Lattice_Volume contains all the functions responsible for calculating sample information, which includes component weight fractions and stock volumes. \n",
    "* OT2_Ouzo_Commands_API2 contains the commands for the OT2 robot. \n",
    "* Ouzo_Graph_Tools contains graphing tools to help visualize and explore parameter spaces."
   ]
  },
  {
   "cell_type": "code",
   "execution_count": 1,
   "metadata": {
    "scrolled": true
   },
   "outputs": [
    {
     "name": "stderr",
     "output_type": "stream",
     "text": [
      "C:\\Users\\Edwin\\.opentrons\\deck_calibration.json not found. Loading defaults\n",
      "C:\\Users\\Edwin\\.opentrons\\robot_settings.json not found. Loading defaults\n"
     ]
    },
    {
     "name": "stdout",
     "output_type": "stream",
     "text": [
      "Loading json containers...\n",
      "Json container file load complete, listing database\n",
      "Found 0 containers to add. Starting migration...\n",
      "Database migration complete!\n"
     ]
    }
   ],
   "source": [
    "import Ouzo_Sampling_Wtf_Lattice_Volume as create\n",
    "import OT2_Ouzo_Commands_API2c as ot2_commands\n",
    "import Ouzo_Graph_Tools as ouzo_graphs\n",
    "from opentrons import simulate, execute, protocol_api\n",
    "import os\n",
    "import pandas as pd\n",
    "import glob, json"
   ]
  },
  {
   "cell_type": "code",
   "execution_count": 2,
   "metadata": {
    "scrolled": false
   },
   "outputs": [],
   "source": [
    "# belongs in the Ouzo_commands module since will only be relevent in that use case \n",
    "def custom_labware_dict(labware_dir_path): # make it so it redirects back to original path\n",
    "    \"\"\"Given the path of a folder of custom labware .json files will create dict\n",
    "    of key = name and value = labware definition to be loaded using protocol.load_labware_from_definition \n",
    "    versus typical protocol.load_labware\"\"\"\n",
    "    original_working_dir = os.getcwd()\n",
    "    os.chdir(labware_dir_path) # instead of changing the dir entirely can one not just a with or a read?\n",
    "    labware_dict = {}\n",
    "    for file in glob.glob(\"*.json\"):\n",
    "        with open(file) as labware_file:\n",
    "            labware_name = os.path.splitext(file)[0] # removes the .json extnesion\n",
    "            labware_def = json.load(labware_file)\n",
    "            labware_dict[labware_name] = labware_def\n",
    "    os.chdir(original_working_dir)\n",
    "    return labware_dict "
   ]
  },
  {
   "cell_type": "code",
   "execution_count": null,
   "metadata": {},
   "outputs": [],
   "source": []
  },
  {
   "cell_type": "code",
   "execution_count": 3,
   "metadata": {},
   "outputs": [
    {
     "data": {
      "text/plain": [
       "<module 'Ouzo_Sampling_Wtf_Lattice_Volume' from 'C:\\\\Users\\\\Edwin\\\\Desktop\\\\OT2Protocols\\\\ot2protocol\\\\Ouzo_OT2_Sampling\\\\Ouzo_Sampling_Wtf_Lattice_Volume.py'>"
      ]
     },
     "execution_count": 3,
     "metadata": {},
     "output_type": "execute_result"
    }
   ],
   "source": [
    "import importlib\n",
    "importlib.reload(create)"
   ]
  },
  {
   "cell_type": "markdown",
   "metadata": {},
   "source": [
    "#### Creating Samples\n",
    "* Sample creation begins with the use of an csv file which contains all the information regarding sample, stock and OT2 specfication. \n",
    "    * At the moment, the excel sheet is not very flexible so do not try to stray away with changing the formatting of variables (i.e. variables shown as list should be maintained as list even if there is only one entry - See the provided templete to get started)\n",
    "* The csv file can and should be opened in Excel, once opened you should note the three colors: \n",
    "    * Green: Absolute requirements in order to create samples and execute commands on the OT2.\n",
    "    * Yellow: An optional transfer conducted at the end of the OT2 commands originating from the green variables. \n",
    "    * Blue: An optional and independent transer which required its own protocol object, will fail if attempting to run using protocol object tied to green and yellow.\n"
   ]
  },
  {
   "cell_type": "markdown",
   "metadata": {},
   "source": [
    "## Step 1: Provide the path \n"
   ]
  },
  {
   "cell_type": "code",
   "execution_count": 4,
   "metadata": {},
   "outputs": [
    {
     "name": "stdout",
     "output_type": "stream",
     "text": [
      "C:\\Users\\Edwin\\Desktop\\OT2Protocols\\ot2protocol\\Ouzo_OT2_Sampling\\Testing Plans\\Ouzo_CSV_Templete.csv True\n"
     ]
    }
   ],
   "source": [
    "# path to work from back\n",
    "dir_path_back = os.getcwd()\n",
    "testing_plans_dir = dir_path_back + '\\Testing Plans'\n",
    "testing_plan_name = '\\\\Ouzo_CSV_Templete.csv' # numbers mean \\\\1 = \\1\n",
    "final_testing_plan_path = testing_plans_dir+testing_plan_name\n",
    "print(final_testing_plan_path, os.path.isfile(final_testing_plan_path))\n",
    "path = r\"C:\\Users\\Edwin\\Desktop\\12_2_2020\\12_2_2020_Lipid_Scan.csv\""
   ]
  },
  {
   "cell_type": "markdown",
   "metadata": {},
   "source": [
    "## Step 2: Parameter Space Explortion: \n",
    "* Searching through different stocks is useful in order to find suitable stock canidates. By iterating through a linspace of stocks alongside sample canidates graphs are produced with important information that will help you decided on a suitable stock. \n",
    "* The information regarding the iteration through stocks is found in the csv file under the variable:  Stock Concentration [min, max, n]. Another similar vairable listed as just Stock Concentration is used for single exploration.\n",
    "* To select a stock provide the index number (found on graph).\n",
    "\n",
    "### Optional: Graphing/Visualization: Will not run on OT2 jupyter notebook\n",
    "* This step is useful to see the parameter space you are exploring and whether you need to expand/contract it. \n",
    "    * On the left hand side of the provided graph should be information regarding stock and sample information. \n",
    "    * It is important to load in the csv information seperately from the the final sample creation step as that step (Step 4) uses requires a stock to actual create viable samples or else will error out, which would be pointless at this stage since we are searching for stock.\n",
    "    \n",
    "### Looking for way to search through more than two components at a time and how to visualize this\n",
    "* This would allow for multiple components to be searched for at once and then start to isolate it to a point where only 2 components are changing.\n",
    "   "
   ]
  },
  {
   "cell_type": "code",
   "execution_count": 5,
   "metadata": {},
   "outputs": [
    {
     "ename": "ValueError",
     "evalue": "malformed node or string: <_ast.Name object at 0x000002C189E42358>",
     "output_type": "error",
     "traceback": [
      "\u001b[1;31m---------------------------------------------------------------------------\u001b[0m",
      "\u001b[1;31mValueError\u001b[0m                                Traceback (most recent call last)",
      "\u001b[1;32m<ipython-input-5-0d0a67656154>\u001b[0m in \u001b[0;36m<module>\u001b[1;34m\u001b[0m\n\u001b[0;32m      1\u001b[0m \u001b[0mpath\u001b[0m \u001b[1;33m=\u001b[0m \u001b[1;34mr\"C:\\Users\\Edwin\\Desktop\\OT2Protocols\\ot2protocol\\Ouzo_OT2_Sampling\\Testing Plans\\Breaking_protocol.csv\"\u001b[0m\u001b[1;33m\u001b[0m\u001b[1;33m\u001b[0m\u001b[0m\n\u001b[1;32m----> 2\u001b[1;33m \u001b[0mexperiment_csv_dict\u001b[0m \u001b[1;33m=\u001b[0m \u001b[0mcreate\u001b[0m\u001b[1;33m.\u001b[0m\u001b[0mget_experiment_plan\u001b[0m\u001b[1;33m(\u001b[0m\u001b[0mpath\u001b[0m\u001b[1;33m)\u001b[0m\u001b[1;33m\u001b[0m\u001b[1;33m\u001b[0m\u001b[0m\n\u001b[0m\u001b[0;32m      3\u001b[0m \u001b[0mwtf_sample_canidates\u001b[0m \u001b[1;33m=\u001b[0m \u001b[0mcreate\u001b[0m\u001b[1;33m.\u001b[0m\u001b[0mgenerate_candidate_lattice_concentrations\u001b[0m\u001b[1;33m(\u001b[0m\u001b[0mexperiment_csv_dict\u001b[0m\u001b[1;33m,\u001b[0m \u001b[0mfilter_one\u001b[0m\u001b[1;33m=\u001b[0m\u001b[1;32mTrue\u001b[0m\u001b[1;33m)\u001b[0m\u001b[1;33m\u001b[0m\u001b[1;33m\u001b[0m\u001b[0m\n",
      "\u001b[1;32m~\\Desktop\\OT2Protocols\\ot2protocol\\Ouzo_OT2_Sampling\\Ouzo_Sampling_Wtf_Lattice_Volume.py\u001b[0m in \u001b[0;36mget_experiment_plan\u001b[1;34m(filepath)\u001b[0m\n\u001b[0;32m     39\u001b[0m         \u001b[1;32mfor\u001b[0m \u001b[0mi\u001b[0m\u001b[1;33m,\u001b[0m \u001b[0mrow\u001b[0m \u001b[1;32min\u001b[0m \u001b[0menumerate\u001b[0m\u001b[1;33m(\u001b[0m\u001b[0mreader\u001b[0m\u001b[1;33m)\u001b[0m\u001b[1;33m:\u001b[0m\u001b[1;33m\u001b[0m\u001b[1;33m\u001b[0m\u001b[0m\n\u001b[0;32m     40\u001b[0m             \u001b[1;32massert\u001b[0m \u001b[0mlen\u001b[0m\u001b[1;33m(\u001b[0m\u001b[0mrow\u001b[0m\u001b[1;33m)\u001b[0m \u001b[1;33m==\u001b[0m \u001b[1;36m2\u001b[0m\u001b[1;33m\u001b[0m\u001b[1;33m\u001b[0m\u001b[0m\n\u001b[1;32m---> 41\u001b[1;33m             \u001b[0mplan_dict\u001b[0m\u001b[1;33m[\u001b[0m\u001b[0mrow\u001b[0m\u001b[1;33m[\u001b[0m\u001b[1;36m0\u001b[0m\u001b[1;33m]\u001b[0m\u001b[1;33m]\u001b[0m \u001b[1;33m=\u001b[0m \u001b[0mast\u001b[0m\u001b[1;33m.\u001b[0m\u001b[0mliteral_eval\u001b[0m\u001b[1;33m(\u001b[0m\u001b[0mrow\u001b[0m\u001b[1;33m[\u001b[0m\u001b[1;36m1\u001b[0m\u001b[1;33m]\u001b[0m\u001b[1;33m)\u001b[0m\u001b[1;33m\u001b[0m\u001b[1;33m\u001b[0m\u001b[0m\n\u001b[0m\u001b[0;32m     42\u001b[0m \u001b[1;33m\u001b[0m\u001b[0m\n\u001b[0;32m     43\u001b[0m     \u001b[1;32mreturn\u001b[0m \u001b[0mplan_dict\u001b[0m\u001b[1;33m\u001b[0m\u001b[1;33m\u001b[0m\u001b[0m\n",
      "\u001b[1;32mc:\\users\\edwin\\appdata\\local\\programs\\python\\python36\\lib\\ast.py\u001b[0m in \u001b[0;36mliteral_eval\u001b[1;34m(node_or_string)\u001b[0m\n\u001b[0;32m     83\u001b[0m                     \u001b[1;32mreturn\u001b[0m \u001b[0mleft\u001b[0m \u001b[1;33m-\u001b[0m \u001b[0mright\u001b[0m\u001b[1;33m\u001b[0m\u001b[1;33m\u001b[0m\u001b[0m\n\u001b[0;32m     84\u001b[0m         \u001b[1;32mraise\u001b[0m \u001b[0mValueError\u001b[0m\u001b[1;33m(\u001b[0m\u001b[1;34m'malformed node or string: '\u001b[0m \u001b[1;33m+\u001b[0m \u001b[0mrepr\u001b[0m\u001b[1;33m(\u001b[0m\u001b[0mnode\u001b[0m\u001b[1;33m)\u001b[0m\u001b[1;33m)\u001b[0m\u001b[1;33m\u001b[0m\u001b[1;33m\u001b[0m\u001b[0m\n\u001b[1;32m---> 85\u001b[1;33m     \u001b[1;32mreturn\u001b[0m \u001b[0m_convert\u001b[0m\u001b[1;33m(\u001b[0m\u001b[0mnode_or_string\u001b[0m\u001b[1;33m)\u001b[0m\u001b[1;33m\u001b[0m\u001b[1;33m\u001b[0m\u001b[0m\n\u001b[0m\u001b[0;32m     86\u001b[0m \u001b[1;33m\u001b[0m\u001b[0m\n\u001b[0;32m     87\u001b[0m \u001b[1;33m\u001b[0m\u001b[0m\n",
      "\u001b[1;32mc:\\users\\edwin\\appdata\\local\\programs\\python\\python36\\lib\\ast.py\u001b[0m in \u001b[0;36m_convert\u001b[1;34m(node)\u001b[0m\n\u001b[0;32m     82\u001b[0m                 \u001b[1;32melse\u001b[0m\u001b[1;33m:\u001b[0m\u001b[1;33m\u001b[0m\u001b[1;33m\u001b[0m\u001b[0m\n\u001b[0;32m     83\u001b[0m                     \u001b[1;32mreturn\u001b[0m \u001b[0mleft\u001b[0m \u001b[1;33m-\u001b[0m \u001b[0mright\u001b[0m\u001b[1;33m\u001b[0m\u001b[1;33m\u001b[0m\u001b[0m\n\u001b[1;32m---> 84\u001b[1;33m         \u001b[1;32mraise\u001b[0m \u001b[0mValueError\u001b[0m\u001b[1;33m(\u001b[0m\u001b[1;34m'malformed node or string: '\u001b[0m \u001b[1;33m+\u001b[0m \u001b[0mrepr\u001b[0m\u001b[1;33m(\u001b[0m\u001b[0mnode\u001b[0m\u001b[1;33m)\u001b[0m\u001b[1;33m)\u001b[0m\u001b[1;33m\u001b[0m\u001b[1;33m\u001b[0m\u001b[0m\n\u001b[0m\u001b[0;32m     85\u001b[0m     \u001b[1;32mreturn\u001b[0m \u001b[0m_convert\u001b[0m\u001b[1;33m(\u001b[0m\u001b[0mnode_or_string\u001b[0m\u001b[1;33m)\u001b[0m\u001b[1;33m\u001b[0m\u001b[1;33m\u001b[0m\u001b[0m\n\u001b[0;32m     86\u001b[0m \u001b[1;33m\u001b[0m\u001b[0m\n",
      "\u001b[1;31mValueError\u001b[0m: malformed node or string: <_ast.Name object at 0x000002C189E42358>"
     ]
    }
   ],
   "source": [
    "path = r\"C:\\Users\\Edwin\\Desktop\\OT2Protocols\\ot2protocol\\Ouzo_OT2_Sampling\\Testing Plans\\Breaking_protocol.csv\"\n",
    "experiment_csv_dict = create.get_experiment_plan(path)\n",
    "wtf_sample_canidates = create.generate_candidate_lattice_concentrations(experiment_csv_dict, filter_one=True)"
   ]
  },
  {
   "cell_type": "code",
   "execution_count": null,
   "metadata": {},
   "outputs": [],
   "source": [
    "path = r\"C:\\Users\\Edwin\\Desktop\\OT2Protocols\\ot2protocol\\Ouzo_OT2_Sampling\\Testing Plans\\Breaking_protocol.csv\"\n",
    "experiment_csv_dict = create.get_experiment_plan(path)\n",
    "wtf_sample_canidates = create.generate_candidate_lattice_concentrations(experiment_csv_dict, filter_one=True)\n",
    "\n",
    "\n",
    "# stock search is only necessary when components in the stocks are important but in certain cases you are not changing the stocks only changing the amount of stock, but fair still useful\n",
    "\n",
    "min_pipetting_volume = 20\n",
    "max_pipetting_volume = 1000\n",
    "\n",
    "stock_unfiltered_sample_wtfs_canidates = create.generate_candidate_lattice_stocks(experiment_csv_dict)\n",
    "stock_search_dict = create.prepare_stock_search(stock_unfiltered_sample_wtfs_canidates, experiment_csv_dict, wtf_sample_canidates, min_pipetting_volume, max_pipetting_volume)\n",
    "\n",
    "ouzo_graphs.stock_search_sep(stock_search_dict,experiment_csv_dict, wtf_sample_canidates)\n",
    "# making samples with zero will cause error cause not within bound\n",
    "# cange into subplots to prevent this, can do interactive to so text information only when hovering\n"
   ]
  },
  {
   "cell_type": "code",
   "execution_count": null,
   "metadata": {
    "scrolled": false
   },
   "outputs": [],
   "source": [
    "index = 4\n",
    "selected_stock_canidate_component_wtfs = stock_search_dict['stocks_wtf_lists'][index]\n",
    "selected_stock_canidate_component_volumes = stock_search_dict['stocks_volumes_lists'][index]\n",
    "selected_stock_text = stock_search_dict['stock_text_info'][index]\n",
    "ouzo_graphs.graph_canidates(experiment_csv_dict, wtf_sample_canidates, selected_stock_canidate_component_wtfs, additional_text = selected_stock_text)"
   ]
  },
  {
   "cell_type": "markdown",
   "metadata": {},
   "source": [
    "## Step 3: Calculate stock volumes\n",
    "* Determine the amount of each stock needed"
   ]
  },
  {
   "cell_type": "code",
   "execution_count": null,
   "metadata": {
    "scrolled": true
   },
   "outputs": [],
   "source": [
    "create.calculate_stock_volumes(experiment_csv_dict, selected_stock_canidate_component_volumes)"
   ]
  },
  {
   "cell_type": "markdown",
   "metadata": {},
   "source": [
    "## Step 4: Input selected stock information and volume constraints to create the experiments info dictionary. - needs to be edited - changing code flow\n",
    "* This instructional dictionary will contain the following: \n",
    "    * experiment_plan_dict: A dictionary that contains all the information from the csv plan. \n",
    "    * wtf_sample_canidates: An array containing the unfiltered sample wtfs (in respective order of component to component list). \n",
    "    * volume_sample_canidates: An array containing the unfiltered sample stock volumes\n",
    "    * filtered_wtf_samples: An array containing the filtered sample wtfs \n",
    "    * volume_sample_canidates: An array containing the filtered sample stock volumes\n",
    "\n",
    "* Volume constraints (in uL) are for the purpose of preventing a single stock volume from being split up in between multiple transfer. This is important when making ouzo emulsions are the final step of water should be done in one step. Addtionally less trasnfers result in less variability. \n",
    "* If you encounter an error such as \"max() arg is an empty sequence\" or where a called variable is empty, the most likely cause is a result of not creating any suitable samples given the provided variables. Try to change the parameters in the excel sheet or the volume constaints, once you are able to create a dictionary step 2 will help you refine your search!\n",
    "\n",
    "\n",
    "* Once you have selected the appropiate stock, create the stock and input the exact concentrations in the csv file under the variable: Stock Concentration (since mosty likely you will not create a stock concentration exactly matching selection). \n",
    "### The experiment_instruction automatically create the required volumes for the selected input stock! Just call them from the dictionary as the variables: 'volume_sample_canidates'\n",
    "#\n",
    "* Now you can create the appropiate variables from this stock that will be used in the final protocol: volumes and stock concentrations arrays!\n",
    "* You can also restrict the number of samples you create if you are limited on labware."
   ]
  },
  {
   "cell_type": "code",
   "execution_count": null,
   "metadata": {},
   "outputs": [],
   "source": [
    "# these variables although have the same names when searching for the stocks should now replace those for the actual selectede one. \n",
    "experiment_instructions = create.experiment_sample_dict(path, min_input_volume=20, max_input_volume=1000)\n",
    "experiment_csv_dict = experiment_instructions['experiment_plan_dict']\n",
    "wtf_sample_canidates = experiment_instructions['wtf_sample_canidates']\n",
    "selected_filtered_wtfs = experiment_instructions['filtered_wtf_samples']\n",
    "selected_filtered_volumes = experiment_instructions['filtered_volume_samples']\n",
    "\n",
    "\n",
    "\n",
    "# lower_index = 0\n",
    "# upper_index = 95\n",
    "# selected_filtered_wtfs = selected_filtered_wtfs[lower_index:upper_index]\n",
    "# selected_filtered_volumes = selected_filtered_volumes[lower_index:upper_index]\n",
    "print('number of samples = ' + str(len(selected_filtered_wtfs)))"
   ]
  },
  {
   "cell_type": "markdown",
   "metadata": {},
   "source": [
    "## Step 4a: Add optional blank\n",
    "* Using the add_blank function, provide the volume for the blank, in addition to the selected wtfs and volumes for the experiment so they can be appended to the end of the respective array. Blank component information should be added to experiment csv file"
   ]
  },
  {
   "cell_type": "code",
   "execution_count": null,
   "metadata": {
    "scrolled": true
   },
   "outputs": [],
   "source": [
    "seleted_wtfs_plus_blank, selected_volumes_plus_blank = create.add_blank_sample(selected_filtered_wtfs, selected_filtered_volumes, 800, experiment_csv_dict['Blank Component Concentrations (wtfs)'])\n",
    "ouzo_graphs.graph_canidates(experiment_csv_dict, wtf_sample_canidates, seleted_wtfs_plus_blank)\n",
    "# add more useful info in graph"
   ]
  },
  {
   "cell_type": "markdown",
   "metadata": {},
   "source": [
    "## Step 5: Run the OT2 commands\n",
    "* Now that a stock and its corresponding volhave been selected run the command code.\n",
    "* Future: make it so the can edit stock information and print the amount of stock needed (instructions for stock creation)"
   ]
  },
  {
   "cell_type": "code",
   "execution_count": null,
   "metadata": {},
   "outputs": [],
   "source": [
    "labware_dir_path = r\"C:\\Users\\Edwin\\Desktop\\OT2Protocols\\ot2protocol\\Ouzo_OT2_Sampling\\Custom Labware\"\n",
    "labware_dict = custom_labware_dict(labware_dir_path)"
   ]
  },
  {
   "cell_type": "code",
   "execution_count": null,
   "metadata": {
    "scrolled": true
   },
   "outputs": [],
   "source": [
    "protocol = simulate.get_protocol_api('2.0')\n",
    "# in order to change the dispense and aspiration speed - to match the gen1 (), use command: pipette.flow_rate.aspirate/dispense\n",
    "command_info = ot2_commands.create_samples(protocol, experiment_csv_dict, selected_volumes_plus_blank, custom_labware_dict=labware_dict) \n",
    "# when not enough samples present also make sure to raise errors for things like not inputting enough slots/ len of labware does not equal len of slots "
   ]
  },
  {
   "cell_type": "code",
   "execution_count": null,
   "metadata": {},
   "outputs": [],
   "source": [
    "protocol1 = simulate.get_protocol_api('2.0')\n",
    "ot2_commands.simple_independent_transfer(protocol1, dict_1['experiment_plan_dict'])"
   ]
  },
  {
   "cell_type": "markdown",
   "metadata": {},
   "source": [
    "## Step 6: Create a csv file containing all the information of the experiment for storage and future linking"
   ]
  },
  {
   "cell_type": "code",
   "execution_count": null,
   "metadata": {},
   "outputs": [],
   "source": [
    "create.create_csv(r\"C:\\Users\\Edwin\\Desktop\\test\", command_info['command info'], seleted_wtfs_plus_blank, experiment_csv_dict)\n",
    "df = pd.read_csv(r\"C:\\Users\\Edwin\\Desktop\\test\")\n",
    "# make it upload to team drive on google and have it so you can pull from there as well. "
   ]
  },
  {
   "cell_type": "code",
   "execution_count": null,
   "metadata": {},
   "outputs": [],
   "source": [
    "df"
   ]
  },
  {
   "cell_type": "code",
   "execution_count": null,
   "metadata": {},
   "outputs": [],
   "source": []
  }
 ],
 "metadata": {
  "celltoolbar": "Raw Cell Format",
  "kernelspec": {
   "display_name": "Python 3",
   "language": "python",
   "name": "python3"
  },
  "language_info": {
   "codemirror_mode": {
    "name": "ipython",
    "version": 3
   },
   "file_extension": ".py",
   "mimetype": "text/x-python",
   "name": "python",
   "nbconvert_exporter": "python",
   "pygments_lexer": "ipython3",
   "version": "3.6.8"
  }
 },
 "nbformat": 4,
 "nbformat_minor": 4
}
