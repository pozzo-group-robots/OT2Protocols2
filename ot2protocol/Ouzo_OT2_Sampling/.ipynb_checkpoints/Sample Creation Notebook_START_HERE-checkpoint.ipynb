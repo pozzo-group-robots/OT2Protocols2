{
 "cells": [
  {
   "cell_type": "markdown",
   "metadata": {},
   "source": [
    "* Ouzo_Sampling_Wtf_Lattice_Volume contains all the functions responsible for calculating sample information, which includes component weight fractions and stock volumes. \n",
    "* OT2_Ouzo_Commands_API2 contains the commands for the OT2 robot. \n",
    "* Ouzo_Graph_Tools contains graphing tools to help visualize and explore parameter spaces."
   ]
  },
  {
   "cell_type": "code",
   "execution_count": null,
   "metadata": {
    "scrolled": true
   },
   "outputs": [],
   "source": [
    "import Ouzo_Sampling_Wtf_Lattice_Volume as create\n",
    "import OT2_Ouzo_Commands_API2 as ot2_commands\n",
    "import Ouzo_Graph_Tools as ouzo_graphs\n",
    "from opentrons import simulate, execute, protocol_api"
   ]
  },
  {
   "cell_type": "markdown",
   "metadata": {},
   "source": [
    "#### Creating Samples\n",
    "* Sample creation begins with the use of an csv file which contains all the information regarding sample, stock and OT2 specfication. \n",
    "    * At the moment, the excel sheet is not very flexible so do not try to stray away with changing the formatting of variables (i.e. variables shown as list should be maintained as list even if there is only one entry - See the provided templete to get started)\n",
    "* The csv file can and should be opened in Excel, once opened you should note the three colors: \n",
    "    * Green: Absolute requirements in order to create samples and execute commands on the OT2.\n",
    "    * Yellow: An optional transfer conducted at the end of the OT2 commands originating from the green variables. \n",
    "    * Blue: An optional and independent transer which required its own protocol object, will fail if attempting to run using protocol object tied to green and yellow.\n"
   ]
  },
  {
   "cell_type": "markdown",
   "metadata": {},
   "source": [
    "## Step 1: Provide the path and volume constraints to create the experiments info dictionary.\n",
    "* This instructional dictionary will contain the following: \n",
    "    * experiment_plan_dict: A dictionary that contains all the information from the csv plan. \n",
    "    * wtf_sample_canidates: An array containing the unfiltered sample wtfs (in respective order of component to component list). \n",
    "    * volume_sample_canidates: An array containing the unfiltered sample stock volumes\n",
    "    * filtered_wtf_samples: An array containing the filtered sample wtfs \n",
    "    * volume_sample_canidates: An array containing the filtered sample stock volumes\n",
    "\n",
    "* Volume constraints (in uL) are for the purpose of preventing a single stock volume from being split up in between multiple transfer. This is important when making ouzo emulsions are the final step of water should be done in one step. Addtionally less trasnfers result in less variability. \n",
    "* If you encounter an error such as \"max() arg is an empty sequence\" or where a called variable is empty, the most likely cause is a result of not creating any suitable samples given the provided variables. Try to change the parameters in the excel sheet or the volume constaints, once you are able to create a dictionary step 2 will help you refine your search!"
   ]
  },
  {
   "cell_type": "code",
   "execution_count": null,
   "metadata": {
    "scrolled": true
   },
   "outputs": [],
   "source": [
    "path = r\"C:\\Users\\Edwin\\Desktop\\OT2Protocols\\ot2protocol\\Ouzo_OT2_Sampling\\Testing Plans\\Testing_Example_E.csv\"\n",
    "experiment_instructions = create.experiment_sample_dict(path, min_input_volume=30, max_input_volume=700)\n",
    "experiment_plan_dict = experiment_instructions['experiment_plan_dict']\n",
    "wtf_sample_canidates = experiment_instructions['wtf_sample_canidates']"
   ]
  },
  {
   "cell_type": "markdown",
   "metadata": {},
   "source": [
    "## Step 2: Parameter Space Explortion: \n",
    "* Searching through different stocks is useful in order to find suitable stock canidates. By iterating through a linspace of stocks alongside sample canidates graphs are produced with important information that will help you decided on a suitable stock. \n",
    "* The information regarding the iteration through stocks is found in the csv file under the variable:  Stock Concentration [min, max, n]. Another similar vairable listed as just Stock Concentration is used for single exploration.\n",
    "* To select a stock provide the index number (found on graph).\n",
    "\n",
    "### Optional: Graphing/Visualization: Will not run on OT2 jupyter notebook\n",
    "* This step is useful to see the parameter space you are exploring and whether you need to expand/contract it. \n",
    "    * On the left hand side of the provided graph should be information regarding stock and sample information. "
   ]
  },
  {
   "cell_type": "code",
   "execution_count": null,
   "metadata": {},
   "outputs": [],
   "source": [
    "stock_unfiltered_sample_wtfs_canidates = create.generate_candidate_lattice_stocks(experiment_plan_dict)\n",
    "stock_filtered_sample_wtfs_canidates, stock_filtered_sample_volumes_canidates, stock_text = create.prepare_stock_search(stock_unfiltered_sample_wtfs_canidates, experiment_plan_dict, wtf_sample_canidates, 30, 1000)\n",
    "ouzo_graphs.stock_search(experiment_instructions, wtf_sample_canidates, stock_filtered_sample_wtfs_canidates, stock_text)"
   ]
  },
  {
   "cell_type": "code",
   "execution_count": null,
   "metadata": {
    "scrolled": true
   },
   "outputs": [],
   "source": [
    "index = 1\n",
    "selected_stock_canidate_component_wtfs = stock_filtered_sample_wtfs_canidates[index]\n",
    "selected_stock_canidate_component_volumes = stock_filtered_sample_volumes_canidates[index]\n",
    "selected_stock_text = stock_text[index]\n",
    "ouzo_graphs.graph_canidates(experiment_instructions, wtf_sample_canidates, selected_stock_canidate_component_wtfs, additional_text = selected_stock_text)"
   ]
  },
  {
   "cell_type": "markdown",
   "metadata": {},
   "source": [
    "## Step 3: Input selected stock information\n",
    "* Once you have selected the appropiate stock, create the stock and input the exact concentrations in the csv file under the variable: Stock Concentration (since mosty likely you will not create a stock concentration exactly matching selection). \n",
    "### The experiment_instruction automatically create the required volumes for the selected input stock! Just call them from the dictionary as the variables: 'volume_sample_canidates'\n",
    "#\n",
    "* Now you can create the appropiate variables from this stock that will be used in the final protocol: volumes and stock concentrations arrays!\n",
    "* You can also restrict the number of samples you create if you are limited on labware."
   ]
  },
  {
   "cell_type": "code",
   "execution_count": null,
   "metadata": {},
   "outputs": [],
   "source": [
    "volumes = experiment_instructions['volume_sample_canidates']"
   ]
  },
  {
   "cell_type": "markdown",
   "metadata": {},
   "source": [
    "## Step 4: Run the OT2 commands\n",
    "* Now that a stock and its corresponding volhave been selected run the command code.\n",
    "* Future: make it so the can edit stock information and print the amount of stock needed (instructions for stock creation)"
   ]
  },
  {
   "cell_type": "code",
   "execution_count": null,
   "metadata": {
    "scrolled": true
   },
   "outputs": [],
   "source": [
    "protocol = simulate.get_protocol_api('2.0')\n",
    "t = ot2_commands.create_samples(protocol, experiment_instructions['experiment_plan_dict'], selected_stock_canidate_component_volumes, transfer=True) "
   ]
  },
  {
   "cell_type": "code",
   "execution_count": null,
   "metadata": {},
   "outputs": [],
   "source": [
    "protocol1 = simulate.get_protocol_api('2.0')\n",
    "ot2_commands.simple_independent_transfer(protocol1, dict_1['experiment_plan_dict'])"
   ]
  }
 ],
 "metadata": {
  "celltoolbar": "Raw Cell Format",
  "kernelspec": {
   "display_name": "Python 3",
   "language": "python",
   "name": "python3"
  },
  "language_info": {
   "codemirror_mode": {
    "name": "ipython",
    "version": 3
   },
   "file_extension": ".py",
   "mimetype": "text/x-python",
   "name": "python",
   "nbconvert_exporter": "python",
   "pygments_lexer": "ipython3",
   "version": "3.6.8"
  }
 },
 "nbformat": 4,
 "nbformat_minor": 4
}
