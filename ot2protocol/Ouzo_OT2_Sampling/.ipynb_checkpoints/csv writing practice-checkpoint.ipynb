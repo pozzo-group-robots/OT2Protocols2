{
 "cells": [
  {
   "cell_type": "code",
   "execution_count": 15,
   "metadata": {},
   "outputs": [],
   "source": [
    "import numpy as np\n",
    "import datetime\n",
    "from pytz import timezone\n",
    "import csv\n",
    "import os"
   ]
  },
  {
   "cell_type": "code",
   "execution_count": 33,
   "metadata": {},
   "outputs": [],
   "source": [
    "time = str(datetime.datetime.now(pacific).date())\n",
    "component_names = ['A','B','C']\n",
    "component_wtf = [['0.5','0.2','0.3'],['0.6','0.2','0.2'],['0.1','0.1','0.8']]\n",
    "well_slot = [1,2,3] # seems redundant "
   ]
  },
  {
   "cell_type": "code",
   "execution_count": 34,
   "metadata": {},
   "outputs": [],
   "source": [
    "# the goal is to write a csv which contains all the information not necessarily in the unique id but rather each sample\n",
    "# has a unique ID which contains very important information when moving between scripts and locations that will allow it to be \n",
    "# identified and sorted, which at that point it can carry its other information along with and access it when needed.\n",
    "# A good start is having the date, class of sample, and well created. The class of sample could be what was varied/studied\n",
    "# I personally do not see the point of storing information like slot, labware, what might be more important is versions of softwares but that would be at a higher experiment level "
   ]
  },
  {
   "cell_type": "code",
   "execution_count": 27,
   "metadata": {},
   "outputs": [],
   "source": [
    "fields = ['Name', 'Branch', 'Year', 'CGPA']  \n",
    "    \n",
    "# data rows of csv file  \n",
    "rows = [['0.5','0.2','0.3'],['0.6','0.2','0.2'],['0.1','0.1','0.8']]  \n",
    "    \n",
    "# name of csv file  \n",
    "filename = 'C:\\\\Users\\\\Edwin\\\\Desktop\\\\test_writing3.csv'\n",
    "    \n",
    "# writing to csv file  \n",
    "with open(filename, 'w', newline = '') as csvfile:  \n",
    "    # creating a csv writer object  \n",
    "    csvwriter = csv.writer(csvfile)  \n",
    "        \n",
    "    # writing the fields  \n",
    "    csvwriter.writerow(fields)  \n",
    "        \n",
    "    # writing the data rows  \n",
    "    csvwriter.writerows(rows) "
   ]
  },
  {
   "cell_type": "code",
   "execution_count": null,
   "metadata": {},
   "outputs": [],
   "source": [
    "# for sample_dict in enumerate(sample_stock_dict_list):\n",
    "#     print(sample_dict[1]['sample'].molarity_dict)\n",
    "#     print(sample_plate)\n",
    "# #     print(sample_plate.well(sample_dict[0]))\n",
    "#     print('\\n')\n",
    "    \n",
    "sample_info_filename = '2020_07_30_OuzoMZ1.csv'\n",
    "\n",
    "with open(sample_info_filename, 'w',newline = '') as csvfile:\n",
    "    csvwriter = csv.writer(csvfile, delimiter=' ')\n",
    "    \n",
    "    sample = sample_stock_dict_list[0]['sample']\n",
    "    header1 = [component.name for component in sample.components_dict.values()]\n",
    "    location_keys = [\"Slot\",\"LabwareType\",\"WellCode\", \"WellIndex\"]\n",
    "    location_dict = dict.fromkeys([\"Slot\",\"LabwareType\",\"WellCode\", \"WellIndex\"], None)\n",
    "    UID_dict = {'UID':None}\n",
    "    \n",
    "    header1.extend(key for key in location_dict.keys())\n",
    "    header1.extend(UID_dict.keys())\n",
    "    \n",
    "    header2 = [key for key in sample.components_dict.keys()]\n",
    "    header2.extend(key for key in location_dict.keys())\n",
    "    header2.extend(UID_dict.keys())\n",
    "\n",
    "    \n",
    "    csvwriter.writerow(header1)\n",
    "    csvwriter.writerow(header2)\n",
    "    csvwriter = csv.DictWriter(csvfile,delimiter = ' ', fieldnames = header2)\n",
    "    \n",
    "    for sample_dict in sample_stock_dict_list:\n",
    "        dict_to_header = None\n",
    "        sample = sample_dict['sample']\n",
    "        sample_well_index = sample_stock_dict_list.index(sample_dict)\n",
    "        s = (sample_plate.well(sample_well_index))\n",
    "        location = s.get_path()\n",
    "        location.append(sample_well_index)\n",
    "        dict_to_header = sample.molarity_dict\n",
    "        \n",
    "\n",
    "        for i, key in enumerate(location_keys):\n",
    "            dict_to_header[key] = location[i]\n",
    "        well_code = dict_to_header[\"WellCode\"]\n",
    "        slot = dict_to_header[\"Slot\"]\n",
    "        UID = str(datetime.datetime.now(pacific).date())+\"_Emuls\"+components_dict['stabilizer1'].name+\"_\"+\"S\"+slot+\"_\"+well_code\n",
    "        UID_dict[\"UID\"] = UID\n",
    "        \n",
    "#         dict_to_header.update({'Well':location})\n",
    "        dict_to_header.update(sample.volf_dict)\n",
    "        dict_to_header.update(UID_dict)\n",
    "        csvwriter.writerow(dict_to_header)\n",
    "       "
   ]
  }
 ],
 "metadata": {
  "kernelspec": {
   "display_name": "Python 3",
   "language": "python",
   "name": "python3"
  },
  "language_info": {
   "codemirror_mode": {
    "name": "ipython",
    "version": 3
   },
   "file_extension": ".py",
   "mimetype": "text/x-python",
   "name": "python",
   "nbconvert_exporter": "python",
   "pygments_lexer": "ipython3",
   "version": "3.6.8"
  }
 },
 "nbformat": 4,
 "nbformat_minor": 4
}
