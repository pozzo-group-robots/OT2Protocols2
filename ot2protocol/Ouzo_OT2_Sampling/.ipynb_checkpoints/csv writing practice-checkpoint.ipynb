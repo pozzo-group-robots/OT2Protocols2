{
 "cells": [
  {
   "cell_type": "code",
   "execution_count": 3,
   "metadata": {},
   "outputs": [],
   "source": [
    "import numpy as np\n",
    "import datetime\n",
    "from pytz import timezone\n",
    "import pandas as pd\n",
    "import csv\n",
    "import os"
   ]
  },
  {
   "cell_type": "code",
   "execution_count": 4,
   "metadata": {},
   "outputs": [],
   "source": [
    "time = str(datetime.datetime.now(timezone('US/Pacific')).date())"
   ]
  },
  {
   "cell_type": "code",
   "execution_count": 5,
   "metadata": {},
   "outputs": [],
   "source": [
    "# the goal is to write a csv which contains all the information not necessarily in the unique id but rather each sample\n",
    "# has a unique ID which contains very important information when moving between scripts and locations that will allow it to be \n",
    "# identified and sorted, which at that point it can carry its other information along with and access it when needed.\n",
    "# A good start is having the date, class of sample, and well created. The class of sample could be what was varied/studied\n",
    "# I personally do not see the point of storing information like slot, labware, what might be more important is versions of softwares but that would be at a higher experiment level "
   ]
  },
  {
   "cell_type": "code",
   "execution_count": 6,
   "metadata": {},
   "outputs": [],
   "source": [
    "# Component1, Component2, Component n, Slot, Labware, Well, Well Index, UID\n",
    "# the UID = date_componentchanging_slot_well = 09292020_PFH_EtOH_S1_A05\n",
    "    # think about A1 = A01"
   ]
  },
  {
   "cell_type": "code",
   "execution_count": 7,
   "metadata": {},
   "outputs": [],
   "source": [
    "component_name = ['UID', 'DPPC','PFH', 'Ethanol', 'Water']\n",
    "component_name_relisted = [[i] for i in component_name]\n",
    "filtered_wtf_samples = [['493829432', '0.5','0.2','0.3',0.0,1,'96 well','Well A1'],['497389374294','0.6','0.2','0.2',0.0,1,'96 well','Well A2']]\n",
    "filtered_volume_samples = [['50','0.2','0.3'],['0.6','0.2','0.2']]\n",
    "slot = [1,1] # this will again come form the same way finding the well\n",
    "wells = ['Well A1', 'Well B1'] # this will come from referencing the well from the labeware, either from a simualte protocol or during the actual execution\n",
    "header1 = ['UID', 'Component 1','Component 2','Component 3', 'Component 4', 'Slot', 'Labware', 'Well']\n",
    "first_row = component_name + header1[len(component_name):]\n",
    "header2 = []"
   ]
  },
  {
   "cell_type": "code",
   "execution_count": 8,
   "metadata": {},
   "outputs": [],
   "source": [
    "component_names = ['A','B','C']    \n",
    "\n",
    "# data rows of csv file  \n",
    "component_wtf = [[0.5,0.2,0.3],[0.6,0.2,0.2],[0.1,0.1,0.8]]    \n",
    "well = ['A1', 'B1', 'C1']\n",
    "# name and location of csv file  \n",
    "filename = 'C:\\\\Users\\\\Edwin\\\\Desktop\\\\test_writing_num.csv'\n",
    "    \n",
    "# writing to csv file  \n",
    "with open(filename, 'w', newline = '') as csvfile:  \n",
    "    # creating a csv writer object  \n",
    "    csvwriter = csv.writer(csvfile)  \n",
    "        \n",
    "    # writing the fields  \n",
    "    csvwriter.writerow(component_names)  \n",
    "        \n",
    "    # writing the data rows  \n",
    "    csvwriter.writerows(component_wtf) \n",
    "#     UID = str(datetime.datetime.now(pacific).date())+\"_Emuls\"+components_dict['stabilizer1'].name+\"_\"+\"S\"+slot+\"_\"+well_code\n"
   ]
  },
  {
   "cell_type": "code",
   "execution_count": 11,
   "metadata": {},
   "outputs": [
    {
     "data": {
      "text/plain": [
       "[['493829432', '0.5', '0.2', '0.3', 0.0, 1, '96 well', 'Well A1'],\n",
       " ['497389374294', '0.6', '0.2', '0.2', 0.0, 1, '96 well', 'Well A2']]"
      ]
     },
     "execution_count": 11,
     "metadata": {},
     "output_type": "execute_result"
    }
   ],
   "source": [
    "filtered_wtf_samples"
   ]
  },
  {
   "cell_type": "code",
   "execution_count": 9,
   "metadata": {},
   "outputs": [],
   "source": [
    "rows = ['Row 1', 'Row 2', 'Row 3']\n",
    "filename = 'C:\\\\Users\\\\Edwin\\\\Desktop\\\\test_writing_rows.csv'\n",
    "with open(filename, 'w', newline='') as csvfile:\n",
    "    csvwriter = csv.writer(csvfile, delimiter = \",\")\n",
    "    csvwriter.writerow(header1)\n",
    "    csvwriter.writerow(first_row) # so what \n",
    "    for row in filtered_wtf_samples:\n",
    "        csvwriter.writerow(row)\n",
    "        \n",
    "    #.writerow([]) iterable inside makes is move each item to next row, if not then every column"
   ]
  },
  {
   "cell_type": "code",
   "execution_count": 10,
   "metadata": {},
   "outputs": [],
   "source": [
    "# Have to create the following prior to running the csv writer: \n",
    "# header 1 = contains all infomation for row 0 in df = the information being displayed, what do the numbers mean\n",
    "# header 2 = contains all information of row 1 in df = the actual name of the components used\n",
    "# the samples rows = a list of sublist where each list contains the informaiton of header 1/2 in the order seperated by a comma,\n",
    "# aka all root list (sublist) and one nested list must be the sample length"
   ]
  },
  {
   "cell_type": "code",
   "execution_count": 93,
   "metadata": {},
   "outputs": [
    {
     "data": {
      "text/html": [
       "<div>\n",
       "<style scoped>\n",
       "    .dataframe tbody tr th:only-of-type {\n",
       "        vertical-align: middle;\n",
       "    }\n",
       "\n",
       "    .dataframe tbody tr th {\n",
       "        vertical-align: top;\n",
       "    }\n",
       "\n",
       "    .dataframe thead th {\n",
       "        text-align: right;\n",
       "    }\n",
       "</style>\n",
       "<table border=\"1\" class=\"dataframe\">\n",
       "  <thead>\n",
       "    <tr style=\"text-align: right;\">\n",
       "      <th></th>\n",
       "      <th>UID</th>\n",
       "      <th>Component 1</th>\n",
       "      <th>Component 2</th>\n",
       "      <th>Component 3</th>\n",
       "      <th>Component 4</th>\n",
       "      <th>Slot</th>\n",
       "      <th>Labware</th>\n",
       "      <th>Well</th>\n",
       "    </tr>\n",
       "  </thead>\n",
       "  <tbody>\n",
       "    <tr>\n",
       "      <th>0</th>\n",
       "      <td>UID</td>\n",
       "      <td>DPPC</td>\n",
       "      <td>PFH</td>\n",
       "      <td>Ethanol</td>\n",
       "      <td>Water</td>\n",
       "      <td>Slot</td>\n",
       "      <td>Labware</td>\n",
       "      <td>Well</td>\n",
       "    </tr>\n",
       "    <tr>\n",
       "      <th>1</th>\n",
       "      <td>493829432</td>\n",
       "      <td>0.5</td>\n",
       "      <td>0.2</td>\n",
       "      <td>0.3</td>\n",
       "      <td>0.0</td>\n",
       "      <td>1</td>\n",
       "      <td>96 well</td>\n",
       "      <td>Well A1</td>\n",
       "    </tr>\n",
       "    <tr>\n",
       "      <th>2</th>\n",
       "      <td>497389374294</td>\n",
       "      <td>0.6</td>\n",
       "      <td>0.2</td>\n",
       "      <td>0.2</td>\n",
       "      <td>0.0</td>\n",
       "      <td>1</td>\n",
       "      <td>96 well</td>\n",
       "      <td>Well A2</td>\n",
       "    </tr>\n",
       "  </tbody>\n",
       "</table>\n",
       "</div>"
      ],
      "text/plain": [
       "            UID Component 1 Component 2 Component 3 Component 4  Slot  \\\n",
       "0           UID        DPPC         PFH     Ethanol       Water  Slot   \n",
       "1     493829432         0.5         0.2         0.3         0.0     1   \n",
       "2  497389374294         0.6         0.2         0.2         0.0     1   \n",
       "\n",
       "   Labware     Well  \n",
       "0  Labware     Well  \n",
       "1  96 well  Well A1  \n",
       "2  96 well  Well A2  "
      ]
     },
     "execution_count": 93,
     "metadata": {},
     "output_type": "execute_result"
    }
   ],
   "source": [
    "df = pd.read_csv(filename)\n",
    "df"
   ]
  },
  {
   "cell_type": "code",
   "execution_count": null,
   "metadata": {},
   "outputs": [],
   "source": [
    "# for sample_dict in enumerate(sample_stock_dict_list):\n",
    "#     print(sample_dict[1]['sample'].molarity_dict)\n",
    "#     print(sample_plate)\n",
    "# #     print(sample_plate.well(sample_dict[0]))\n",
    "#     print('\\n')\n",
    "    \n",
    "sample_info_filename = '2020_07_30_OuzoMZ1.csv'\n",
    "\n",
    "with open(sample_info_filename, 'w',newline = '') as csvfile:\n",
    "    csvwriter = csv.writer(csvfile, delimiter=' ')\n",
    "    \n",
    "    sample = sample_stock_dict_list[0]['sample']\n",
    "    header1 = [component.name for component in sample.components_dict.values()]\n",
    "    location_keys = [\"Slot\",\"LabwareType\",\"WellCode\", \"WellIndex\"]\n",
    "    location_dict = dict.fromkeys([\"Slot\",\"LabwareType\",\"WellCode\", \"WellIndex\"], None)\n",
    "    UID_dict = {'UID':None}\n",
    "    \n",
    "    header1.extend(key for key in location_dict.keys())\n",
    "    header1.extend(UID_dict.keys())\n",
    "    \n",
    "    header2 = [key for key in sample.components_dict.keys()]\n",
    "    header2.extend(key for key in location_dict.keys())\n",
    "    header2.extend(UID_dict.keys())\n",
    "\n",
    "    \n",
    "    csvwriter.writerow(header1)\n",
    "    csvwriter.writerow(header2)\n",
    "    csvwriter = csv.DictWriter(csvfile,delimiter = ' ', fieldnames = header2)\n",
    "    \n",
    "    for sample_dict in sample_stock_dict_list:\n",
    "        dict_to_header = None\n",
    "        sample = sample_dict['sample']\n",
    "        sample_well_index = sample_stock_dict_list.index(sample_dict)\n",
    "        s = (sample_plate.well(sample_well_index))\n",
    "        location = s.get_path()\n",
    "        location.append(sample_well_index)\n",
    "        dict_to_header = sample.molarity_dict\n",
    "        \n",
    "\n",
    "        for i, key in enumerate(location_keys):\n",
    "            dict_to_header[key] = location[i]\n",
    "        well_code = dict_to_header[\"WellCode\"]\n",
    "        slot = dict_to_header[\"Slot\"]\n",
    "        UID = str(datetime.datetime.now(pacific).date())+\"_Emuls\"+components_dict['stabilizer1'].name+\"_\"+\"S\"+slot+\"_\"+well_code\n",
    "        UID_dict[\"UID\"] = UID\n",
    "        \n",
    "#         dict_to_header.update({'Well':location})\n",
    "        dict_to_header.update(sample.volf_dict)\n",
    "        dict_to_header.update(UID_dict)\n",
    "        csvwriter.writerow(dict_to_header)\n",
    "       "
   ]
  }
 ],
 "metadata": {
  "kernelspec": {
   "display_name": "Python 3",
   "language": "python",
   "name": "python3"
  },
  "language_info": {
   "codemirror_mode": {
    "name": "ipython",
    "version": 3
   },
   "file_extension": ".py",
   "mimetype": "text/x-python",
   "name": "python",
   "nbconvert_exporter": "python",
   "pygments_lexer": "ipython3",
   "version": "3.6.8"
  }
 },
 "nbformat": 4,
 "nbformat_minor": 4
}
