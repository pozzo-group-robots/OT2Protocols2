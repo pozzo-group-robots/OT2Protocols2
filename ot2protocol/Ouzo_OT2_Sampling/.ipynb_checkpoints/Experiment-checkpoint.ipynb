{
 "cells": [
  {
   "cell_type": "code",
   "execution_count": 6,
   "metadata": {},
   "outputs": [],
   "source": [
    "import os\n",
    "import Ouzo_Sampling_Wtf_Lattice_Volume as create\n",
    "import matplotlib.pyplot as plt\n",
    "import numpy as np\n",
    "import OT2_Ouzo_Commands as ot2_commands\n",
    "from opentrons import simulate, execute, protocol_api"
   ]
  },
  {
   "cell_type": "code",
   "execution_count": 34,
   "metadata": {},
   "outputs": [],
   "source": [
    "experiment_dict = create.get_experiment_plan(r\"C:\\Users\\Edwin\\Desktop\\Repos\\OT2Protocols\\ot2protocol\\Ouzo_OT2_Sampling\\Run09242020\\09_24_2020_E_P_Scan.csv\") # Intialize master dictionary from excel sheet\n",
    "component_dict = create.dict_creator(experiment_dict, 'Component') # Gather all information concerning components into one dictionary\n",
    "stock_dict = create.dict_creator(experiment_dict, 'Stock') \n",
    "opentrons_dict = create.dict_creator(experiment_dict, 'OT2')"
   ]
  },
  {
   "cell_type": "code",
   "execution_count": 35,
   "metadata": {},
   "outputs": [
    {
     "name": "stdout",
     "output_type": "stream",
     "text": [
      "sample filtered out = 59\n",
      "samples remaining = 41\n"
     ]
    }
   ],
   "source": [
    "total_sample_mass = experiment_dict['Sample Mass']\n",
    "wtf_sample_canidates = create.generate_candidate_lattice_concentrations(component_dict) # there is a built in filter for anything summing to over 1, could be somewhat informative\n",
    "sample_stock_volumes = create.calculate_volumes(total_sample_mass, wtf_sample_canidates, component_dict, stock_dict) # created in uL\n",
    "filtered_wtf_samples, filtered_volume_samples = create.filter_samples(wtf_sample_canidates, sample_stock_volumes, 30, 1000)\n",
    "print('sample filtered out =', len(sample_stock_volumes)-len(filtered_volume_samples))\n",
    "print('samples remaining =', len(filtered_volume_samples))"
   ]
  },
  {
   "cell_type": "code",
   "execution_count": 36,
   "metadata": {
    "scrolled": true
   },
   "outputs": [
    {
     "data": {
      "image/png": "[encoded data removed]",
      "text/plain": [
       "<Figure size 432x288 with 1 Axes>"
      ]
     },
     "metadata": {
      "needs_background": "light"
     },
     "output_type": "display_data"
    }
   ],
   "source": [
    "wtf_sample_canidates_rearranged = create.rearrange(wtf_sample_canidates)\n",
    "wtf_final_samples_rearranged = create.rearrange(filtered_wtf_samples)\n",
    "\n",
    "marker_size = 20\n",
    "\n",
    "x_index = 3\n",
    "x_component_name = component_dict['Component Shorthand Names'][x_index]\n",
    "\n",
    "y_index = 2\n",
    "y_component_name = component_dict['Component Shorthand Names'][y_index]\n",
    "\n",
    "# Plot all canidates\n",
    "plt.scatter(wtf_sample_canidates_rearranged[x_index], \n",
    "            wtf_sample_canidates_rearranged[y_index], \n",
    "            marker_size, alpha = 0.6, marker = 'x', color = 'b')\n",
    "\n",
    "# Plot samples actually made \n",
    "plt.scatter(wtf_final_samples_rearranged[x_index], # could automate by looking at the experiment names\n",
    "            wtf_final_samples_rearranged[y_index], \n",
    "            marker_size, alpha = 0.5, marker = 'o', color = 'r')\n",
    "\n",
    "\n",
    "plt.xlabel(x_component_name + ' wtf')\n",
    "plt.ylabel(y_component_name + ' wtf')\n",
    "\n",
    "# could print on graph other useful information like the concentration of the other components.\n",
    "# plt.xlim([0,0.0012])\n",
    "# plt.ylim([0,1])\n",
    "plt.autoscale(True)\n",
    "plt.show()\n",
    "# index refers to order of list in csv file\n",
    "\n"
   ]
  },
  {
   "cell_type": "code",
   "execution_count": 27,
   "metadata": {},
   "outputs": [
    {
     "name": "stderr",
     "output_type": "stream",
     "text": [
      "C:\\Users\\Edwin\\.opentrons\\deck_calibration.json not found. Loading defaults\n",
      "C:\\Users\\Edwin\\.opentrons\\robot_settings.json not found. Loading defaults\n"
     ]
    },
    {
     "ename": "FileNotFoundError",
     "evalue": "Unable to find a labware\n        definition for \"falcon_48_wellplate_800ul\",\n        version 1, in the opentrons namespace.\n        Please confirm your protocol includes the correct\n        labware spelling and (optionally) the correct version\n        number and namespace.\n\n        If you are referencing a custom labware in your\n        protocol, you must add it to your Custom Labware\n        Definitions Folder from the Opentrons App before\n        uploading your protocol.\n        ",
     "output_type": "error",
     "traceback": [
      "\u001b[1;31m---------------------------------------------------------------------------\u001b[0m",
      "\u001b[1;31mFileNotFoundError\u001b[0m                         Traceback (most recent call last)",
      "\u001b[1;32m<ipython-input-27-69fe96f08021>\u001b[0m in \u001b[0;36m<module>\u001b[1;34m\u001b[0m\n\u001b[0;32m      1\u001b[0m \u001b[0mcomponent_volume_lists\u001b[0m \u001b[1;33m=\u001b[0m \u001b[0mcreate\u001b[0m\u001b[1;33m.\u001b[0m\u001b[0mrearrange\u001b[0m\u001b[1;33m(\u001b[0m\u001b[0mfiltered_volume_samples\u001b[0m\u001b[1;33m)\u001b[0m\u001b[1;33m\u001b[0m\u001b[1;33m\u001b[0m\u001b[0m\n\u001b[0;32m      2\u001b[0m \u001b[0mprotocol\u001b[0m \u001b[1;33m=\u001b[0m \u001b[0msimulate\u001b[0m\u001b[1;33m.\u001b[0m\u001b[0mget_protocol_api\u001b[0m\u001b[1;33m(\u001b[0m\u001b[1;34m'2.0'\u001b[0m\u001b[1;33m)\u001b[0m\u001b[1;33m\u001b[0m\u001b[1;33m\u001b[0m\u001b[0m\n\u001b[1;32m----> 3\u001b[1;33m \u001b[0mot2_commands\u001b[0m\u001b[1;33m.\u001b[0m\u001b[0mrun\u001b[0m\u001b[1;33m(\u001b[0m\u001b[0mprotocol\u001b[0m\u001b[1;33m,\u001b[0m \u001b[0mexperiment_dict\u001b[0m\u001b[1;33m,\u001b[0m \u001b[0mopentrons_dict\u001b[0m\u001b[1;33m,\u001b[0m \u001b[0mcomponent_volume_lists\u001b[0m\u001b[1;33m)\u001b[0m \u001b[1;31m# alright cmon wig!\u001b[0m\u001b[1;33m\u001b[0m\u001b[1;33m\u001b[0m\u001b[0m\n\u001b[0m",
      "\u001b[1;32m~\\Desktop\\Repos\\OT2Protocols\\ot2protocol\\Ouzo_OT2_Sampling\\OT2_Ouzo_Commands.py\u001b[0m in \u001b[0;36mrun\u001b[1;34m(protocol, experiment_dict, opentrons_dict, component_volume_lists, mode)\u001b[0m\n\u001b[0;32m     19\u001b[0m \u001b[1;33m\u001b[0m\u001b[0m\n\u001b[0;32m     20\u001b[0m     \u001b[1;31m# verify if you can just add custom labware into OT2 permanatly\u001b[0m\u001b[1;33m\u001b[0m\u001b[1;33m\u001b[0m\u001b[1;33m\u001b[0m\u001b[0m\n\u001b[1;32m---> 21\u001b[1;33m     \u001b[0msample_plate\u001b[0m \u001b[1;33m=\u001b[0m \u001b[0mprotocol\u001b[0m\u001b[1;33m.\u001b[0m\u001b[0mload_labware\u001b[0m\u001b[1;33m(\u001b[0m\u001b[0mopentrons_dict\u001b[0m\u001b[1;33m[\u001b[0m\u001b[1;34m'OT2 Sample Labware'\u001b[0m\u001b[1;33m]\u001b[0m\u001b[1;33m,\u001b[0m \u001b[0mopentrons_dict\u001b[0m\u001b[1;33m[\u001b[0m\u001b[1;34m'OT2 Sample Labware Slot'\u001b[0m\u001b[1;33m]\u001b[0m\u001b[1;33m)\u001b[0m\u001b[1;33m\u001b[0m\u001b[1;33m\u001b[0m\u001b[0m\n\u001b[0m\u001b[0;32m     22\u001b[0m     \u001b[0mstock_plate\u001b[0m \u001b[1;33m=\u001b[0m \u001b[0mprotocol\u001b[0m\u001b[1;33m.\u001b[0m\u001b[0mload_labware\u001b[0m\u001b[1;33m(\u001b[0m\u001b[0mopentrons_dict\u001b[0m\u001b[1;33m[\u001b[0m\u001b[1;34m'OT2 Stock Labware'\u001b[0m\u001b[1;33m]\u001b[0m\u001b[1;33m,\u001b[0m \u001b[0mopentrons_dict\u001b[0m\u001b[1;33m[\u001b[0m\u001b[1;34m'OT2 Stock Labware Slot'\u001b[0m\u001b[1;33m]\u001b[0m\u001b[1;33m)\u001b[0m\u001b[1;33m\u001b[0m\u001b[1;33m\u001b[0m\u001b[0m\n\u001b[0;32m     23\u001b[0m \u001b[1;33m\u001b[0m\u001b[0m\n",
      "\u001b[1;32m~\\Anaconda3\\lib\\site-packages\\opentrons\\protocol_api\\util.py\u001b[0m in \u001b[0;36m_check_version_wrapper\u001b[1;34m(*args, **kwargs)\u001b[0m\n\u001b[0;32m    396\u001b[0m                     \u001b[1;34mf'must increase your API version to {added_in} to '\u001b[0m\u001b[1;33m\u001b[0m\u001b[1;33m\u001b[0m\u001b[0m\n\u001b[0;32m    397\u001b[0m                     'use this functionality.')\n\u001b[1;32m--> 398\u001b[1;33m             \u001b[1;32mreturn\u001b[0m \u001b[0mdecorated_obj\u001b[0m\u001b[1;33m(\u001b[0m\u001b[1;33m*\u001b[0m\u001b[0margs\u001b[0m\u001b[1;33m,\u001b[0m \u001b[1;33m**\u001b[0m\u001b[0mkwargs\u001b[0m\u001b[1;33m)\u001b[0m\u001b[1;33m\u001b[0m\u001b[1;33m\u001b[0m\u001b[0m\n\u001b[0m\u001b[0;32m    399\u001b[0m \u001b[1;33m\u001b[0m\u001b[0m\n\u001b[0;32m    400\u001b[0m         \u001b[1;32mreturn\u001b[0m \u001b[0m_check_version_wrapper\u001b[0m\u001b[1;33m\u001b[0m\u001b[1;33m\u001b[0m\u001b[0m\n",
      "\u001b[1;32m~\\Anaconda3\\lib\\site-packages\\opentrons\\protocol_api\\protocol_context.py\u001b[0m in \u001b[0;36mload_labware\u001b[1;34m(self, load_name, location, label, namespace, version)\u001b[0m\n\u001b[0;32m    346\u001b[0m             \u001b[0mload_name\u001b[0m\u001b[1;33m,\u001b[0m \u001b[0mnamespace\u001b[0m\u001b[1;33m,\u001b[0m \u001b[0mversion\u001b[0m\u001b[1;33m,\u001b[0m\u001b[1;33m\u001b[0m\u001b[1;33m\u001b[0m\u001b[0m\n\u001b[0;32m    347\u001b[0m             \u001b[0mbundled_defs\u001b[0m\u001b[1;33m=\u001b[0m\u001b[0mself\u001b[0m\u001b[1;33m.\u001b[0m\u001b[0m_bundled_labware\u001b[0m\u001b[1;33m,\u001b[0m\u001b[1;33m\u001b[0m\u001b[1;33m\u001b[0m\u001b[0m\n\u001b[1;32m--> 348\u001b[1;33m             extra_defs=self._extra_labware)\n\u001b[0m\u001b[0;32m    349\u001b[0m         return self.load_labware_from_definition(\n\u001b[0;32m    350\u001b[0m             labware_def, location, label)\n",
      "\u001b[1;32m~\\Anaconda3\\lib\\site-packages\\opentrons\\protocol_api\\labware.py\u001b[0m in \u001b[0;36mget_labware_definition\u001b[1;34m(load_name, namespace, version, bundled_defs, extra_defs)\u001b[0m\n\u001b[0;32m   1006\u001b[0m \u001b[1;33m\u001b[0m\u001b[0m\n\u001b[0;32m   1007\u001b[0m     return _get_standard_labware_definition(\n\u001b[1;32m-> 1008\u001b[1;33m         load_name, namespace, version)\n\u001b[0m\u001b[0;32m   1009\u001b[0m \u001b[1;33m\u001b[0m\u001b[0m\n\u001b[0;32m   1010\u001b[0m \u001b[1;33m\u001b[0m\u001b[0m\n",
      "\u001b[1;32m~\\Anaconda3\\lib\\site-packages\\opentrons\\protocol_api\\labware.py\u001b[0m in \u001b[0;36m_get_standard_labware_definition\u001b[1;34m(load_name, namespace, version)\u001b[0m\n\u001b[0;32m    928\u001b[0m \u001b[1;33m\u001b[0m\u001b[0m\n\u001b[0;32m    929\u001b[0m         raise FileNotFoundError(error_msg_string.format(\n\u001b[1;32m--> 930\u001b[1;33m                 load_name, checked_version, OPENTRONS_NAMESPACE))\n\u001b[0m\u001b[0;32m    931\u001b[0m \u001b[1;33m\u001b[0m\u001b[0m\n\u001b[0;32m    932\u001b[0m     \u001b[0mnamespace\u001b[0m \u001b[1;33m=\u001b[0m \u001b[0mnamespace\u001b[0m\u001b[1;33m.\u001b[0m\u001b[0mlower\u001b[0m\u001b[1;33m(\u001b[0m\u001b[1;33m)\u001b[0m\u001b[1;33m\u001b[0m\u001b[1;33m\u001b[0m\u001b[0m\n",
      "\u001b[1;31mFileNotFoundError\u001b[0m: Unable to find a labware\n        definition for \"falcon_48_wellplate_800ul\",\n        version 1, in the opentrons namespace.\n        Please confirm your protocol includes the correct\n        labware spelling and (optionally) the correct version\n        number and namespace.\n\n        If you are referencing a custom labware in your\n        protocol, you must add it to your Custom Labware\n        Definitions Folder from the Opentrons App before\n        uploading your protocol.\n        "
     ]
    }
   ],
   "source": [
    "component_volume_lists = create.rearrange(filtered_volume_samples)\n",
    "protocol = simulate.get_protocol_api('2.0')\n",
    "ot2_commands.run(protocol, experiment_dict, opentrons_dict, component_volume_lists) # alright cmon wig!"
   ]
  },
  {
   "cell_type": "code",
   "execution_count": null,
   "metadata": {
    "scrolled": false
   },
   "outputs": [],
   "source": []
  }
 ],
 "metadata": {
  "kernelspec": {
   "display_name": "Python 3",
   "language": "python",
   "name": "python3"
  },
  "language_info": {
   "codemirror_mode": {
    "name": "ipython",
    "version": 3
   },
   "file_extension": ".py",
   "mimetype": "text/x-python",
   "name": "python",
   "nbconvert_exporter": "python",
   "pygments_lexer": "ipython3",
   "version": "3.7.3"
  }
 },
 "nbformat": 4,
 "nbformat_minor": 4
}
