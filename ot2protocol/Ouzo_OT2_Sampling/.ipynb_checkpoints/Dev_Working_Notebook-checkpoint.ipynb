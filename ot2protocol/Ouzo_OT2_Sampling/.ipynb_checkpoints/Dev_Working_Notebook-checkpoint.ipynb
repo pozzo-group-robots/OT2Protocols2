{
 "cells": [
  {
   "cell_type": "code",
   "execution_count": 53,
   "metadata": {
    "scrolled": false
   },
   "outputs": [],
   "source": [
    "import CreateSamples\n",
    "import OT2_Ouzo_Commands_API2c as ALH\n",
    "import Ouzo_Graph_Tools as ouzo_graphs\n",
    "from opentrons import simulate, execute, protocol_api\n",
    "import importlib # for reloading packages\n",
    "import pandas as pd\n",
    "\n",
    "import matplotlib.pyplot as plt"
   ]
  },
  {
   "cell_type": "code",
   "execution_count": 64,
   "metadata": {
    "scrolled": false
   },
   "outputs": [
    {
     "data": {
      "text/plain": [
       "<module 'OT2_Ouzo_Commands_API2c' from 'C:\\\\Users\\\\Edwin\\\\Desktop\\\\OT2Protocols\\\\ot2protocol\\\\Ouzo_OT2_Sampling\\\\OT2_Ouzo_Commands_API2c.py'>"
      ]
     },
     "execution_count": 64,
     "metadata": {},
     "output_type": "execute_result"
    }
   ],
   "source": [
    "importlib.reload(CreateSamples)\n",
    "importlib.reload(ALH)"
   ]
  },
  {
   "cell_type": "code",
   "execution_count": 387,
   "metadata": {},
   "outputs": [],
   "source": [
    "def check_for_volume_unit(name): # need to find a better systematic way of dealing with units and conversions\n",
    "    \"\"\"Number bases is from L, i.e. mL number base will be 1000\"\"\"\n",
    "    unit_dict = {'mL':1000, 'uL':1000000}\n",
    "    unit_dict_keys = unit_dict.keys()\n",
    "    \n",
    "    for unit in unit_dict_keys:\n",
    "        if unit in name:\n",
    "            return {unit:unit_dict[unit]}\n",
    "\n",
    "def convert_to_liter(df):\n",
    "    \"\"\"Will convert any volume unit to base of liter. Make sure no dtypes are mixed (i.e. not object)\"\"\"\n",
    "    for name in df:\n",
    "        unit_dict = check_for_volume_unit(name)\n",
    "        unit = next(iter(t))\n",
    "        conversion_value = unit_dict[unit]\n",
    "        \n",
    "        new_name = name.replace(unit,\"L\")\n",
    "        df[new_name] = df[name]/conversion_value\n",
    "        df.drop([name], axis=1, inplace = True)\n",
    "    return df\n",
    "        \n",
    "        \n",
    "def check_unit_congruence(df):\n",
    "    cols = df.columns\n",
    "    units = []\n",
    "    for col in cols:\n",
    "        unit = check_for_volume_unit(col)\n",
    "        units.append(unit)\n",
    "    if all_same(units) == False:\n",
    "        raise AssertionError('All units of columns are not identical, please convert all units and associated names to equal units.')\n",
    "              \n",
    "def all_same(items):\n",
    "    \"Checks whether all elements are identical in type and value, using the initial entry as the basis of comparison\"\n",
    "    return all(x == items[0] for x in items)"
   ]
  },
  {
   "cell_type": "code",
   "execution_count": 73,
   "metadata": {
    "scrolled": true
   },
   "outputs": [
    {
     "data": {
      "text/html": [
       "<div>\n",
       "<style scoped>\n",
       "    .dataframe tbody tr th:only-of-type {\n",
       "        vertical-align: middle;\n",
       "    }\n",
       "\n",
       "    .dataframe tbody tr th {\n",
       "        vertical-align: top;\n",
       "    }\n",
       "\n",
       "    .dataframe thead th {\n",
       "        text-align: right;\n",
       "    }\n",
       "</style>\n",
       "<table border=\"1\" class=\"dataframe\">\n",
       "  <thead>\n",
       "    <tr style=\"text-align: right;\">\n",
       "      <th></th>\n",
       "      <th>\"Value\"</th>\n",
       "    </tr>\n",
       "    <tr>\n",
       "      <th>Variable Name</th>\n",
       "      <th></th>\n",
       "    </tr>\n",
       "  </thead>\n",
       "  <tbody>\n",
       "    <tr>\n",
       "      <th>Protocol Version</th>\n",
       "      <td>\"2.0\"</td>\n",
       "    </tr>\n",
       "    <tr>\n",
       "      <th>Experimenter</th>\n",
       "      <td>\"Edwin Antonio\"</td>\n",
       "    </tr>\n",
       "    <tr>\n",
       "      <th>Project Tag</th>\n",
       "      <td>\"Ethanol and PFH Scan\"</td>\n",
       "    </tr>\n",
       "    <tr>\n",
       "      <th>Experiment Tag</th>\n",
       "      <td>\"Experiment 1 Trial 1\"</td>\n",
       "    </tr>\n",
       "    <tr>\n",
       "      <th>Sample Amount</th>\n",
       "      <td>0.7</td>\n",
       "    </tr>\n",
       "    <tr>\n",
       "      <th>Sample Unit</th>\n",
       "      <td>\"g\"</td>\n",
       "    </tr>\n",
       "    <tr>\n",
       "      <th>Component Good Solvent Index (Only Ouzo)</th>\n",
       "      <td>4</td>\n",
       "    </tr>\n",
       "    <tr>\n",
       "      <th>Component Poor Solvent Index (Only Ouzo)</th>\n",
       "      <td>5</td>\n",
       "    </tr>\n",
       "    <tr>\n",
       "      <th>Component Shorthand Names</th>\n",
       "      <td>[ 'dppc', 'dspe-peg', 'PFH', 'ethanol' , 'water']</td>\n",
       "    </tr>\n",
       "    <tr>\n",
       "      <th>Component Density (g/mL)</th>\n",
       "      <td>[1, 1, 1.67, 0.79, 1]</td>\n",
       "    </tr>\n",
       "    <tr>\n",
       "      <th>Component MW (g/mol)</th>\n",
       "      <td>[734.04, 2805.5, 41.07, 323, 1]</td>\n",
       "    </tr>\n",
       "    <tr>\n",
       "      <th>Component Concentration Unit</th>\n",
       "      <td>['molf','molf','molf','molf','molf']</td>\n",
       "    </tr>\n",
       "    <tr>\n",
       "      <th>Component Solution vol to wt density (g/mL)</th>\n",
       "      <td>[0.79,0.79,'NA','NA','NA']</td>\n",
       "    </tr>\n",
       "    <tr>\n",
       "      <th>Component Graphing X Index</th>\n",
       "      <td>\"remove\"</td>\n",
       "    </tr>\n",
       "    <tr>\n",
       "      <th>Component Graphing Y Index</th>\n",
       "      <td>\"remove\"</td>\n",
       "    </tr>\n",
       "    <tr>\n",
       "      <th>Component Spacing</th>\n",
       "      <td>\"linear\"</td>\n",
       "    </tr>\n",
       "    <tr>\n",
       "      <th>Blank Component Concentrations (wtfs)</th>\n",
       "      <td>[0,0,0,0,1]</td>\n",
       "    </tr>\n",
       "    <tr>\n",
       "      <th>Component Concentrations [min, max, n]</th>\n",
       "      <td>[[0, 0,1], [1.25e-4,1.25e-4,1], [0, 0.07,100],...</td>\n",
       "    </tr>\n",
       "    <tr>\n",
       "      <th>Stock Names</th>\n",
       "      <td>['dppc-stock', 'dspe-peg-stock', 'PFH-ethanol-...</td>\n",
       "    </tr>\n",
       "    <tr>\n",
       "      <th>Stock Concentration Units</th>\n",
       "      <td>[ 'molarity','molarity','wtf', 'wtf','wtf']</td>\n",
       "    </tr>\n",
       "    <tr>\n",
       "      <th>Stock Search Concentrations [min, max, n]</th>\n",
       "      <td>[[0.002724647, 0.002724647,1], [0.000356443,0....</td>\n",
       "    </tr>\n",
       "    <tr>\n",
       "      <th>Final Selected Stock Concentrations</th>\n",
       "      <td>[0.002724647,0.000356443,0.0149199,1,1]</td>\n",
       "    </tr>\n",
       "    <tr>\n",
       "      <th>Stock Appx Density (g/mL)</th>\n",
       "      <td>[0.79, 0.79, 0.79, 0.79, 1]</td>\n",
       "    </tr>\n",
       "    <tr>\n",
       "      <th>Volume Restriction</th>\n",
       "      <td>['N','N','N','N','Y']</td>\n",
       "    </tr>\n",
       "    <tr>\n",
       "      <th>OT2 Stock Dispensing Order</th>\n",
       "      <td>[1,2,3,4,5]</td>\n",
       "    </tr>\n",
       "    <tr>\n",
       "      <th>OT2 Destination Labwares</th>\n",
       "      <td>[\"corning_96_wellplate_360ul_flat\", \"corning_9...</td>\n",
       "    </tr>\n",
       "    <tr>\n",
       "      <th>OT2 Destination Labware Slots</th>\n",
       "      <td>[\"2\",\"3\",\"4\"]</td>\n",
       "    </tr>\n",
       "    <tr>\n",
       "      <th>OT2 Sample Labware Start</th>\n",
       "      <td>0</td>\n",
       "    </tr>\n",
       "    <tr>\n",
       "      <th>OT2 Stock Labwares</th>\n",
       "      <td>[\"20mlscintillation_12_wellplate_18000ul\",\"20m...</td>\n",
       "    </tr>\n",
       "    <tr>\n",
       "      <th>OT2 Stock Labware Slots</th>\n",
       "      <td>[\"1\",\"5\"]</td>\n",
       "    </tr>\n",
       "    <tr>\n",
       "      <th>OT2 Stock Labware Stock Order</th>\n",
       "      <td>[1,2,3,4,5]</td>\n",
       "    </tr>\n",
       "    <tr>\n",
       "      <th>OT2 Left Pipette</th>\n",
       "      <td>\"p300_single_gen2\"</td>\n",
       "    </tr>\n",
       "    <tr>\n",
       "      <th>OT2 Left Pipette Aspiration Rate (uL/sec)</th>\n",
       "      <td>150</td>\n",
       "    </tr>\n",
       "    <tr>\n",
       "      <th>OT2 Left Pipette Dispense Rate (uL/sec)</th>\n",
       "      <td>300</td>\n",
       "    </tr>\n",
       "    <tr>\n",
       "      <th>OT2 Left Tipracks</th>\n",
       "      <td>[\"opentrons_96_tiprack_300ul\", \"opentrons_96_t...</td>\n",
       "    </tr>\n",
       "    <tr>\n",
       "      <th>OT2 Left Tiprack Slots</th>\n",
       "      <td>[\"10\", \"7\"]</td>\n",
       "    </tr>\n",
       "    <tr>\n",
       "      <th>OT2 Right Pipette</th>\n",
       "      <td>\"p1000_single\"</td>\n",
       "    </tr>\n",
       "    <tr>\n",
       "      <th>OT2 Right Pipette Aspiration Rate (uL/sec)</th>\n",
       "      <td>500</td>\n",
       "    </tr>\n",
       "    <tr>\n",
       "      <th>OT2 Right Pipette Dispense Rate (uL/sec)</th>\n",
       "      <td>1000</td>\n",
       "    </tr>\n",
       "    <tr>\n",
       "      <th>OT2 Right Tipracks</th>\n",
       "      <td>[\"opentrons_96_tiprack_1000ul\", \"opentrons_96_...</td>\n",
       "    </tr>\n",
       "    <tr>\n",
       "      <th>OT2 Right Tiprack Slots</th>\n",
       "      <td>[\"11\",\"8\"]</td>\n",
       "    </tr>\n",
       "    <tr>\n",
       "      <th>OT2 Bottom Dispensing Clearance (mm)</th>\n",
       "      <td>30</td>\n",
       "    </tr>\n",
       "    <tr>\n",
       "      <th>OT2 Dependent Transfer Volume (uL)</th>\n",
       "      <td>350</td>\n",
       "    </tr>\n",
       "    <tr>\n",
       "      <th>OT2 Dependent Transfer Dest Labwares</th>\n",
       "      <td>[\"corning_96_wellplate_360ul_flat\"]</td>\n",
       "    </tr>\n",
       "    <tr>\n",
       "      <th>OT2 Dependent Transfer Dest Slots</th>\n",
       "      <td>[\"5\"]</td>\n",
       "    </tr>\n",
       "    <tr>\n",
       "      <th>OT2 Independent Transfer Volume (uL)</th>\n",
       "      <td>300</td>\n",
       "    </tr>\n",
       "    <tr>\n",
       "      <th>OT2 Independent Transfer Source Labwares</th>\n",
       "      <td>[\"corning_96_wellplate_360ul_flat\", \"corning_9...</td>\n",
       "    </tr>\n",
       "    <tr>\n",
       "      <th>OT2 Independent Transfer Source Slots</th>\n",
       "      <td>[\"2\", \"3\"]</td>\n",
       "    </tr>\n",
       "    <tr>\n",
       "      <th>OT2 Independent Transfer Source [Start, Stop]</th>\n",
       "      <td>[0,5]</td>\n",
       "    </tr>\n",
       "    <tr>\n",
       "      <th>OT2 Independent Transfer Dest Labwares</th>\n",
       "      <td>[\"corning_96_wellplate_360ul_flat\", \"corning_9...</td>\n",
       "    </tr>\n",
       "    <tr>\n",
       "      <th>OT2 Independent Transfer Dest Slots</th>\n",
       "      <td>[\"5\",\"6\"]</td>\n",
       "    </tr>\n",
       "    <tr>\n",
       "      <th>OT2 Independent Transfer Dest [Start, Stop]</th>\n",
       "      <td>[0,5]</td>\n",
       "    </tr>\n",
       "    <tr>\n",
       "      <th>Last Updated Code Date</th>\n",
       "      <td>12</td>\n",
       "    </tr>\n",
       "  </tbody>\n",
       "</table>\n",
       "</div>"
      ],
      "text/plain": [
       "                                                                                         \"Value\"\n",
       "Variable Name                                                                                   \n",
       "Protocol Version                                                                           \"2.0\"\n",
       "Experimenter                                                                     \"Edwin Antonio\"\n",
       "Project Tag                                                               \"Ethanol and PFH Scan\"\n",
       "Experiment Tag                                                            \"Experiment 1 Trial 1\"\n",
       "Sample Amount                                                                                0.7\n",
       "Sample Unit                                                                                  \"g\"\n",
       "Component Good Solvent Index (Only Ouzo)                                                       4\n",
       "Component Poor Solvent Index (Only Ouzo)                                                       5\n",
       "Component Shorthand Names                      [ 'dppc', 'dspe-peg', 'PFH', 'ethanol' , 'water']\n",
       "Component Density (g/mL)                                                   [1, 1, 1.67, 0.79, 1]\n",
       "Component MW (g/mol)                                             [734.04, 2805.5, 41.07, 323, 1]\n",
       "Component Concentration Unit                                ['molf','molf','molf','molf','molf']\n",
       "Component Solution vol to wt density (g/mL)                           [0.79,0.79,'NA','NA','NA']\n",
       "Component Graphing X Index                                                              \"remove\"\n",
       "Component Graphing Y Index                                                              \"remove\"\n",
       "Component Spacing                                                                       \"linear\"\n",
       "Blank Component Concentrations (wtfs)                                                [0,0,0,0,1]\n",
       "Component Concentrations [min, max, n]         [[0, 0,1], [1.25e-4,1.25e-4,1], [0, 0.07,100],...\n",
       "Stock Names                                    ['dppc-stock', 'dspe-peg-stock', 'PFH-ethanol-...\n",
       "Stock Concentration Units                            [ 'molarity','molarity','wtf', 'wtf','wtf']\n",
       "Stock Search Concentrations [min, max, n]      [[0.002724647, 0.002724647,1], [0.000356443,0....\n",
       "Final Selected Stock Concentrations                      [0.002724647,0.000356443,0.0149199,1,1]\n",
       "Stock Appx Density (g/mL)                                            [0.79, 0.79, 0.79, 0.79, 1]\n",
       "Volume Restriction                                                         ['N','N','N','N','Y']\n",
       "OT2 Stock Dispensing Order                                                           [1,2,3,4,5]\n",
       "OT2 Destination Labwares                       [\"corning_96_wellplate_360ul_flat\", \"corning_9...\n",
       "OT2 Destination Labware Slots                                                      [\"2\",\"3\",\"4\"]\n",
       "OT2 Sample Labware Start                                                                       0\n",
       "OT2 Stock Labwares                             [\"20mlscintillation_12_wellplate_18000ul\",\"20m...\n",
       "OT2 Stock Labware Slots                                                                [\"1\",\"5\"]\n",
       "OT2 Stock Labware Stock Order                                                        [1,2,3,4,5]\n",
       "OT2 Left Pipette                                                              \"p300_single_gen2\"\n",
       "OT2 Left Pipette Aspiration Rate (uL/sec)                                                    150\n",
       "OT2 Left Pipette Dispense Rate (uL/sec)                                                      300\n",
       "OT2 Left Tipracks                              [\"opentrons_96_tiprack_300ul\", \"opentrons_96_t...\n",
       "OT2 Left Tiprack Slots                                                               [\"10\", \"7\"]\n",
       "OT2 Right Pipette                                                                 \"p1000_single\"\n",
       "OT2 Right Pipette Aspiration Rate (uL/sec)                                                   500\n",
       "OT2 Right Pipette Dispense Rate (uL/sec)                                                    1000\n",
       "OT2 Right Tipracks                             [\"opentrons_96_tiprack_1000ul\", \"opentrons_96_...\n",
       "OT2 Right Tiprack Slots                                                               [\"11\",\"8\"]\n",
       "OT2 Bottom Dispensing Clearance (mm)                                                          30\n",
       "OT2 Dependent Transfer Volume (uL)                                                           350\n",
       "OT2 Dependent Transfer Dest Labwares                         [\"corning_96_wellplate_360ul_flat\"]\n",
       "OT2 Dependent Transfer Dest Slots                                                          [\"5\"]\n",
       "OT2 Independent Transfer Volume (uL)                                                         300\n",
       "OT2 Independent Transfer Source Labwares       [\"corning_96_wellplate_360ul_flat\", \"corning_9...\n",
       "OT2 Independent Transfer Source Slots                                                 [\"2\", \"3\"]\n",
       "OT2 Independent Transfer Source [Start, Stop]                                              [0,5]\n",
       "OT2 Independent Transfer Dest Labwares         [\"corning_96_wellplate_360ul_flat\", \"corning_9...\n",
       "OT2 Independent Transfer Dest Slots                                                    [\"5\",\"6\"]\n",
       "OT2 Independent Transfer Dest [Start, Stop]                                                [0,5]\n",
       "Last Updated Code Date                                                                        12"
      ]
     },
     "execution_count": 73,
     "metadata": {},
     "output_type": "execute_result"
    }
   ],
   "source": [
    "# attempting to load as df to prevent having to the dicate data type with \"\" in csv, .read_csv loads all as string so could make functions to assign and convert data types  \n",
    "# for now just use it to view\n",
    "df = pd.read_csv(path)\n",
    "df.index = df['Variable Name']\n",
    "df = df.drop(columns=['Variable Name'])\n",
    "# df = df.T\n",
    "# print(df['OT2 Destination Labwares'], type(df['OT2 Destination Labwares'][0]))\n",
    "\n",
    "# x = df['OT2 Destination Labwares'][0]\n",
    "# x[3]\n",
    "df"
   ]
  },
  {
   "cell_type": "code",
   "execution_count": 118,
   "metadata": {
    "scrolled": true
   },
   "outputs": [],
   "source": [
    "# Step 1: Call and Collect\n",
    "\n",
    "labware_dir_path = r\"C:\\Users\\Edwin\\Desktop\\OT2Protocols\\ot2protocol\\Ouzo_OT2_Sampling\\Custom Labware\"\n",
    "labware_dict = ALH.custom_labware_dict(labware_dir_path)\n",
    "custom_labware_dict= labware_dict\n",
    "\n",
    "# these variables although have the same names when searching for the stocks should now replace those for the actual selectede one. \n",
    "path = r\"C:\\Users\\Edwin\\Desktop\\OT2Protocols\\ot2protocol\\Ouzo_OT2_Sampling\\Testing Plans\\Example_Working_Protocol.csv\"\n",
    "experiment_csv_dict = CreateSamples.get_experiment_plan(path) # explain specfically what this is !\n"
   ]
  },
  {
   "cell_type": "code",
   "execution_count": 119,
   "metadata": {
    "scrolled": true
   },
   "outputs": [],
   "source": [
    "# Step 2: Create wtf and vol dataframes, combine into one as to make any filtering affect both.\n",
    "wtf_sample_canidates = CreateSamples.generate_candidate_lattice_concentrations(experiment_csv_dict)\n",
    "volume_sample_canidates = CreateSamples.calculate_ouzo_volumes_from_wtf(wtf_sample_canidates, experiment_csv_dict)\n",
    "complete_df = CreateSamples.combine_df(wtf_sample_canidates, volume_sample_canidates) # unfiltered\n",
    "# maybe the units for these should just be its own column so its easier to grab??"
   ]
  },
  {
   "cell_type": "code",
   "execution_count": 121,
   "metadata": {
    "scrolled": true
   },
   "outputs": [
    {
     "name": "stderr",
     "output_type": "stream",
     "text": [
      "C:\\Users\\Edwin\\.opentrons\\deck_calibration.json not found. Loading defaults\n",
      "C:\\Users\\Edwin\\.opentrons\\robot_settings.json not found. Loading defaults\n"
     ]
    }
   ],
   "source": [
    "# Step 3: Apply filters through df based logic, currently 4 filters exist (volume, total, general min and general max)\n",
    "\n",
    "# First filter for pipette volume constraints, optional Volume Restriction to select certain components for filter application (\"stock\" must be in column name)\n",
    "complete_df_f1 = CreateSamples.pipette_volume_restriction_df(complete_df, 30, 1000, experiment_csv_dict['Volume Restriction']) # last argument is optional\n",
    "\n",
    "# Second filter for overall total volume_restriction, call max destination well volume (\"Total Sample Volume\" must be in column name)\n",
    "max_dest_well_volume = ALH.find_max_dest_volume_labware(experiment_csv_dict, custom_labware_dict)\n",
    "complete_df_f2 = CreateSamples.total_volume_restriction_df(complete_df_f1,650)\n",
    "\n",
    "\n",
    "#Thrid filter for any general max or min filtering you would like\n",
    "complete_df_f3 = CreateSamples.general_max_restriction(complete_df_f2, 360, 'pfh-ethanol-stock uL')"
   ]
  },
  {
   "cell_type": "code",
   "execution_count": 177,
   "metadata": {},
   "outputs": [
    {
     "data": {
      "text/plain": [
       "0.0"
      ]
     },
     "execution_count": 177,
     "metadata": {},
     "output_type": "execute_result"
    }
   ],
   "source": [
    "complete_df_f3['dppc-ethanol-stock uL'].iloc[0]"
   ]
  },
  {
   "cell_type": "code",
   "execution_count": 123,
   "metadata": {},
   "outputs": [
    {
     "data": {
      "image/png": "[encoded data removed]",
      "text/plain": [
       "<Figure size 432x288 with 1 Axes>"
      ]
     },
     "metadata": {
      "needs_background": "light"
     },
     "output_type": "display_data"
    },
    {
     "data": {
      "image/png": "[encoded data removed]",
      "text/plain": [
       "<Figure size 432x288 with 1 Axes>"
      ]
     },
     "metadata": {
      "needs_background": "light"
     },
     "output_type": "display_data"
    }
   ],
   "source": [
    "def xy_scatter_df(df, x_name, y_name):\n",
    "    x = df[x_name]\n",
    "    y = df[y_name]\n",
    "    \n",
    "    fig, ax = plt.subplots(1)\n",
    "    ax.scatter(x, y, marker=\"+\", c = 'black')\n",
    "    ax.set_xlabel(x_name)\n",
    "    ax.set_ylabel(y_name)\n",
    "    \n",
    "    \n",
    "def xy_scatter_df_compare(df1, df2, x_name, y_name):\n",
    "    x1 = df1[x_name]\n",
    "    y1 = df1[y_name]\n",
    "    \n",
    "    x2 = df2[x_name]\n",
    "    y2 = df2[y_name]\n",
    "    \n",
    "    fig, ax = plt.subplots(1)\n",
    "    ax.scatter(x1, y1, marker=\"s\", alpha=0.4, c = 'orange')\n",
    "    ax.scatter(x2, y2, marker=\"+\", c = 'black')\n",
    "    ax.set_xlabel(x_name)\n",
    "    ax.set_ylabel(y_name)\n",
    "    \n",
    "def xyz_scatter_df(df, x_name, y_name, z_name):\n",
    "    columns = df.columns\n",
    "    \n",
    "xy_scatter_df_compare(complete_df, complete_df_f3, 'ethanol molf', 'pfh molf')\n",
    "xy_scatter_df(complete_df_f3, 'ethanol molf', 'pfh molf')"
   ]
  },
  {
   "cell_type": "code",
   "execution_count": 238,
   "metadata": {},
   "outputs": [],
   "source": [
    "def stock_molarity(total_volume, concentration, solute_mw, solute_density):\n",
    "    \"\"\"Volume is to be in liters and density is to be in g/L\"\"\"\n",
    "    solute_moles = concentration*total_volume # mol/L * L\n",
    "    solute_grams = solute_moles/solute_mw # mol/(g/mol)\n",
    "    \n",
    "    if solute_density == 'Negligible':\n",
    "        solute_volume = 0\n",
    "    else: \n",
    "        solute_volume = solute_grams/solute_density # g/(g/L)\n",
    "    \n",
    "    solvent_volume = total_volume - solute_volume\n",
    "    \n",
    "    return solute_grams, solvent_volume"
   ]
  },
  {
   "cell_type": "code",
   "execution_count": 236,
   "metadata": {},
   "outputs": [],
   "source": [
    "def stock_components(stock_name):\n",
    "    \"\"\"The stock name is required to be in the form 'solute n-solvent-stock' where the entry prior to the keyword stock are solvent\n",
    "    and anything prior to that is assumed a solute. Will return a dictionary of the solvent and solute while pulling information from \"\"\"\n",
    "    stock_components = stock_name.split('-')\n",
    "    stock_solutes = stock_components[:-2] # will always be a list\n",
    "    stock_solvents = stock_components[-2]\n",
    "    \n",
    "    return stock_solutes, stock_solvents"
   ]
  },
  {
   "cell_type": "code",
   "execution_count": 194,
   "metadata": {
    "scrolled": true
   },
   "outputs": [
    {
     "ename": "SyntaxError",
     "evalue": "invalid syntax (<ipython-input-194-2f543a54ed83>, line 2)",
     "output_type": "error",
     "traceback": [
      "\u001b[1;36m  File \u001b[1;32m\"<ipython-input-194-2f543a54ed83>\"\u001b[1;36m, line \u001b[1;32m2\u001b[0m\n\u001b[1;33m    if unit = 'molarity':\u001b[0m\n\u001b[1;37m            ^\u001b[0m\n\u001b[1;31mSyntaxError\u001b[0m\u001b[1;31m:\u001b[0m invalid syntax\n"
     ]
    }
   ],
   "source": [
    "def stock_unit_wrapper(unit):\n",
    "    if unit = 'molarity':\n",
    "        pass\n",
    "    if unit = 'wtf'\n",
    "        pass"
   ]
  },
  {
   "cell_type": "code",
   "execution_count": null,
   "metadata": {},
   "outputs": [],
   "source": [
    "def convert_units(df):\n",
    "    "
   ]
  },
  {
   "cell_type": "code",
   "execution_count": 306,
   "metadata": {
    "scrolled": true
   },
   "outputs": [
    {
     "name": "stdout",
     "output_type": "stream",
     "text": [
      "<class 'float'>\n",
      "dppc 734.039 Negligible\n",
      "0.0 0.0\n",
      "<class 'float'>\n",
      "dspepeg2000 2790.521 Negligible\n",
      "0.0006594236159579868 5162.495681572362\n",
      "<class 'float'>\n",
      "<class 'float'>\n",
      "<class 'float'>\n"
     ]
    }
   ],
   "source": [
    "# now lets calcualte stock volume and other important data like min/max total sample volume (well maybe not necessary)\n",
    "column_names = complete_df_f3.columns\n",
    "stock_column_names = [column_name for column_name in column_names if \"stock\" in column_name]\n",
    "stock_df = complete_df_f3.copy()[stock_column_names]\n",
    "\n",
    "# Isolate the total sum of volumes of stocks\n",
    "stock_df.loc['Total Volume'] = stock_df.sum(numeric_only=True, axis=0)\n",
    "stock_df = pd.DataFrame(stock_df.loc['Total Volume']).T # all units are assumed to be the same if not raise exception\n",
    "\n",
    "# Given all units are the same now add the stock information\n",
    "check_unit_congruence(stock_df)\n",
    "stock_df.loc['Final Selected Stock Concentrations'] = experiment_csv_dict['Final Selected Stock Concentrations']\n",
    "stock_df = \n",
    "# adding this messes up datatypes as mixing them leads to all being objects\n",
    "stock_df.loc['Stock Concentration Units'] = experiment_csv_dict['Stock Concentration Units']\n",
    "\n",
    "chem_database_path = r\"C:\\Users\\Edwin\\Desktop\\OT2Protocols\\ot2protocol\\Ouzo_OT2_Sampling\\Chemical Database.xlsx\"\n",
    "chem_database_df = pd.read_excel(chem_path)\n",
    "\n",
    "\n",
    "# At the moment only molarity, volf, and wtf stocks are supported (add mg/mL for sure)\n",
    "for stock in stock_df:\n",
    "    total_volume = stock_df[stock]['Total Volume']\n",
    "    stock_unit = stock_df[stock]['Stock Concentration Units']\n",
    "    stock_conc = stock_df[stock]['Final Selected Stock Concentrations']\n",
    "    print(type(stock_conc))\n",
    "    solutes, solvent = stock_components(stock) # currently only one solvent and solute supported\n",
    "    \n",
    "    #All stocks will obvi have a solvent, but the solute is optional\n",
    "    solvent_component_info = chem_database_df.loc[chem_database_df['Component Abbreviation'] == solvent]\n",
    "    \n",
    "    if not solutes: # if no solutes present\n",
    "        # then solely solvent no need to call a function\n",
    "        solute_volume = 0\n",
    "        solvent_volume = total_vol\n",
    "    \n",
    "    if solutes: # checks if list is empty\n",
    "        solute = solutes[0]\n",
    "        solute_component_info = chem_database_df.loc[chem_database_df['Component Abbreviation'] == solute] # add assertion to ensure component in database\n",
    "        if stock_unit == 'molarity':\n",
    "            solute_mw = solute_component_info['Molecular Weight (g/mol)'].iloc[0] # only call info if needed, if common between units then pull up one level\n",
    "            solute_density = solute_component_info['Density (g/L)'].iloc[0]\n",
    "            \n",
    "            solute_grams, solvent_volume = stock_molarity(total_volume, stock_conc, solute_mw, solute_density)\n",
    "            print(solute, solute_mw, solute_density)\n",
    "            print(solute_grams, solvent_volume)\n",
    "            \n",
    "            \n",
    "# # ################            \n",
    "# if solute_density == \"NA\":\n",
    "#                 print('ds')\n",
    "#             \n",
    "            \n",
    "    \n",
    "    \n",
    "    \n",
    "#     print(stock, vol, unit, conc, solutes, solvents)\n",
    "    \n",
    "# stock name entry ['dppc-stock', 'dspe-peg-stock', 'PFH-ethanol-stock','ethanol-stock', 'water-stock' ] = ['solute n-solvent-stock'] \n",
    "# to end the stock since every stock will have a solvent just say stock it will always be assumed prior to 'stock' will be solvent then everything else solute"
   ]
  },
  {
   "cell_type": "code",
   "execution_count": 389,
   "metadata": {},
   "outputs": [
    {
     "data": {
      "text/html": [
       "<div>\n",
       "<style scoped>\n",
       "    .dataframe tbody tr th:only-of-type {\n",
       "        vertical-align: middle;\n",
       "    }\n",
       "\n",
       "    .dataframe tbody tr th {\n",
       "        vertical-align: top;\n",
       "    }\n",
       "\n",
       "    .dataframe thead th {\n",
       "        text-align: right;\n",
       "    }\n",
       "</style>\n",
       "<table border=\"1\" class=\"dataframe\">\n",
       "  <thead>\n",
       "    <tr style=\"text-align: right;\">\n",
       "      <th></th>\n",
       "      <th>dppc-ethanol-stock L</th>\n",
       "      <th>dspepeg2000-ethanol-stock L</th>\n",
       "      <th>pfh-ethanol-stock L</th>\n",
       "      <th>ethanol-stock L</th>\n",
       "      <th>water-stock L</th>\n",
       "    </tr>\n",
       "  </thead>\n",
       "  <tbody>\n",
       "    <tr>\n",
       "      <th>Total Volume</th>\n",
       "      <td>0.000</td>\n",
       "      <td>5.162496e+09</td>\n",
       "      <td>9.280260e+09</td>\n",
       "      <td>1.328428e+10</td>\n",
       "      <td>8.248612e+09</td>\n",
       "    </tr>\n",
       "    <tr>\n",
       "      <th>Final Selected Stock Concentrations</th>\n",
       "      <td>2724.647</td>\n",
       "      <td>3.564430e+02</td>\n",
       "      <td>1.491990e+04</td>\n",
       "      <td>1.000000e+06</td>\n",
       "      <td>1.000000e+06</td>\n",
       "    </tr>\n",
       "  </tbody>\n",
       "</table>\n",
       "</div>"
      ],
      "text/plain": [
       "                                     dppc-ethanol-stock L  \\\n",
       "Total Volume                                        0.000   \n",
       "Final Selected Stock Concentrations              2724.647   \n",
       "\n",
       "                                     dspepeg2000-ethanol-stock L  \\\n",
       "Total Volume                                        5.162496e+09   \n",
       "Final Selected Stock Concentrations                 3.564430e+02   \n",
       "\n",
       "                                     pfh-ethanol-stock L  ethanol-stock L  \\\n",
       "Total Volume                                9.280260e+09     1.328428e+10   \n",
       "Final Selected Stock Concentrations         1.491990e+04     1.000000e+06   \n",
       "\n",
       "                                     water-stock L  \n",
       "Total Volume                          8.248612e+09  \n",
       "Final Selected Stock Concentrations   1.000000e+06  "
      ]
     },
     "execution_count": 389,
     "metadata": {},
     "output_type": "execute_result"
    }
   ],
   "source": [
    "# now lets calcualte stock volume and other important data like min/max total sample volume (well maybe not necessary)\n",
    "column_names = complete_df_f3.columns\n",
    "stock_column_names = [column_name for column_name in column_names if \"stock\" in column_name]\n",
    "stock_df = complete_df_f3.copy()[stock_column_names]\n",
    "\n",
    "# Isolate the total sum of volumes of stocks\n",
    "stock_df.loc['Total Volume'] = stock_df.sum(numeric_only=True, axis=0)\n",
    "stock_df = pd.DataFrame(stock_df.loc['Total Volume']).T # all units are assumed to be the same if not raise exception\n",
    "\n",
    "# Given all units are the same now add the stock information\n",
    "check_unit_congruence(stock_df)\n",
    "stock_df.loc['Final Selected Stock Concentrations'] = experiment_csv_dict['Final Selected Stock Concentrations']\n",
    "stock_df = convert_to_liter(stock_df)\n",
    "# # need to do this to preserve dtypes\n",
    "# stock_df = stock_df.T\n",
    "# stock_df['Stock Concentration Units'] = experiment_csv_dict['Stock Concentration Units']\n",
    "stock_df"
   ]
  },
  {
   "cell_type": "code",
   "execution_count": 338,
   "metadata": {},
   "outputs": [
    {
     "data": {
      "text/html": [
       "<div>\n",
       "<style scoped>\n",
       "    .dataframe tbody tr th:only-of-type {\n",
       "        vertical-align: middle;\n",
       "    }\n",
       "\n",
       "    .dataframe tbody tr th {\n",
       "        vertical-align: top;\n",
       "    }\n",
       "\n",
       "    .dataframe thead th {\n",
       "        text-align: right;\n",
       "    }\n",
       "</style>\n",
       "<table border=\"1\" class=\"dataframe\">\n",
       "  <thead>\n",
       "    <tr style=\"text-align: right;\">\n",
       "      <th></th>\n",
       "      <th>dppc-ethanol-stock uL</th>\n",
       "      <th>dspepeg2000-ethanol-stock uL</th>\n",
       "      <th>pfh-ethanol-stock uL</th>\n",
       "      <th>ethanol-stock uL</th>\n",
       "      <th>water-stock uL</th>\n",
       "    </tr>\n",
       "  </thead>\n",
       "  <tbody>\n",
       "    <tr>\n",
       "      <th>Total Volume</th>\n",
       "      <td>0</td>\n",
       "      <td>5162.5</td>\n",
       "      <td>9280.26</td>\n",
       "      <td>13284.3</td>\n",
       "      <td>8248.61</td>\n",
       "    </tr>\n",
       "    <tr>\n",
       "      <th>Final Selected Stock Concentrations</th>\n",
       "      <td>0.00272465</td>\n",
       "      <td>0.000356443</td>\n",
       "      <td>0.0149199</td>\n",
       "      <td>1</td>\n",
       "      <td>1</td>\n",
       "    </tr>\n",
       "    <tr>\n",
       "      <th>Stock Concentration Units</th>\n",
       "      <td>molarity</td>\n",
       "      <td>molarity</td>\n",
       "      <td>wtf</td>\n",
       "      <td>wtf</td>\n",
       "      <td>wtf</td>\n",
       "    </tr>\n",
       "  </tbody>\n",
       "</table>\n",
       "</div>"
      ],
      "text/plain": [
       "                                    dppc-ethanol-stock uL  \\\n",
       "Total Volume                                            0   \n",
       "Final Selected Stock Concentrations            0.00272465   \n",
       "Stock Concentration Units                        molarity   \n",
       "\n",
       "                                    dspepeg2000-ethanol-stock uL  \\\n",
       "Total Volume                                              5162.5   \n",
       "Final Selected Stock Concentrations                  0.000356443   \n",
       "Stock Concentration Units                               molarity   \n",
       "\n",
       "                                    pfh-ethanol-stock uL ethanol-stock uL  \\\n",
       "Total Volume                                     9280.26          13284.3   \n",
       "Final Selected Stock Concentrations            0.0149199                1   \n",
       "Stock Concentration Units                            wtf              wtf   \n",
       "\n",
       "                                    water-stock uL  \n",
       "Total Volume                               8248.61  \n",
       "Final Selected Stock Concentrations              1  \n",
       "Stock Concentration Units                      wtf  "
      ]
     },
     "execution_count": 338,
     "metadata": {},
     "output_type": "execute_result"
    }
   ],
   "source": [
    "f = stock_df.T\n",
    "f"
   ]
  },
  {
   "cell_type": "code",
   "execution_count": 264,
   "metadata": {
    "scrolled": false
   },
   "outputs": [],
   "source": [
    "for stock in stock_df:\n",
    "    stock_df[stock] = stock_df[stock]*100"
   ]
  },
  {
   "cell_type": "code",
   "execution_count": 305,
   "metadata": {},
   "outputs": [
    {
     "data": {
      "text/plain": [
       "float"
      ]
     },
     "execution_count": 305,
     "metadata": {},
     "output_type": "execute_result"
    }
   ],
   "source": [
    "type(df['dppc-ethanol-stock uL'].loc['Total Volume'])"
   ]
  },
  {
   "cell_type": "code",
   "execution_count": 298,
   "metadata": {},
   "outputs": [
    {
     "data": {
      "text/html": [
       "<div>\n",
       "<style scoped>\n",
       "    .dataframe tbody tr th:only-of-type {\n",
       "        vertical-align: middle;\n",
       "    }\n",
       "\n",
       "    .dataframe tbody tr th {\n",
       "        vertical-align: top;\n",
       "    }\n",
       "\n",
       "    .dataframe thead th {\n",
       "        text-align: right;\n",
       "    }\n",
       "</style>\n",
       "<table border=\"1\" class=\"dataframe\">\n",
       "  <thead>\n",
       "    <tr style=\"text-align: right;\">\n",
       "      <th></th>\n",
       "      <th>dppc-ethanol-stock uL</th>\n",
       "      <th>dspepeg2000-ethanol-stock uL</th>\n",
       "      <th>pfh-ethanol-stock uL</th>\n",
       "      <th>ethanol-stock uL</th>\n",
       "      <th>water-stock uL</th>\n",
       "    </tr>\n",
       "  </thead>\n",
       "  <tbody>\n",
       "    <tr>\n",
       "      <th>Total Volume</th>\n",
       "      <td>0</td>\n",
       "      <td>0</td>\n",
       "      <td>0</td>\n",
       "      <td>0</td>\n",
       "      <td>0</td>\n",
       "    </tr>\n",
       "    <tr>\n",
       "      <th>Stock Concentration Units</th>\n",
       "      <td></td>\n",
       "      <td></td>\n",
       "      <td></td>\n",
       "      <td></td>\n",
       "      <td></td>\n",
       "    </tr>\n",
       "    <tr>\n",
       "      <th>Final Selected Stock Concentrations</th>\n",
       "      <td>0</td>\n",
       "      <td>0</td>\n",
       "      <td>0</td>\n",
       "      <td>0</td>\n",
       "      <td>0</td>\n",
       "    </tr>\n",
       "  </tbody>\n",
       "</table>\n",
       "</div>"
      ],
      "text/plain": [
       "                                    dppc-ethanol-stock uL  \\\n",
       "Total Volume                                            0   \n",
       "Stock Concentration Units                                   \n",
       "Final Selected Stock Concentrations                     0   \n",
       "\n",
       "                                    dspepeg2000-ethanol-stock uL  \\\n",
       "Total Volume                                                   0   \n",
       "Stock Concentration Units                                          \n",
       "Final Selected Stock Concentrations                            0   \n",
       "\n",
       "                                    pfh-ethanol-stock uL ethanol-stock uL  \\\n",
       "Total Volume                                           0                0   \n",
       "Stock Concentration Units                                                   \n",
       "Final Selected Stock Concentrations                    0                0   \n",
       "\n",
       "                                    water-stock uL  \n",
       "Total Volume                                     0  \n",
       "Stock Concentration Units                           \n",
       "Final Selected Stock Concentrations              0  "
      ]
     },
     "execution_count": 298,
     "metadata": {},
     "output_type": "execute_result"
    }
   ],
   "source": [
    "df = stock_df\n",
    "df[df.select_dtypes(include=['object']).columns] *= 0\n",
    "df"
   ]
  },
  {
   "cell_type": "code",
   "execution_count": 269,
   "metadata": {},
   "outputs": [],
   "source": []
  },
  {
   "cell_type": "code",
   "execution_count": 191,
   "metadata": {},
   "outputs": [
    {
     "name": "stdout",
     "output_type": "stream",
     "text": [
      "ds\n"
     ]
    }
   ],
   "source": [
    "solute_density = \"NA\"\n",
    "if solute_density == \"NA\":\n",
    "    print('ds')"
   ]
  },
  {
   "cell_type": "code",
   "execution_count": 97,
   "metadata": {},
   "outputs": [
    {
     "name": "stdout",
     "output_type": "stream",
     "text": [
      "{'uL': 1000000}\n",
      "{'uL': 1000000}\n",
      "{'uL': 1000000}\n",
      "{'uL': 1000000}\n",
      "{'uL': 1000000}\n"
     ]
    }
   ],
   "source": [
    "\n",
    "\n",
    "total_df # find the unit, match it and then convert with other function if needed???\n",
    "\n",
    "# add the stock concentration information and units \n",
    "# now need to make a stock maker function to create the stocks given along with unit information to know how to handle\n",
    "for col in stock_df.columns:\n",
    "    c = check_for_volume_unit(col)\n",
    "    print(c)"
   ]
  },
  {
   "cell_type": "code",
   "execution_count": null,
   "metadata": {},
   "outputs": [],
   "source": [
    "# ok now need to make the setup for stock labware to find the ranges using stock_well_ranges\n",
    "# then with stock ranges and stock vbolumes, you can call pipette_stock_volumes"
   ]
  },
  {
   "cell_type": "code",
   "execution_count": null,
   "metadata": {},
   "outputs": [],
   "source": [
    "del final_volume_df['Total Sample Volume uL']\n",
    "stock_volumes = final_volume_df.values\n",
    "stock_volumes = CreateSamples.rearrange_2D_list(stock_volumes)"
   ]
  },
  {
   "cell_type": "code",
   "execution_count": null,
   "metadata": {
    "scrolled": true
   },
   "outputs": [],
   "source": [
    "protocol = simulate.get_protocol_api('2.0', extra_labware=labware_dict)\n",
    "max_vol = ot2_commands.find_max_volume_labware(experiment_csv_dict, labware_dict)\n",
    "stock_ranges = ot2_commands.stock_well_ranges(final_volume_df, max_vol) # set up volumes order\n",
    "# make a function that will print the stocks to make, amount, and order in setup (maybe just order does not need to be actual stockpalte but )z"
   ]
  },
  {
   "cell_type": "code",
   "execution_count": null,
   "metadata": {
    "scrolled": true
   },
   "outputs": [],
   "source": [
    "protocol = simulate.get_protocol_api('2.0', extra_labware=labware_dict)\n",
    "loaded_dict = ot2_commands.loading_labware(protocol, experiment_csv_dict) # the protocol above has been modified globally!"
   ]
  },
  {
   "cell_type": "code",
   "execution_count": null,
   "metadata": {},
   "outputs": [],
   "source": [
    "info = ot2_commands.pipette_stock_volumes(protocol, loaded_dict, stock_volumes, stock_ranges)"
   ]
  },
  {
   "cell_type": "code",
   "execution_count": null,
   "metadata": {},
   "outputs": [],
   "source": [
    "info['info concat']"
   ]
  },
  {
   "cell_type": "code",
   "execution_count": null,
   "metadata": {},
   "outputs": [],
   "source": [
    "create.create_csv(r\"C:\\Users\\Edwin\\Desktop\\testz\", info['info concat'], seleted_wtfs_plus_blank, experiment_csv_dict)\n",
    "df = pd.read_csv(r\"C:\\Users\\Edwin\\Desktop\\test\")"
   ]
  }
 ],
 "metadata": {
  "celltoolbar": "Raw Cell Format",
  "kernelspec": {
   "display_name": "Python 3",
   "language": "python",
   "name": "python3"
  },
  "language_info": {
   "codemirror_mode": {
    "name": "ipython",
    "version": 3
   },
   "file_extension": ".py",
   "mimetype": "text/x-python",
   "name": "python",
   "nbconvert_exporter": "python",
   "pygments_lexer": "ipython3",
   "version": "3.6.8"
  }
 },
 "nbformat": 4,
 "nbformat_minor": 4
}
