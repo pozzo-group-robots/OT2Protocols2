{
 "cells": [
  {
   "cell_type": "code",
   "execution_count": 1,
   "metadata": {},
   "outputs": [],
   "source": [
    "import numpy as np\n",
    "import pandas as pd\n",
    "import csv\n",
    "import ast "
   ]
  },
  {
   "cell_type": "code",
   "execution_count": 2,
   "metadata": {},
   "outputs": [],
   "source": [
    "filepath = r\"C:\\Users\\Edwin\\Desktop\\OT2Protocols\\ot2protocol\\Ouzo_OT2_Sampling\\Testing Plans\\Breaking_protocol.csv\"\n",
    "with open(filepath, newline='') as csvfile:\n",
    "    reader = csv.reader(csvfile)\n",
    "    plan_dict = {}\n",
    "    for i, row in enumerate(reader):\n",
    "        assert len(row) == 2\n",
    "        plan_dict[row[0]] = ast.literal_eval(row[1])"
   ]
  },
  {
   "cell_type": "code",
   "execution_count": 11,
   "metadata": {},
   "outputs": [
    {
     "name": "stdout",
     "output_type": "stream",
     "text": [
      "[[[[0. 0. 0. 0. 0. 0. 0. 0. 0. 0.]\n",
      "   [0. 0. 0. 0. 0. 0. 0. 0. 0. 0.]\n",
      "   [0. 0. 0. 0. 0. 0. 0. 0. 0. 0.]\n",
      "   [0. 0. 0. 0. 0. 0. 0. 0. 0. 0.]]]]\n",
      "[[[[0.000125 0.000125 0.000125 0.000125 0.000125 0.000125 0.000125\n",
      "    0.000125 0.000125 0.000125]\n",
      "   [0.000125 0.000125 0.000125 0.000125 0.000125 0.000125 0.000125\n",
      "    0.000125 0.000125 0.000125]\n",
      "   [0.000125 0.000125 0.000125 0.000125 0.000125 0.000125 0.000125\n",
      "    0.000125 0.000125 0.000125]\n",
      "   [0.000125 0.000125 0.000125 0.000125 0.000125 0.000125 0.000125\n",
      "    0.000125 0.000125 0.000125]]]]\n",
      "[[[[0.         0.         0.         0.         0.         0.\n",
      "    0.         0.         0.         0.        ]\n",
      "   [0.13333333 0.13333333 0.13333333 0.13333333 0.13333333 0.13333333\n",
      "    0.13333333 0.13333333 0.13333333 0.13333333]\n",
      "   [0.26666667 0.26666667 0.26666667 0.26666667 0.26666667 0.26666667\n",
      "    0.26666667 0.26666667 0.26666667 0.26666667]\n",
      "   [0.4        0.4        0.4        0.4        0.4        0.4\n",
      "    0.4        0.4        0.4        0.4       ]]]]\n",
      "[[[[0.         0.11111111 0.22222222 0.33333333 0.44444444 0.55555556\n",
      "    0.66666667 0.77777778 0.88888889 1.        ]\n",
      "   [0.         0.11111111 0.22222222 0.33333333 0.44444444 0.55555556\n",
      "    0.66666667 0.77777778 0.88888889 1.        ]\n",
      "   [0.         0.11111111 0.22222222 0.33333333 0.44444444 0.55555556\n",
      "    0.66666667 0.77777778 0.88888889 1.        ]\n",
      "   [0.         0.11111111 0.22222222 0.33333333 0.44444444 0.55555556\n",
      "    0.66666667 0.77777778 0.88888889 1.        ]]]]\n"
     ]
    }
   ],
   "source": [
    "# Calling information from csv \n",
    "experiment_csv_dict = plan_dict\n",
    "component_name_list = experiment_csv_dict['Component Shorthand Names']\n",
    "component_conc_linspaces_list = experiment_csv_dict['Component Concentrations [min, max, n]']\n",
    "component_conc_type_list = experiment_csv_dict['Component Concentration Unit']\n",
    "component_spacing_type = experiment_csv_dict['Component Spacing']\n",
    "\n",
    "conc_range_list = [] # will hold flattened linspaces \n",
    "for conc_linspace in component_conc_linspaces_list: # each \n",
    "    if component_spacing_type == \"linear\":\n",
    "        conc_range_list.append(np.linspace(*conc_linspace))\n",
    "    elif component_spacing_type == \"log\": # allows for cases where conc is 0? \n",
    "        conc_range_list.append(np.logspace(*conc_linspace))\n",
    "    else:\n",
    "        type_list = [\"linear\", \"log\"]\n",
    "        assert spacing_type in type_list, \"spacing_type was not specified in the experiment plan, or the the rquested method is not implemented.\"\n",
    "\n",
    "# Remember the aterisk is to unpack the list container\n",
    "conc_grid = np.meshgrid(*conc_range_list) # Create every combination of the flattened linspaces with meshgrid.\n",
    "\n",
    "component_conc_dict = {}\n",
    "for i in range(len(conc_grid)): \n",
    "    component_name = component_name_list[i]\n",
    "    component_conc_dict[component_name] = conc_grid[i].ravel()\n",
    "    print(conc_grid[i]) # flatten entire component array\n",
    "concentration_df = pd.DataFrame.from_dict(component_conc_dict) # place each component as a series allowing for sample index = complete sample with n number of components\n",
    "completing_component_name = component_name_list[len(component_name_list)-1]\n",
    "concentration_df[completing_component_name] = (1 - concentration_df.sum(axis=1)) # completing the sum with last component name entry\n",
    "\n",
    "unfiltered_concentration_df = concentration_df\n",
    "concentration_df = concentration_df[concentration_df[completing_component_name] > 0]\n",
    "concentration_df.reset_index(drop=True, inplace=True)\n",
    "\n",
    "assert len(component_name_list) != len(component_conc_linspaces_list), \"The provided experimental instructions are overspecified.\"\n",
    "concentration_array = concentration_df.values\n",
    "assert not concentration_df.empty, 'No suitable samples were found, please change your linspace. Most likely this means you have your linspaces set to close together at all high concentrations (close to 1).'"
   ]
  },
  {
   "cell_type": "code",
   "execution_count": 5,
   "metadata": {
    "scrolled": false
   },
   "outputs": [
    {
     "name": "stdout",
     "output_type": "stream",
     "text": [
      "[array([0.]), array([0.000125]), array([0.        , 0.13333333, 0.26666667, 0.4       ]), array([0.        , 0.11111111, 0.22222222, 0.33333333, 0.44444444,\n",
      "       0.55555556, 0.66666667, 0.77777778, 0.88888889, 1.        ])]\n",
      "[[0.00000000e+00 1.25000000e-04 0.00000000e+00 0.00000000e+00\n",
      "  9.99875000e-01]\n",
      " [0.00000000e+00 1.25000000e-04 0.00000000e+00 1.11111111e-01\n",
      "  8.88763889e-01]\n",
      " [0.00000000e+00 1.25000000e-04 0.00000000e+00 2.22222222e-01\n",
      "  7.77652778e-01]\n",
      " [0.00000000e+00 1.25000000e-04 0.00000000e+00 3.33333333e-01\n",
      "  6.66541667e-01]\n",
      " [0.00000000e+00 1.25000000e-04 0.00000000e+00 4.44444444e-01\n",
      "  5.55430556e-01]\n",
      " [0.00000000e+00 1.25000000e-04 0.00000000e+00 5.55555556e-01\n",
      "  4.44319444e-01]\n",
      " [0.00000000e+00 1.25000000e-04 0.00000000e+00 6.66666667e-01\n",
      "  3.33208333e-01]\n",
      " [0.00000000e+00 1.25000000e-04 0.00000000e+00 7.77777778e-01\n",
      "  2.22097222e-01]\n",
      " [0.00000000e+00 1.25000000e-04 0.00000000e+00 8.88888889e-01\n",
      "  1.10986111e-01]\n",
      " [0.00000000e+00 1.25000000e-04 1.33333333e-01 0.00000000e+00\n",
      "  8.66541667e-01]\n",
      " [0.00000000e+00 1.25000000e-04 1.33333333e-01 1.11111111e-01\n",
      "  7.55430556e-01]\n",
      " [0.00000000e+00 1.25000000e-04 1.33333333e-01 2.22222222e-01\n",
      "  6.44319444e-01]\n",
      " [0.00000000e+00 1.25000000e-04 1.33333333e-01 3.33333333e-01\n",
      "  5.33208333e-01]\n",
      " [0.00000000e+00 1.25000000e-04 1.33333333e-01 4.44444444e-01\n",
      "  4.22097222e-01]\n",
      " [0.00000000e+00 1.25000000e-04 1.33333333e-01 5.55555556e-01\n",
      "  3.10986111e-01]\n",
      " [0.00000000e+00 1.25000000e-04 1.33333333e-01 6.66666667e-01\n",
      "  1.99875000e-01]\n",
      " [0.00000000e+00 1.25000000e-04 1.33333333e-01 7.77777778e-01\n",
      "  8.87638889e-02]\n",
      " [0.00000000e+00 1.25000000e-04 2.66666667e-01 0.00000000e+00\n",
      "  7.33208333e-01]\n",
      " [0.00000000e+00 1.25000000e-04 2.66666667e-01 1.11111111e-01\n",
      "  6.22097222e-01]\n",
      " [0.00000000e+00 1.25000000e-04 2.66666667e-01 2.22222222e-01\n",
      "  5.10986111e-01]\n",
      " [0.00000000e+00 1.25000000e-04 2.66666667e-01 3.33333333e-01\n",
      "  3.99875000e-01]\n",
      " [0.00000000e+00 1.25000000e-04 2.66666667e-01 4.44444444e-01\n",
      "  2.88763889e-01]\n",
      " [0.00000000e+00 1.25000000e-04 2.66666667e-01 5.55555556e-01\n",
      "  1.77652778e-01]\n",
      " [0.00000000e+00 1.25000000e-04 2.66666667e-01 6.66666667e-01\n",
      "  6.65416667e-02]\n",
      " [0.00000000e+00 1.25000000e-04 4.00000000e-01 0.00000000e+00\n",
      "  5.99875000e-01]\n",
      " [0.00000000e+00 1.25000000e-04 4.00000000e-01 1.11111111e-01\n",
      "  4.88763889e-01]\n",
      " [0.00000000e+00 1.25000000e-04 4.00000000e-01 2.22222222e-01\n",
      "  3.77652778e-01]\n",
      " [0.00000000e+00 1.25000000e-04 4.00000000e-01 3.33333333e-01\n",
      "  2.66541667e-01]\n",
      " [0.00000000e+00 1.25000000e-04 4.00000000e-01 4.44444444e-01\n",
      "  1.55430556e-01]\n",
      " [0.00000000e+00 1.25000000e-04 4.00000000e-01 5.55555556e-01\n",
      "  4.43194444e-02]]\n",
      "[array([[[[0., 0., 0., 0., 0., 0., 0., 0., 0., 0.],\n",
      "         [0., 0., 0., 0., 0., 0., 0., 0., 0., 0.],\n",
      "         [0., 0., 0., 0., 0., 0., 0., 0., 0., 0.],\n",
      "         [0., 0., 0., 0., 0., 0., 0., 0., 0., 0.]]]]), array([[[[0.000125, 0.000125, 0.000125, 0.000125, 0.000125, 0.000125,\n",
      "          0.000125, 0.000125, 0.000125, 0.000125],\n",
      "         [0.000125, 0.000125, 0.000125, 0.000125, 0.000125, 0.000125,\n",
      "          0.000125, 0.000125, 0.000125, 0.000125],\n",
      "         [0.000125, 0.000125, 0.000125, 0.000125, 0.000125, 0.000125,\n",
      "          0.000125, 0.000125, 0.000125, 0.000125],\n",
      "         [0.000125, 0.000125, 0.000125, 0.000125, 0.000125, 0.000125,\n",
      "          0.000125, 0.000125, 0.000125, 0.000125]]]]), array([[[[0.        , 0.        , 0.        , 0.        , 0.        ,\n",
      "          0.        , 0.        , 0.        , 0.        , 0.        ],\n",
      "         [0.13333333, 0.13333333, 0.13333333, 0.13333333, 0.13333333,\n",
      "          0.13333333, 0.13333333, 0.13333333, 0.13333333, 0.13333333],\n",
      "         [0.26666667, 0.26666667, 0.26666667, 0.26666667, 0.26666667,\n",
      "          0.26666667, 0.26666667, 0.26666667, 0.26666667, 0.26666667],\n",
      "         [0.4       , 0.4       , 0.4       , 0.4       , 0.4       ,\n",
      "          0.4       , 0.4       , 0.4       , 0.4       , 0.4       ]]]]), array([[[[0.        , 0.11111111, 0.22222222, 0.33333333, 0.44444444,\n",
      "          0.55555556, 0.66666667, 0.77777778, 0.88888889, 1.        ],\n",
      "         [0.        , 0.11111111, 0.22222222, 0.33333333, 0.44444444,\n",
      "          0.55555556, 0.66666667, 0.77777778, 0.88888889, 1.        ],\n",
      "         [0.        , 0.11111111, 0.22222222, 0.33333333, 0.44444444,\n",
      "          0.55555556, 0.66666667, 0.77777778, 0.88888889, 1.        ],\n",
      "         [0.        , 0.11111111, 0.22222222, 0.33333333, 0.44444444,\n",
      "          0.55555556, 0.66666667, 0.77777778, 0.88888889, 1.        ]]]])]\n"
     ]
    }
   ],
   "source": [
    "print(conc_range_list) # contains the possible concentrations of each component given the linspacing method\n",
    "print(concentration_array) \n",
    "print(conc_grid)"
   ]
  },
  {
   "cell_type": "code",
   "execution_count": null,
   "metadata": {},
   "outputs": [],
   "source": [
    "import matplotlib.pyplot as plt"
   ]
  },
  {
   "cell_type": "code",
   "execution_count": null,
   "metadata": {},
   "outputs": [],
   "source": [
    "X,Y = np.meshgrid([1,2,3],[0,3]) \n",
    "# meshgrid works by creating enough vectors of length of the number of input arrays. \n",
    "# The length of the vector is important as each array in the overall vector has a respective match\n",
    "# example input np.meshgrid([1,2,3],[0,3]) \n",
    "# example output [array([[1, 2, 3], [1, 2, 3]]), array([[0, 0, 0],[3, 3, 3]])]\n",
    "# the mesh grid is constructed by taking the points \n",
    "plt.scatter(conc_grid[2], conc_grid[3])"
   ]
  },
  {
   "cell_type": "code",
   "execution_count": 6,
   "metadata": {},
   "outputs": [
    {
     "ename": "SyntaxError",
     "evalue": "invalid syntax (<ipython-input-6-8e8efd0a5758>, line 2)",
     "output_type": "error",
     "traceback": [
      "\u001b[1;36m  File \u001b[1;32m\"<ipython-input-6-8e8efd0a5758>\"\u001b[1;36m, line \u001b[1;32m2\u001b[0m\n\u001b[1;33m    assert is p=='df', 'girl'\u001b[0m\n\u001b[1;37m            ^\u001b[0m\n\u001b[1;31mSyntaxError\u001b[0m\u001b[1;31m:\u001b[0m invalid syntax\n"
     ]
    }
   ],
   "source": [
    "p = 'df'\n",
    "assert is p=='df', 'girl'"
   ]
  },
  {
   "cell_type": "code",
   "execution_count": 9,
   "metadata": {},
   "outputs": [
    {
     "name": "stdout",
     "output_type": "stream",
     "text": [
      "fd\n"
     ]
    }
   ],
   "source": [
    "for i in range(len(conc_grid)): \n",
    "    stock_name = stock_name_list[i]\n",
    "    stock_conc_dict[stock_name] = conc_grid[i].ravel()\n",
    "stock_concentration_df = pd.DataFrame.from_dict(stock_conc_dict)\n",
    "stock_concentration_array = stock_concentration_df.values "
   ]
  }
 ],
 "metadata": {
  "kernelspec": {
   "display_name": "Python 3",
   "language": "python",
   "name": "python3"
  },
  "language_info": {
   "codemirror_mode": {
    "name": "ipython",
    "version": 3
   },
   "file_extension": ".py",
   "mimetype": "text/x-python",
   "name": "python",
   "nbconvert_exporter": "python",
   "pygments_lexer": "ipython3",
   "version": "3.6.8"
  }
 },
 "nbformat": 4,
 "nbformat_minor": 4
}
