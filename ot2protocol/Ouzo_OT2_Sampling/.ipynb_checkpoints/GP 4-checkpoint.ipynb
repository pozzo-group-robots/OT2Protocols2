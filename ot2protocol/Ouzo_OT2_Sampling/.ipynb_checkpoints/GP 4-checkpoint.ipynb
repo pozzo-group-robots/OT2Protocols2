{
 "cells": [
  {
   "cell_type": "code",
   "execution_count": 1,
   "metadata": {},
   "outputs": [],
   "source": [
    "import numpy as np\n",
    "import pandas as pd\n",
    "import matplotlib.pyplot as plt\n",
    "import matplotlib.colors as colors\n",
    "import matplotlib.cm as cm\n",
    "from mpl_toolkits.mplot3d import Axes3D\n",
    "from sklearn.gaussian_process import GaussianProcessRegressor\n",
    "from sklearn.gaussian_process.kernels import RBF, ConstantKernel as C\n",
    "from sklearn import preprocessing\n",
    "from itertools import product\n",
    "from scipy import interpolate, stats\n",
    "from scipy.spatial import ConvexHull, convex_hull_plot_2d\n"
   ]
  },
  {
   "cell_type": "code",
   "execution_count": 2,
   "metadata": {},
   "outputs": [],
   "source": [
    "%matplotlib inline\n",
    "# inline "
   ]
  },
  {
   "cell_type": "code",
   "execution_count": 3,
   "metadata": {
    "scrolled": false
   },
   "outputs": [],
   "source": [
    "data = pd.read_csv(r\"C:\\Users\\Edwin\\Downloads\\test_df\")\n",
    "data = data.drop(data.index[0]) # drop dumb header\n",
    "data = data[data['400.0nm'] < 0.2]\n",
    "# data = data[data['400.0nm'] > 0.05]\n",
    "# data = data.iloc[::3]"
   ]
  },
  {
   "cell_type": "code",
   "execution_count": 4,
   "metadata": {},
   "outputs": [],
   "source": [
    "# pull data\n",
    "pfh = np.asarray(pd.to_numeric(data['Component 3 wtf'] , errors='coerce')[1:-1])\n",
    "ethanol = np.asarray(pd.to_numeric(data['Component 4 wtf'] , errors='coerce')[1:-1])\n",
    "absorbance = np.asarray(pd.to_numeric(data['400.0nm'] , errors='coerce')[1:-1])\n"
   ]
  },
  {
   "cell_type": "code",
   "execution_count": 5,
   "metadata": {},
   "outputs": [],
   "source": [
    "# scaling/normalizing and standardizing, sklearn requires a (number_of_samples, number_of_features) shape\n",
    "# it will do the appropiate operation to each column (feature) using the data of each individual row (sample point)\n",
    "# the only issue with wrapping all columns in one is that if you want to use for say 2/3 it wont work"
   ]
  },
  {
   "cell_type": "code",
   "execution_count": 69,
   "metadata": {},
   "outputs": [],
   "source": [
    "# collected data and standardization/scaling/normalization # \n",
    "\n",
    "x1 = ethanol #np.array([-8.0, -6.00, -7.0, -4.0, 2.0, 5.0, 1.0, 3.0, 7.0])\n",
    "x2 = pfh #np.array([-8.0, -3.0, 2.0, 4.0, 3.0, 7.0, -1.0, -4.0, -7.0])\n",
    "y_data = absorbance #np.array([-1.0, -1.0, -1.0, -1.0, -1.0, -1.0, 1.0, 1.0, 1.0])\n",
    "\n",
    "x1_transformed = x1[:, np.newaxis]\n",
    "scalerx1 = preprocessing.RobustScaler().fit(x1_transformed) #not a huge diff between robustscalar and standardscalar\n",
    "x1_scaled = scalerx1.transform(x1_transformed)\n",
    "\n",
    "x2_transformed = x2[:, np.newaxis]\n",
    "scalerx2 = preprocessing.RobustScaler().fit(x2_transformed)\n",
    "x2_scaled = scalerx2.transform(x2_transformed)\n",
    "\n",
    "y_transformed = y_data[:, np.newaxis]\n",
    "scalery = preprocessing.RobustScaler().fit(y_transformed)\n",
    "y_scaled = scalery.transform(y_transformed)\n",
    "\n",
    "# all_data = np.array([x1,x2,y_data]).T\n",
    "# scalar = preprocessing.StandardScaler().fit(all_data)\n",
    "# all_data_scaled = scalar.transform(all_data)\n",
    "\n",
    "x1 = x1_scaled[:,0]\n",
    "x2 = x2_scaled[:,0]\n",
    "x1x2 = np.asarray([x1,x2]).T\n",
    "y_data = y_scaled[:,0]\n",
    "\n",
    "x1_min = min(x1) - min(x1)*0.2\n",
    "x1_max = max(x1) + max(x1)*0.2\n",
    "\n",
    "x2_min = min(x2) - min(x2)*0.2\n",
    "x2_max = max(x2) + max(x2)*0.2 # make is o max wont exceed 1 \n",
    "\n",
    "y_min = min(y_data)\n",
    "y_max = max(y_data)"
   ]
  },
  {
   "cell_type": "code",
   "execution_count": 130,
   "metadata": {},
   "outputs": [
    {
     "data": {
      "text/plain": [
       "GaussianProcessRegressor(alpha=0.075, kernel=1**2 * RBF(length_scale=1),\n",
       "                         n_restarts_optimizer=10, normalize_y=True)"
      ]
     },
     "execution_count": 130,
     "metadata": {},
     "output_type": "execute_result"
    }
   ],
   "source": [
    "kernal = C(1, (1e-1, 1e3)) * RBF(1, (1e-3, 1e3)) \n",
    "gp_model = GaussianProcessRegressor(kernel=kernal, n_restarts_optimizer=10,alpha=0.075, normalize_y=True) # random_state=42\n",
    "gp_model.fit(x1x2, y_data)\n",
    "# y_prior = gp_model.predict(x1x2t)\n",
    "# y_prior # should the prior be solely zerp"
   ]
  },
  {
   "cell_type": "code",
   "execution_count": 168,
   "metadata": {},
   "outputs": [],
   "source": [
    "# test data to make mesh a\n",
    "x1t = np.linspace(x1_min,x1_max,100) #np.arange(x1_min,x1_max,0.1) # need to automate resolution, but if not use lispace\n",
    "x2t = np.linspace(x2_min,x2_max,100) #np.arange(x2_min,x2_max,0.1)\n",
    "\n",
    "d1 = x1t.shape[0] \n",
    "d2 = x2t.shape[0]\n",
    "\n",
    "x1x2t = np.array(list(product(x1t, x2t))) # just to make points in the frame and size of mesh\n",
    "scalerx1x2 = preprocessing.RobustScaler().fit(x1x2) # according to test or training\n",
    "x1x2t = scalerx1x2.transform(x1x2t)\n",
    "\n",
    "# why does this not produce the same results\n",
    "# x1t_transformed = scalerx1.transform(x1x2t[:,0][:, np.newaxis])\n",
    "# x2t_transformed = scalerx2.transform(x1x2t[:,1][:, np.newaxis])\n",
    "# x1x2t_transformed = np.asarray([x1t_transformed, x2t_transformed]).T"
   ]
  },
  {
   "cell_type": "code",
   "execution_count": 184,
   "metadata": {
    "scrolled": true
   },
   "outputs": [
    {
     "name": "stdout",
     "output_type": "stream",
     "text": [
      "[-1.16 -0.64]\n",
      "[-1.16 -0.64]\n",
      "[-1.16 -0.64]\n"
     ]
    },
    {
     "data": {
      "text/plain": [
       "(array([[0.54443182],\n",
       "        [0.54892447],\n",
       "        [0.55341713],\n",
       "        [0.55790978],\n",
       "        [0.56240243]]),\n",
       " array([0.50340909, 0.525     , 0.54659091, 0.56818182, 0.58977273]))"
      ]
     },
     "execution_count": 184,
     "metadata": {},
     "output_type": "execute_result"
    }
   ],
   "source": [
    "x1x2t= np.array(list(product(x1t, x2t))) # just to make points in the frame and size of mesh\n",
    "print(x1x2t[0])\n",
    "scalerx1x2 = preprocessing.RobustScaler().fit(x1x2) # this is only necessary as when doing a product leads to bleh, the x1x2 is just compacted togetehr making it easier, could do x1 and x2 seperately\n",
    "x1x2t = scalerx1x2.transform(x1x2t)\n",
    "print(x1x2t[0])\n",
    "x1x2t = scalerx1x2.inverse_transform(x1x2t)\n",
    "print(x1x2t[0])\n",
    "scalerx1.inverse_transform(x1t[:, np.newaxis])[0:5], ethanol[0:5]"
   ]
  },
  {
   "cell_type": "code",
   "execution_count": 183,
   "metadata": {},
   "outputs": [],
   "source": [
    "# Compute prediction and revert back to cart coord, but would need to do the same for the min and max for the things\n",
    "y_pred, MSE = gp_model.predict(x1x2t, return_std=True) \n",
    "\n",
    "x1x2t = scalerx1x2.inverse_transform(x1x2t)\n",
    "y_pred = scalery.inverse_transform(y_pred[:, np.newaxis])\n",
    "\n",
    "x1t_m = x1x2t[:,0]#scalerx1.inverse_transform(x1x2t[:,0][:, np.newaxis])\n",
    "x2t_m = x1x2t[:,1]#scalerx2.inverse_transform(x1x2t[:,1][:, np.newaxis])\n",
    "\n",
    "X1 = x1t_m.reshape(d2,d1) # reshape is essential to make (n,2) to (n,n)\n",
    "X2 = x2t_m.reshape(d2,d1)\n",
    "Y = np.reshape(y_pred,(d2,d1))"
   ]
  },
  {
   "cell_type": "code",
   "execution_count": 181,
   "metadata": {},
   "outputs": [],
   "source": [
    "%matplotlib inline"
   ]
  },
  {
   "cell_type": "code",
   "execution_count": 182,
   "metadata": {
    "scrolled": true
   },
   "outputs": [
    {
     "data": {
      "image/png": "[encoded data removed]",
      "text/plain": [
       "<Figure size 432x288 with 2 Axes>"
      ]
     },
     "metadata": {
      "needs_background": "light"
     },
     "output_type": "display_data"
    }
   ],
   "source": [
    "fig, ax = plt.subplots(1)\n",
    "norm =colors.Normalize(vmin=y_min,vmax=y_max) # is this normalization correct?\n",
    "mappable = ax.pcolormesh(X1,X2,Y, shading = 'auto')\n",
    "fig.colorbar(mappable)\n",
    "plt.scatter(x1,x2,norm=norm,c=y_data,edgecolors='k')\n",
    "plt.show()"
   ]
  },
  {
   "cell_type": "code",
   "execution_count": 159,
   "metadata": {},
   "outputs": [
    {
     "data": {
      "text/plain": [
       "Text(0.5, 0, 'AU')"
      ]
     },
     "execution_count": 159,
     "metadata": {},
     "output_type": "execute_result"
    }
   ],
   "source": [
    "# make sure nornmailzing color bar appr\n",
    "# NOTE: vmin/vmax supercedes norm, vmin/vmax input is defaulted to colors.Normalize linear normazilation\n",
    "%matplotlib qt\n",
    "\n",
    "fig = plt.figure()\n",
    "ax = fig.add_subplot(111, projection='3d')\n",
    "norm =colors.Normalize(vmin=y_min,vmax=y_max)\n",
    "ax.scatter(x1,x2,y_data,c=y_data, norm=norm, cmap='jet')\n",
    "surf = ax.plot_surface(X=X1, Y=X2, Z=Y, norm=norm, rstride=1, alpha =0.1, cstride=1, cmap='jet', linewidth=0, antialiased=False)\n",
    "fig.colorbar(surf, shrink=0.5, aspect=5)\n",
    "ax.set_xlabel('Ethanol')\n",
    "ax.set_ylabel('PFH')\n",
    "ax.set_zlabel('AU')"
   ]
  },
  {
   "cell_type": "code",
   "execution_count": null,
   "metadata": {},
   "outputs": [],
   "source": [
    "\"\"\"why is infinately going in the same color in one direction? is it because the sampling is not \n",
    "cubic as in its weighing in one direction? It seems to only be modeling in one direction rather than two?\n",
    "But this seems to be an artifact of the data and not the modeling since test data works fine, but that is sparse \n",
    "\n",
    "I wonder if data is just random if it will just make that same gradient\"\"\""
   ]
  },
  {
   "cell_type": "code",
   "execution_count": null,
   "metadata": {},
   "outputs": [],
   "source": [
    "# TESTING\n",
    "%matplotlib qt\n",
    "# so the way it goes is the vmin/vmax can go in either in the norm or the direct plot, but it always superceeds even if diff norm fed\n",
    "# them this norm is fed into a mappable to make a colormap for a color bar, fed into the colorbar\n",
    "# then do not forget to feed the norm into both a pcolormesh AND figure/plot. \n",
    "\n",
    "# NOTE: A colormap is NOT A mappable color map, rather its just a fancy way to make a collection of colors\n",
    "# try to l earn what edge colors are\n",
    "x_space = np.linspace(x1_min,x1_max,1000)  \n",
    "y_space = np.linspace(x2_min,x2_max,1000)\n",
    "xx, yy = np.meshgrid(x_space,y_space)\n",
    "\n",
    "cartcoord =  np.asarray([ethanol,pfh]).T\n",
    "interp = interpolate.LinearNDInterpolator(cartcoord, absorbance)\n",
    "Z0 = interp(xx,yy)\n",
    "\n",
    "fig, ax = plt.subplots(1)\n",
    "vmin = min(absorbance)\n",
    "vmax = max(absorbance)\n",
    "norm =colors.Normalize(vmin,vmax)\n",
    "mappable = ax.pcolormesh(xx,yy,Z0, norm=norm)\n",
    "# the question is should you normalize around your data or mesh? \n",
    "\n",
    "cbar = fig.colorbar(mappable)\n",
    "plt.scatter(ethanol,pfh,c=absorbance,norm=norm) #theoretically could misamtch norm but dont\n",
    "plt.show()"
   ]
  },
  {
   "cell_type": "code",
   "execution_count": null,
   "metadata": {},
   "outputs": [],
   "source": [
    "from mpl_toolkits.mplot3d import Axes3D  # noqa: F401 unused import\n",
    "\n",
    "import matplotlib.pyplot as plt\n",
    "from matplotlib import cm\n",
    "from matplotlib.ticker import LinearLocator, FormatStrFormatter\n",
    "import numpy as np\n",
    "\n",
    "\n",
    "fig = plt.figure()\n",
    "ax = fig.gca(projection='3d')\n",
    "\n",
    "# Make data.\n",
    "X = np.arange(-5, 5, 0.25)\n",
    "Y = np.arange(-5, 5, 0.25)\n",
    "X, Y = np.meshgrid(X, Y)\n",
    "R = np.sqrt(X**2 + Y**2)\n",
    "Z = np.sin(R)\n",
    "\n",
    "# Plot the surface.\n",
    "surf = ax.plot_surface(X, Y, Z, cmap=cm.coolwarm,\n",
    "                       linewidth=0, antialiased=False)\n",
    "\n",
    "# Customize the z axis.\n",
    "ax.set_zlim(-1.01, 1.01)\n",
    "ax.zaxis.set_major_locator(LinearLocator(10))\n",
    "ax.zaxis.set_major_formatter(FormatStrFormatter('%.02f'))\n",
    "\n",
    "# Add a color bar which maps values to colors.\n",
    "fig.colorbar(surf, shrink=0.5, aspect=5)\n",
    "\n",
    "plt.show()"
   ]
  }
 ],
 "metadata": {
  "kernelspec": {
   "display_name": "Python 3",
   "language": "python",
   "name": "python3"
  },
  "language_info": {
   "codemirror_mode": {
    "name": "ipython",
    "version": 3
   },
   "file_extension": ".py",
   "mimetype": "text/x-python",
   "name": "python",
   "nbconvert_exporter": "python",
   "pygments_lexer": "ipython3",
   "version": "3.9.1"
  }
 },
 "nbformat": 4,
 "nbformat_minor": 4
}
