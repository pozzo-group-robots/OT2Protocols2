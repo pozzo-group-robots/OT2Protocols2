{
 "cells": [
  {
   "cell_type": "code",
   "execution_count": 3,
   "metadata": {},
   "outputs": [],
   "source": [
    "import numpy as np\n",
    "import matplotlib.pyplot as plt\n",
    "import matplotlib.colors as colors\n",
    "import matplotlib.cm as cm\n",
    "from sklearn.gaussian_process import GaussianProcessRegressor\n",
    "from sklearn.gaussian_process.kernels import RBF, ConstantKernel as C\n",
    "from mpl_toolkits.mplot3d import Axes3D\n",
    "from itertools import product\n",
    "from scipy import interpolate, stats\n",
    "import pandas as pd\n",
    "from scipy.spatial import ConvexHull, convex_hull_plot_2d\n",
    "from mpl_toolkits.mplot3d import Axes3D\n"
   ]
  },
  {
   "cell_type": "code",
   "execution_count": 50,
   "metadata": {
    "scrolled": false
   },
   "outputs": [],
   "source": [
    "data = pd.read_csv(r\"C:\\Users\\Edwin\\Downloads\\test_df\")\n",
    "data = data.drop(data.index[0]) # drop dumb header\n",
    "data = data[data['400.0nm'] < 0.2]\n",
    "# data = data[data['400.0nm'] > 0.05]\n",
    "# data = data.iloc[::3]"
   ]
  },
  {
   "cell_type": "code",
   "execution_count": null,
   "metadata": {},
   "outputs": [],
   "source": []
  },
  {
   "cell_type": "code",
   "execution_count": 51,
   "metadata": {},
   "outputs": [],
   "source": [
    "# pull data\n",
    "pfh = np.asarray(pd.to_numeric(data['Component 3 wtf'] , errors='coerce')[1:-1])\n",
    "ethanol = np.asarray(pd.to_numeric(data['Component 4 wtf'] , errors='coerce')[1:-1])\n",
    "absorbance = np.asarray(pd.to_numeric(data['400.0nm'] , errors='coerce')[1:-1])\n"
   ]
  },
  {
   "cell_type": "code",
   "execution_count": 60,
   "metadata": {},
   "outputs": [],
   "source": [
    "# collected data\n",
    "x1 = ethanol#np.array([-8.0, -6.00, -7.0, -4.0, 2.0, 5.0, 1.0, 3.0, 7.0])\n",
    "x2 = pfh #np.array([-8.0, -3.0, 2.0, 4.0, 3.0, 7.0, -1.0, -4.0, -7.0])\n",
    "y_data = absorbance #np.array([-1.0, -1.0, -1.0, -1.0, -1.0, -1.0, 1.0, 1.0, 1.0])\n",
    "\n",
    "x1_min = min(x1) - min(x1)*0.2\n",
    "x1_max = max(x1) + max(x1)*0.2\n",
    "\n",
    "x2_min = min(x2) - min(x2)*0.2\n",
    "x2_max = max(x2) + max(x2)*0.4\n",
    "\n",
    "y_min = min(y_data)\n",
    "y_max = max(y_data)\n",
    "\n",
    "# test data to make mesh\n",
    "x1t = np.linspace(x1_min,x1_max,100) #np.arange(x1_min,x1_max,0.1) # need to automate resolution, but if not use lispace\n",
    "x2t = np.linspace(x2_min,x2_max,100) #np.arange(x2_min,x2_max,0.1)\n",
    "x1x2 = np.array([x1,x2]).T "
   ]
  },
  {
   "cell_type": "code",
   "execution_count": 61,
   "metadata": {},
   "outputs": [
    {
     "name": "stderr",
     "output_type": "stream",
     "text": [
      "c:\\users\\edwin\\appdata\\local\\programs\\python\\python36\\lib\\site-packages\\sklearn\\gaussian_process\\kernels.py:418: ConvergenceWarning: The optimal value found for dimension 0 of parameter k1__constant_value is close to the specified upper bound 1000.0. Increasing the bound and calling fit again may find a better value.\n",
      "  ConvergenceWarning)\n"
     ]
    },
    {
     "data": {
      "text/plain": [
       "GaussianProcessRegressor(alpha=0.075, kernel=1**2 * RBF(length_scale=1),\n",
       "                         n_restarts_optimizer=10, normalize_y=True)"
      ]
     },
     "execution_count": 61,
     "metadata": {},
     "output_type": "execute_result"
    }
   ],
   "source": [
    "kernal = C(1, (1e-1, 1e3)) * RBF(1, (1e-3, 1e3)) \n",
    "gp_model = GaussianProcessRegressor(kernel=kernal, n_restarts_optimizer=10, alpha=0.075, normalize_y=True) # random_state=42\n",
    "gp_model.fit(x1x2, y_data)"
   ]
  },
  {
   "cell_type": "code",
   "execution_count": 62,
   "metadata": {},
   "outputs": [],
   "source": [
    "x1x2t = np.array(list(product(x1t, x2t))) # just to make points in the frame and size of mesh\n",
    "d1 = x1t.shape[0] \n",
    "d2 = x2t.shape[0]\n",
    "\n",
    "y_pred, MSE = gp_model.predict(x1x2t, return_std=True) \n",
    "\n",
    "X1 = x1x2t[:,0].reshape(d2,d1) # reshape is essential to make (n,2) to (n,n)\n",
    "X2 = x1x2t[:,1].reshape(d2,d1) \n",
    "Y = np.reshape(y_pred,(d2,d1))"
   ]
  },
  {
   "cell_type": "code",
   "execution_count": 63,
   "metadata": {
    "scrolled": true
   },
   "outputs": [
    {
     "data": {
      "text/plain": [
       "<matplotlib.collections.PathCollection at 0x20fd3c82518>"
      ]
     },
     "execution_count": 63,
     "metadata": {},
     "output_type": "execute_result"
    }
   ],
   "source": [
    "fig, ax = plt.subplots(1)\n",
    "norm =colors.Normalize(vmin=y_min,vmax=y_max) # is this normalization correct?\n",
    "mappable = ax.pcolormesh(X1,X2,Y)\n",
    "fig.colorbar(mappable)\n",
    "plt.scatter(x1,x2,norm=norm,c=y_data,edgecolors='k')"
   ]
  },
  {
   "cell_type": "code",
   "execution_count": 64,
   "metadata": {},
   "outputs": [
    {
     "data": {
      "text/plain": [
       "Text(0.5, 0, 'AU')"
      ]
     },
     "execution_count": 64,
     "metadata": {},
     "output_type": "execute_result"
    }
   ],
   "source": [
    "%matplotlib qt\n",
    "# make sure nornmailzing color bar appr\n",
    "# NOTE: vmin/vmax supercedes norm, vmin/vmax input is defaulted to colors.Normalize linear normazilation\n",
    "\n",
    "fig = plt.figure()\n",
    "ax = fig.add_subplot(111, projection='3d')\n",
    "norm =colors.Normalize(vmin=y_min,vmax=y_max)\n",
    "ax.scatter(x1,x2,y_data,c=y_data, norm=norm, cmap='jet')\n",
    "surf = ax.plot_surface(X=X1, Y=X2, Z=Y, norm=norm, rstride=1, alpha =0.1, cstride=1, cmap='jet', linewidth=0, antialiased=False)\n",
    "fig.colorbar(surf, shrink=0.5, aspect=5)\n",
    "ax.set_xlabel('Ethanol')\n",
    "ax.set_ylabel('PFH')\n",
    "ax.set_zlabel('AU')"
   ]
  },
  {
   "cell_type": "code",
   "execution_count": 65,
   "metadata": {},
   "outputs": [
    {
     "data": {
      "text/plain": [
       "'why is infinately going in the same color in one direction? is it because the sampling is not \\ncubic as in its weighing in one direction? It seems to only be modeling in one direction rather than two?\\nBut this seems to be an artifact of the data and not the modeling since test data works fine, but that is sparse \\n\\nI wonder if data is just random if it will just make that same gradient'"
      ]
     },
     "execution_count": 65,
     "metadata": {},
     "output_type": "execute_result"
    }
   ],
   "source": [
    "\"\"\"why is infinately going in the same color in one direction? is it because the sampling is not \n",
    "cubic as in its weighing in one direction? It seems to only be modeling in one direction rather than two?\n",
    "But this seems to be an artifact of the data and not the modeling since test data works fine, but that is sparse \n",
    "\n",
    "I wonder if data is just random if it will just make that same gradient\"\"\""
   ]
  },
  {
   "cell_type": "code",
   "execution_count": 58,
   "metadata": {},
   "outputs": [],
   "source": [
    "# TESTING\n",
    "%matplotlib qt\n",
    "# so the way it goes is the vmin/vmax can go in either in the norm or the direct plot, but it always superceeds even if diff norm fed\n",
    "# them this norm is fed into a mappable to make a colormap for a color bar, fed into the colorbar\n",
    "# then do not forget to feed the norm into both a pcolormesh AND figure/plot. \n",
    "\n",
    "# NOTE: A colormap is NOT A mappable color map, rather its just a fancy way to make a collection of colors\n",
    "# try to l earn what edge colors are\n",
    "x_space = np.linspace(x1_min,x1_max,1000)  \n",
    "y_space = np.linspace(x2_min,x2_max,1000)\n",
    "xx, yy = np.meshgrid(x_space,y_space)\n",
    "\n",
    "cartcoord =  np.asarray([ethanol,pfh]).T\n",
    "interp = interpolate.LinearNDInterpolator(cartcoord, absorbance)\n",
    "Z0 = interp(xx,yy)\n",
    "\n",
    "fig, ax = plt.subplots(1)\n",
    "vmin = min(absorbance)\n",
    "vmax = max(absorbance)\n",
    "norm =colors.Normalize(vmin,vmax)\n",
    "mappable = ax.pcolormesh(xx,yy,Z0, norm=norm)\n",
    "# the question is should you normalize around your data or mesh? \n",
    "\n",
    "cbar = fig.colorbar(mappable)\n",
    "plt.scatter(ethanol,pfh,c=absorbance,norm=norm) #theoretically could misamtch norm but dont\n",
    "plt.show()"
   ]
  }
 ],
 "metadata": {
  "kernelspec": {
   "display_name": "Python 3",
   "language": "python",
   "name": "python3"
  },
  "language_info": {
   "codemirror_mode": {
    "name": "ipython",
    "version": 3
   },
   "file_extension": ".py",
   "mimetype": "text/x-python",
   "name": "python",
   "nbconvert_exporter": "python",
   "pygments_lexer": "ipython3",
   "version": "3.6.8"
  }
 },
 "nbformat": 4,
 "nbformat_minor": 4
}
