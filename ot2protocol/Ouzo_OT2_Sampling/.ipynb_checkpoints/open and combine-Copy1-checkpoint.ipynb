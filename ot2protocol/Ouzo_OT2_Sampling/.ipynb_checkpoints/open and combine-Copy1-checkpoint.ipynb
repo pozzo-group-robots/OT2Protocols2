{
 "cells": [
  {
   "cell_type": "code",
   "execution_count": 3,
   "metadata": {},
   "outputs": [],
   "source": [
    "import Ouzo_Graph_Tools as ouzo_graphs\n",
    "import Ouzo_Sampling_Wtf_Lattice_Volume as create\n",
    "import pandas as pd\n",
    "import matplotlib.pyplot as plt\n",
    "import numpy as np"
   ]
  },
  {
   "cell_type": "code",
   "execution_count": 16,
   "metadata": {
    "scrolled": true
   },
   "outputs": [],
   "source": [
    "# Step 1: Load the csv created from the command script.\n",
    "sample_info = pd.read_csv(r\"C:\\Users\\Edwin\\Desktop\\11_11_20\\experiment_info\")\n",
    "pfh_wtfs = [float(i) for i in list(sample_info['Component 3 wtf'])[1:]]\n",
    "etoh_wtfs = [float(i) for i in list(sample_info['Component 4 wtf'])[1:]]"
   ]
  },
  {
   "cell_type": "code",
   "execution_count": 17,
   "metadata": {
    "scrolled": true
   },
   "outputs": [],
   "source": [
    "# Step 2: Load the UV-Vis data,blank and combine it. \n",
    "plate1 =  pd.read_excel(r\"C:\\Users\\Edwin\\Desktop\\11_11_20\\11_11_2020_Plate1.xlsx\", sheet_name = 'Sheet1' ).T\n",
    "plate2 =  pd.read_excel(r\"C:\\Users\\Edwin\\Desktop\\11_11_20\\11_11_2020_Plate2.xlsx\", sheet_name = 'Sheet1' ).T"
   ]
  },
  {
   "cell_type": "code",
   "execution_count": 6,
   "metadata": {},
   "outputs": [],
   "source": [
    "# Step 3: Correct all data using baseline/blanking, make series first then subtract using .bbaselinecorrection\n",
    "blank_series = plate2.iloc[-1]\n",
    "plate1_blanked = ouzo_graphs.baseline_correction(plate1, blank_series)\n",
    "plate2_blanked = ouzo_graphs.baseline_correction(plate2, blank_series)"
   ]
  },
  {
   "cell_type": "code",
   "execution_count": 7,
   "metadata": {},
   "outputs": [
    {
     "ename": "NameError",
     "evalue": "name 'dataframe' is not defined",
     "output_type": "error",
     "traceback": [
      "\u001b[1;31m---------------------------------------------------------------------------\u001b[0m",
      "\u001b[1;31mNameError\u001b[0m                                 Traceback (most recent call last)",
      "\u001b[1;32m<ipython-input-7-af43092b112a>\u001b[0m in \u001b[0;36m<module>\u001b[1;34m\u001b[0m\n\u001b[1;32m----> 1\u001b[1;33m \u001b[0mseries\u001b[0m  \u001b[1;33m=\u001b[0m \u001b[0mdataframe\u001b[0m\u001b[1;33m.\u001b[0m\u001b[0mT\u001b[0m\u001b[1;33m.\u001b[0m\u001b[0miloc\u001b[0m\u001b[1;33m[\u001b[0m\u001b[1;36m2\u001b[0m\u001b[1;33m]\u001b[0m\u001b[1;33m\u001b[0m\u001b[1;33m\u001b[0m\u001b[0m\n\u001b[0m\u001b[0;32m      2\u001b[0m \u001b[0mdf1\u001b[0m \u001b[1;33m=\u001b[0m \u001b[0mpd\u001b[0m\u001b[1;33m.\u001b[0m\u001b[0mDataFrame\u001b[0m\u001b[1;33m(\u001b[0m\u001b[0mseries\u001b[0m\u001b[1;33m)\u001b[0m\u001b[1;33m\u001b[0m\u001b[1;33m\u001b[0m\u001b[0m\n\u001b[0;32m      3\u001b[0m \u001b[0mfloat\u001b[0m\u001b[1;33m(\u001b[0m\u001b[0mdf1\u001b[0m\u001b[1;33m.\u001b[0m\u001b[0mT\u001b[0m\u001b[1;33m[\u001b[0m\u001b[1;34m'Wavelength'\u001b[0m\u001b[1;33m]\u001b[0m\u001b[1;33m)\u001b[0m\u001b[1;33m\u001b[0m\u001b[1;33m\u001b[0m\u001b[0m\n",
      "\u001b[1;31mNameError\u001b[0m: name 'dataframe' is not defined"
     ]
    }
   ],
   "source": [
    "series  = dataframe.T.iloc[2]\n",
    "df1 = pd.DataFrame(series)\n",
    "float(df1.T['Wavelength'])"
   ]
  },
  {
   "cell_type": "code",
   "execution_count": null,
   "metadata": {},
   "outputs": [],
   "source": [
    "dataframe = plate1_blanked\n",
    "for i, (key, row) in enumerate(dataframe.iterrows()):\n",
    "    if key == 'Wavelength':\n",
    "        wavelengths = row\n",
    "\n",
    "index = np.where(wavelengths == wavelength)[0][0]\n",
    "wells = []\n",
    "absorbances = []\n",
    "for i, (key, row) in enumerate(dataframe.iterrows()):\n",
    "    if key == 'Wavelength':\n",
    "        pass\n",
    "    else:\n",
    "        well = key\n",
    "        wells.append(well)\n",
    "        absorbance = row[index]\n",
    "        absorbances.append(absorbance)\n",
    "\n",
    "wavelengths"
   ]
  },
  {
   "cell_type": "code",
   "execution_count": null,
   "metadata": {},
   "outputs": [],
   "source": [
    "def wavelength_absorbances(uv_df):\n",
    "    \n",
    "    for i, (key, row) in enumerate(dataframe.iterrows()):\n",
    "        if key == 'Wavelength':\n",
    "            wavelengths = row\n",
    "    \n",
    "    index = np.where(wavelengths == wavelength)[0][0]\n",
    "    wells = []\n",
    "    absorbances = []\n",
    "    for i, (key, row) in enumerate(dataframe.iterrows()):\n",
    "        if key == 'Wavelength':\n",
    "            pass\n",
    "        else:\n",
    "            well = key\n",
    "            wells.append(well)\n",
    "            absorbance = row[index]\n",
    "            absorbances.append(absorbance)\n",
    "    "
   ]
  },
  {
   "cell_type": "code",
   "execution_count": 9,
   "metadata": {},
   "outputs": [
    {
     "data": {
      "image/png": "[encoded data removed]",
      "text/plain": [
       "<Figure size 432x288 with 1 Axes>"
      ]
     },
     "metadata": {
      "needs_background": "light"
     },
     "output_type": "display_data"
    }
   ],
   "source": [
    "# Step 4: Extract the absorbances from the loaded UV-Vis data at a specified wavelength\n",
    "wavelength = 700\n",
    "plate1_absorbances = ouzo_graphs.plot_single_wavelength(plate1_blanked, wavelength)# rearrnge x axis based on concentration or something \n",
    "plate2_absorbances = ouzo_graphs.plot_single_wavelength(plate2_blanked, wavelength)"
   ]
  },
  {
   "cell_type": "code",
   "execution_count": null,
   "metadata": {},
   "outputs": [],
   "source": [
    "plt.style.use('classic')\n",
    "pfh_wtfs = [float(i) for i in list(sample_info['Component 3 wtf'])[1:]]\n",
    "etoh_wtfs = [float(i) for i in list(sample_info['Component 4 wtf'])[1:]]\n",
    "plt.scatter(etoh_wtfs, pfh_wtfs, s=100, c = absorbs)\n",
    "plt.xlabel(\"Ethanol wtf\")\n",
    "plt.ylabel(\"PFH wtf\")\n",
    "color_bar = plt.colorbar()\n",
    "color_bar_txt = \"AU at wavelength \" + str(wavelength) + 'nm'\n",
    "color_bar.set_label(color_bar_txt, labelpad = 10)\n",
    "plt.xlim([0.15,0.85])\n",
    "plt.ylim([0,0.000085])"
   ]
  },
  {
   "cell_type": "code",
   "execution_count": null,
   "metadata": {
    "scrolled": false
   },
   "outputs": [],
   "source": [
    "sample_info"
   ]
  }
 ],
 "metadata": {
  "kernelspec": {
   "display_name": "Python 3",
   "language": "python",
   "name": "python3"
  }
 },
 "nbformat": 4,
 "nbformat_minor": 2
}
