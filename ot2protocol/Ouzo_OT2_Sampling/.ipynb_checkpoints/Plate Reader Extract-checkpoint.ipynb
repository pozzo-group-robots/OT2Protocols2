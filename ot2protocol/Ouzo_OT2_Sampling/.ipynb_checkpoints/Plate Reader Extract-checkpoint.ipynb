{
 "cells": [
  {
   "cell_type": "code",
   "execution_count": 12,
   "metadata": {},
   "outputs": [],
   "source": [
    "import numpy as np\n",
    "import pandas as pd\n",
    "import matplotlib.pyplot as plt"
   ]
  },
  {
   "cell_type": "code",
   "execution_count": 60,
   "metadata": {},
   "outputs": [],
   "source": [
    "def plot_wavelength(dataframe, wavelength_range = None): # dataframe to be well = row\n",
    "    wavelengths = np.asarray(dataframe.iloc[0])\n",
    "    \n",
    "    if wavelength_range is not None:\n",
    "        fig, ax = plt.subplots()\n",
    "        for key, row in dataframe.iterrows():\n",
    "            if key == 'Wavelength':\n",
    "                lower_index = np.where(wavelengths == wavelength_range[0])[0][0]\n",
    "                upper_index = np.where(wavelengths == wavelength_range[1])[0][0] \n",
    "                x = row[lower_index:upper_index]\n",
    "            else: \n",
    "                y = row[lower_index:upper_index]\n",
    "                ax.plot(x,y)\n",
    "    \n",
    "    else:\n",
    "        fig, ax = plt.subplots()\n",
    "        for key, row in dataframe.iterrows():\n",
    "            if key == 'Wavelength':\n",
    "                x = row\n",
    "            else: \n",
    "                y = row\n",
    "#                 plt.yscale('log')\n",
    "                ax.plot(x,y)"
   ]
  },
  {
   "cell_type": "code",
   "execution_count": null,
   "metadata": {},
   "outputs": [],
   "source": [
    "def plot_wavelength(df, wavelength): \n",
    "    "
   ]
  },
  {
   "cell_type": "code",
   "execution_count": 61,
   "metadata": {},
   "outputs": [],
   "source": [
    "# splitting up into dfs so can rearrange in column order\n",
    "def r_to_c_order(df):    \n",
    "    key = df.iloc[0]\n",
    "    A = df.iloc[1:9]\n",
    "    B = df.iloc[9:17]\n",
    "    C = df.iloc[17:25]\n",
    "    D = df.iloc[25:33]\n",
    "    E = df.iloc[33:41]\n",
    "    F = df.iloc[41:49]\n",
    "\n",
    "    concat = [key]\n",
    "    for i in range(8):\n",
    "    #     print(A.iloc[i])\n",
    "        concat.append(A.iloc[i])\n",
    "        concat.append(B.iloc[i])\n",
    "        concat.append(C.iloc[i])\n",
    "        concat.append(D.iloc[i])\n",
    "        concat.append(E.iloc[i])\n",
    "        concat.append(F.iloc[i])\n",
    "    \n",
    "\n",
    "    final_df = pd.concat(concat, axis =1) # ok so now can begin to match the sample dataframe with this data frame\\\n",
    "    return final_df.T"
   ]
  },
  {
   "cell_type": "code",
   "execution_count": 62,
   "metadata": {},
   "outputs": [],
   "source": [
    "def baseline_correction(df_samples, baseline_series):\n",
    "# here is where you will specify up to what wells are samples and which is a blank, \n",
    "# ideally build into sample creation code an automatic blank so not nec. \n",
    "    new_df_con = []\n",
    "    for key, row in df_samples.iterrows():\n",
    "        if key == 'Wavelength':\n",
    "            wavelengths = row\n",
    "            new_df_con.append(wavelengths)\n",
    "        else: \n",
    "            series = row \n",
    "            corrected = series.subtract(baseline_series)\n",
    "            new_df_con.append(corrected)\n",
    "    \n",
    "    baseline_corrected_df = pd.concat(new_df_con, axis = 1)\n",
    "    return baseline_corrected_df.T"
   ]
  },
  {
   "cell_type": "code",
   "execution_count": 63,
   "metadata": {},
   "outputs": [],
   "source": [
    "df1 =  pd.read_excel(r\"C:\\Users\\Edwin\\Desktop\\OT2Protocols\\ot2protocol\\Ouzo_OT2_Sampling\\Run_09_24_20\\09_24_2020_Scan1_Trial1.xlsx\", sheet_name = 'Sheet1' ).T\n",
    "# df2 =  pd.read_excel(r\"C:\\Users\\Edwin\\Desktop\\Repos\\OT2Protocols\\ot2protocol\\Ouzo_OT2_Sampling\\Run 0917\\09_17_20_E_P_Scan_2.xlsx\", sheet_name = 'Sheet1' ).T"
   ]
  },
  {
   "cell_type": "code",
   "execution_count": 64,
   "metadata": {},
   "outputs": [
    {
     "ename": "IndexError",
     "evalue": "index 0 is out of bounds for axis 0 with size 0",
     "output_type": "error",
     "traceback": [
      "\u001b[1;31m---------------------------------------------------------------------------\u001b[0m",
      "\u001b[1;31mIndexError\u001b[0m                                Traceback (most recent call last)",
      "\u001b[1;32m<ipython-input-64-ff4637bdc0f6>\u001b[0m in \u001b[0;36m<module>\u001b[1;34m\u001b[0m\n\u001b[1;32m----> 1\u001b[1;33m \u001b[0mplot_wavelengths\u001b[0m\u001b[1;33m(\u001b[0m\u001b[0mdf1\u001b[0m\u001b[1;33m,\u001b[0m \u001b[1;33m[\u001b[0m\u001b[1;36m325\u001b[0m\u001b[1;33m,\u001b[0m\u001b[1;36m325\u001b[0m\u001b[1;33m]\u001b[0m\u001b[1;33m)\u001b[0m\u001b[1;33m\u001b[0m\u001b[1;33m\u001b[0m\u001b[0m\n\u001b[0m",
      "\u001b[1;32m<ipython-input-60-8fd074ae8613>\u001b[0m in \u001b[0;36mplot_wavelengths\u001b[1;34m(dataframe, wavelength_range)\u001b[0m\n\u001b[0;32m      3\u001b[0m \u001b[1;33m\u001b[0m\u001b[0m\n\u001b[0;32m      4\u001b[0m     \u001b[1;32mif\u001b[0m \u001b[0mwavelength_range\u001b[0m \u001b[1;32mis\u001b[0m \u001b[1;32mnot\u001b[0m \u001b[1;32mNone\u001b[0m\u001b[1;33m:\u001b[0m\u001b[1;33m\u001b[0m\u001b[1;33m\u001b[0m\u001b[0m\n\u001b[1;32m----> 5\u001b[1;33m         \u001b[0mlower_index\u001b[0m \u001b[1;33m=\u001b[0m \u001b[0mnp\u001b[0m\u001b[1;33m.\u001b[0m\u001b[0mwhere\u001b[0m\u001b[1;33m(\u001b[0m\u001b[0mwavelengths\u001b[0m \u001b[1;33m==\u001b[0m \u001b[0mwavelength_range\u001b[0m\u001b[1;33m[\u001b[0m\u001b[1;36m0\u001b[0m\u001b[1;33m]\u001b[0m\u001b[1;33m)\u001b[0m\u001b[1;33m[\u001b[0m\u001b[1;36m0\u001b[0m\u001b[1;33m]\u001b[0m\u001b[1;33m[\u001b[0m\u001b[1;36m0\u001b[0m\u001b[1;33m]\u001b[0m\u001b[1;33m\u001b[0m\u001b[1;33m\u001b[0m\u001b[0m\n\u001b[0m\u001b[0;32m      6\u001b[0m         \u001b[0mupper_index\u001b[0m \u001b[1;33m=\u001b[0m \u001b[0mnp\u001b[0m\u001b[1;33m.\u001b[0m\u001b[0mwhere\u001b[0m\u001b[1;33m(\u001b[0m\u001b[0mwavelengths\u001b[0m \u001b[1;33m==\u001b[0m \u001b[0mwavelength_range\u001b[0m\u001b[1;33m[\u001b[0m\u001b[1;36m1\u001b[0m\u001b[1;33m]\u001b[0m\u001b[1;33m)\u001b[0m\u001b[1;33m[\u001b[0m\u001b[1;36m0\u001b[0m\u001b[1;33m]\u001b[0m\u001b[1;33m[\u001b[0m\u001b[1;36m0\u001b[0m\u001b[1;33m]\u001b[0m\u001b[1;33m\u001b[0m\u001b[1;33m\u001b[0m\u001b[0m\n\u001b[0;32m      7\u001b[0m         \u001b[0mdataframe\u001b[0m \u001b[1;33m=\u001b[0m \u001b[0mdataframe\u001b[0m\u001b[1;33m\u001b[0m\u001b[1;33m\u001b[0m\u001b[0m\n",
      "\u001b[1;31mIndexError\u001b[0m: index 0 is out of bounds for axis 0 with size 0"
     ]
    }
   ],
   "source": [
    "plot_wavelengths(df1, [325,325])"
   ]
  },
  {
   "cell_type": "code",
   "execution_count": null,
   "metadata": {},
   "outputs": [],
   "source": []
  }
 ],
 "metadata": {
  "kernelspec": {
   "display_name": "Python 3",
   "language": "python",
   "name": "python3"
  },
  "language_info": {
   "codemirror_mode": {
    "name": "ipython",
    "version": 3
   },
   "file_extension": ".py",
   "mimetype": "text/x-python",
   "name": "python",
   "nbconvert_exporter": "python",
   "pygments_lexer": "ipython3",
   "version": "3.6.8"
  }
 },
 "nbformat": 4,
 "nbformat_minor": 4
}
