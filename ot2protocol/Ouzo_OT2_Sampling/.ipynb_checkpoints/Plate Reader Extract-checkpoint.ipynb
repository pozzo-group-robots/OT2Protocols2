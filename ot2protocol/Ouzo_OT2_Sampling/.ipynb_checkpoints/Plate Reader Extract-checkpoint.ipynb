{
 "cells": [
  {
   "cell_type": "code",
   "execution_count": 2,
   "metadata": {},
   "outputs": [],
   "source": [
    "import numpy as np\n",
    "import pandas as pd\n",
    "import matplotlib.pyplot as plt"
   ]
  },
  {
   "cell_type": "code",
   "execution_count": 114,
   "metadata": {
    "scrolled": true
   },
   "outputs": [],
   "source": [
    "df1 =  pd.read_excel(r\"C:\\Users\\Edwin\\Desktop\\Run 0917\\09_17_20_TL_P_Scan_1.xlsx\", sheet_name = 'Sheet1' ).T\n",
    "df2 =  pd.read_excel(r\"C:\\Users\\Edwin\\Desktop\\Run 0917\\09_17_20_TL_P_Scan_2.xlsx\", sheet_name = 'Sheet1' ).T"
   ]
  },
  {
   "cell_type": "code",
   "execution_count": 115,
   "metadata": {},
   "outputs": [],
   "source": [
    "# first lets convert the the typical convention of OT2 which is creating column to column\n",
    "# since the plate reader was originalyl set to read row to row "
   ]
  },
  {
   "cell_type": "code",
   "execution_count": 116,
   "metadata": {},
   "outputs": [],
   "source": [
    "def plot_wavelengths(dataframe, wavelength_range = None): # dataframe to be well = row\n",
    "    wavelengths = np.asarray(dataframe.iloc[0])\n",
    "    \n",
    "    if wavelength_range is not None:\n",
    "        lower_index = np.where(wavelengths == wavelength_range[0])[0][0]\n",
    "        upper_index = np.where(wavelengths == wavelength_range[1])[0][0]\n",
    "        dataframe = dataframe \n",
    "\n",
    "        fig, ax = plt.subplots()\n",
    "        for key, row in dataframe.iterrows():\n",
    "            if key == 'Wavelength':\n",
    "                x = row[lower_index:upper_index]\n",
    "            else: \n",
    "                y = row[lower_index:upper_index]\n",
    "                ax.plot(x,y)\n",
    "    \n",
    "    else:\n",
    "        fig, ax = plt.subplots()\n",
    "        for key, row in dataframe.iterrows():\n",
    "            if key == 'Wavelength':\n",
    "                x = row\n",
    "            else: \n",
    "                y = row\n",
    "                ax.plot(x,y)"
   ]
  },
  {
   "cell_type": "code",
   "execution_count": 117,
   "metadata": {},
   "outputs": [],
   "source": [
    "# splitting up into dfs so can rearrange in column order\n",
    "def r_to_c_order(df):    \n",
    "    key = df.iloc[0]\n",
    "    A = df.iloc[1:9]\n",
    "    B = df.iloc[9:17]\n",
    "    C = df.iloc[17:25]\n",
    "    D = df.iloc[25:33]\n",
    "    E = df.iloc[33:41]\n",
    "    F = df.iloc[41:49]\n",
    "\n",
    "    concat = [key]\n",
    "    for i in range(8):\n",
    "    #     print(A.iloc[i])\n",
    "        concat.append(A.iloc[i])\n",
    "        concat.append(B.iloc[i])\n",
    "        concat.append(C.iloc[i])\n",
    "        concat.append(D.iloc[i])\n",
    "        concat.append(E.iloc[i])\n",
    "        concat.append(F.iloc[i])\n",
    "    \n",
    "\n",
    "    final_df = pd.concat(concat, axis =1) # ok so now can begin to match the sample dataframe with this data frame\\\n",
    "    return final_df"
   ]
  },
  {
   "cell_type": "code",
   "execution_count": null,
   "metadata": {},
   "outputs": [],
   "source": [
    "def baseline_correction(df_samples, baseline_series) \n",
    "# here is where you will specify up to what wells are samples and which is a blank, \n",
    "# ideally build into sample creation code an automatic blank so not nec. \n"
   ]
  },
  {
   "cell_type": "code",
   "execution_count": 119,
   "metadata": {},
   "outputs": [
    {
     "data": {
      "image/png": "[encoded data removed]",
      "text/plain": [
       "<Figure size 432x288 with 1 Axes>"
      ]
     },
     "metadata": {
      "needs_background": "light"
     },
     "output_type": "display_data"
    }
   ],
   "source": [
    "df_1c = r_to_c_order(df1).T\n",
    "plot_wavelengths(df_1c[0:7])"
   ]
  },
  {
   "cell_type": "code",
   "execution_count": null,
   "metadata": {},
   "outputs": [],
   "source": []
  }
 ],
 "metadata": {
  "kernelspec": {
   "display_name": "Python 3",
   "language": "python",
   "name": "python3"
  },
  "language_info": {
   "codemirror_mode": {
    "name": "ipython",
    "version": 3
   },
   "file_extension": ".py",
   "mimetype": "text/x-python",
   "name": "python",
   "nbconvert_exporter": "python",
   "pygments_lexer": "ipython3",
   "version": "3.6.8"
  }
 },
 "nbformat": 4,
 "nbformat_minor": 4
}
