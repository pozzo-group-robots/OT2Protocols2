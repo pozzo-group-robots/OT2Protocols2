{
 "cells": [
  {
   "cell_type": "code",
   "execution_count": null,
   "metadata": {},
   "outputs": [],
   "source": [
    "import Ouzo_Sampling_Wtf_Lattice_Volume as create\n",
    "import OT2_Ouzo_Commands as ot2_commands\n",
    "import Ouzo_Graph_Tools as ouzo_graphs\n",
    "from opentrons import simulate, execute, protocol_api\n",
    "import pandas as pd\n",
    "import numpy as np"
   ]
  },
  {
   "cell_type": "code",
   "execution_count": null,
   "metadata": {},
   "outputs": [],
   "source": [
    "experiment_dict = create.get_experiment_plan(r\"C:\\Users\\Edwin\\Downloads\\10_13_2020_E_P_Scan.csv\")"
   ]
  },
  {
   "cell_type": "code",
   "execution_count": null,
   "metadata": {},
   "outputs": [],
   "source": [
    "wtf_sample_canidates = create.generate_candidate_lattice_concentrations(experiment_dict) # there is a built in filter for anything summing to over 1, could be somewhat informative\n",
    "volume_canidates = create.calculate_ouzo_volumes(wtf_sample_canidates, experiment_dict) # this is where you can iterate through a range of stocks and present different sets of possible volumes\n",
    "filtered_wtf_samples, filtered_volume_samples = create.filter_samples(wtf_sample_canidates, volume_canidates, 30, 1000)\n",
    "# print('Samples = ', len(filtered_wtf_samples))\n",
    "# # print((sum(volume_canidates[0][0:4])/sum(volume_canidates[0]))*100)\n",
    "# for volume in volume_canidates:\n",
    "#     print(volume)"
   ]
  },
  {
   "cell_type": "code",
   "execution_count": null,
   "metadata": {
    "scrolled": false
   },
   "outputs": [],
   "source": [
    "# since autoscaled do not plot sample list with blank\n",
    "ouzo_graphs.graph_canidates(experiment_dict, wtf_sample_canidates, filtered_wtf_samples) # add log/scinot, exclude blank by -1 on len"
   ]
  },
  {
   "cell_type": "code",
   "execution_count": null,
   "metadata": {},
   "outputs": [],
   "source": [
    "# Optional addition of blank samples to sample volumes\n",
    "average_vol = create.average_volume(filtered_volume_samples)\n",
    "filtered_wtf_samples_b, filtered_volume_samples_b = create.add_blank(filtered_wtf_samples, filtered_volume_samples,average_vol, experiment_dict['Blank Component Concentrations'])"
   ]
  },
  {
   "cell_type": "code",
   "execution_count": null,
   "metadata": {
    "scrolled": true
   },
   "outputs": [],
   "source": [
    "protocol = simulate.get_protocol_api('2.0')\n",
    "information = ot2_commands.run(protocol, experiment_dict, filtered_volume_samples_b)"
   ]
  },
  {
   "cell_type": "code",
   "execution_count": null,
   "metadata": {},
   "outputs": [],
   "source": [
    "for i in information:\n",
    "    print(i)"
   ]
  },
  {
   "cell_type": "code",
   "execution_count": null,
   "metadata": {},
   "outputs": [],
   "source": [
    "create.create_csv(r\"C:\\Users\\Edwin\\Desktop\\cmonwidg\", information, filtered_wtf_samples_b, experiment_dict)\n",
    "df = pd.read_csv(r\"C:\\Users\\Edwin\\Desktop\\cmonwidg\")"
   ]
  },
  {
   "cell_type": "code",
   "execution_count": null,
   "metadata": {},
   "outputs": [],
   "source": [
    "df"
   ]
  },
  {
   "cell_type": "code",
   "execution_count": null,
   "metadata": {},
   "outputs": [],
   "source": []
  }
 ],
 "metadata": {
  "celltoolbar": "Raw Cell Format",
  "kernelspec": {
   "display_name": "Python 3",
   "language": "python",
   "name": "python3"
  },
  "language_info": {
   "codemirror_mode": {
    "name": "ipython",
    "version": 3
   },
   "file_extension": ".py",
   "mimetype": "text/x-python",
   "name": "python",
   "nbconvert_exporter": "python",
   "pygments_lexer": "ipython3",
   "version": "3.7.3"
  }
 },
 "nbformat": 4,
 "nbformat_minor": 4
}
