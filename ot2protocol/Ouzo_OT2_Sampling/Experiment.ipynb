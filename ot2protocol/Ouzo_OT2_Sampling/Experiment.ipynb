{
 "cells": [
  {
   "cell_type": "code",
   "execution_count": 2,
   "metadata": {},
   "outputs": [
    {
     "name": "stderr",
     "output_type": "stream",
     "text": [
      "C:\\Users\\Edwin\\.opentrons\\deck_calibration.json not found. Loading defaults\n",
      "C:\\Users\\Edwin\\.opentrons\\robot_settings.json not found. Loading defaults\n"
     ]
    },
    {
     "name": "stdout",
     "output_type": "stream",
     "text": [
      "Loading json containers...\n",
      "Json container file load complete, listing database\n",
      "Found 0 containers to add. Starting migration...\n",
      "Database migration complete!\n"
     ]
    }
   ],
   "source": [
    "import os\n",
    "import Ouzo_Sampling_Wtf_Lattice_Volume as create\n",
    "import matplotlib.pyplot as plt\n",
    "import numpy as np\n",
    "import OT2_Ouzo_Commands as ot2_commands\n",
    "from opentrons import simulate, execute, protocol_api"
   ]
  },
  {
   "cell_type": "code",
   "execution_count": 3,
   "metadata": {},
   "outputs": [],
   "source": [
    "experiment_dict = create.get_experiment_plan(r\"C:\\Users\\Edwin\\Desktop\\OT2Protocols\\ot2protocol\\Ouzo_OT2_Sampling\\Run_09_24_20\\09_24_2020_E_P_Scan.csv\") # Intialize master dictionary from excel sheet\n",
    "# make unique id auto (DDMMYY)\n",
    "component_dict = create.dict_creator(experiment_dict, 'Component') # Gather all information concerning components into one dictionary\n",
    "stock_dict = create.dict_creator(experiment_dict, 'Stock') \n",
    "opentrons_dict = create.dict_creator(experiment_dict, 'OT2')"
   ]
  },
  {
   "cell_type": "code",
   "execution_count": 6,
   "metadata": {},
   "outputs": [
    {
     "name": "stdout",
     "output_type": "stream",
     "text": [
      "sample filtered out = 59\n",
      "samples remaining = 41\n"
     ]
    }
   ],
   "source": [
    "total_sample_mass = experiment_dict['Sample Mass']\n",
    "wtf_sample_canidates = create.generate_candidate_lattice_concentrations(component_dict) # there is a built in filter for anything summing to over 1, could be somewhat informative\n",
    "stock_volumes_canidates = create.calculate_volumes(total_sample_mass, wtf_sample_canidates, component_dict, stock_dict) # created in uL\n",
    "filtered_wtf_samples, filtered_volume_samples = create.filter_samples(wtf_sample_canidates, stock_volumes_canidates, 30, 1000)\n",
    "print('sample filtered out =', len(stock_volumes_canidates)-len(filtered_volume_samples))\n",
    "print('samples remaining =', len(filtered_volume_samples))"
   ]
  },
  {
   "cell_type": "code",
   "execution_count": 7,
   "metadata": {},
   "outputs": [
    {
     "data": {
      "image/png": "[encoded data removed]",
      "text/plain": [
       "<Figure size 432x288 with 1 Axes>"
      ]
     },
     "metadata": {
      "needs_background": "light"
     },
     "output_type": "display_data"
    }
   ],
   "source": [
    "create.graph_canidates(component_dict, wtf_sample_canidates, filtered_wtf_samples)\n",
    "# add in other information\n",
    "# log scale/scinot "
   ]
  },
  {
   "cell_type": "code",
   "execution_count": null,
   "metadata": {},
   "outputs": [],
   "source": [
    "component_volume_lists = create.rearrange(filtered_volume_samples)\n",
    "protocol = simulate.get_protocol_api('2.0')\n",
    "ot2_commands.run(protocol, experiment_dict, opentrons_dict, component_volume_lists) # alright cmon wig!"
   ]
  },
  {
   "cell_type": "code",
   "execution_count": null,
   "metadata": {
    "scrolled": false
   },
   "outputs": [],
   "source": [
    "# label printer - track\n"
   ]
  }
 ],
 "metadata": {
  "kernelspec": {
   "display_name": "Python 3",
   "language": "python",
   "name": "python3"
  },
  "language_info": {
   "codemirror_mode": {
    "name": "ipython",
    "version": 3
   },
   "file_extension": ".py",
   "mimetype": "text/x-python",
   "name": "python",
   "nbconvert_exporter": "python",
   "pygments_lexer": "ipython3",
   "version": "3.6.8"
  }
 },
 "nbformat": 4,
 "nbformat_minor": 4
}
