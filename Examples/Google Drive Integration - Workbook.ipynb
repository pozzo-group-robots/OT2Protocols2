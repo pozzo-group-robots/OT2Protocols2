{
 "cells": [
  {
   "cell_type": "markdown",
   "metadata": {},
   "source": [
    "#### Information"
   ]
  },
  {
   "cell_type": "markdown",
   "metadata": {},
   "source": [
    "* Test Project ID: optimum-column-273718\n",
    "* Project Name: PozzoIntegrationT1\n",
    "* Organization: uw.edu\n",
    "* Location: uw.edu\n",
    "* Client ID: 166164154392-i4l5heveqn5jq5gjsr4pcdn53m8ql5r3.apps.googleusercontent.com\n",
    "* Client Secret: LYUaL5NYQqIOcuMCIfA9IvAC"
   ]
  },
  {
   "cell_type": "markdown",
   "metadata": {},
   "source": [
    "#### Goals"
   ]
  },
  {
   "cell_type": "markdown",
   "metadata": {},
   "source": [
    "* integration of Gdrive API and Python\n",
    "    * done - use of a client_secrets.json file a Group Project request for API access\n",
    "* Movement through Gdrive \n",
    "    * done - relys on file/folder ID's - need to read and save the ones you want\n",
    "* Uploading a new folder - or updating an existing folder from python information\n",
    "    * Done - will download it to the current folder but will rewrite every time it is \n",
    "        downloaded and can then be read into python\n",
    "* Pulling information from Gdrive into Python - saving as a dataframe\n",
    "    * Done - can be pulled into Python and edited as a dataframe. \n",
    "* pickling useful fileID's and saving the file paths for ease of use\n",
    "* \n",
    "* searching title names - within the Gdrive folder itself \n",
    "    * search loops that loop through all folders/files until there is a match\n",
    "* searching the information within the Gdrive folder itself\n",
    "* \n",
    "* Modifying metadata*?* to update information\n",
    "* \n",
    "* Optimizing Gdrive structure for searching - \n",
    "    * Branching of structure? by instrument? by person? by experiment? by materials? by date?\n",
    "    * Project - instrument - person - date?\n",
    "    * Instrument - person - experiment - date?\n",
    "    * Pozzo Group - All Data - ()\n",
    "* Organize HDF5 files in Gdrive? how does the connections work?"
   ]
  },
  {
   "cell_type": "markdown",
   "metadata": {},
   "source": [
    "### Imports"
   ]
  },
  {
   "cell_type": "code",
   "execution_count": 2,
   "metadata": {},
   "outputs": [],
   "source": [
    "import pandas as pd"
   ]
  },
  {
   "cell_type": "code",
   "execution_count": 3,
   "metadata": {},
   "outputs": [
    {
     "name": "stdout",
     "output_type": "stream",
     "text": [
      "Your browser has been opened to visit:\n",
      "\n",
      "    https://accounts.google.com/o/oauth2/auth?client_id=166164154392-i4l5heveqn5jq5gjsr4pcdn53m8ql5r3.apps.googleusercontent.com&redirect_uri=http%3A%2F%2Flocalhost%3A8080%2F&scope=https%3A%2F%2Fwww.googleapis.com%2Fauth%2Fdrive&access_type=offline&response_type=code\n",
      "\n",
      "Authentication successful.\n"
     ]
    }
   ],
   "source": [
    "from pydrive.auth import GoogleAuth\n",
    "from pydrive.drive import GoogleDrive\n",
    "\n",
    "gauth = GoogleAuth()\n",
    "#creates browser to ask for consent to modify files in the name of the API project (Pozzo Lab Group)\n",
    "gauth.LocalWebserverAuth()\n",
    "drive = GoogleDrive(gauth)"
   ]
  },
  {
   "cell_type": "markdown",
   "metadata": {},
   "source": [
    "### View all folders and files in your Google Drive"
   ]
  },
  {
   "cell_type": "code",
   "execution_count": 4,
   "metadata": {},
   "outputs": [
    {
     "name": "stdout",
     "output_type": "stream",
     "text": [
      "Title: Recipes, ID: 1Sl_R4-T_R507dmiYZfWCng5cSJwc-Olc\n",
      "Title: Lit Review, ID: 1ItbY0Lbz_O8pS59yl8GfkbWZ2LAFz5zs\n",
      "Title: Polymer Lit Review, ID: 17c-kCk3jvKu1qcGmnzDwoOvfClV27Hf0\n",
      "Title: Polymer Blends, ID: 1AsYXaij5sFtIpFWoxDtYjmvkUB7ut8zY\n",
      "Title: Drafts.pdf, ID: 1io6O364YXNlzgkdWyOzUxMNbjVxZ1u4K\n",
      "Title: Science as Art, ID: 1H-4hSRnJyOlo8UzQs5aSkP9JNfZa6493\n",
      "Title: Blends Paper, ID: 1M08wCd1PWl-yKvil89IMhxUJEa6VnvZE\n",
      "Title: FacultyMeetings2020-ToFaculty, ID: 10JotGiYWTRWsaA3uVhCSq3O8WaInQEZIIs-e1YAcKfI\n",
      "Title: FacultyMeetings2020-ToFaculty.xlsx, ID: 1b4949qLsUTxbW_JZ6GJ-EcmgKZOy1GSQ\n",
      "Title: McAleer Money: Pallicera, ID: 1J08pSvqxWz4hfNzz6L7_cAJs1OQg7-Ju\n",
      "Title: ACES, ID: 0BxITy4q3C1SYWmg5YlNHcjlfVEE\n",
      "Title: Note Jan 21, 2020.pdf, ID: 1w_Zk8a8L63OFNilooGU0cN70OqO8FyTr\n",
      "Title: FY20_ACES Budget_APPROVED, ID: 1eGUoKTSLGn1WMsCTGSP6o2ubmI8AeFQcckREKFOY-g4\n",
      "Title: FY20_ACES Budget_APPROVED.pdf, ID: 0BwGCEaO99URQYjlySG9jS04tRUo2SF9ta1BWWjRFWWFzSHFN\n",
      "Title: NCEC2020 schedule_Sageedits_v3, ID: 1eK_QrqrW7KyBG-2DeS0OIoOKPs1gysR6vwWV5CbmMOw\n",
      "Title: NCEC2020 schedule_ASMedits_v2.docx, ID: 0BwGCEaO99URQSWVhV0tlUUdlYXVVVnF3TzVQcHU2N0NUZlM4\n",
      "Title: Pozzo Group, ID: 0BxuawDMj8CGPV2cyU0lvcHQ3clU\n",
      "Title: Controlled Systems, ID: 1vBh0kg7DeAgSfDYpEN8rAwSHSLnIIaPm\n",
      "Title: NCEC2020_Poster_v2, ID: 1FodfTycb7uHkj8cnhIJk6ldJgLkgJeA_aeNRRkG5QKc\n",
      "Title: NCEC2020_Poster_v2.pdf, ID: 0BwGCEaO99URQOFpGeWhNR2RKWThfYzBuc2ZxNExwdnRIcjNV\n",
      "Title: Calibration of Opentrons Data, ID: 1r2dxUNLJlFGxSpL3NlJucerffeclqKbH_x6i8mR369c\n",
      "Title: VSANS Contrast Matching Drug Movement For Caitlyn, ID: 1DwSiSAKj0FAAacnsgcmOiIkHb7rbq6RzejO6zQtOaKA\n",
      "Title: VSANS Contrast Matching Drug Movement For Caitlyn.docx, ID: 0BwGCEaO99URQdDFoTU40OHNCVFZjU2sxaHJNd2ZyVVdJYXdF\n",
      "Title: NCNR_SANS_20190416_LDP_CMW, ID: 10AQYBPhFTsWK6fFHH6_PIxlWgG0IfjOLRnwd4nMIIDA\n",
      "Title: NCNR_SANS_20190416_LDP_CMW, ID: 1hnOcDedQepVlYCQofr2zH5YymlhQ5zt8r4JLpgg8waA\n",
      "Title: NCNR_SANS_20190416_LDP_CMW, ID: 1qVKEecQXYkSwu-8v-tFjwDkuKeM_rFT5OGdmP9xCLRU\n",
      "Title: NCNR_SANS_20190416_LDP_CMW.docx, ID: 0BwGCEaO99URQZXh6QWNyd1hJRU9BMk9LaTU5c3c4TUlfWnlB\n",
      "Title: Contact Tracker, ID: 1zH9D2oKqYchnoWkDmGXmfK_Aw4UhPnpAK3GX0fShtX0\n",
      "Title: Contact Tracker.xlsx, ID: 0BwGCEaO99URQd2RubmVSaFJaLVZ2bDVWZ29Bb3lWR0Fhd2pn\n",
      "Title: Photos, ID: 12Rbd9qjBvkDQJ0nw3bSrev-KcIzb6Mk7\n",
      "Title: Schools Information list v2, ID: 1WoxXlSKpcIsFQDG123FzXStdgo1fLVsVQx8MYVrOoV4\n",
      "Title: Candy and Snacks that are Iconic (TM) to American culture, ID: 1Nu4eaz2ofE1n1Ejta-FpBmBPNMUAwLONcnmhdy1qhRc\n",
      "Title: Drafts, ID: 10KS9yBhBawNot4zCtHzK8c932RRKJFNM6lbM59L9j5I\n",
      "Title: Jones Foster Accelerator, ID: 1-Afd6Mkthtmoczw5jIdVh06ome1EQIg0\n",
      "Title: NIST VSANS (8/12-8/16), ID: 10Wyh1CsHoJ0BgCFCImLSu0dyoleS9zx1\n",
      "Title: July 18th 2019, ID: 1Ie1_clIVbD3rb_I-ZegHF-QzFZtmvP0o17QrAENePu8\n",
      "Title: Scattering Sample Prep, ID: 1zvNJHpkX_H6KBiXO4vZUXSrUyBNxsTb9dS_qmZ1pfH8\n",
      "Title: Scattering sample preparation, ID: 17KuqEiPxi0KqRVRHWvrSZ9otya5nUIPG8Y0CbDpxKiI\n",
      "Title: 20190630_134413.mp4, ID: 1-3fRUP1m3ketPA3D3VxgA4xMRmd88GWI\n",
      "Title: PeerEval19pABET, ID: 1gGRU_Rk7mf5wHVHtrvoCJ6Wzcxy9ytUDWUsxaoMTFa4\n",
      "Title: PeerEval19pABET.docx, ID: 0BwGCEaO99URQTVlzbVJjSm9HVk1mN1pzaVBNNURtdlYwQmdV\n",
      "Title: for sage, ID: 1q-UyE-b2LHK4newahChghxY7wt5M1_TjxYn_09elSDU\n",
      "Title: for sage.pdf, ID: 0BwGCEaO99URQdDBQeU05QWJZbXBhZm9XT0VDQ2hHNllXdzJJ\n",
      "Title: Colloidal Systems, ID: 1JVOA-RkU51slQLVgyXTmFK8h-tfIVOB-\n",
      "Title: Colloids Lab, ID: 1idjem9fwXDZpYWBUxN7rZ0ELytPPtIKk\n",
      "Title: ACES officer bios, ID: 1eekJ40dqR5LD6kvDrEVx7wuSHaDxN1DnJyUBoifiPK4\n",
      "Title: [Rafael_C._Gonzalez,_Richard_E._Woods,_Steven_L._E(b-ok.cc) (1), ID: 15r1jHh7fp2YIAV_SDnOUV4Q0mDE4RB4V36T91PX7OrY\n",
      "Title: Colloids HW3.docx, ID: 1O-0sCPbQr3j7T2IZAkPvp39v-LIaSxyT\n",
      "Title: Math, ID: 11qSoymfacIHzxrkzWfdE8WCtyXlapDcp\n",
      "Title: D&D, ID: 1fRfdOKQlJbGnBnu3a-6cKsb6Zygh20eh\n",
      "Title: Research Notes, ID: 1eb533JwOp6Mbn2B0J48Drfis9391pPvH\n",
      "Title: Trainings, ID: 1FlmMP4_tXo080NFsJwXwSqN6aKNfQkeO\n",
      "Title: Pozzo Group Safety Training Handout, ID: 1R4gwZJlwHX6WAWAtUGWQz31HneA7klfta6PsjKz2kio\n",
      "Title: Pozzo Group Safety Training Handout.docx, ID: 0BwGCEaO99URQalRYYjFja0lxVF9uTXlMMXRtdU9SQXNPOVdN\n",
      "Title: NIFTI and UWIN Drafts, ID: 1lw1ze50RgqFWSmeLXSWR7lty4rjwWqjsI1ukmQpA5jI\n",
      "Title: NIFTI and UWIN Drafts, ID: 1L8Z41xRZCEQFGeh17kmQXodlQf2UqUuN_Uv9ZhzpjgQ\n",
      "Title: NIFTI and UWIN Drafts.docx, ID: 1hS2OQxX2vRn0NnUYP2TDSP6V_nkI0vLe\n",
      "Title: Thermodynamics, ID: 13VQpInwheo7Xbo3hlAJxbyPcHCeWh5Nr\n",
      "Title: Transport, ID: 1t3qRg6h2mHoAf1B7K6OZJnelneEbtmIu\n",
      "Title: Orientation, ID: 1Vznfwxxo0kIVwbE-nVn5J0nZNb7s4XSo\n",
      "0BxuawDMj8CGPV2cyU0lvcHQ3clU\n"
     ]
    }
   ],
   "source": [
    "filelist = drive.ListFile({'q':\"'root' in parents and trashed = false\"}).GetList()\n",
    "for file in filelist:\n",
    "    print('Title: %s, ID: %s' % (file['title'], file['id']))\n",
    "    if(file['title'] == 'Pozzo Group'):\n",
    "        fileID = file['id']\n",
    "\n",
    "print(fileID)"
   ]
  },
  {
   "cell_type": "markdown",
   "metadata": {},
   "source": [
    "File ID's are the method of Gdrive for working through file paths - you have to know the ID of the file you want"
   ]
  },
  {
   "cell_type": "markdown",
   "metadata": {},
   "source": [
    "#### Into a folder within the root folder\n",
    "- replace the 'root' in the 'q': \"....\" with the fileID of the folder you wish to go into"
   ]
  },
  {
   "cell_type": "code",
   "execution_count": 5,
   "metadata": {},
   "outputs": [
    {
     "name": "stdout",
     "output_type": "stream",
     "text": [
      "1jTd692l4o_8TnHpIXg3uHMGRIdlCSIYd\n"
     ]
    }
   ],
   "source": [
    "filelist2 = drive.ListFile({'q':\"'0BxuawDMj8CGPV2cyU0lvcHQ3clU' in parents and trashed = false\"}).GetList()\n",
    "for file in filelist2:\n",
    "    #print('Title: %s, ID: %s' % (file['title'], file['id']))\n",
    "    if(file['title'] == 'EscalateTesting'):\n",
    "        fileID2 = file['id']\n",
    "        \n",
    "print(fileID2)"
   ]
  },
  {
   "cell_type": "code",
   "execution_count": 6,
   "metadata": {},
   "outputs": [],
   "source": [
    "folder_mime = drive.CreateFile({'id': fileID2})\n",
    "mime = folder_mime['mimeType']\n",
    "string = 'the mimetype is {}'.format(mime)"
   ]
  },
  {
   "cell_type": "code",
   "execution_count": 7,
   "metadata": {},
   "outputs": [
    {
     "name": "stdout",
     "output_type": "stream",
     "text": [
      "the mimetype is application/vnd.google-apps.folder\n"
     ]
    }
   ],
   "source": [
    "print(string)"
   ]
  },
  {
   "cell_type": "markdown",
   "metadata": {},
   "source": [
    "#### Three folders deep"
   ]
  },
  {
   "cell_type": "code",
   "execution_count": 8,
   "metadata": {},
   "outputs": [
    {
     "name": "stdout",
     "output_type": "stream",
     "text": [
      "Title: test_file.csv, ID: 1nPQGnCxlaBmxLOFsdDGBYOt8x7UKnKWd\n",
      "Title: chemical_inventory.xlsx, ID: 1hLY4iEEao5LXzqkQqsfDgm5f_a-rUwKB\n",
      "Title: stock_specifications.csv, ID: 1iBFJ-JHr8Fx1do-85QF5To1fPur85Yz1\n",
      "Title: Wfracs.csv, ID: 1E0HO7D6vYGiGgjI1NMg81KjN4e5NfqC6\n",
      "1E0HO7D6vYGiGgjI1NMg81KjN4e5NfqC6\n"
     ]
    }
   ],
   "source": [
    "filelist3 = drive.ListFile({'q':\"'1jTd692l4o_8TnHpIXg3uHMGRIdlCSIYd' in parents and trashed = false\"}).GetList()\n",
    "for file in filelist3:\n",
    "    print('Title: %s, ID: %s' % (file['title'], file['id']))\n",
    "    if(file['title'] == 'Wfracs.csv'):\n",
    "        filedown = file['id']\n",
    "        \n",
    "print(filedown)"
   ]
  },
  {
   "cell_type": "code",
   "execution_count": 9,
   "metadata": {},
   "outputs": [
    {
     "ename": "NameError",
     "evalue": "name 'id_chem' is not defined",
     "output_type": "error",
     "traceback": [
      "\u001b[1;31m---------------------------------------------------------------------------\u001b[0m",
      "\u001b[1;31mNameError\u001b[0m                                 Traceback (most recent call last)",
      "\u001b[1;32m<ipython-input-9-a745c5d85b01>\u001b[0m in \u001b[0;36m<module>\u001b[1;34m\u001b[0m\n\u001b[1;32m----> 1\u001b[1;33m \u001b[0mprint\u001b[0m\u001b[1;33m(\u001b[0m \u001b[0mid_chem\u001b[0m\u001b[1;33m)\u001b[0m\u001b[1;33m\u001b[0m\u001b[1;33m\u001b[0m\u001b[0m\n\u001b[0m\u001b[0;32m      2\u001b[0m \u001b[0mprint\u001b[0m\u001b[1;33m(\u001b[0m\u001b[0mid_stock\u001b[0m\u001b[1;33m)\u001b[0m\u001b[1;33m\u001b[0m\u001b[1;33m\u001b[0m\u001b[0m\n",
      "\u001b[1;31mNameError\u001b[0m: name 'id_chem' is not defined"
     ]
    }
   ],
   "source": [
    "print( id_chem)\n",
    "print(id_stock)"
   ]
  },
  {
   "cell_type": "code",
   "execution_count": null,
   "metadata": {},
   "outputs": [],
   "source": [
    "insert = str('9984039423')\n",
    "variable_string = \"'q': '{} in parents and trashed = false'\".format(insert)\n",
    "print(variable_string)"
   ]
  },
  {
   "cell_type": "markdown",
   "metadata": {},
   "source": [
    "### Search all folders and find the file ID with the title as specified"
   ]
  },
  {
   "cell_type": "code",
   "execution_count": null,
   "metadata": {},
   "outputs": [],
   "source": [
    "goal = 'Wfracs.csv'\n",
    "goal_id = 0\n",
    "filelist = drive.ListFile({'q':\"'root' in parents and trashed = false\"}).GetList()"
   ]
  },
  {
   "cell_type": "code",
   "execution_count": null,
   "metadata": {},
   "outputs": [],
   "source": [
    "# Try separating into separate functions - one that will enter a folder and get the file list\n",
    "# the other that will find the goal? - needs to be able to search all the layers of all the \n",
    "# folders - currently can go three deep and thats it. "
   ]
  },
  {
   "cell_type": "code",
   "execution_count": null,
   "metadata": {},
   "outputs": [],
   "source": [
    "def filesearch(filelist, goal):\n",
    "    for file in filelist: \n",
    "        hold_name = file['title']\n",
    "        if file['title'] == goal:\n",
    "            goal_id = file['id']\n",
    "            return goal_id\n",
    "        elif file['mimeType'] == 'application/vnd.google-apps.folder':\n",
    "            hold_id = file['id']\n",
    "            hold_name = file['title']\n",
    "            filelist2 = drive.ListFile({'q':\"'{}' in parents and trashed = false\".format(hold_id)}).GetList()\n",
    "            for file in filelist2: \n",
    "                if file['title'] == goal:\n",
    "                    goal_id = file['id']\n",
    "                    return goal_id\n",
    "                elif file['mimeType'] == 'application/vnd.google-apps.folder':\n",
    "                    hold_id = file['id']\n",
    "                    hold_name = file['title']\n",
    "                    filelist3 = drive.ListFile({'q':\"'{}' in parents and trashed = false\".format(hold_id)}).GetList()\n",
    "                    for file in filelist3: \n",
    "                        if file['title'] == goal:\n",
    "                            goal_id = file['id']\n",
    "                            return goal_id\n",
    "                        else:\n",
    "                            pass\n",
    "                        #print('file not found in folder {}'.format(hold_name))\n",
    "                else:\n",
    "                    pass\n",
    "                #print('file not found in folder {}'.format(hold_name))\n",
    "        else:\n",
    "            pass\n",
    "        #print('file not found in folder {}'.format(hold_name))\n",
    "        #print('file not found within three folders of starting location')"
   ]
  },
  {
   "cell_type": "code",
   "execution_count": null,
   "metadata": {},
   "outputs": [],
   "source": [
    "filesearch(filelist, goal)"
   ]
  },
  {
   "cell_type": "markdown",
   "metadata": {},
   "source": [
    "### Upload a file into a folder"
   ]
  },
  {
   "cell_type": "code",
   "execution_count": 10,
   "metadata": {},
   "outputs": [
    {
     "name": "stdout",
     "output_type": "stream",
     "text": [
      "Created file test_file.csv with mimeType text/csv\n"
     ]
    }
   ],
   "source": [
    "#Creation of the desired file in the place you desire - \n",
    "#can change location using the folder ID in the parents section\n",
    "file1 = drive.CreateFile({\"mimeType\": \"text/csv\", \"parents\": [{\"kind\": \"drive#fileLink\", \"id\": fileID2}], \"title\": 'test_file.csv'})\n",
    "\n",
    "#uploading the file\n",
    "file1.Upload()\n",
    "print('Created file %s with mimeType %s' % (file1['title'], file1['mimeType']))"
   ]
  },
  {
   "cell_type": "markdown",
   "metadata": {},
   "source": [
    "### Download a file (to your computer and then) into python"
   ]
  },
  {
   "cell_type": "code",
   "execution_count": 7,
   "metadata": {},
   "outputs": [
    {
     "name": "stdout",
     "output_type": "stream",
     "text": [
      "1E0HO7D6vYGiGgjI1NMg81KjN4e5NfqC6\n"
     ]
    }
   ],
   "source": [
    "print(filedown)"
   ]
  },
  {
   "cell_type": "code",
   "execution_count": 8,
   "metadata": {},
   "outputs": [],
   "source": [
    "file_tdown = drive.CreateFile({'id': filedown})\n",
    "content = file_tdown.GetContentFile('Wfracs.csv')"
   ]
  },
  {
   "cell_type": "code",
   "execution_count": 9,
   "metadata": {},
   "outputs": [],
   "source": [
    "df = pd.read_csv('Wfracs.csv')"
   ]
  },
  {
   "cell_type": "markdown",
   "metadata": {},
   "source": [
    "## All together: Creation, upload, download, edit, re-upload\n",
    "\n",
    "Example is done with `chemical_inventory.xlsx` and `stock_specification.csv`"
   ]
  },
  {
   "cell_type": "code",
   "execution_count": 11,
   "metadata": {},
   "outputs": [],
   "source": [
    "# For files that are already created, read files into python (need to be in folder\n",
    "# or have a specified path) they can then be edited or changed in python as needed\n",
    "stock_spec = pd.read_csv('stock_specification.csv')\n",
    "chem_inv = pd.read_excel('chemical_inventory.xlsx')"
   ]
  },
  {
   "cell_type": "code",
   "execution_count": 12,
   "metadata": {},
   "outputs": [
    {
     "name": "stdout",
     "output_type": "stream",
     "text": [
      "Created file stock_specifications.csv with mimeType text/csv\n",
      "Created file chemical_inventory.xlsx with mimeType text/csv\n"
     ]
    }
   ],
   "source": [
    "# Uploading files to the specified folder of the Gdrive - the mime type needs\n",
    "# to be changed to reflect the correct file and the \"parents\" need to have the\n",
    "# file ID of the contianing folder. Files are directly uploaded from file location\n",
    "# so if there are edits done in the notebook they will need to be re-downloaded\n",
    "\n",
    "file_up = drive.CreateFile({\"mimeType\": \"text/csv\", \"parents\": [{\"kind\": \"drive#fileLink\", \"id\": fileID2}], \"title\": 'stock_specifications.csv'})\n",
    "file_up.SetContentFile('stock_specification.csv')\n",
    "file_up.Upload()\n",
    "print('Created file %s with mimeType %s' % (file_up['title'], file1['mimeType']))\n",
    "\n",
    "#pydrive will also assume mimeType and the title from the file being uploaded \n",
    "file_up = drive.CreateFile({\"parents\": [{\"kind\": \"drive#fileLink\", \"id\": fileID2}]})\n",
    "file_up.SetContentFile('chemical_inventory.xlsx')\n",
    "file_up.Upload()\n",
    "print('Created file %s with mimeType %s' % (file_up['title'], file1['mimeType']))"
   ]
  },
  {
   "cell_type": "code",
   "execution_count": 114,
   "metadata": {},
   "outputs": [],
   "source": [
    "# # FILESEARCH IS CURRENTLY INEFFICENT: NEED TO REFINE - works. kind-of\n",
    "# # using the filesearch function - find the ID's of the files you are looking to\n",
    "# # download to python one at a time\n",
    "# filelist = drive.ListFile({'q':\"'root' in parents and trashed = false\"}).GetList()\n",
    "\n",
    "# goal = 'stock_specification.csv'\n",
    "# id_stock = filesearch(filelist, goal)\n",
    "\n",
    "# goal = 'chemical_inventory.xlsx'\n",
    "# id_chem = filesearch(filelist, goal)"
   ]
  },
  {
   "cell_type": "code",
   "execution_count": 125,
   "metadata": {},
   "outputs": [],
   "source": [
    "id_stock = '1iBFJ-JHr8Fx1do-85QF5To1fPur85Yz1'\n",
    "id_chem = '1hLY4iEEao5LXzqkQqsfDgm5f_a-rUwKB'"
   ]
  },
  {
   "cell_type": "code",
   "execution_count": 129,
   "metadata": {},
   "outputs": [],
   "source": [
    "file_down = drive.CreateFile({'id': id_stock})\n",
    "down_stock = file_down.GetContentFile('stock_specification.csv')\n",
    "df_stock = pd.read_csv('stock_specification.csv')\n",
    "\n",
    "file_down = drive.CreateFile({'id': id_chem})\n",
    "down_chem = file_down.GetContentFile('chemical_inventory.xlsx')\n",
    "df_chem = pd.read_excel('chemical_inventory.xlsx')"
   ]
  },
  {
   "cell_type": "code",
   "execution_count": null,
   "metadata": {},
   "outputs": [],
   "source": [
    "# Edit as desired and then SAVE FILE TO COMPUTER"
   ]
  },
  {
   "cell_type": "code",
   "execution_count": 132,
   "metadata": {},
   "outputs": [
    {
     "name": "stdout",
     "output_type": "stream",
     "text": [
      "Created file stock_specifications.csv with mimeType text/csv\n",
      "Created file chemical_inventory.xlsx with mimeType text/csv\n"
     ]
    }
   ],
   "source": [
    "# Upload (manually) to the same file ID as before\n",
    "# This will overwrite the file that is currently on the drive. \n",
    "file_up = drive.CreateFile({ \"parents\": [{\"kind\": \"drive#fileLink\", \"id\": fileID2}], \"id\": id_stock})\n",
    "file_up.SetContentFile('stock_specification.csv')\n",
    "file_up.Upload()\n",
    "print('Created file %s with mimeType %s' % (file_up['title'], file1['mimeType']))\n",
    "\n",
    "file_up = drive.CreateFile({\"parents\": [{\"kind\": \"drive#fileLink\", \"id\": fileID2}], \"id\": id_chem})\n",
    "file_up.SetContentFile('chemical_inventory.xlsx')\n",
    "file_up.Upload()\n",
    "print('Created file %s with mimeType %s' % (file_up['title'], file1['mimeType']))"
   ]
  }
 ],
 "metadata": {
  "kernelspec": {
   "display_name": "Python 3",
   "language": "python",
   "name": "python3"
  },
  "language_info": {
   "codemirror_mode": {
    "name": "ipython",
    "version": 3
   },
   "file_extension": ".py",
   "mimetype": "text/x-python",
   "name": "python",
   "nbconvert_exporter": "python",
   "pygments_lexer": "ipython3",
   "version": "3.7.3"
  }
 },
 "nbformat": 4,
 "nbformat_minor": 2
}
