{
 "cells": [
  {
   "cell_type": "markdown",
   "metadata": {},
   "source": [
    "#### Import statements"
   ]
  },
  {
   "cell_type": "code",
   "execution_count": 1,
   "metadata": {},
   "outputs": [
    {
     "name": "stderr",
     "output_type": "stream",
     "text": [
      "C:\\Users\\lacho\\.opentrons\\deck_calibration.json not found. Loading defaults\n",
      "C:\\Users\\lacho\\.opentrons\\robot_settings.json not found. Loading defaults\n"
     ]
    },
    {
     "name": "stdout",
     "output_type": "stream",
     "text": [
      "Loading json containers...\n",
      "Json container file load complete, listing database\n",
      "Found 0 containers to add. Starting migration...\n",
      "Database migration complete!\n"
     ]
    }
   ],
   "source": [
    "import sys\n",
    "import os\n",
    "import numpy as np\n",
    "from opentrons import robot, instruments, labware\n",
    "\n",
    "#Original Directory\n",
    "og_dir = os.getcwd()\n",
    "\n",
    "#Change your_path to your system's ../ot2protocols. You may or may not need r in front. \n",
    "#I couldn't get this to work otherwise. I had to modify ot2protocols.__init__:\n",
    "#from .ot2protocols import* -> from ot2protocols import*\n",
    "your_path = r'C:\\Users\\lacho\\OneDrive - UW\\Pozzo-RG-OT2\\OT2Protocols'\n",
    "os.chdir(your_path)\n",
    "from ot2protocols.Components import *\n",
    "from ot2protocols.A1Stock import *\n",
    "from ot2protocols.OuzoSample import *\n",
    "\n",
    "\n",
    "#Return to original directory\n",
    "os.chdir(og_dir)\n",
    "\n"
   ]
  },
  {
   "cell_type": "code",
   "execution_count": 2,
   "metadata": {},
   "outputs": [],
   "source": [
    "water_stock = A1Stock(\n",
    "    components_dict = {'A':water, 'solvent1':water}, \n",
    "    wt_f_dict = {'A':0, 'solvent1':water})\n",
    "\n",
    "ethanol_stock = A1Stock(\n",
    "    components_dict = {'A':ethanol, 'solvent1':ethanol}, \n",
    "    wt_f_dict = {'A':0, 'solvent1':ethanol})\n",
    "\n",
    "sodiumdodecylsulfate_stock = A1Stock(\n",
    "    components_dict = {'A':sodiumdodecylsulfate, 'solvent1':water}, \n",
    "    wt_f_dict = {'A':0.024342508, 'solvent1':sodiumdodecylsulfate})\n",
    "\n",
    "five_cb_stock = A1Stock(\n",
    "    components_dict = {'A':five_cb, 'solvent1':ethanol}, \n",
    "    wt_f_dict = {'A':.030712531, 'solvent1':five_cb})"
   ]
  },
  {
   "cell_type": "code",
   "execution_count": 9,
   "metadata": {},
   "outputs": [],
   "source": [
    "components_dict = {'water':water, 'organic_solvent':ethanol, 'hydrophobe':five_cb, 'stabilizer1':sodiumdodecylsulfate}\n",
    "wtf_dict = {'water':.798, 'organic_solvent':.2, 'hydrophobe':.001, 'stabilizer1':.001}\n",
    "stock_dict = {'water':water_stock, 'organic_solvent':ethanol_stock, 'hydrophobe':five_cb_stock, 'stabilizer1':sodiumdodecylsulfate_stock}\n",
    "\n",
    "New_ouzo = OuzoSample(mass = 1, components_dict = components_dict,wtf_dict = wtf_dict, stock_dict = stock_dict)   \n",
    "New_ouzo.hydrophobe_dict\n"
   ]
  },
  {
   "cell_type": "code",
   "execution_count": 8,
   "metadata": {},
   "outputs": [],
   "source": [
    "# New_ouzo.examine_dicts()"
   ]
  },
  {
   "cell_type": "code",
   "execution_count": 17,
   "metadata": {},
   "outputs": [
    {
     "name": "stdout",
     "output_type": "stream",
     "text": [
      "{'water': 0, 'organic_solvent': 0, 'hydrophobe': 0, 'stabilizer1': 0}\n"
     ]
    }
   ],
   "source": [
    "components_dict = {'water':water, 'organic_solvent':ethanol, \n",
    "                   'hydrophobe':five_cb, 'stabilizer1':sodiumdodecylsulfate}\n",
    "\n",
    "components_range_dict = {'water':[], 'organic_solvent':{'min':0.05, 'max':0.6, 'spacing':0.1}, \n",
    "                         'hydrophobe':{'min':0.0001, 'max':0.001, 'spacing':0.0001}, \n",
    "                         'stabilizer1':{'min':0.0001, 'max':0.001, 'spacing':0.0001}}\n",
    "\n",
    "\n",
    "wtf_list_dict = {'water':.798, 'organic_solvent':.2, 'hydrophobe':.001, 'stabilizer1':.001}\n",
    "\n",
    "\n",
    "def make_wtf_grid_list_dict(range_dict):\n",
    "    wtf_grid_list_dict= dict.fromkeys(range_dict,[])\n",
    "    for key in range_dict:\n",
    "        \n",
    "        \n",
    "    return\n",
    "make_wtf_grid_list_dict(components_range_dict)\n",
    "\n",
    "\n",
    "def make_sample_list(sample_mass, components_dict, stock_dict, components_range_dict):\n",
    "    \n",
    "    \n",
    "    pass\n",
    "\n"
   ]
  }
 ],
 "metadata": {
  "kernelspec": {
   "display_name": "Python 3",
   "language": "python",
   "name": "python3"
  },
  "language_info": {
   "codemirror_mode": {
    "name": "ipython",
    "version": 3
   },
   "file_extension": ".py",
   "mimetype": "text/x-python",
   "name": "python",
   "nbconvert_exporter": "python",
   "pygments_lexer": "ipython3",
   "version": "3.7.6"
  }
 },
 "nbformat": 4,
 "nbformat_minor": 2
}
