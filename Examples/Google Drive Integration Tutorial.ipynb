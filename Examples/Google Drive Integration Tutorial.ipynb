{
 "cells": [
  {
   "cell_type": "markdown",
   "metadata": {},
   "source": [
    "## Google Drive Integration Tutorial"
   ]
  },
  {
   "cell_type": "markdown",
   "metadata": {},
   "source": [
    "This tutorial will cover:\n",
    "    - Authorization\n",
    "    - File navigation\n",
    "    - Uploading a file from computer location to Google Drive\n",
    "    - Downloading a file from Google Drive to Computer/Python\n",
    "    - Uploading a file from computer to overwrite a Google Drive location\n",
    "    - Searching for a file id with a title \n",
    "    \n",
    "In order to be able to authorize a Google drive access, you will need to have the `clients_secrets.json` file in the same folder as the notebook. When uploading/downloading files they will update in the same folder as the notebook as well. "
   ]
  },
  {
   "cell_type": "markdown",
   "metadata": {},
   "source": [
    "### Imports"
   ]
  },
  {
   "cell_type": "code",
   "execution_count": 1,
   "metadata": {},
   "outputs": [],
   "source": [
    "import pandas as pd\n",
    "# pydrive can be installed using `pip install PyDrive`\n",
    "from pydrive.auth import GoogleAuth\n",
    "from pydrive.drive import GoogleDrive"
   ]
  },
  {
   "cell_type": "markdown",
   "metadata": {},
   "source": [
    "### Authorization"
   ]
  },
  {
   "cell_type": "code",
   "execution_count": 22,
   "metadata": {},
   "outputs": [
    {
     "name": "stdout",
     "output_type": "stream",
     "text": [
      "Your browser has been opened to visit:\n",
      "\n",
      "    https://accounts.google.com/o/oauth2/auth?client_id=166164154392-i4l5heveqn5jq5gjsr4pcdn53m8ql5r3.apps.googleusercontent.com&redirect_uri=http%3A%2F%2Flocalhost%3A8080%2F&scope=https%3A%2F%2Fwww.googleapis.com%2Fauth%2Fdrive&access_type=offline&response_type=code\n",
      "\n",
      "Authentication successful.\n"
     ]
    }
   ],
   "source": [
    "gauth = GoogleAuth()\n",
    "# opens browser to ask for consent to modify files in the name of the \n",
    "# API project (Pozzo Lab Group)\n",
    "gauth.LocalWebserverAuth()\n",
    "drive = GoogleDrive(gauth)\n",
    "\n",
    "# this will need to be refreshed when a new notebook opens or the kernal refreshes"
   ]
  },
  {
   "cell_type": "markdown",
   "metadata": {},
   "source": [
    "### File Navigation"
   ]
  },
  {
   "cell_type": "markdown",
   "metadata": {},
   "source": [
    "The file navigation of Google Drive revolves around file ID's, which are static\n",
    "keys that are assigned to every folder/file in the drive. These ids can be used to \n",
    "to call a file, assing a folder the file will go into, or overwrite a specific file."
   ]
  },
  {
   "cell_type": "code",
   "execution_count": 23,
   "metadata": {},
   "outputs": [
    {
     "name": "stdout",
     "output_type": "stream",
     "text": [
      "Title: Recipes, ID: 1Sl_R4-T_R507dmiYZfWCng5cSJwc-Olc\n",
      "Title: Lit Review, ID: 1ItbY0Lbz_O8pS59yl8GfkbWZ2LAFz5zs\n",
      "Title: Polymer Lit Review, ID: 17c-kCk3jvKu1qcGmnzDwoOvfClV27Hf0\n",
      "Title: Polymer Blends, ID: 1AsYXaij5sFtIpFWoxDtYjmvkUB7ut8zY\n",
      "Title: Drafts.pdf, ID: 1io6O364YXNlzgkdWyOzUxMNbjVxZ1u4K\n",
      "Title: Science as Art, ID: 1H-4hSRnJyOlo8UzQs5aSkP9JNfZa6493\n",
      "Title: Blends Paper, ID: 1M08wCd1PWl-yKvil89IMhxUJEa6VnvZE\n",
      "Title: FacultyMeetings2020-ToFaculty, ID: 10JotGiYWTRWsaA3uVhCSq3O8WaInQEZIIs-e1YAcKfI\n",
      "Title: FacultyMeetings2020-ToFaculty.xlsx, ID: 1b4949qLsUTxbW_JZ6GJ-EcmgKZOy1GSQ\n",
      "Title: McAleer Money: Pallicera, ID: 1J08pSvqxWz4hfNzz6L7_cAJs1OQg7-Ju\n",
      "Title: ACES, ID: 0BxITy4q3C1SYWmg5YlNHcjlfVEE\n",
      "Title: Note Jan 21, 2020.pdf, ID: 1w_Zk8a8L63OFNilooGU0cN70OqO8FyTr\n",
      "Title: FY20_ACES Budget_APPROVED, ID: 1eGUoKTSLGn1WMsCTGSP6o2ubmI8AeFQcckREKFOY-g4\n",
      "Title: FY20_ACES Budget_APPROVED.pdf, ID: 0BwGCEaO99URQYjlySG9jS04tRUo2SF9ta1BWWjRFWWFzSHFN\n",
      "Title: NCEC2020 schedule_Sageedits_v3, ID: 1eK_QrqrW7KyBG-2DeS0OIoOKPs1gysR6vwWV5CbmMOw\n",
      "Title: NCEC2020 schedule_ASMedits_v2.docx, ID: 0BwGCEaO99URQSWVhV0tlUUdlYXVVVnF3TzVQcHU2N0NUZlM4\n",
      "Title: Pozzo Group, ID: 0BxuawDMj8CGPV2cyU0lvcHQ3clU\n",
      "Title: Controlled Systems, ID: 1vBh0kg7DeAgSfDYpEN8rAwSHSLnIIaPm\n",
      "Title: NCEC2020_Poster_v2, ID: 1FodfTycb7uHkj8cnhIJk6ldJgLkgJeA_aeNRRkG5QKc\n",
      "Title: NCEC2020_Poster_v2.pdf, ID: 0BwGCEaO99URQOFpGeWhNR2RKWThfYzBuc2ZxNExwdnRIcjNV\n",
      "Title: Calibration of Opentrons Data, ID: 1r2dxUNLJlFGxSpL3NlJucerffeclqKbH_x6i8mR369c\n",
      "Title: VSANS Contrast Matching Drug Movement For Caitlyn, ID: 1DwSiSAKj0FAAacnsgcmOiIkHb7rbq6RzejO6zQtOaKA\n",
      "Title: VSANS Contrast Matching Drug Movement For Caitlyn.docx, ID: 0BwGCEaO99URQdDFoTU40OHNCVFZjU2sxaHJNd2ZyVVdJYXdF\n",
      "Title: NCNR_SANS_20190416_LDP_CMW, ID: 10AQYBPhFTsWK6fFHH6_PIxlWgG0IfjOLRnwd4nMIIDA\n",
      "Title: NCNR_SANS_20190416_LDP_CMW, ID: 1hnOcDedQepVlYCQofr2zH5YymlhQ5zt8r4JLpgg8waA\n",
      "Title: NCNR_SANS_20190416_LDP_CMW, ID: 1qVKEecQXYkSwu-8v-tFjwDkuKeM_rFT5OGdmP9xCLRU\n",
      "Title: NCNR_SANS_20190416_LDP_CMW.docx, ID: 0BwGCEaO99URQZXh6QWNyd1hJRU9BMk9LaTU5c3c4TUlfWnlB\n",
      "Title: Contact Tracker, ID: 1zH9D2oKqYchnoWkDmGXmfK_Aw4UhPnpAK3GX0fShtX0\n",
      "Title: Contact Tracker.xlsx, ID: 0BwGCEaO99URQd2RubmVSaFJaLVZ2bDVWZ29Bb3lWR0Fhd2pn\n",
      "Title: Photos, ID: 12Rbd9qjBvkDQJ0nw3bSrev-KcIzb6Mk7\n",
      "Title: Schools Information list v2, ID: 1WoxXlSKpcIsFQDG123FzXStdgo1fLVsVQx8MYVrOoV4\n",
      "Title: Candy and Snacks that are Iconic (TM) to American culture, ID: 1Nu4eaz2ofE1n1Ejta-FpBmBPNMUAwLONcnmhdy1qhRc\n",
      "Title: Drafts, ID: 10KS9yBhBawNot4zCtHzK8c932RRKJFNM6lbM59L9j5I\n",
      "Title: Jones Foster Accelerator, ID: 1-Afd6Mkthtmoczw5jIdVh06ome1EQIg0\n",
      "Title: NIST VSANS (8/12-8/16), ID: 10Wyh1CsHoJ0BgCFCImLSu0dyoleS9zx1\n",
      "Title: July 18th 2019, ID: 1Ie1_clIVbD3rb_I-ZegHF-QzFZtmvP0o17QrAENePu8\n",
      "Title: Scattering Sample Prep, ID: 1zvNJHpkX_H6KBiXO4vZUXSrUyBNxsTb9dS_qmZ1pfH8\n",
      "Title: Scattering sample preparation, ID: 17KuqEiPxi0KqRVRHWvrSZ9otya5nUIPG8Y0CbDpxKiI\n",
      "Title: 20190630_134413.mp4, ID: 1-3fRUP1m3ketPA3D3VxgA4xMRmd88GWI\n",
      "Title: PeerEval19pABET, ID: 1gGRU_Rk7mf5wHVHtrvoCJ6Wzcxy9ytUDWUsxaoMTFa4\n",
      "Title: PeerEval19pABET.docx, ID: 0BwGCEaO99URQTVlzbVJjSm9HVk1mN1pzaVBNNURtdlYwQmdV\n",
      "Title: for sage, ID: 1q-UyE-b2LHK4newahChghxY7wt5M1_TjxYn_09elSDU\n",
      "Title: for sage.pdf, ID: 0BwGCEaO99URQdDBQeU05QWJZbXBhZm9XT0VDQ2hHNllXdzJJ\n",
      "Title: Colloidal Systems, ID: 1JVOA-RkU51slQLVgyXTmFK8h-tfIVOB-\n",
      "Title: Colloids Lab, ID: 1idjem9fwXDZpYWBUxN7rZ0ELytPPtIKk\n",
      "Title: ACES officer bios, ID: 1eekJ40dqR5LD6kvDrEVx7wuSHaDxN1DnJyUBoifiPK4\n",
      "Title: [Rafael_C._Gonzalez,_Richard_E._Woods,_Steven_L._E(b-ok.cc) (1), ID: 15r1jHh7fp2YIAV_SDnOUV4Q0mDE4RB4V36T91PX7OrY\n",
      "Title: Colloids HW3.docx, ID: 1O-0sCPbQr3j7T2IZAkPvp39v-LIaSxyT\n",
      "Title: Math, ID: 11qSoymfacIHzxrkzWfdE8WCtyXlapDcp\n",
      "Title: D&D, ID: 1fRfdOKQlJbGnBnu3a-6cKsb6Zygh20eh\n",
      "Title: Research Notes, ID: 1eb533JwOp6Mbn2B0J48Drfis9391pPvH\n",
      "Title: Trainings, ID: 1FlmMP4_tXo080NFsJwXwSqN6aKNfQkeO\n",
      "Title: Pozzo Group Safety Training Handout, ID: 1R4gwZJlwHX6WAWAtUGWQz31HneA7klfta6PsjKz2kio\n",
      "Title: Pozzo Group Safety Training Handout.docx, ID: 0BwGCEaO99URQalRYYjFja0lxVF9uTXlMMXRtdU9SQXNPOVdN\n",
      "Title: NIFTI and UWIN Drafts, ID: 1lw1ze50RgqFWSmeLXSWR7lty4rjwWqjsI1ukmQpA5jI\n",
      "Title: NIFTI and UWIN Drafts, ID: 1L8Z41xRZCEQFGeh17kmQXodlQf2UqUuN_Uv9ZhzpjgQ\n",
      "Title: NIFTI and UWIN Drafts.docx, ID: 1hS2OQxX2vRn0NnUYP2TDSP6V_nkI0vLe\n",
      "Title: Thermodynamics, ID: 13VQpInwheo7Xbo3hlAJxbyPcHCeWh5Nr\n",
      "Title: Transport, ID: 1t3qRg6h2mHoAf1B7K6OZJnelneEbtmIu\n",
      "Title: Orientation, ID: 1Vznfwxxo0kIVwbE-nVn5J0nZNb7s4XSo\n"
     ]
    }
   ],
   "source": [
    "filelist = drive.ListFile({'q':\"'root' in parents and trashed = false\"}).GetList()\n",
    "# the 'root' location will be the \"My Drive\" folder - this can be changed to show \n",
    "# the files within different folders.\n",
    "for file in filelist:\n",
    "    print('Title: %s, ID: %s' % (file['title'], file['id']))\n",
    "    if(file['title'] == 'Pozzo Group'):\n",
    "        fileID = file['id']"
   ]
  },
  {
   "cell_type": "code",
   "execution_count": 26,
   "metadata": {},
   "outputs": [
    {
     "name": "stdout",
     "output_type": "stream",
     "text": [
      "0BxuawDMj8CGPV2cyU0lvcHQ3clU\n"
     ]
    }
   ],
   "source": [
    "print(fileID)"
   ]
  },
  {
   "cell_type": "code",
   "execution_count": 38,
   "metadata": {},
   "outputs": [
    {
     "name": "stdout",
     "output_type": "stream",
     "text": [
      "Title: EscalateTesting, ID: 1jTd692l4o_8TnHpIXg3uHMGRIdlCSIYd\n",
      "Title: Equipment Manuals and Documents, ID: 1knYm51dJTi8c_9hy73tHHFhSY6q4UykG\n",
      "Title: Photos, ID: 1bOIXCAD7wJWE_vL3jmC-mk3bTu6c0PeN\n",
      "Title: SOPs, ID: 0BxuawDMj8CGPdERJdGMtOWYyNXM\n",
      "Title: UNIV OF WA - q-65690.pdf, ID: 0B9cZjvOzWduKRDJEbWkzU1hQcVRpY1MyRjBTdUJnLXVsTTI4\n",
      "Title: Emergency Numbers for Lab, ID: 1IvpRhfh3Vm1uOcmS0dP174AxgLdQ9SDKpPd_MiwvMbM\n",
      "Title: Emergency Numbers for Lab, ID: 1mGiOq_zPpI1THbbcMJXesnNb13bFQnYWIv8y5IDzu-g\n",
      "Title: Musical Robot Data, ID: 15XFVxDWoEGry-Hr6LV_pzaEFCaSZg6KM\n",
      "Title: Caitlyn and Sage, ID: 1pAJJy722h8spCI2dIMbwFz7eSUiFgrMi\n",
      "Title: Publication Lists, ID: 1LlNboiH3uosLpRf2Z7BFp6gg87D3H-pr\n",
      "Title: Opentrons, ID: 1RW7apI3NZ04Q_w2-thHPepNxVgtXLD5H\n",
      "Title: Caitlyn_and_Ryan, ID: 11pH4t-t0aakWTA7Q7Tc61pfonfYFjUOc\n",
      "Title: Particularly_Hazardous_SOPs, ID: 1EzlcvsWzgpDoG3kEndZMq3ac_OKl_WD8\n",
      "Title: Walk-on-Water Info, ID: 1-ip-H4_Y6gYN1a2TYBxG130cAjP3oEo0\n",
      "Title: Waste Related Info, ID: 1YcQZJ4xZhj9ND7F1KInGqXfe8kwlV6v6\n",
      "Title: Supply_Orders, ID: 1Li-8d7kFHO4q4vBeNjxvm2WuCNoDYkZj\n",
      "Title: Chemical Inventory, ID: 0BxuawDMj8CGPQlBwOUx3UEw3cGc\n",
      "Title: Benson_Lab_Layout, ID: 0B6F-iCkqCxOIREpLTzFkckItY0E\n"
     ]
    }
   ],
   "source": [
    "filelist2 = drive.ListFile({'q':\"'0BxuawDMj8CGPV2cyU0lvcHQ3clU' in parents and trashed = false\"}).GetList()\n",
    "# where the '0BxuawDMj8CGPV2cyU0lvcHQ3clU' is you will have to copy the file ID \n",
    "# folder you want to continue to search\n",
    "for file in filelist2:\n",
    "    print('Title: %s, ID: %s' % (file['title'], file['id']))\n",
    "    if(file['title'] == 'EscalateTesting'):\n",
    "        fileID2 = file['id']\n",
    "\n",
    "# This process can be continued with as many folders as needed, changing the ID each time"
   ]
  },
  {
   "cell_type": "code",
   "execution_count": 76,
   "metadata": {},
   "outputs": [
    {
     "name": "stdout",
     "output_type": "stream",
     "text": [
      "Title: test_file.txt, ID: 1sFHERLADFuSRAyK7pprJ4pzs3N-DfjMJ\n",
      "Title: Wfracs.csv, ID: 1E0HO7D6vYGiGgjI1NMg81KjN4e5NfqC6\n"
     ]
    }
   ],
   "source": [
    "filelist3 = drive.ListFile({'q':\"'1jTd692l4o_8TnHpIXg3uHMGRIdlCSIYd' in parents and trashed = false\"}).GetList()\n",
    "for file in filelist3:\n",
    "    print('Title: %s, ID: %s' % (file['title'], file['id']))\n",
    "    if(file['title'] == 'Wfracs.csv'):\n",
    "        filedown = file['id']"
   ]
  },
  {
   "cell_type": "markdown",
   "metadata": {},
   "source": [
    "### Search all folders and find file ID with specified title"
   ]
  },
  {
   "cell_type": "markdown",
   "metadata": {},
   "source": [
    "In progress - still working on it. "
   ]
  },
  {
   "cell_type": "markdown",
   "metadata": {},
   "source": [
    "### Upload a file from computer to Gdrive folder"
   ]
  },
  {
   "cell_type": "markdown",
   "metadata": {},
   "source": [
    "This is specifically for a file that has NOT been uploaded to Gdrive yet and is in the folder of the notebook. In this tutorial the file that we are working with will be a .txt file but this process can be implimented for csv, excel, folders, (am not sure the full extent of file uploads)\n",
    "\n"
   ]
  },
  {
   "cell_type": "code",
   "execution_count": 74,
   "metadata": {},
   "outputs": [],
   "source": [
    "# Create a test text file\n",
    "with open(\"test_file.txt\", \"w\") as file:\n",
    "    file.write(\"this the the first line of test\")"
   ]
  },
  {
   "cell_type": "code",
   "execution_count": 82,
   "metadata": {},
   "outputs": [
    {
     "name": "stdout",
     "output_type": "stream",
     "text": [
      "Created file test.txt with mimeType text/plain\n"
     ]
    }
   ],
   "source": [
    "# the parent_fileID needs to be changed to the ID of the folder that the file is going into \n",
    "parent_fileID = '1jTd692l4o_8TnHpIXg3uHMGRIdlCSIYd'\n",
    "\n",
    "file_up = drive.CreateFile({\"parents\": [{\"kind\": \"drive#fileLink\", \"id\": parent_fileID}]})\n",
    "file_up.SetContentFile('test_file.txt') # the name of the folder on the computer\n",
    "\n",
    "# uploading the file\n",
    "file_up.Upload()\n",
    "print('Created file %s with mimeType %s' % (fileup['title'], fileup['mimeType']))"
   ]
  },
  {
   "cell_type": "markdown",
   "metadata": {},
   "source": [
    "### Download from Google Drive to computer"
   ]
  },
  {
   "cell_type": "code",
   "execution_count": 77,
   "metadata": {},
   "outputs": [],
   "source": [
    "id_testfile = '1sFHERLADFuSRAyK7pprJ4pzs3N-DfjMJ'\n",
    "# this will need to be found through the file search bit above"
   ]
  },
  {
   "cell_type": "code",
   "execution_count": 78,
   "metadata": {},
   "outputs": [],
   "source": [
    "file_down = drive.CreateFile({'id': id_testfile})\n",
    "down_test = file_down.GetContentFile('test_file.txt')"
   ]
  },
  {
   "cell_type": "markdown",
   "metadata": {},
   "source": [
    "### Edit file"
   ]
  },
  {
   "cell_type": "code",
   "execution_count": 79,
   "metadata": {},
   "outputs": [
    {
     "name": "stdout",
     "output_type": "stream",
     "text": [
      "this the the first line of test\n"
     ]
    }
   ],
   "source": [
    "with open('test_file.txt', 'r+') as file: \n",
    "    string = file.read()\n",
    "    file.write(\" this the the second line of test\")"
   ]
  },
  {
   "cell_type": "code",
   "execution_count": 81,
   "metadata": {},
   "outputs": [
    {
     "name": "stdout",
     "output_type": "stream",
     "text": [
      "this the the first line of test this the the second line of test\n"
     ]
    }
   ],
   "source": [
    "with open('test_file.txt', 'r') as file:\n",
    "    string = file.read()\n",
    "\n",
    "print(string)"
   ]
  },
  {
   "cell_type": "markdown",
   "metadata": {},
   "source": [
    "The file needs to be saved to the computer - for this text file it is saved in the folder that the notebook is saved in. If you are working with a csv or excel file, then you will need to read and save the files from/to the computer location. "
   ]
  },
  {
   "cell_type": "markdown",
   "metadata": {},
   "source": [
    "### Re-upload the file to Google Drive"
   ]
  },
  {
   "cell_type": "code",
   "execution_count": 83,
   "metadata": {},
   "outputs": [
    {
     "name": "stdout",
     "output_type": "stream",
     "text": [
      "Created file test.txt with mimeType text/plain\n"
     ]
    }
   ],
   "source": [
    "# Upload (manually) to the same file ID as before\n",
    "# This will overwrite the file that is currently on the drive. \n",
    "\n",
    "file_up = drive.CreateFile({\"parents\": [{\"kind\": \"drive#fileLink\", \"id\": fileID2}], \"id\": '1sFHERLADFuSRAyK7pprJ4pzs3N-DfjMJ'})\n",
    "file_up.SetContentFile('test_file.txt') # the name of the folder on the computer\n",
    "\n",
    "# uploading the file\n",
    "file_up.Upload()\n",
    "print('Created file %s with mimeType %s' % (fileup['title'], fileup['mimeType']))"
   ]
  }
 ],
 "metadata": {
  "kernelspec": {
   "display_name": "Python 3",
   "language": "python",
   "name": "python3"
  },
  "language_info": {
   "codemirror_mode": {
    "name": "ipython",
    "version": 3
   },
   "file_extension": ".py",
   "mimetype": "text/x-python",
   "name": "python",
   "nbconvert_exporter": "python",
   "pygments_lexer": "ipython3",
   "version": "3.7.3"
  }
 },
 "nbformat": 4,
 "nbformat_minor": 2
}
