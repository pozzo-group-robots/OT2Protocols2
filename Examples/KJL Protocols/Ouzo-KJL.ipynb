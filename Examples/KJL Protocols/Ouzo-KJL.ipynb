{
 "cells": [
  {
   "cell_type": "markdown",
   "metadata": {},
   "source": [
    "#### Import statements"
   ]
  },
  {
   "cell_type": "code",
   "execution_count": 1,
   "metadata": {},
   "outputs": [
    {
     "ename": "KeyError",
     "evalue": "'disableLogAggregation'",
     "output_type": "error",
     "traceback": [
      "\u001b[1;31m---------------------------------------------------------------------------\u001b[0m",
      "\u001b[1;31mKeyError\u001b[0m                                  Traceback (most recent call last)",
      "\u001b[1;32m<ipython-input-1-eb5fffbedc39>\u001b[0m in \u001b[0;36m<module>\u001b[1;34m()\u001b[0m\n\u001b[0;32m      2\u001b[0m \u001b[1;32mimport\u001b[0m \u001b[0mos\u001b[0m\u001b[1;33m\u001b[0m\u001b[1;33m\u001b[0m\u001b[0m\n\u001b[0;32m      3\u001b[0m \u001b[1;32mimport\u001b[0m \u001b[0mnumpy\u001b[0m \u001b[1;32mas\u001b[0m \u001b[0mnp\u001b[0m\u001b[1;33m\u001b[0m\u001b[1;33m\u001b[0m\u001b[0m\n\u001b[1;32m----> 4\u001b[1;33m \u001b[1;32mfrom\u001b[0m \u001b[0mopentrons\u001b[0m \u001b[1;32mimport\u001b[0m \u001b[0mrobot\u001b[0m\u001b[1;33m,\u001b[0m \u001b[0minstruments\u001b[0m\u001b[1;33m,\u001b[0m \u001b[0mlabware\u001b[0m\u001b[1;33m\u001b[0m\u001b[1;33m\u001b[0m\u001b[0m\n\u001b[0m\u001b[0;32m      5\u001b[0m \u001b[1;33m\u001b[0m\u001b[0m\n\u001b[0;32m      6\u001b[0m \u001b[1;31m#Original Directory\u001b[0m\u001b[1;33m\u001b[0m\u001b[1;33m\u001b[0m\u001b[1;33m\u001b[0m\u001b[0m\n",
      "\u001b[1;32m~\\Anaconda3\\lib\\site-packages\\opentrons\\__init__.py\u001b[0m in \u001b[0;36m<module>\u001b[1;34m()\u001b[0m\n\u001b[0;32m      4\u001b[0m \u001b[0mHERE\u001b[0m \u001b[1;33m=\u001b[0m \u001b[0mos\u001b[0m\u001b[1;33m.\u001b[0m\u001b[0mpath\u001b[0m\u001b[1;33m.\u001b[0m\u001b[0mabspath\u001b[0m\u001b[1;33m(\u001b[0m\u001b[0mos\u001b[0m\u001b[1;33m.\u001b[0m\u001b[0mpath\u001b[0m\u001b[1;33m.\u001b[0m\u001b[0mdirname\u001b[0m\u001b[1;33m(\u001b[0m\u001b[0m__file__\u001b[0m\u001b[1;33m)\u001b[0m\u001b[1;33m)\u001b[0m\u001b[1;33m\u001b[0m\u001b[1;33m\u001b[0m\u001b[0m\n\u001b[0;32m      5\u001b[0m \u001b[1;32mfrom\u001b[0m \u001b[0mopentrons\u001b[0m \u001b[1;32mimport\u001b[0m \u001b[0mconfig\u001b[0m  \u001b[1;31m# noqa(E402)\u001b[0m\u001b[1;33m\u001b[0m\u001b[1;33m\u001b[0m\u001b[0m\n\u001b[1;32m----> 6\u001b[1;33m \u001b[1;32mfrom\u001b[0m \u001b[0mopentrons\u001b[0m\u001b[1;33m.\u001b[0m\u001b[0mdata_storage\u001b[0m \u001b[1;32mimport\u001b[0m \u001b[0mdatabase_migration\u001b[0m  \u001b[1;31m# noqa(E402)\u001b[0m\u001b[1;33m\u001b[0m\u001b[1;33m\u001b[0m\u001b[0m\n\u001b[0m\u001b[0;32m      7\u001b[0m \u001b[1;33m\u001b[0m\u001b[0m\n\u001b[0;32m      8\u001b[0m \u001b[1;32mif\u001b[0m \u001b[0mos\u001b[0m\u001b[1;33m.\u001b[0m\u001b[0menviron\u001b[0m\u001b[1;33m.\u001b[0m\u001b[0mget\u001b[0m\u001b[1;33m(\u001b[0m\u001b[1;34m'OT_UPDATE_SERVER'\u001b[0m\u001b[1;33m)\u001b[0m \u001b[1;33m!=\u001b[0m \u001b[1;34m'true'\u001b[0m\u001b[0;31m\\\u001b[0m\u001b[1;33m\u001b[0m\u001b[1;33m\u001b[0m\u001b[0m\n",
      "\u001b[1;32m~\\Anaconda3\\lib\\site-packages\\opentrons\\data_storage\\database_migration.py\u001b[0m in \u001b[0;36m<module>\u001b[1;34m()\u001b[0m\n\u001b[0;32m      1\u001b[0m \u001b[1;32mimport\u001b[0m \u001b[0msqlite3\u001b[0m\u001b[1;33m\u001b[0m\u001b[1;33m\u001b[0m\u001b[0m\n\u001b[1;32m----> 2\u001b[1;33m \u001b[1;32mfrom\u001b[0m \u001b[0mopentrons\u001b[0m\u001b[1;33m.\u001b[0m\u001b[0mdata_storage\u001b[0m \u001b[1;32mimport\u001b[0m \u001b[0mdatabase\u001b[0m\u001b[1;33m\u001b[0m\u001b[1;33m\u001b[0m\u001b[0m\n\u001b[0m\u001b[0;32m      3\u001b[0m \u001b[1;32mfrom\u001b[0m \u001b[0mopentrons\u001b[0m\u001b[1;33m.\u001b[0m\u001b[0mdata_storage\u001b[0m\u001b[1;33m.\u001b[0m\u001b[0mold_container_loading\u001b[0m \u001b[1;32mimport\u001b[0m\u001b[0;31m \u001b[0m\u001b[0;31m\\\u001b[0m\u001b[1;33m\u001b[0m\u001b[1;33m\u001b[0m\u001b[0m\n\u001b[0;32m      4\u001b[0m     \u001b[0mload_all_containers_from_disk\u001b[0m\u001b[1;33m,\u001b[0m\u001b[0;31m \u001b[0m\u001b[0;31m\\\u001b[0m\u001b[1;33m\u001b[0m\u001b[1;33m\u001b[0m\u001b[0m\n\u001b[0;32m      5\u001b[0m     \u001b[0mlist_container_names\u001b[0m\u001b[1;33m,\u001b[0m\u001b[0;31m \u001b[0m\u001b[0;31m\\\u001b[0m\u001b[1;33m\u001b[0m\u001b[1;33m\u001b[0m\u001b[0m\n",
      "\u001b[1;32m~\\Anaconda3\\lib\\site-packages\\opentrons\\data_storage\\database.py\u001b[0m in \u001b[0;36m<module>\u001b[1;34m()\u001b[0m\n\u001b[0;32m     17\u001b[0m \u001b[0mlog\u001b[0m \u001b[1;33m=\u001b[0m \u001b[0mlogging\u001b[0m\u001b[1;33m.\u001b[0m\u001b[0mgetLogger\u001b[0m\u001b[1;33m(\u001b[0m\u001b[0m__file__\u001b[0m\u001b[1;33m)\u001b[0m\u001b[1;33m\u001b[0m\u001b[1;33m\u001b[0m\u001b[0m\n\u001b[0;32m     18\u001b[0m \u001b[0mdatabase_path\u001b[0m \u001b[1;33m=\u001b[0m \u001b[0mstr\u001b[0m\u001b[1;33m(\u001b[0m\u001b[0mCONFIG\u001b[0m\u001b[1;33m[\u001b[0m\u001b[1;34m'labware_database_file'\u001b[0m\u001b[1;33m]\u001b[0m\u001b[1;33m)\u001b[0m\u001b[1;33m\u001b[0m\u001b[1;33m\u001b[0m\u001b[0m\n\u001b[1;32m---> 19\u001b[1;33m \u001b[1;32mif\u001b[0m \u001b[1;32mnot\u001b[0m \u001b[0mfflags\u001b[0m\u001b[1;33m.\u001b[0m\u001b[0msplit_labware_definitions\u001b[0m\u001b[1;33m(\u001b[0m\u001b[1;33m)\u001b[0m\u001b[1;33m:\u001b[0m\u001b[1;33m\u001b[0m\u001b[1;33m\u001b[0m\u001b[0m\n\u001b[0m\u001b[0;32m     20\u001b[0m     \u001b[0mlog\u001b[0m\u001b[1;33m.\u001b[0m\u001b[0mdebug\u001b[0m\u001b[1;33m(\u001b[0m\u001b[1;34m\"Database path: {}\"\u001b[0m\u001b[1;33m.\u001b[0m\u001b[0mformat\u001b[0m\u001b[1;33m(\u001b[0m\u001b[0mdatabase_path\u001b[0m\u001b[1;33m)\u001b[0m\u001b[1;33m)\u001b[0m\u001b[1;33m\u001b[0m\u001b[1;33m\u001b[0m\u001b[0m\n\u001b[0;32m     21\u001b[0m \u001b[1;33m\u001b[0m\u001b[0m\n",
      "\u001b[1;32m~\\Anaconda3\\lib\\site-packages\\opentrons\\config\\feature_flags.py\u001b[0m in \u001b[0;36msplit_labware_definitions\u001b[1;34m()\u001b[0m\n\u001b[0;32m     18\u001b[0m \u001b[1;33m@\u001b[0m\u001b[0mlru_cache\u001b[0m\u001b[1;33m(\u001b[0m\u001b[1;33m)\u001b[0m\u001b[1;33m\u001b[0m\u001b[1;33m\u001b[0m\u001b[0m\n\u001b[0;32m     19\u001b[0m \u001b[1;32mdef\u001b[0m \u001b[0msplit_labware_definitions\u001b[0m\u001b[1;33m(\u001b[0m\u001b[1;33m)\u001b[0m\u001b[1;33m:\u001b[0m\u001b[1;33m\u001b[0m\u001b[1;33m\u001b[0m\u001b[0m\n\u001b[1;32m---> 20\u001b[1;33m     \u001b[1;32mreturn\u001b[0m \u001b[0mget_setting_with_env_overload\u001b[0m\u001b[1;33m(\u001b[0m\u001b[1;34m'splitLabwareDefinitions'\u001b[0m\u001b[1;33m)\u001b[0m\u001b[1;33m\u001b[0m\u001b[1;33m\u001b[0m\u001b[0m\n\u001b[0m\u001b[0;32m     21\u001b[0m \u001b[1;33m\u001b[0m\u001b[0m\n\u001b[0;32m     22\u001b[0m \u001b[1;33m\u001b[0m\u001b[0m\n",
      "\u001b[1;32m~\\Anaconda3\\lib\\site-packages\\opentrons\\config\\feature_flags.py\u001b[0m in \u001b[0;36mget_setting_with_env_overload\u001b[1;34m(setting_name)\u001b[0m\n\u001b[0;32m      9\u001b[0m         \u001b[1;32mreturn\u001b[0m \u001b[0mos\u001b[0m\u001b[1;33m.\u001b[0m\u001b[0menviron\u001b[0m\u001b[1;33m[\u001b[0m\u001b[0menv_name\u001b[0m\u001b[1;33m]\u001b[0m\u001b[1;33m.\u001b[0m\u001b[0mlower\u001b[0m\u001b[1;33m(\u001b[0m\u001b[1;33m)\u001b[0m \u001b[1;32min\u001b[0m \u001b[1;33m(\u001b[0m\u001b[1;34m'1'\u001b[0m\u001b[1;33m,\u001b[0m \u001b[1;34m'true'\u001b[0m\u001b[1;33m,\u001b[0m \u001b[1;34m'on'\u001b[0m\u001b[1;33m)\u001b[0m\u001b[1;33m\u001b[0m\u001b[1;33m\u001b[0m\u001b[0m\n\u001b[0;32m     10\u001b[0m     \u001b[1;32melse\u001b[0m\u001b[1;33m:\u001b[0m\u001b[1;33m\u001b[0m\u001b[1;33m\u001b[0m\u001b[0m\n\u001b[1;32m---> 11\u001b[1;33m         \u001b[1;32mreturn\u001b[0m \u001b[0madvs\u001b[0m\u001b[1;33m.\u001b[0m\u001b[0mget_adv_setting\u001b[0m\u001b[1;33m(\u001b[0m\u001b[0msetting_name\u001b[0m\u001b[1;33m)\u001b[0m \u001b[1;32mis\u001b[0m \u001b[1;32mTrue\u001b[0m\u001b[1;33m\u001b[0m\u001b[1;33m\u001b[0m\u001b[0m\n\u001b[0m\u001b[0;32m     12\u001b[0m \u001b[1;33m\u001b[0m\u001b[0m\n\u001b[0;32m     13\u001b[0m \u001b[1;33m\u001b[0m\u001b[0m\n",
      "\u001b[1;32m~\\Anaconda3\\lib\\site-packages\\opentrons\\config\\advanced_settings.py\u001b[0m in \u001b[0;36mget_adv_setting\u001b[1;34m(setting)\u001b[0m\n\u001b[0;32m     88\u001b[0m \u001b[1;32mdef\u001b[0m \u001b[0mget_adv_setting\u001b[0m\u001b[1;33m(\u001b[0m\u001b[0msetting\u001b[0m\u001b[1;33m:\u001b[0m \u001b[0mstr\u001b[0m\u001b[1;33m)\u001b[0m \u001b[1;33m->\u001b[0m \u001b[0mOptional\u001b[0m\u001b[1;33m[\u001b[0m\u001b[0mbool\u001b[0m\u001b[1;33m]\u001b[0m\u001b[1;33m:\u001b[0m\u001b[1;33m\u001b[0m\u001b[1;33m\u001b[0m\u001b[0m\n\u001b[0;32m     89\u001b[0m     \u001b[0msetting\u001b[0m \u001b[1;33m=\u001b[0m \u001b[0m_clean_id\u001b[0m\u001b[1;33m(\u001b[0m\u001b[0msetting\u001b[0m\u001b[1;33m)\u001b[0m\u001b[1;33m\u001b[0m\u001b[1;33m\u001b[0m\u001b[0m\n\u001b[1;32m---> 90\u001b[1;33m     \u001b[0ms\u001b[0m \u001b[1;33m=\u001b[0m \u001b[0mget_all_adv_settings\u001b[0m\u001b[1;33m(\u001b[0m\u001b[1;33m)\u001b[0m\u001b[1;33m\u001b[0m\u001b[1;33m\u001b[0m\u001b[0m\n\u001b[0m\u001b[0;32m     91\u001b[0m     \u001b[1;32mreturn\u001b[0m \u001b[0ms\u001b[0m\u001b[1;33m[\u001b[0m\u001b[0msetting\u001b[0m\u001b[1;33m]\u001b[0m\u001b[1;33m[\u001b[0m\u001b[1;34m'value'\u001b[0m\u001b[1;33m]\u001b[0m  \u001b[1;31m# type: ignore\u001b[0m\u001b[1;33m\u001b[0m\u001b[1;33m\u001b[0m\u001b[0m\n\u001b[0;32m     92\u001b[0m \u001b[1;33m\u001b[0m\u001b[0m\n",
      "\u001b[1;32m~\\Anaconda3\\lib\\site-packages\\opentrons\\config\\advanced_settings.py\u001b[0m in \u001b[0;36mget_all_adv_settings\u001b[1;34m()\u001b[0m\n\u001b[0;32m    104\u001b[0m         key: {**settings_by_id[key].__dict__,\n\u001b[0;32m    105\u001b[0m               'value': value}\n\u001b[1;32m--> 106\u001b[1;33m         \u001b[1;32mfor\u001b[0m \u001b[0mkey\u001b[0m\u001b[1;33m,\u001b[0m \u001b[0mvalue\u001b[0m \u001b[1;32min\u001b[0m \u001b[0mvalues\u001b[0m\u001b[1;33m.\u001b[0m\u001b[0mitems\u001b[0m\u001b[1;33m(\u001b[0m\u001b[1;33m)\u001b[0m\u001b[1;33m\u001b[0m\u001b[1;33m\u001b[0m\u001b[0m\n\u001b[0m\u001b[0;32m    107\u001b[0m     }\n\u001b[0;32m    108\u001b[0m \u001b[1;33m\u001b[0m\u001b[0m\n",
      "\u001b[1;32m~\\Anaconda3\\lib\\site-packages\\opentrons\\config\\advanced_settings.py\u001b[0m in \u001b[0;36m<dictcomp>\u001b[1;34m(.0)\u001b[0m\n\u001b[0;32m    104\u001b[0m         key: {**settings_by_id[key].__dict__,\n\u001b[0;32m    105\u001b[0m               'value': value}\n\u001b[1;32m--> 106\u001b[1;33m         \u001b[1;32mfor\u001b[0m \u001b[0mkey\u001b[0m\u001b[1;33m,\u001b[0m \u001b[0mvalue\u001b[0m \u001b[1;32min\u001b[0m \u001b[0mvalues\u001b[0m\u001b[1;33m.\u001b[0m\u001b[0mitems\u001b[0m\u001b[1;33m(\u001b[0m\u001b[1;33m)\u001b[0m\u001b[1;33m\u001b[0m\u001b[1;33m\u001b[0m\u001b[0m\n\u001b[0m\u001b[0;32m    107\u001b[0m     }\n\u001b[0;32m    108\u001b[0m \u001b[1;33m\u001b[0m\u001b[0m\n",
      "\u001b[1;31mKeyError\u001b[0m: 'disableLogAggregation'"
     ]
    }
   ],
   "source": [
    "import sys\n",
    "import os\n",
    "import numpy as np\n",
    "from opentrons import robot, instruments, labware\n",
    "\n",
    "#Original Directory\n",
    "og_dir = os.getcwd()\n",
    "\n",
    "#Change your_path to your system's ../ot2protocols. You may or may not need r in front. \n",
    "#I couldn't get this to work otherwise. I had to modify ot2protocols.__init__:\n",
    "#from .ot2protocols import* -> from ot2protocols import*\n",
    "your_path = r'C:\\Users\\lacho\\OneDrive - UW\\Pozzo-RG-OT2\\OT2Protocols'\n",
    "os.chdir(your_path)\n",
    "from ot2protocols.Components import *\n",
    "from ot2protocols.A1Stock import *\n",
    "from ot2protocols.OuzoSample import *\n",
    "\n",
    "\n",
    "#Return to original directory\n",
    "os.chdir(og_dir)\n",
    "\n"
   ]
  },
  {
   "cell_type": "code",
   "execution_count": 2,
   "metadata": {},
   "outputs": [],
   "source": [
    "water_stock = A1Stock(\n",
    "    components_dict = {'A':water, 'solvent1':water}, \n",
    "    wt_f_dict = {'A':0, 'solvent1':water})\n",
    "\n",
    "ethanol_stock = A1Stock(\n",
    "    components_dict = {'A':ethanol, 'solvent1':ethanol}, \n",
    "    wt_f_dict = {'A':0, 'solvent1':ethanol})\n",
    "\n",
    "sodiumdodecylsulfate_stock = A1Stock(\n",
    "    components_dict = {'A':sodiumdodecylsulfate, 'solvent1':water}, \n",
    "    wt_f_dict = {'A':0.024342508, 'solvent1':sodiumdodecylsulfate})\n",
    "\n",
    "five_cb_stock = A1Stock(\n",
    "    components_dict = {'A':five_cb, 'solvent1':ethanol}, \n",
    "    wt_f_dict = {'A':.030712531, 'solvent1':five_cb})"
   ]
  },
  {
   "cell_type": "code",
   "execution_count": 3,
   "metadata": {},
   "outputs": [
    {
     "name": "stdout",
     "output_type": "stream",
     "text": [
      "source_organic function called\n",
      "source_aq function called\n",
      "make_aq_prestock function called\n",
      "Warning, additional_solvent_mass to make prestock seems off=   0.9476366445432044 vs 0.9476366445432043\n"
     ]
    },
    {
     "data": {
      "text/plain": [
       "{'component': <ot2protocols.Components.Component at 0x1404f69fc88>,\n",
       " 'component_mass': 0.001,\n",
       " 'component_stock': <ot2protocols.A1Stock.A1Stock at 0x1404f7de848>,\n",
       " 'component_wtf': 0.001,\n",
       " 'total_stock_mass': 0.0325599996952384,\n",
       " 'stock_solvent_mass': 0.0315599996952384,\n",
       " 'total_stock_volume': 0.04121518948764354}"
      ]
     },
     "execution_count": 3,
     "metadata": {},
     "output_type": "execute_result"
    }
   ],
   "source": [
    "components_dict = {'water':water, 'organic_solvent':ethanol, 'hydrophobe':five_cb, 'stabilizer1':sodiumdodecylsulfate}\n",
    "wtf_dict = {'water':.798, 'organic_solvent':.2, 'hydrophobe':.001, 'stabilizer1':.001}\n",
    "stock_dict = {'water':water_stock, 'organic_solvent':ethanol_stock, 'hydrophobe':five_cb_stock, 'stabilizer1':sodiumdodecylsulfate_stock}\n",
    "\n",
    "New_ouzo = OuzoSample(mass = 1, components_dict = components_dict,wtf_dict = wtf_dict, stock_dict = stock_dict)   \n",
    "New_ouzo.hydrophobe_dict\n"
   ]
  },
  {
   "cell_type": "code",
   "execution_count": 4,
   "metadata": {},
   "outputs": [],
   "source": [
    "# New_ouzo.examine_dicts()"
   ]
  },
  {
   "cell_type": "code",
   "execution_count": 21,
   "metadata": {},
   "outputs": [
    {
     "name": "stdout",
     "output_type": "stream",
     "text": [
      "<class 'list'>\n"
     ]
    }
   ],
   "source": [
    "components_dict = {'water':water, 'organic_solvent':ethanol, \n",
    "                   'hydrophobe':five_cb, 'stabilizer1':sodiumdodecylsulfate}\n",
    "\n",
    "components_range_dict = {'water':[1], 'organic_solvent':np.arange(0.05, 0.6, 0.1), \n",
    "                         'hydrophobe':np.arange(0.0001, 0.001, 0.0001),\n",
    "                         'stabilizer1':np.arange(0.0001,0.001, 0.0001)}\n",
    "\n",
    "wtf_list_dict = {'water':.798, 'organic_solvent':.2, 'hydrophobe':.001, 'stabilizer1':.001}\n",
    "\n",
    "def make_wtf_grid_list_dict(components_dict, components_range_dict):\n",
    "    wtf_grid_list_dict= dict.fromkeys(components_range_dict,[])\n",
    "    grid = np.meshgrid(components_range_dict['organic_solvent'], components_range_dict['hydrophobe'],  \n",
    "                   components_range_dict['stabilizer1'] )\n",
    "    print(type(grid))\n",
    "    return\n",
    "\n",
    "make_wtf_grid_list_dict(components_dict, components_range_dict)\n",
    "\n",
    "\n",
    "def make_sample_list(sample_mass, components_dict, stock_dict, components_range_dict):\n",
    "    \n",
    "    \n",
    "    pass"
   ]
  }
 ],
 "metadata": {
  "kernelspec": {
   "display_name": "Python 3",
   "language": "python",
   "name": "python3"
  },
  "language_info": {
   "codemirror_mode": {
    "name": "ipython",
    "version": 3
   },
   "file_extension": ".py",
   "mimetype": "text/x-python",
   "name": "python",
   "nbconvert_exporter": "python",
   "pygments_lexer": "ipython3",
   "version": "3.6.8"
  }
 },
 "nbformat": 4,
 "nbformat_minor": 2
}
